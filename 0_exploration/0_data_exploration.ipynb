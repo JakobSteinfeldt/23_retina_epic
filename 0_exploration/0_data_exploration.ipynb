{
 "cells": [
  {
   "cell_type": "code",
   "execution_count": null,
   "id": "0",
   "metadata": {},
   "outputs": [],
   "source": [
    "library(tidyverse)\n",
    "library(glue)"
   ]
  },
  {
   "cell_type": "code",
   "execution_count": null,
   "id": "1",
   "metadata": {},
   "outputs": [],
   "source": [
    "base_path = \"/home/jakobs\"\n",
    "\n",
    "project_path = glue(\"{base_path}/data\")\n",
    "experiment = '230321'\n",
    "experiment_path = glue(\"{project_path}/{experiment}\")"
   ]
  },
  {
   "cell_type": "code",
   "execution_count": null,
   "id": "2",
   "metadata": {},
   "outputs": [],
   "source": [
    "endpoint_defs = arrow::read_feather(glue(\"{base_path}/data/endpoints_epic_md.feather\"))\n",
    "endpoints = endpoint_defs$endpoint"
   ]
  },
  {
   "cell_type": "code",
   "execution_count": null,
   "id": "3",
   "metadata": {},
   "outputs": [],
   "source": [
    "endpoint_selection = c(\n",
    "    # generally very important\n",
    "    \"phecode_202\", # Diabetes mellitus\n",
    "    \"phecode_401\",\t#Hypertension\"  \n",
    "    \"phecode_404\", # Ischemic heart disease   \n",
    "    \"phecode_404-1\", # Myocardial infarction [Heart attack]\n",
    "    \"phecode_431-11\", # Cerebral infarction [Ischemic stroke]\n",
    "    \"phecode_424\", # Heart failure\n",
    "\n",
    "    \n",
    "    #\"phecode_059-1\", # COVID 19\n",
    "    \"phecode_468\", # Pneumonia\n",
    "    \"phecode_474\", # Chronic obstructive pulmonary disease [COPD]\n",
    "      \n",
    "    \"phecode_286-2\", #\tMajor depressive disorder\n",
    "    \"phecode_324-11\", #Parkinson's Disease\n",
    "    \"phecode_328\", # Dementias and cerebral degeneration\n",
    "\n",
    "    \n",
    "    \"phecode_164\", # Anemia\n",
    "    \"phecode_726-1\", # Osteoporosis\n",
    "    \"phecode_371\", # Cataract\n",
    "   # \"phecode_374-42\", # Diabetic retinopathy\n",
    "   # \"phecode_374-5\", # Macular degeneration\n",
    "   # \"phecode_375-1\", # Glaucoma\n",
    "    \n",
    "    \n",
    "    \"phecode_103\", # Malignant neoplasm of the skin\n",
    "    \"phecode_101\", # Malignant neoplasm of the digestive organs\n",
    "    \"phecode_102\", # LUNG CANCER\n",
    "    \n",
    "    \"phecode_583\", # Chronic kidney disease    \n",
    "    \"phecode_542\", # Chronic liver disease and sequelae    \n",
    "    \"OMOP_4306655\") # All-Cause Death\n",
    "\n",
    "endpoint_defs = endpoint_defs %>% \n",
    "    mutate(name = phecode_string) %>%\n",
    "    mutate(name = \n",
    "           case_when( \n",
    "               phecode_string == \"Myocardial infarction [Heart attack]\"~\"Myocardial infarction\",\n",
    "               phecode_string == \"Cerebral infarction [Ischemic stroke]\"~\"Ischemic stroke\",\n",
    "               phecode_string == \"Chronic obstructive pulmonary disease [COPD]\"~\"Chronic obstructive pulmonary disease\",\n",
    "               phecode_string == \"Mitral valve insufficiency\"~\"Mitral insufficiency\",\n",
    "               phecode_string == \"Parkinson's disease (Primary)\"~\"Parkinson's disease\",\n",
    "               phecode_string == \"Suicide ideation and attempt or self harm\"~\"Suicide attempt\",\n",
    "               phecode_string == \"Ischemic heart disease\"~\"Coronary heart disease\",\n",
    "               phecode_string == \"Chronic kidney disease\"~\"Chronic kidney disease\",\n",
    "               phecode_string == \"Rheumatic fever and chronic rheumatic heart diseases\"~\"Rheumatic heart disease\",\n",
    "               phecode_string == \"Abdominal aortic aneurysm\"~\"Abdominal aortic aneurysm\",\n",
    "                  TRUE ~ name)\n",
    "           )\n",
    "            \n",
    "endpoint_map = endpoint_defs$name\n",
    "names(endpoint_map) =  endpoint_defs$endpoint\n",
    "#endpoint_order = (endpoint_defs %>% arrange(as.numeric(phecode)))$endpoint\n",
    "endpoint_order = endpoint_selection"
   ]
  },
  {
   "cell_type": "code",
   "execution_count": null,
   "id": "4",
   "metadata": {},
   "outputs": [],
   "source": [
    "data_outcomes_long = arrow::read_feather(glue(\"{base_path}/data/data_outcomes_long_230320.feather\")) %>% filter(endpoint %in% endpoint_selection)"
   ]
  },
  {
   "cell_type": "code",
   "execution_count": null,
   "id": "5",
   "metadata": {},
   "outputs": [],
   "source": [
    "base_size = 8\n",
    "title_size = 10\n",
    "facet_size = 8.5\n",
    "geom_text_size=3\n",
    "theme_set(theme_classic(base_size = base_size) + \n",
    "          theme(strip.background = element_blank(), plot.title=element_text(size=title_size, hjust=0), \n",
    "                strip.text.x = element_text(size = facet_size),axis.title=element_text(size=10), axis.text=element_text(size=8, color=\"black\"),\n",
    "                legend.position=\"bottom\", axis.line = element_line(size = 0.2), axis.ticks=element_line(size=0.2)))"
   ]
  },
  {
   "cell_type": "code",
   "execution_count": null,
   "id": "6",
   "metadata": {},
   "outputs": [],
   "source": [
    "require(\"ggquickeda\")\n",
    "plot_width = 8.25; plot_height=6; plot_res = 320\n",
    "options(repr.plot.width = plot_width, repr.plot.height = plot_height, repr.plot.res=plot_res)\n",
    "\n",
    "temp = data_outcomes_long %>% filter(endpoint %in% endpoint_selection) %>% mutate(endpoint = factor(endpoint, levels=endpoint_selection))  %>% ungroup() \n",
    "\n",
    "fig2b = ggplot(temp, aes(time = time, status = as.integer(event))) +\n",
    "    geom_km(trans = \"event\") + \n",
    "    geom_kmticks(trans = \"event\", size=0.2, alpha=0.01) + \n",
    "    geom_kmband(trans = \"event\") + \n",
    "    labs(x=\"Time (Years)\", y=\"Cumulative Events (%)\")+\n",
    "    scale_y_continuous(labels = function(x) round(x*100, 1), expand=c(0, 0))+\n",
    "    scale_x_continuous(expand=expansion(add=c(0, .1)), breaks=c(5, 10))+\n",
    "    facet_wrap(~endpoint, scale=\"free\", labeller = labeller(endpoint = as_labeller(endpoint_map, default=label_wrap_gen(22))), ncol=5) + theme(legend.position=\"none\")\n",
    "fig2b"
   ]
  },
  {
   "cell_type": "code",
   "execution_count": null,
   "id": "7",
   "metadata": {},
   "outputs": [],
   "source": [
    "#ep_cols = c('phecode_202_event', 'phecode_101_time')"
   ]
  },
  {
   "cell_type": "code",
   "execution_count": null,
   "id": "8",
   "metadata": {},
   "outputs": [],
   "source": [
    "data_outcomes %>% select(eid, all_of(ep_cols)) %>% pivot_longer(-eid, names_to=)"
   ]
  },
  {
   "cell_type": "code",
   "execution_count": null,
   "id": "9",
   "metadata": {},
   "outputs": [],
   "source": []
  }
 ],
 "metadata": {
  "kernelspec": {
   "display_name": "R",
   "language": "R",
   "name": "ir"
  },
  "language_info": {
   "codemirror_mode": "r",
   "file_extension": ".r",
   "mimetype": "text/x-r-source",
   "name": "R",
   "pygments_lexer": "r",
   "version": "4.2.1"
  }
 },
 "nbformat": 4,
 "nbformat_minor": 5
}
