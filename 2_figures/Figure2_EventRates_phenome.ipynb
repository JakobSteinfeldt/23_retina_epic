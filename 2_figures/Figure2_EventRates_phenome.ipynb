{
 "cells": [
  {
   "cell_type": "markdown",
   "metadata": {},
   "source": [
    "# Benchmarks"
   ]
  },
  {
   "cell_type": "markdown",
   "metadata": {},
   "source": [
    "## Initialize"
   ]
  },
  {
   "cell_type": "code",
   "execution_count": null,
   "metadata": {
    "tags": []
   },
   "outputs": [],
   "source": [
    "#library(Rmisc)\n",
    "library(dtplyr)\n",
    "library(tidyverse)\n",
    "library(glue)\n",
    "library(arrow)\n",
    "library(patchwork)\n",
    "library(data.table)\n",
    "library(\"jsonlite\")\n",
    "library(ggthemes)"
   ]
  },
  {
   "cell_type": "code",
   "execution_count": null,
   "metadata": {
    "tags": []
   },
   "outputs": [],
   "source": [
    "base_path = \"/home/jakobs\"\n",
    "\n",
    "project_path = glue(\"{base_path}/data\")\n",
    "experiment = '231117'\n",
    "experiment_path = glue(\"{project_path}/{experiment}\")\n",
    "\n",
    "endpoints_md = endpoint_defs = arrow::read_feather(glue(\"{base_path}/data/endpoints_epic_md.feather\")) %>% filter(n_epic>=100)\n",
    "endpoints_md_all = arrow::read_feather(glue(\"{base_path}/data/endpoints_md.feather\")) \n",
    "endpoints = endpoint_defs$endpoint"
   ]
  },
  {
   "cell_type": "code",
   "execution_count": null,
   "metadata": {
    "tags": []
   },
   "outputs": [],
   "source": [
    "library(data.table)\n",
    "library(arrow)"
   ]
  },
  {
   "cell_type": "code",
   "execution_count": null,
   "metadata": {
    "tags": []
   },
   "outputs": [],
   "source": [
    "endpoint_selection = c(\n",
    "    # generally very important\n",
    "    \"phecode_202\", # Diabetes mellitus\n",
    "    \"phecode_401\",\t#Hypertension\"  \n",
    "    \"phecode_404\", # Ischemic heart disease   \n",
    "    \"phecode_404-1\", # Myocardial infarction [Heart attack]\n",
    "    \"phecode_431-11\", # Cerebral infarction [Ischemic stroke]\n",
    "    \"phecode_424\", # Heart failure\n",
    "\n",
    "    \n",
    "    \"phecode_059-1\", # COVID 19\n",
    "    \"phecode_468\", # Pneumonia\n",
    "    \"phecode_474\", # Chronic obstructive pulmonary disease [COPD]\n",
    "      \n",
    "    \"phecode_286-2\", #\tMajor depressive disorder\n",
    "    \"phecode_324-11\", #Parkinson's Disease\n",
    "    \"phecode_328\", # Dementias and cerebral degeneration\n",
    "\n",
    "    \n",
    "    \"phecode_164\", # Anemia\n",
    "    \"phecode_726-1\", # Osteoporosis\n",
    "    \"phecode_371\", # Cataract\n",
    "    \"phecode_374-42\", # Diabetic retinopathy\n",
    "    \"phecode_374-5\", # Macular degeneration\n",
    "    \"phecode_375-1\", # Glaucoma\n",
    "    \n",
    "    \n",
    "    \"phecode_103\", # Malignant neoplasm of the skin\n",
    "    \"phecode_101\", # Malignant neoplasm of the digestive organs\n",
    "    \"phecode_102\", # LUNG CANCER\n",
    "    \n",
    "    \"phecode_583\", # Chronic kidney disease    \n",
    "    \"phecode_542\", # Chronic liver disease and sequelae    \n",
    "    \"OMOP_4306655\" # All-Cause Death\n",
    "    \n",
    "    # also generally important and relevant\n",
    "    #\"phecode_440-3\", # Pulmonary embolism\n",
    "    #\"phecode_468-1\",\t#Viral pneumonia\n",
    "#     \"phecode_460-2\",\t#Acute lower respiratory infection\n",
    "    #\"phecode_388\" # Blindness and low vision\n",
    "      # generally important and fun to check\n",
    "   # \"phecode_374-3\", # Retinal vascular changes and occlusions\n",
    "    #\"phecode_665\", # Psoriasis\n",
    "#     \"phecode_121\", # Leukemia\n",
    "    # important for eye\n",
    "#     \"phecode_705-1\", # Rheumatoid arthritis\n",
    ")\n",
    "\n",
    "endpoints_common = c(\n",
    "   'phecode_164', #Anemia\n",
    " 'phecode_705-1', #Rheumatoid arthritis\n",
    " 'phecode_328', #Dementias and cerebral degeneration\n",
    " 'phecode_328-1', #Alzheimer's disease\n",
    " 'phecode_401', #Hypertension\n",
    " 'phecode_202', #Diabetes mellitus\n",
    " 'phecode_416-21', #Atrial fibrillation\n",
    " 'phecode_404-1', #Myocardial infarction [Heart attack]\n",
    " 'phecode_424', #Heart failure\n",
    " 'phecode_468', #Pneumonia\n",
    " 'phecode_474', #Chronic obstructive pulmonary disease [COPD]\n",
    " 'phecode_583', #Chronic kidney disease\n",
    " 'OMOP_4306655' #All-Cause Death\n",
    "    )\n",
    "    \n",
    "endpoints_cardio = c(\n",
    "    'phecode_438-11',   #  \"Abdominal aortic aneurysm\",\n",
    "    'phecode_440-3',#  \"Pulmonary embolism\", # intervention\n",
    "    'phecode_413-21',#  \"Aortic stenosis\", # intervention\n",
    "    'phecode_400'#  \"Rheumatic fever and chronic rheumatic heart diseases\",\t\n",
    ")\n",
    "\n",
    "endpoints_eye= c(\n",
    "    'phecode_374-5', #Macular degeneration\n",
    " 'phecode_374-51', #Age-related macular degeneration\n",
    " 'phecode_374-42', #Diabetic retinopathy\n",
    " 'phecode_371', #Cataract\n",
    " 'phecode_388', #Blindness and low vision\n",
    " 'phecode_367-5', #Uveitis\n",
    " 'phecode_389-1' #Ocular pain\n",
    ")"
   ]
  },
  {
   "cell_type": "code",
   "execution_count": null,
   "metadata": {
    "tags": []
   },
   "outputs": [],
   "source": [
    "endpoint_defs = endpoint_defs %>% \n",
    "    mutate(name = phecode_string) %>%\n",
    "    mutate(name = \n",
    "           case_when( \n",
    "               phecode_string == \"Myocardial infarction [Heart attack]\"~\"Myocardial infarction\",\n",
    "               phecode_string == \"Cerebral infarction [Ischemic stroke]\"~\"Ischemic stroke\",\n",
    "               phecode_string == \"Chronic obstructive pulmonary disease [COPD]\"~\"Chronic obstructive pulmonary disease\",\n",
    "               phecode_string == \"Mitral valve insufficiency\"~\"Mitral insufficiency\",\n",
    "               phecode_string == \"Parkinson's disease (Primary)\"~\"Parkinson's disease\",\n",
    "               phecode_string == \"Suicide ideation and attempt or self harm\"~\"Suicide attempt\",\n",
    "               phecode_string == \"Ischemic heart disease\"~\"Coronary heart disease\",\n",
    "               phecode_string == \"Chronic kidney disease\"~\"Chronic kidney disease\",\n",
    "               phecode_string == \"Rheumatic fever and chronic rheumatic heart diseases\"~\"Rheumatic heart disease\",\n",
    "               phecode_string == \"Abdominal aortic aneurysm\"~\"Abdominal aortic aneurysm\",\n",
    "                  TRUE ~ name)\n",
    "           )\n",
    "            \n",
    "endpoint_map = endpoint_defs$name\n",
    "names(endpoint_map) =  endpoint_defs$endpoint\n",
    "#endpoint_order = (endpoint_defs %>% arrange(as.numeric(phecode)))$endpoint\n",
    "endpoint_order = endpoint_selection"
   ]
  },
  {
   "cell_type": "code",
   "execution_count": null,
   "metadata": {
    "tags": []
   },
   "outputs": [],
   "source": [
    "#today = substr(Sys.time(), 0, 10) # YYYY-MM-DD\n",
    "today = experiment"
   ]
  },
  {
   "cell_type": "code",
   "execution_count": null,
   "metadata": {
    "tags": []
   },
   "outputs": [],
   "source": [
    "eligable_eids = arrow::read_feather(glue(\"{experiment_path}/eligible_eids_long_{today}.feather\")) %>% \n",
    "    mutate(included = 1) %>% mutate(eid = as.character(eid))\n",
    "#eligable_eids$eid = as.numeric(levels(eligable_eids$eid))[eligable_eids$eid]"
   ]
  },
  {
   "cell_type": "code",
   "execution_count": null,
   "metadata": {
    "tags": []
   },
   "outputs": [],
   "source": [
    "data_outcomes = arrow::read_feather(glue(\"{base_path}/data/data_outcomes_long_230320.feather\", as_data_frame=FALSE)) "
   ]
  },
  {
   "cell_type": "code",
   "execution_count": null,
   "metadata": {
    "tags": []
   },
   "outputs": [],
   "source": [
    "partitions = 0:9\n",
    "paths = c()\n",
    "for (p in partitions){\n",
    "    #temp_path = glue(\"{experiment_path}/loghs/Identity(Records)+MLP/{p}/test.feather\")\n",
    "    temp_path = glue(\"{experiment_path}/loghs/RetinaUKB/{p}/test.feather\")\n",
    "    paths = c(paths, temp_path)\n",
    "    }"
   ]
  },
  {
   "cell_type": "code",
   "execution_count": null,
   "metadata": {
    "tags": []
   },
   "outputs": [],
   "source": [
    "read_predictions = function(paths, endpoint_list){\n",
    "    predictions = paths %>% map_df(\n",
    "        ~suppressWarnings(read_feather(., col_select=c(\"eid\", all_of(endpoint_list)))) %>% \n",
    "        pivot_longer(all_of(endpoint_list), names_to=\"endpoint\", values_to=\"logh\") %>%\n",
    "        mutate(eid = as.character(eid)) %>%\n",
    "        select(endpoint, eid, logh))# %>% arrange(endpoint, eid)\n",
    "    return(predictions)\n",
    "    }\n",
    "\n",
    "map <- c(`1` = 'top10',\n",
    "            `2` = 'rest',\n",
    "         `3` = 'rest',\n",
    "         `4` = 'rest',\n",
    "         `5` = 'rest',\n",
    "         `6` = 'rest',\n",
    "         `7` = 'rest',\n",
    "         `8` = 'rest',\n",
    "         `9` = 'rest',\n",
    "         `10` = 'rest')\n",
    "\n",
    "calc_ratios = function(pred_outcomes, endpoints_md){\n",
    "    \n",
    "    logh_inc = pred_outcomes %>% \n",
    "        filter(included==1) %>% \n",
    "        group_by(endpoint) %>% \n",
    "        mutate(logh_perc = ntile(logh, 10)) %>% \n",
    "#         mutate(logh_perc=case_when(logh_perc %in% 1:9 ~ 1, \n",
    "#                                     logh_perc %in% 10:11 ~ 10,\n",
    "#                                     TRUE ~ \"NA\")) %>%\n",
    "        ungroup()\n",
    "\n",
    "    logh_T_agg = logh_inc %>% group_by(endpoint, logh_perc) %>% summarise(n=sum(event, na.rm=TRUE), event_rate = mean(event)) #%>% as_tibble()\n",
    "    temp_ordered = logh_T_agg %>% mutate(endpoint = factor(endpoint, levels=endpoint_defs$endpoint)) \n",
    "    temp_ratios = temp_ordered %>% #filter(logh_perc %in% c(1, 10)) %>% \n",
    "        pivot_wider(names_from=logh_perc, values_from=c(n, event_rate)) %>% \n",
    "        mutate(event_rate_ratio=event_rate_10/event_rate_1) %>%\n",
    "#             mutate(ratio=ratio_top10/ratio_rest) %>%\n",
    "\n",
    "        #mutate(endpoint_string = recode(endpoint, !!!endpoint_map)) %>%\n",
    "        #select(endpoint, n_1, n_10, event_rate_1, ratio_10, ratio) %>%\n",
    "#             select(endpoint, n_top10, n_rest, ratio_top10, ratio_rest, ratio) %>%\n",
    "\n",
    "        arrange(event_rate_ratio) #%>% as_tibble()\n",
    "    return(temp_ratios)\n",
    "    }"
   ]
  },
  {
   "cell_type": "code",
   "execution_count": null,
   "metadata": {
    "tags": []
   },
   "outputs": [],
   "source": [
    "prepare_ratios = function(endpoint_list){\n",
    "    \n",
    "    temp_outcomes = data_outcomes %>% filter(endpoint %in% endpoint_list)\n",
    "    temp_eligability = eligable_eids %>% filter(endpoint %in% endpoint_list)\n",
    "    temp_outcomes_eligability = temp_outcomes %>% left_join(temp_eligability, by=c(\"eid\", \"endpoint\"))\n",
    "    pred_outcomes = read_predictions(paths, endpoint_list) %>% left_join(temp_outcomes_eligability, by=c(\"eid\", \"endpoint\")) %>% as_tibble()\n",
    "    temp_df = calc_ratios(pred_outcomes, endpoints_md)\n",
    "    \n",
    "    return(temp_df)\n",
    "    }"
   ]
  },
  {
   "cell_type": "code",
   "execution_count": null,
   "metadata": {
    "tags": []
   },
   "outputs": [],
   "source": [
    "ep_chunks = split(endpoint_defs$endpoint, ceiling(seq_along(endpoint_defs$endpoint)/500))"
   ]
  },
  {
   "cell_type": "code",
   "execution_count": null,
   "metadata": {
    "tags": []
   },
   "outputs": [],
   "source": [
    "ratio_dfs = c()\n",
    "for (i in 1:length(ep_chunks)){\n",
    "    endpoint_list = ep_chunks[[i]]\n",
    "    ratio_dfs[[i]] = prepare_ratios(endpoint_list)\n",
    "    print(ratio_dfs[[i]])\n",
    "    flush.console()\n",
    "}"
   ]
  },
  {
   "cell_type": "code",
   "execution_count": null,
   "metadata": {
    "tags": []
   },
   "outputs": [],
   "source": [
    "ratio_df_complete = bind_rows(ratio_dfs) %>% ungroup() %>%\n",
    "    mutate(endpoint_string = recode(endpoint, !!!endpoint_map)) %>% \n",
    "    #select(endpoint, endpoint_string, n_1, n_10, ratio_1, ratio_10, ratio) %>%\n",
    "#     select(endpoint, endpoint_string, n_top10, n_rest, ratio_top10, ratio_rest, ratio) %>%\n",
    "\n",
    "    arrange(event_rate_ratio) %>% left_join(endpoint_defs %>% select(endpoint, n_epic, phecode_category) %>% as_tibble(), by=\"endpoint\") \n",
    "\n",
    "ratio_df_complete"
   ]
  },
  {
   "cell_type": "code",
   "execution_count": null,
   "metadata": {
    "tags": []
   },
   "outputs": [],
   "source": [
    "options(pillar.print_max = Inf)\n",
    "ratio_df_complete %>% \n",
    "    arrange(event_rate_ratio) %>%\n",
    "    mutate_if(is.numeric, round, 3) %>%\n",
    "    write_csv(glue(\"outputs/EPIC_EventRates_PhenomeWide.csv\"))"
   ]
  },
  {
   "cell_type": "code",
   "execution_count": null,
   "metadata": {},
   "outputs": [],
   "source": [
    "nrow(ratio_df_complete)"
   ]
  },
  {
   "cell_type": "code",
   "execution_count": null,
   "metadata": {},
   "outputs": [],
   "source": [
    "# 0.66:\n",
    "for (t in c(1, 3, 5, 10, 50)){\n",
    "     n = nrow(ratio_df_complete %>% filter(event_rate_ratio > t))\n",
    "     freq = round(n*100/nrow(ratio_df_complete))\n",
    "     print(glue(\"nrows with rate ratio > {t}: {n} ({freq}%)\"))\n",
    "}"
   ]
  },
  {
   "cell_type": "code",
   "execution_count": null,
   "metadata": {
    "tags": []
   },
   "outputs": [],
   "source": [
    "ratio_df_complete %>% \n",
    "    select(endpoint, endpoint_string, n_epic, phecode_category, event_rate_ratio)%>% filter(n_epic>50) %>% arrange(event_rate_ratio)\n",
    "#%>% filter(event_rate_ratio <= 1.5) "
   ]
  },
  {
   "cell_type": "code",
   "execution_count": null,
   "metadata": {
    "tags": []
   },
   "outputs": [],
   "source": [
    "#ratio_df_complete %>% filter(event_rate_ratio<10) %>% arrange(desc(ratio_1)) #%>% filter(!str_detect(endpoint, \"-\"))"
   ]
  },
  {
   "cell_type": "code",
   "execution_count": null,
   "metadata": {
    "tags": []
   },
   "outputs": [],
   "source": [
    "base_size = 8\n",
    "title_size = 10\n",
    "facet_size = 8.5\n",
    "geom_text_size=3\n",
    "theme_set(theme_classic(base_size = base_size) + \n",
    "          theme(strip.background = element_blank(), plot.title=element_text(size=title_size, hjust=0), \n",
    "                strip.text.x = element_text(size = facet_size),axis.title=element_text(size=10), axis.text=element_text(size=8, color=\"black\"),\n",
    "                legend.position=\"bottom\", axis.line = element_line(size = 0.2), axis.ticks=element_line(size=0.2)))"
   ]
  },
  {
   "cell_type": "markdown",
   "metadata": {},
   "source": [
    "## Nice overview over all categories"
   ]
  },
  {
   "cell_type": "code",
   "execution_count": null,
   "metadata": {},
   "outputs": [],
   "source": [
    "plot_width = 10; plot_height=2.5; plot_res = 320\n",
    "options(repr.plot.width = plot_width, repr.plot.height = plot_height, repr.plot.res=plot_res)\n",
    "\n",
    "library(ggtext)\n",
    "categories_sorted = (endpoints_md %>% arrange(endpoint) %>% distinct(phecode_category) %>% as_tibble())$phecode_category\n",
    "\n",
    "temp_pos = ratio_df_complete %>%\n",
    "    mutate(phecode_category = factor(phecode_category, levels=categories_sorted)) %>%\n",
    "    mutate(highlight = case_when(endpoint %in% endpoint_selection ~ \"YES\", TRUE ~ \"NO\")) \n",
    "#+    mutate(score = factor(score, levels=scores_plot)) %>%\n",
    "#+    mutate(endpoint = factor(endpoint, levels=endpoints_sorted)) %>%\n",
    "#+    ungroup() %>%\n",
    "#+    pivot_wider(names_from=score, values_from=cindex) %>% \n",
    "#+    mutate(id = row_number()) %>%\n",
    "#+    mutate(delta = `Age+Sex+Retina`-`Age+Sex`) %>%\n",
    "#+    group_by(endpoint, phecode_string, phecode_category) %>%\n",
    "#+    summarise(delta = median(delta)) %>%\n",
    "#+    mutate(pos = case_when(delta>=0 ~ \"pos\", delta < 0 ~\"neg\")) %>%\n",
    "#+    mutate(endpoint = fct_reorder(endpoint, delta)) %>%\n",
    "    # %>%# %>% filter(endpoint %in% endpoint_sample)\n",
    "#+    \n",
    "\n",
    "endpoint_order = (temp_pos %>% arrange(event_rate_ratio))$endpoint\n",
    "\n",
    "#index <- temp_pos$ratio < 0\n",
    "#temp_pos$ratio[index] <- 0.\n",
    "\n",
    "\n",
    "temp_pos = temp_pos %>% mutate(endpoint = factor(endpoint, levels=endpoint_order)) %>% ungroup() %>% arrange(endpoint) %>% group_by(phecode_category) %>% mutate(endpoint = row_number()) %>% mutate(log_ratio = log(event_rate_ratio))\n",
    "\n",
    "#index <- temp_pos$log_ratio < 0\n",
    "#temp_pos$log_ratio[index] <- 0.\n",
    "\n",
    "overview = ggplot(temp_pos) +\n",
    "    geom_ribbon(aes(x=endpoint, ymin=0, ymax=log_ratio), fill=\"black\", alpha=0.2)+\n",
    "    geom_point(aes(x=endpoint, y=log_ratio, color=highlight, size=highlight, alpha=highlight)) +\n",
    "    #geom_text(data=temp_pos %>% filter(highlight==\"YES\"), aes(x=endpoint, y=log_ratio+0.5, label=\"↓\", vjust=0), color=\"black\", size=5, alpha=0.7) +\n",
    "    #geom_segment(aes(x=endpoint, xend=endpoint, y=0, yend=delta, color=highlight, size=highlight), alpha=0.5)+#+\n",
    "    labs(x=\"Endpoints\", y=\"Rate Ratio\") +# (Top vs. Bottom 10%)\")+\n",
    "    scale_color_manual(values=c(\"NO\"=\"black\", \"YES\"=\"firebrick\"))+\n",
    "    scale_alpha_manual(values=c(\"NO\"=0.1, \"YES\"=1))+\n",
    "    scale_size_manual(values=c(\"NO\"=0.01, \"YES\"=1))+\n",
    "    #scale_colour_manual(values = c(\"pos\"=\"forestgreen\", \"neg\" = \"firebrick\")) + \n",
    "    #coord_polar() +\n",
    "    coord_cartesian(ylim=c(NA, log(100)), clip = \"off\")+\n",
    "    scale_y_continuous(expand=c(0, 0), breaks=c(log(1), log(10), log(100), log(1000)), labels=c(1, 10, 100, 1000)) +\n",
    "    #scale_y_continuous(, trans='log10')+\n",
    "    scale_x_discrete(expand=expansion(add=2))+\n",
    "    facet_grid(~phecode_category, scales=\"free_x\", space=\"free_x\")+#, switch=TRUE)+\n",
    "    #facet_grid2(~phecode_category, scales = \"free\", independent = \"all\") + \n",
    "    theme(axis.title.x=element_blank(),\n",
    "        axis.text.x=element_blank(),\n",
    "        axis.ticks.x=element_blank(),\n",
    "        panel.grid.major.y=element_line(), \n",
    "         strip.text = element_text(angle=270)) + \n",
    "    theme(legend.position=\"none\") \n",
    "    \n",
    "    #geom_ribbon(aes(x=id, ymin=AgeSex, ymax=`Age+Sex+Retina`), fill=\"red\", alpha=0.2)\n",
    "#geom_violin(size=0.1)\n",
    "overview"
   ]
  },
  {
   "cell_type": "code",
   "execution_count": null,
   "metadata": {
    "tags": []
   },
   "outputs": [],
   "source": [
    "plot_name = \"SupplFigure2a_EPIC_EventRates_PhenomeWide\"\n",
    "overview %>% ggsave(filename=glue(\"outputs/{plot_name}.pdf\"), device=\"pdf\", width=plot_width, height=plot_height, dpi=plot_res, limitsize=FALSE)\n",
    "overview %>% ggsave(filename=glue(\"outputs/{plot_name}.png\"), device=\"png\", width=plot_width, height=plot_height, dpi=plot_res, limitsize=FALSE)\n",
    "temp_pos %>% write_csv(glue(\"outputs/SupplFigure2a.csv\"))"
   ]
  },
  {
   "cell_type": "markdown",
   "metadata": {},
   "source": [
    "## Merge UKB / EPIC"
   ]
  },
  {
   "cell_type": "code",
   "execution_count": null,
   "metadata": {},
   "outputs": [],
   "source": [
    "endpoints_md_all = arrow::read_feather(glue(\"{project_path}/endpoints_md.feather\"))"
   ]
  },
  {
   "cell_type": "code",
   "execution_count": null,
   "metadata": {},
   "outputs": [],
   "source": [
    "ukb = fread(\"UKB_EventRates_PhenomeWide.csv\") %>% as_tibble() %>% \n",
    "    mutate(ratio = event_rate_ratio, n=rowSums(select(., starts_with(\"n_\")))) %>% ungroup() %>% \n",
    "    select(phecode_category,  endpoint, n, starts_with(\"n_\"), ratio) %>% left_join(endpoints_md_all %>% select(phecode_category, phecode_string, endpoint)) %>% arrange(endpoint) %>% #%>%\n",
    "    select(phecode_category, endpoint, phecode_string, n, starts_with(\"n_\"), ratio) %>% arrange(endpoint)\n",
    "colnames(ukb)[4:15] = glue(\"ukb_{colnames(ukb)[4:15]}\")\n",
    "ukb"
   ]
  },
  {
   "cell_type": "code",
   "execution_count": null,
   "metadata": {},
   "outputs": [],
   "source": [
    "fread(\"UKB_EventRates_PhenomeWide.csv\")"
   ]
  },
  {
   "cell_type": "code",
   "execution_count": null,
   "metadata": {},
   "outputs": [],
   "source": [
    "epic = temp_pos %>% mutate(phecode_string = endpoint_string, n=n_epic, ratio=event_rate_ratio) %>% select(phecode_category, phecode_string, n, starts_with(\"n_\"), ratio, -n_epic) %>% ungroup()\n",
    "colnames(epic)[3:14] = glue(\"epic_{colnames(epic)[3:14]}\")\n",
    "epic"
   ]
  },
  {
   "cell_type": "code",
   "execution_count": null,
   "metadata": {},
   "outputs": [],
   "source": [
    "st3_merged = ukb %>% left_join(epic, by=c(\"phecode_category\", \"phecode_string\")) "
   ]
  },
  {
   "cell_type": "code",
   "execution_count": null,
   "metadata": {},
   "outputs": [],
   "source": [
    "st3_merged"
   ]
  },
  {
   "cell_type": "code",
   "execution_count": null,
   "metadata": {},
   "outputs": [],
   "source": [
    "st3_merged %>% write_csv(\"outputs/SupplTable3_ukbepic_merged.csv\")"
   ]
  },
  {
   "cell_type": "code",
   "execution_count": null,
   "metadata": {},
   "outputs": [],
   "source": [
    "st3_merged"
   ]
  },
  {
   "cell_type": "code",
   "execution_count": null,
   "metadata": {},
   "outputs": [],
   "source": [
    "ukb %>% left_join(epic, by=c(\"phecode_category\", \"phecode_string\"))"
   ]
  },
  {
   "cell_type": "code",
   "execution_count": null,
   "metadata": {},
   "outputs": [],
   "source": []
  }
 ],
 "metadata": {
  "hide_input": false,
  "kernelspec": {
   "display_name": "R [conda env:.conda-r_env]",
   "language": "R",
   "name": "conda-env-.conda-r_env-r"
  },
  "language_info": {
   "codemirror_mode": "r",
   "file_extension": ".r",
   "mimetype": "text/x-r-source",
   "name": "R",
   "pygments_lexer": "r",
   "version": "4.2.3"
  },
  "toc-autonumbering": false
 },
 "nbformat": 4,
 "nbformat_minor": 4
}
