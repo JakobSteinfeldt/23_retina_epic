{
 "cells": [
  {
   "cell_type": "markdown",
   "metadata": {},
   "source": [
    "# Benchmarks"
   ]
  },
  {
   "cell_type": "markdown",
   "metadata": {},
   "source": [
    "## Initialize"
   ]
  },
  {
   "cell_type": "code",
   "execution_count": null,
   "metadata": {
    "tags": []
   },
   "outputs": [],
   "source": [
    "#library(Rmisc)\n",
    "library(dtplyr)\n",
    "library(tidyverse)\n",
    "library(glue)\n",
    "library(arrow)\n",
    "library(patchwork)\n",
    "library(data.table)\n",
    "library(\"jsonlite\")\n",
    "library(ggthemes)"
   ]
  },
  {
   "cell_type": "code",
   "execution_count": null,
   "metadata": {
    "tags": []
   },
   "outputs": [],
   "source": [
    "base_path = \"/home/jakobs\"\n",
    "\n",
    "project_path = glue(\"{base_path}/data\")\n",
    "experiment = '231117'\n",
    "experiment_path = glue(\"{project_path}/{experiment}\")\n",
    "\n",
    "endpoints_md = endpoint_defs = arrow::read_feather(glue(\"{base_path}/data/endpoints_epic_md.feather\")) %>% filter(n_epic>=100)\n",
    "endpoints = endpoint_defs$endpoint"
   ]
  },
  {
   "cell_type": "code",
   "execution_count": null,
   "metadata": {
    "tags": []
   },
   "outputs": [],
   "source": [
    "base_size = 8\n",
    "title_size = 10\n",
    "facet_size = 9\n",
    "geom_text_size=3\n",
    "theme_set(theme_classic(base_size = base_size) + \n",
    "          theme(strip.background = element_blank(), plot.title=element_text(size=title_size, hjust=0), \n",
    "                strip.text.x = element_text(size = facet_size),axis.title=element_text(size=10), axis.text=element_text(size=8, color=\"black\"),\n",
    "                legend.position=\"bottom\", axis.line = element_line(size = 0.2), axis.ticks=element_line(size=0.2), panel.grid.major.y=element_line()))"
   ]
  },
  {
   "cell_type": "code",
   "execution_count": null,
   "metadata": {
    "tags": []
   },
   "outputs": [],
   "source": [
    "endpoint_map = endpoint_defs$phecode_string\n",
    "names(endpoint_map) =  endpoint_defs$endpoint\n",
    "endpoint_order = endpoints"
   ]
  },
  {
   "cell_type": "code",
   "execution_count": null,
   "metadata": {
    "tags": []
   },
   "outputs": [],
   "source": [
    "endpoint_selection = c(\n",
    "    # generally very important\n",
    "    \"phecode_202\", # Diabetes mellitus\n",
    "    \"phecode_401\",\t#Hypertension\"  \n",
    "    \"phecode_404\", # Ischemic heart disease   \n",
    "    \"phecode_404-1\", # Myocardial infarction [Heart attack]\n",
    "    \"phecode_431-11\", # Cerebral infarction [Ischemic stroke]\n",
    "    \"phecode_424\", # Heart failure\n",
    "\n",
    "    \n",
    "    \"phecode_059-1\", # COVID 19\n",
    "    \"phecode_468\", # Pneumonia\n",
    "    \"phecode_474\", # Chronic obstructive pulmonary disease [COPD]\n",
    "      \n",
    "    \"phecode_286-2\", #\tMajor depressive disorder\n",
    "    \"phecode_324-11\", #Parkinson's Disease\n",
    "    \"phecode_328\", # Dementias and cerebral degeneration\n",
    "\n",
    "    \n",
    "    \"phecode_164\", # Anemia\n",
    "    \"phecode_726-1\", # Osteoporosis\n",
    "    \"phecode_371\", # Cataract\n",
    "    \"phecode_374-42\", # Diabetic retinopathy\n",
    "    \"phecode_374-5\", # Macular degeneration\n",
    "    \"phecode_375-1\", # Glaucoma\n",
    "    \n",
    "    \n",
    "    \"phecode_103\", # Malignant neoplasm of the skin\n",
    "    \"phecode_101\", # Malignant neoplasm of the digestive organs\n",
    "    \"phecode_102\", # LUNG CANCER\n",
    "    \n",
    "    \"phecode_583\", # Chronic kidney disease    \n",
    "    \"phecode_542\", # Chronic liver disease and sequelae    \n",
    "    \"OMOP_4306655\" # All-Cause Death\n",
    "    \n",
    "    # also generally important and relevant\n",
    "    #\"phecode_440-3\", # Pulmonary embolism\n",
    "    #\"phecode_468-1\",\t#Viral pneumonia\n",
    "#     \"phecode_460-2\",\t#Acute lower respiratory infection\n",
    "    #\"phecode_388\" # Blindness and low vision\n",
    "      # generally important and fun to check\n",
    "   # \"phecode_374-3\", # Retinal vascular changes and occlusions\n",
    "    #\"phecode_665\", # Psoriasis\n",
    "#     \"phecode_121\", # Leukemia\n",
    "    # important for eye\n",
    "#     \"phecode_705-1\", # Rheumatoid arthritis\n",
    ")\n",
    "\n",
    "endpoints_common = c(\n",
    "   'phecode_164', #Anemia\n",
    " 'phecode_705-1', #Rheumatoid arthritis\n",
    " 'phecode_328', #Dementias and cerebral degeneration\n",
    " 'phecode_328-1', #Alzheimer's disease\n",
    " 'phecode_401', #Hypertension\n",
    " 'phecode_202', #Diabetes mellitus\n",
    " 'phecode_416-21', #Atrial fibrillation\n",
    " 'phecode_404-1', #Myocardial infarction [Heart attack]\n",
    " 'phecode_424', #Heart failure\n",
    " 'phecode_468', #Pneumonia\n",
    " 'phecode_474', #Chronic obstructive pulmonary disease [COPD]\n",
    " 'phecode_583', #Chronic kidney disease\n",
    " 'OMOP_4306655' #All-Cause Death\n",
    "    )\n",
    "    \n",
    "endpoints_cardio = c(\n",
    "    'phecode_438-11',   #  \"Abdominal aortic aneurysm\",\n",
    "    'phecode_440-3',#  \"Pulmonary embolism\", # intervention\n",
    "    'phecode_413-21',#  \"Aortic stenosis\", # intervention\n",
    "    'phecode_400'#  \"Rheumatic fever and chronic rheumatic heart diseases\",\t\n",
    ")\n",
    "\n",
    "endpoints_eye= c(\n",
    "    'phecode_374-5', #Macular degeneration\n",
    " 'phecode_374-51', #Age-related macular degeneration\n",
    " 'phecode_374-42', #Diabetic retinopathy\n",
    " 'phecode_371', #Cataract\n",
    " 'phecode_388', #Blindness and low vision\n",
    " 'phecode_367-5', #Uveitis\n",
    " 'phecode_389-1' #Ocular pain\n",
    ")"
   ]
  },
  {
   "cell_type": "code",
   "execution_count": null,
   "metadata": {
    "tags": []
   },
   "outputs": [],
   "source": [
    "endpoint_defs = endpoint_defs %>% \n",
    "    mutate(name = phecode_string) %>%\n",
    "    mutate(name = \n",
    "           case_when( \n",
    "               phecode_string == \"Myocardial infarction [Heart attack]\"~\"Myocardial infarction\",\n",
    "               phecode_string == \"Cerebral infarction [Ischemic stroke]\"~\"Ischemic stroke\",\n",
    "               phecode_string == \"Chronic obstructive pulmonary disease [COPD]\"~\"Chronic obstructive pulmonary disease\",\n",
    "               phecode_string == \"Mitral valve insufficiency\"~\"Mitral insufficiency\",\n",
    "               phecode_string == \"Parkinson's disease (Primary)\"~\"Parkinson's disease\",\n",
    "               phecode_string == \"Suicide ideation and attempt or self harm\"~\"Suicide attempt\",\n",
    "               phecode_string == \"Ischemic heart disease\"~\"Coronary heart disease\",\n",
    "               phecode_string == \"Chronic kidney disease\"~\"Chronic kidney disease\",\n",
    "               phecode_string == \"Rheumatic fever and chronic rheumatic heart diseases\"~\"Rheumatic heart disease\",\n",
    "               phecode_string == \"Abdominal aortic aneurysm\"~\"Abdominal aortic aneurysm\",\n",
    "                  TRUE ~ name)\n",
    "           )\n",
    "            \n",
    "endpoint_map = endpoint_defs$name\n",
    "names(endpoint_map) =  endpoint_defs$endpoint\n",
    "#endpoint_order = (endpoint_defs %>% arrange(as.numeric(phecode)))$endpoint\n",
    "endpoint_order = endpoint_selection"
   ]
  },
  {
   "cell_type": "markdown",
   "metadata": {},
   "source": [
    "## Load data"
   ]
  },
  {
   "cell_type": "markdown",
   "metadata": {},
   "source": [
    "# Load Benchmarks"
   ]
  },
  {
   "cell_type": "code",
   "execution_count": null,
   "metadata": {
    "tags": []
   },
   "outputs": [],
   "source": [
    "#today = substr(Sys.time(), 0, 10) # YYYY-MM-DD\n",
    "today = '231117'\n",
    "name = glue(\"benchmarks_{today}\")\n",
    "benchmark_endpoints = arrow::read_feather(glue(\"{experiment_path}/{name}.feather\")) %>% left_join(endpoints_md) "
   ]
  },
  {
   "cell_type": "code",
   "execution_count": null,
   "metadata": {
    "tags": []
   },
   "outputs": [],
   "source": [
    "benchmark_endpoints %>% group_by(endpoint, score)  %>% summarise(cindex=mean(cindex)) %>% group_by(score) %>% summarise(mean(cindex)) %>% arrange(`mean(cindex)`)"
   ]
  },
  {
   "cell_type": "code",
   "execution_count": null,
   "metadata": {
    "tags": []
   },
   "outputs": [],
   "source": [
    "endpoints_sorted = (benchmark_endpoints %>% \n",
    "    filter(score == \"Age+Sex+Retina\") %>% \n",
    "    group_by(endpoint, score) %>% \n",
    "    summarise(cindex=mean(cindex, na.rm=TRUE)) %>% \n",
    "    arrange(cindex) %>% ungroup())$endpoint"
   ]
  },
  {
   "cell_type": "code",
   "execution_count": null,
   "metadata": {
    "tags": []
   },
   "outputs": [],
   "source": [
    "categories_sorted = (endpoint_defs %>% distinct(phecode_category))$phecode_category"
   ]
  },
  {
   "cell_type": "code",
   "execution_count": null,
   "metadata": {},
   "outputs": [],
   "source": []
  },
  {
   "cell_type": "code",
   "execution_count": null,
   "metadata": {},
   "outputs": [],
   "source": []
  },
  {
   "cell_type": "markdown",
   "metadata": {},
   "source": [
    "# CALCULATE THE FREQ of significant!"
   ]
  },
  {
   "cell_type": "code",
   "execution_count": null,
   "metadata": {
    "tags": []
   },
   "outputs": [],
   "source": [
    "plot_width = 10; plot_height=2.5; plot_res = 320\n",
    "options(repr.plot.width = plot_width, repr.plot.height = plot_height, repr.plot.res=plot_res)\n",
    "\n",
    "scores_plot = c(\"Age+Sex\", \"Age+Sex+Retina\")#, \"AgeSexRetina\")"
   ]
  },
  {
   "cell_type": "code",
   "execution_count": null,
   "metadata": {
    "tags": []
   },
   "outputs": [],
   "source": [
    "options(repr.matrix.max.rows=1500, repr.matrix.max.cols=200)"
   ]
  },
  {
   "cell_type": "code",
   "execution_count": null,
   "metadata": {
    "tags": []
   },
   "outputs": [],
   "source": [
    "library(ggdist)"
   ]
  },
  {
   "cell_type": "code",
   "execution_count": null,
   "metadata": {
    "tags": []
   },
   "outputs": [],
   "source": [
    "table_2_pre = benchmark_endpoints %>% \n",
    "    filter(score %in% scores_plot) %>% \n",
    "    mutate(score = factor(score, levels=scores_plot)) %>%\n",
    "    mutate(endpoint = factor(endpoint, levels=endpoints_sorted)) %>%\n",
    "    group_by(endpoint, score, phecode_string, phecode_category) %>%\n",
    "    pivot_wider(names_from=score, values_from=cindex) %>% \n",
    "    mutate(id = row_number()) %>%\n",
    "    mutate(delta = `Age+Sex+Retina`-`Age+Sex`) %>%\n",
    "    group_by(endpoint, phecode_string, phecode_category) %>%\n",
    "    median_qi(delta) %>% filter(endpoint %in% endpoints_md$endpoint)\n",
    "    #mutate(posdelta = case_when(delta>=0 ~ \"pos\", delta < 0 ~\"neg\"))\n",
    "#table_2_pre %>% head()\n",
    "print(nrow(table_2_pre))\n",
    "\n",
    "cat(\"nrows with positive lower q of delta:\", nrow(table_2_pre %>% filter(.lower > 0)))\n",
    "cat(\"\\nnrows with negative lower q of delta:\", nrow(table_2_pre %>% filter(.lower <= 0)))\n",
    "cat(\"\\nnrows with positive delta:\", nrow(table_2_pre %>% filter(delta > 0)))\n",
    "cat(\"\\nnrows with negative delta:\", nrow(table_2_pre %>% filter(delta <= 0)))"
   ]
  },
  {
   "cell_type": "code",
   "execution_count": null,
   "metadata": {
    "tags": []
   },
   "outputs": [],
   "source": [
    "table_2_significant = table_2_pre %>%\n",
    "    filter(delta > 0) %>%\n",
    "    filter(.lower > 0) %>%\n",
    "    arrange(endpoint)"
   ]
  },
  {
   "cell_type": "markdown",
   "metadata": {
    "tags": []
   },
   "source": [
    "table_2_pre %>%\n",
    "    filter(delta > 0) %>%\n",
    "    filter(.lower > 0) %>%\n",
    "    arrange(endpoint) %>% \n",
    "    mutate_if(is.numeric, round, 3) %>%\n",
    "    write_csv(glue(\"outputs/SupplTable2_SignificantEndpoints_CropRatio-{crop_ratio}.csv\"))"
   ]
  },
  {
   "cell_type": "markdown",
   "metadata": {
    "tags": []
   },
   "source": [
    "table_2_pre %>%\n",
    "    arrange(endpoint) %>% \n",
    "    mutate_if(is.numeric, round, 3) %>%\n",
    "    write_csv(glue(\"outputs/SupplTable2_DeltasAllEndpoints_CropRatio-{crop_ratio}.csv\"))"
   ]
  },
  {
   "cell_type": "markdown",
   "metadata": {},
   "source": [
    "glue(\"outputs/SupplTable2_SignificantEndpoints_CropRatio-{crop_ratio}.csv\")"
   ]
  },
  {
   "cell_type": "code",
   "execution_count": null,
   "metadata": {},
   "outputs": [],
   "source": []
  },
  {
   "cell_type": "code",
   "execution_count": null,
   "metadata": {
    "tags": []
   },
   "outputs": [],
   "source": [
    "og_counts = table_2_pre %>% group_by(phecode_category) %>% count() %>% select(phecode_category, n) %>% rename(N_total = n)\n",
    "tmp = table_2_significant %>% group_by(phecode_category) %>% count() %>% left_join(og_counts) %>% mutate(Percent_Significant=n/ N_total) \n",
    "#%>%        unite(s, n, N_total, sep = \"/\", remove=FALSE)\n",
    "tmp %>%  \n",
    "mutate_if(is.numeric, round, 3) %>%\n",
    "write_csv(glue(\"outputs/SupplTable2_RatioOfSignificantEndpoints.csv\"))"
   ]
  },
  {
   "cell_type": "markdown",
   "metadata": {
    "tags": []
   },
   "source": [
    "## delta c-idx with negative values"
   ]
  },
  {
   "cell_type": "code",
   "execution_count": null,
   "metadata": {
    "tags": []
   },
   "outputs": [],
   "source": [
    "geom.text.size = 1\n",
    "\n",
    "temp = benchmark_endpoints %>% \n",
    "    filter(score %in% scores_plot) %>% \n",
    "    mutate(score = factor(score, levels=scores_plot)) %>%\n",
    "    mutate(endpoint = factor(endpoint, levels=endpoints_sorted)) %>%\n",
    "    ungroup() %>%\n",
    "    pivot_wider(names_from=score, values_from=cindex) %>% \n",
    "    mutate(id = row_number()) %>%\n",
    "    mutate(delta = `Age+Sex+Retina`-`Age+Sex`) %>%\n",
    "    group_by(endpoint, phecode_string, phecode_category) %>%\n",
    "    summarise(delta = median(delta)) %>%\n",
    "    mutate(pos = case_when(delta>=0 ~ \"pos\", delta < 0 ~\"neg\")) %>%\n",
    "    mutate(endpoint = fct_reorder(endpoint, delta)) %>%\n",
    "    mutate(highlight = case_when(endpoint %in% endpoint_selection ~ \"YES\", TRUE ~ \"NO\")) %>%# %>% filter(endpoint %in% endpoint_sample)\n",
    "    mutate(phecode_category = factor(phecode_category, levels=categories_sorted))\n",
    "\n",
    "endpoint_order = (temp %>% arrange(delta))$endpoint\n",
    "\n",
    "temp = temp %>% mutate(endpoint = factor(endpoint, levels=endpoint_order)) %>% ungroup() %>% arrange(endpoint) %>% group_by(phecode_category) %>% mutate(endpoint = row_number())\n",
    "\n",
    "ggplot(temp) +\n",
    "    geom_ribbon(aes(x=endpoint, ymin=0, ymax=delta), fill=\"black\", alpha=0.2)+\n",
    "    geom_point(aes(x=endpoint, y=delta, color=highlight, size=highlight, alpha=highlight)) +\n",
    "    geom_text(data=temp %>% filter(highlight==\"YES\"), aes(x=endpoint, y=delta+0.045, label=\"↓\"), color=\"black\", size=5, alpha=0.7) +\n",
    "#     geom_text(data=tmp,\n",
    "#               mapping = aes(x = -Inf, y = -Inf, label =s),\n",
    "#               hjust   = -0.1, \n",
    "#               vjust   = -13) + \n",
    "    #geom_segment(aes(x=endpoint, xend=endpoint, y=0, yend=delta, color=highlight, size=highlight), alpha=0.5)+#+\n",
    "    labs(x=\"Endpoints\", y=glue(\"Delta C-Index\"))+\n",
    "    scale_color_manual(values=c(\"NO\"=\"black\", \"YES\"=\"firebrick\"))+\n",
    "    scale_alpha_manual(values=c(\"NO\"=0.1, \"YES\"=1))+\n",
    "    scale_size_manual(values=c(\"NO\"=0.01, \"YES\"=1))+\n",
    "    #scale_colour_manual(values = c(\"pos\"=\"forestgreen\", \"neg\" = \"firebrick\")) + \n",
    "    #coord_polar() +\n",
    "    coord_cartesian(ylim=c(-0.1, 0.1), clip = \"off\")+\n",
    "    scale_y_continuous(expand=c(0, 0))+\n",
    "    scale_x_discrete(expand=expansion(add=20))+\n",
    "    facet_grid(~phecode_category, scales=\"free_x\", space=\"free_x\")+#, switch=TRUE)+\n",
    "    #facet_grid2(~phecode_category, scales = \"free\", independent = \"all\") + \n",
    "    theme(axis.title.x=element_blank(),\n",
    "        axis.text.x=element_blank(),\n",
    "        axis.ticks.x=element_blank(),\n",
    "        panel.grid.major=element_blank(), \n",
    "         strip.text = element_text(angle=270)) + \n",
    "    theme(legend.position=\"none\") \n",
    "    \n",
    "    #geom_ribbon(aes(x=id, ymin=AgeSex, ymax=`Age+Sex+Retina`), fill=\"red\", alpha=0.2)\n",
    "#geom_violin(size=0.1)"
   ]
  },
  {
   "cell_type": "markdown",
   "metadata": {},
   "source": [
    "## delta c-idx with positive values (negative set to 0)"
   ]
  },
  {
   "cell_type": "code",
   "execution_count": null,
   "metadata": {
    "tags": []
   },
   "outputs": [],
   "source": [
    "plot_width = 10; plot_height=2.5; plot_res = 320\n",
    "options(repr.plot.width = plot_width, repr.plot.height = plot_height, repr.plot.res=plot_res)\n",
    "\n",
    "scores_plot = c(\"Age+Sex\", \"Age+Sex+Retina\")#, \"AgeSexRetina\")\n",
    "\n",
    "temp_pos = benchmark_endpoints %>% \n",
    "    filter(score %in% scores_plot) %>% \n",
    "    mutate(score = factor(score, levels=scores_plot)) %>%\n",
    "    mutate(endpoint = factor(endpoint, levels=endpoints_sorted)) %>%\n",
    "    ungroup() %>%\n",
    "    pivot_wider(names_from=score, values_from=cindex) %>% \n",
    "    mutate(id = row_number()) %>%\n",
    "    mutate(delta = `Age+Sex+Retina`-`Age+Sex`) %>% filter(endpoint %in% endpoints_md$endpoint)\n",
    "\n",
    "temp_pos = temp_pos %>%\n",
    "    group_by(endpoint, phecode_string, phecode_category) %>%\n",
    "    summarise(delta = median(delta)) %>%\n",
    "    mutate(pos = case_when(delta>=0 ~ \"pos\", delta < 0 ~\"neg\")) %>%\n",
    "    mutate(endpoint = fct_reorder(endpoint, delta)) %>%\n",
    "    mutate(highlight = case_when(endpoint %in% endpoint_selection ~ \"YES\", TRUE ~ \"NO\")) %>%# %>% filter(endpoint %in% endpoint_sample)\n",
    "    mutate(phecode_category = factor(phecode_category, levels=categories_sorted))\n",
    "\n",
    "endpoint_order = (temp_pos %>% arrange(delta))$endpoint\n",
    "\n",
    "temp_pos = temp_pos %>% mutate(endpoint = factor(endpoint, levels=endpoint_order)) %>% ungroup() %>% arrange(endpoint) %>% group_by(phecode_category) %>% mutate(endpoint = row_number())\n",
    "\n",
    "fig3a = ggplot(temp_pos) +\n",
    "    geom_ribbon(aes(x=endpoint, ymin=0, ymax=delta), fill=\"black\", alpha=0.2)+\n",
    "    geom_point(aes(x=endpoint, y=delta, color=highlight, size=highlight, alpha=highlight)) +\n",
    "    #geom_text(data=temp_pos %>% filter(highlight==\"YES\"), aes(x=endpoint, y=delta+0.015, label=\"↓\"), color=\"black\", size=5, alpha=0.7) +\n",
    "    #geom_segment(aes(x=endpoint, xend=endpoint, y=0, yend=delta, color=highlight, size=highlight), alpha=0.5)+#+\n",
    "    labs(x=\"Endpoints\", y=glue(\"Delta C-Index\"))+\n",
    "    scale_color_manual(values=c(\"NO\"=\"black\", \"YES\"=\"firebrick\"))+\n",
    "    scale_alpha_manual(values=c(\"NO\"=0.1, \"YES\"=1))+\n",
    "    scale_size_manual(values=c(\"NO\"=0.01, \"YES\"=1))+\n",
    "    #scale_colour_manual(values = c(\"pos\"=\"forestgreen\", \"neg\" = \"firebrick\")) + \n",
    "    #coord_polar() +\n",
    "    coord_cartesian(ylim=c(NA, 0.1), clip = \"off\")+\n",
    "    scale_y_continuous(expand=c(0, 0))+\n",
    "    scale_x_discrete(expand=expansion(add=2))+\n",
    "    facet_grid(~phecode_category, scales=\"free_x\", space=\"free_x\")+#, switch=TRUE)+\n",
    "    #facet_grid2(~phecode_category, scales = \"free\", independent = \"all\") + \n",
    "    theme(axis.title.x=element_blank(),\n",
    "        axis.text.x=element_blank(),\n",
    "        axis.ticks.x=element_blank(),\n",
    "        panel.grid.major=element_blank(), \n",
    "         strip.text = element_text(angle=270)) + \n",
    "    theme(legend.position=\"none\") \n",
    "    \n",
    "fig3a    \n",
    "#geom_ribbon(aes(x=id, ymin=AgeSex, ymax=`Age+Sex+Retina`), fill=\"red\", alpha=0.2)\n",
    "#geom_violin(size=0.1)"
   ]
  },
  {
   "cell_type": "code",
   "execution_count": null,
   "metadata": {
    "tags": []
   },
   "outputs": [],
   "source": [
    "plot_name = \"SupplFigure3a_EPIC_Discrimination_PhenomeWide\"\n",
    "fig3a %>% ggsave(filename=glue(\"outputs/{plot_name}.pdf\"), device=\"pdf\", width=plot_width, height=plot_height, dpi=plot_res, limitsize=FALSE)\n",
    "fig3a %>% ggsave(filename=glue(\"outputs/{plot_name}.png\"), device=\"png\", width=plot_width, height=plot_height, dpi=plot_res, limitsize=FALSE)\n",
    "temp_pos %>% write_csv(glue(\"outputs/SupplFigure3a.csv\"))"
   ]
  },
  {
   "cell_type": "code",
   "execution_count": null,
   "metadata": {},
   "outputs": [],
   "source": [
    "ukb = fread(\"UKB_SupplTable1_DiscriminativePerformanceAll_CropRatio-0.66.csv\")\n",
    "ukb"
   ]
  },
  {
   "cell_type": "code",
   "execution_count": null,
   "metadata": {},
   "outputs": [],
   "source": [
    "epic_agg <- benchmark_endpoints %>%\n",
    "  filter(score %in% scores_plot) %>%\n",
    "  mutate(score = factor(score, levels = scores_plot)) %>%\n",
    "  mutate(endpoint = factor(endpoint, levels = endpoints_sorted)) %>%\n",
    "  ungroup() %>%\n",
    "  pivot_wider(names_from = score, values_from = cindex) %>% \n",
    "  mutate(id = row_number()) %>%\n",
    "  mutate(delta = `Age+Sex+Retina` - `Age+Sex`) %>%\n",
    "  filter(endpoint %in% endpoints_md$endpoint) %>%\n",
    "  group_by(endpoint, phecode_string, phecode_category) %>%\n",
    "  median_qi(`Age+Sex`, `Age+Sex+Retina`, delta) %>%\n",
    "  mutate(endpoint = fct_reorder(endpoint, delta)) %>%\n",
    "  mutate(phecode_category = factor(phecode_category, levels = categories_sorted))"
   ]
  },
  {
   "cell_type": "code",
   "execution_count": null,
   "metadata": {},
   "outputs": [],
   "source": [
    "epic <- epic_agg %>%\n",
    "  mutate(epic_agesex = glue(\"{round(`Age+Sex`, 3)} ({round(`Age+Sex.lower`, 3)}, {round(`Age+Sex.upper`, 3)})\"),\n",
    "         epic_agesexretina = glue(\"{round(`Age+Sex+Retina`, 3)} ({round(`Age+Sex+Retina.lower`, 3)}, {round(`Age+Sex+Retina.upper`, 3)})\"),\n",
    "         epic_delta = glue(\"{round(delta, 3)} ({round(`delta.lower`, 3)}, {round(`delta.upper`, 3)})\")\n",
    "        ) %>%\n",
    "  select(epic_agesex, epic_agesexretina, epic_delta)"
   ]
  },
  {
   "cell_type": "code",
   "execution_count": null,
   "metadata": {},
   "outputs": [],
   "source": [
    "st4 = ukb %>% left_join(epic, by=c(\"endpoint\", \"phecode_string\")) %>% as_tibble()"
   ]
  },
  {
   "cell_type": "code",
   "execution_count": null,
   "metadata": {},
   "outputs": [],
   "source": [
    "st4_clean <- st4 %>%\n",
    "  mutate(across(everything(), ~ replace_na(., \"\"), .names = \"{col}\")) %>%\n",
    "  mutate(\n",
    "    delta_lower = as.numeric(sub(\".*\\\\((.*),.*\", \"\\\\1\", delta)),\n",
    "    delta_upper = as.numeric(sub(\".*, (.*)\\\\).*\", \"\\\\1\", delta)),\n",
    "    epic_delta_lower = as.numeric(sub(\".*\\\\((.*),.*\", \"\\\\1\", epic_delta)),\n",
    "    epic_delta_upper = as.numeric(sub(\".*, (.*)\\\\).*\", \"\\\\1\", epic_delta))\n",
    "  ) %>%\n",
    "  mutate(\n",
    "    sign_ukb = case_when(\n",
    "      delta_lower > 0 & delta_upper > 0 ~ \"+\",\n",
    "      delta_lower < 0 & delta_upper < 0 ~ \"-\",\n",
    "      TRUE ~ \"ns\"\n",
    "    ),\n",
    "    sign_epic = case_when(\n",
    "    is.na(epic_delta_lower) | is.na(epic_delta_upper) ~ NA_character_,\n",
    "      epic_delta_lower > 0 & epic_delta_upper > 0 ~ \"+\",\n",
    "      epic_delta_lower < 0 & epic_delta_upper < 0 ~ \"-\",\n",
    "      TRUE ~ \"ns\"\n",
    "    ) \n",
    "  ) %>% \n",
    "    arrange(epic_delta_lower) %>% \n",
    "    select(-delta_lower, -delta_upper, -epic_delta_lower, -epic_delta_upper) %>%\n",
    "    mutate(sign = glue(\"{sign_ukb}|{sign_epic}\"))"
   ]
  },
  {
   "cell_type": "code",
   "execution_count": null,
   "metadata": {},
   "outputs": [],
   "source": [
    "st4_clean %>% filter(!is.na(sign_epic)) %>% group_by(sign_ukb, sign_epic, sign) %>% tally()"
   ]
  },
  {
   "cell_type": "code",
   "execution_count": null,
   "metadata": {},
   "outputs": [],
   "source": [
    "st4_clean %>% filter(!is.na(sign_epic)) %>% filter(sign==\"+|+\")"
   ]
  },
  {
   "cell_type": "code",
   "execution_count": null,
   "metadata": {},
   "outputs": [],
   "source": [
    "40/172"
   ]
  },
  {
   "cell_type": "code",
   "execution_count": null,
   "metadata": {},
   "outputs": [],
   "source": [
    "st4_clean %>% filter(!is.na(sign_epic)) "
   ]
  },
  {
   "cell_type": "code",
   "execution_count": null,
   "metadata": {},
   "outputs": [],
   "source": [
    "st4_clean %>% group_by(sign) %>% tally()## %>% filter(sign_ukb==\"\")"
   ]
  },
  {
   "cell_type": "code",
   "execution_count": null,
   "metadata": {},
   "outputs": [],
   "source": [
    "st4_clean %>% write_csv(\"outputs/SupplTable4_ukbepic_merged.csv\")"
   ]
  }
 ],
 "metadata": {
  "hide_input": false,
  "kernelspec": {
   "display_name": "R [conda env:.conda-r_env]",
   "language": "R",
   "name": "conda-env-.conda-r_env-r"
  },
  "language_info": {
   "codemirror_mode": "r",
   "file_extension": ".r",
   "mimetype": "text/x-r-source",
   "name": "R",
   "pygments_lexer": "r",
   "version": "4.2.3"
  },
  "toc-autonumbering": false
 },
 "nbformat": 4,
 "nbformat_minor": 4
}
