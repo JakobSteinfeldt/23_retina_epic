{
 "cells": [
  {
   "cell_type": "markdown",
   "metadata": {},
   "source": [
    "# Benchmarks"
   ]
  },
  {
   "cell_type": "markdown",
   "metadata": {},
   "source": [
    "## Initialize"
   ]
  },
  {
   "cell_type": "code",
   "execution_count": null,
   "metadata": {
    "tags": []
   },
   "outputs": [],
   "source": [
    "#library(Rmisc)\n",
    "library(dtplyr)\n",
    "library(tidyverse)\n",
    "library(glue)\n",
    "library(arrow)\n",
    "library(patchwork)\n",
    "library(data.table)\n",
    "library(\"jsonlite\")\n",
    "library(ggthemes)"
   ]
  },
  {
   "cell_type": "code",
   "execution_count": null,
   "metadata": {
    "tags": []
   },
   "outputs": [],
   "source": [
    "base_path = \"/home/jakobs\"\n",
    "\n",
    "project_path = glue(\"{base_path}/data\")\n",
    "experiment = '231117'\n",
    "experiment_path = glue(\"{project_path}/{experiment}\")\n",
    "\n",
    "endpoints_md = endpoint_defs = arrow::read_feather(glue(\"{base_path}/data/endpoints_epic_md.feather\")) %>% filter(n_epic>=100)\n",
    "endpoints = endpoint_defs$endpoint"
   ]
  },
  {
   "cell_type": "code",
   "execution_count": null,
   "metadata": {
    "tags": []
   },
   "outputs": [],
   "source": [
    "today = experiment"
   ]
  },
  {
   "cell_type": "code",
   "execution_count": null,
   "metadata": {
    "tags": []
   },
   "outputs": [],
   "source": [
    "base_size = 8\n",
    "title_size = 10\n",
    "facet_size = 10\n",
    "geom_text_size=3\n",
    "theme_set(theme_classic(base_size = base_size) + \n",
    "          theme(strip.background = element_blank(), plot.title=element_text(size=title_size, hjust=0), \n",
    "                strip.text.x = element_text(size = facet_size),axis.title=element_text(size=10), axis.text=element_text(size=8, color=\"black\"),\n",
    "                legend.position=\"bottom\", axis.line = element_line(size = 0.2), axis.ticks=element_line(size=0.2), panel.grid.major=element_line()))"
   ]
  },
  {
   "cell_type": "code",
   "execution_count": null,
   "metadata": {
    "tags": []
   },
   "outputs": [],
   "source": [
    "endpoint_map = endpoint_defs$phecode_string\n",
    "names(endpoint_map) =  endpoint_defs$endpoint\n",
    "endpoint_order = endpoints"
   ]
  },
  {
   "cell_type": "code",
   "execution_count": null,
   "metadata": {
    "tags": []
   },
   "outputs": [],
   "source": [
    "endpoint_selection = c(\n",
    "    # generally very important\n",
    "    \"phecode_202\", # Diabetes mellitus\n",
    "    \"phecode_401\",\t#Hypertension\"  \n",
    "    \"phecode_404\", # Ischemic heart disease   \n",
    "    \"phecode_404-1\", # Myocardial infarction [Heart attack]\n",
    "    \"phecode_431-11\", # Cerebral infarction [Ischemic stroke]\n",
    "    \"phecode_424\", # Heart failure\n",
    "\n",
    "    \n",
    "    \"phecode_059-1\", # COVID 19\n",
    "    \"phecode_468\", # Pneumonia\n",
    "    \"phecode_474\", # Chronic obstructive pulmonary disease [COPD]\n",
    "      \n",
    "    \"phecode_286-2\", #\tMajor depressive disorder\n",
    "    \"phecode_324-11\", #Parkinson's Disease\n",
    "    \"phecode_328\", # Dementias and cerebral degeneration\n",
    "\n",
    "    \n",
    "    \"phecode_164\", # Anemia\n",
    "    \"phecode_726-1\", # Osteoporosis\n",
    "    \"phecode_371\", # Cataract\n",
    "    \"phecode_374-42\", # Diabetic retinopathy\n",
    "    \"phecode_374-5\", # Macular degeneration\n",
    "    \"phecode_375-1\", # Glaucoma\n",
    "    \n",
    "    \n",
    "    \"phecode_103\", # Malignant neoplasm of the skin\n",
    "    \"phecode_101\", # Malignant neoplasm of the digestive organs\n",
    "    \"phecode_102\", # LUNG CANCER\n",
    "    \n",
    "    \"phecode_583\", # Chronic kidney disease    \n",
    "    \"phecode_542\", # Chronic liver disease and sequelae    \n",
    "    \"OMOP_4306655\" # All-Cause Death\n",
    "    \n",
    "    # also generally important and relevant\n",
    "    #\"phecode_440-3\", # Pulmonary embolism\n",
    "    #\"phecode_468-1\",\t#Viral pneumonia\n",
    "#     \"phecode_460-2\",\t#Acute lower respiratory infection\n",
    "    #\"phecode_388\" # Blindness and low vision\n",
    "      # generally important and fun to check\n",
    "   # \"phecode_374-3\", # Retinal vascular changes and occlusions\n",
    "    #\"phecode_665\", # Psoriasis\n",
    "#     \"phecode_121\", # Leukemia\n",
    "    # important for eye\n",
    "#     \"phecode_705-1\", # Rheumatoid arthritis\n",
    ")\n",
    "\n",
    "endpoints_common = c(\n",
    "   'phecode_164', #Anemia\n",
    " 'phecode_705-1', #Rheumatoid arthritis\n",
    " 'phecode_328', #Dementias and cerebral degeneration\n",
    " 'phecode_328-1', #Alzheimer's disease\n",
    " 'phecode_401', #Hypertension\n",
    " 'phecode_202', #Diabetes mellitus\n",
    " 'phecode_416-21', #Atrial fibrillation\n",
    " 'phecode_404-1', #Myocardial infarction [Heart attack]\n",
    " 'phecode_424', #Heart failure\n",
    " 'phecode_468', #Pneumonia\n",
    " 'phecode_474', #Chronic obstructive pulmonary disease [COPD]\n",
    " 'phecode_583', #Chronic kidney disease\n",
    " 'OMOP_4306655' #All-Cause Death\n",
    "    )\n",
    "    \n",
    "endpoints_cardio = c(\n",
    "    'phecode_438-11',   #  \"Abdominal aortic aneurysm\",\n",
    "    'phecode_440-3',#  \"Pulmonary embolism\", # intervention\n",
    "    'phecode_413-21',#  \"Aortic stenosis\", # intervention\n",
    "    'phecode_400'#  \"Rheumatic fever and chronic rheumatic heart diseases\",\t\n",
    ")\n",
    "\n",
    "endpoints_eye= c(\n",
    "    'phecode_374-5', #Macular degeneration\n",
    " 'phecode_374-51', #Age-related macular degeneration\n",
    " 'phecode_374-42', #Diabetic retinopathy\n",
    " 'phecode_371', #Cataract\n",
    " 'phecode_388', #Blindness and low vision\n",
    " 'phecode_367-5', #Uveitis\n",
    " 'phecode_389-1' #Ocular pain\n",
    ")"
   ]
  },
  {
   "cell_type": "code",
   "execution_count": null,
   "metadata": {
    "tags": []
   },
   "outputs": [],
   "source": [
    "endpoint_defs = endpoint_defs %>% \n",
    "    mutate(name = phecode_string) %>%\n",
    "    mutate(name = \n",
    "           case_when( \n",
    "               phecode_string == \"Myocardial infarction [Heart attack]\"~\"Myocardial infarction\",\n",
    "               phecode_string == \"Cerebral infarction [Ischemic stroke]\"~\"Ischemic stroke\",\n",
    "               phecode_string == \"Chronic obstructive pulmonary disease [COPD]\"~\"Chronic obstructive pulmonary disease\",\n",
    "               phecode_string == \"Mitral valve insufficiency\"~\"Mitral insufficiency\",\n",
    "               phecode_string == \"Parkinson's disease (Primary)\"~\"Parkinson's disease\",\n",
    "               phecode_string == \"Suicide ideation and attempt or self harm\"~\"Suicide attempt\",\n",
    "               phecode_string == \"Ischemic heart disease\"~\"Coronary heart disease\",\n",
    "               phecode_string == \"Chronic kidney disease\"~\"Chronic kidney disease\",\n",
    "               phecode_string == \"Rheumatic fever and chronic rheumatic heart diseases\"~\"Rheumatic heart disease\",\n",
    "               phecode_string == \"Abdominal aortic aneurysm\"~\"Abdominal aortic aneurysm\",\n",
    "                  TRUE ~ name)\n",
    "           )\n",
    "            \n",
    "endpoint_map = endpoint_defs$name\n",
    "names(endpoint_map) =  endpoint_defs$endpoint\n",
    "#endpoint_order = (endpoint_defs %>% arrange(as.numeric(phecode)))$endpoint\n",
    "endpoint_order = endpoint_selection"
   ]
  },
  {
   "cell_type": "code",
   "execution_count": null,
   "metadata": {
    "tags": []
   },
   "outputs": [],
   "source": [
    "endpoints_cardio = c(\n",
    "    'phecode_431-11', #  \"Cerebral infarction [Ischemic stroke]\",\n",
    "    'phecode_404', #  \"Ischemic heart disease\",\n",
    "    'phecode_404-1', #  \"Myocardial infarction [Heart attack]\", # intervention\n",
    "    'phecode_424', #  \"Heart failure\", # intervention\n",
    "     'OMOP_4306655', #  \"All-Cause Death\", # intervention\n",
    "    'phecode_420' #  \"Cardiac arrest\", # intervention\n",
    "   \n",
    ")"
   ]
  },
  {
   "cell_type": "markdown",
   "metadata": {},
   "source": [
    "## Load data"
   ]
  },
  {
   "cell_type": "markdown",
   "metadata": {},
   "source": [
    "# Load Benchmarks"
   ]
  },
  {
   "cell_type": "code",
   "execution_count": null,
   "metadata": {
    "tags": []
   },
   "outputs": [],
   "source": [
    "name = \"hrs_endpoints\"\n",
    "hrs_endpoints = arrow::read_feather(glue(\"{experiment_path}/{name}.feather\"), \n",
    "                                    col_select=c(\"endpoint\", \"score\", \"partition\", \"hrs_ret\", \"hrs_ret_age\", \"hrs_ret_sex\")) %>% \n",
    "    left_join(endpoint_defs) %>% filter(n_epic>=100)"
   ]
  },
  {
   "cell_type": "code",
   "execution_count": null,
   "metadata": {
    "tags": []
   },
   "outputs": [],
   "source": [
    "hrs_endpoints"
   ]
  },
  {
   "cell_type": "raw",
   "metadata": {
    "tags": []
   },
   "source": [
    "hrs_endpoints %>% filter(score %in% c(\"Age+Sex+Retina\", \"Retina\")) %>% group_by(endpoint) %>% tally()# %>% arrange(n)"
   ]
  },
  {
   "cell_type": "code",
   "execution_count": null,
   "metadata": {
    "tags": []
   },
   "outputs": [],
   "source": [
    "hrs = hrs_endpoints %>% \n",
    "    group_by(endpoint, score, phecode_string, phecode_category) %>% \n",
    "    #filter(score %in% c(\"Retina\", \"Age+Sex+Retina\", \"Age+Sex+Retina+I(Age*ret)\")) %>%\n",
    "    #mutate(endpoint = factor(endpoint, levels=endpoints_sorted)) %>%\n",
    "    #mutate(phecode_category = factor(phecode_category, levels=pcats_sorted)) %>%\n",
    "    select(endpoint, score, hrs_ret, hrs_ret_age, hrs_ret_sex, phecode_string, phecode_category) %>%\n",
    "    ungroup()\n",
    "hrs"
   ]
  },
  {
   "cell_type": "code",
   "execution_count": null,
   "metadata": {
    "tags": []
   },
   "outputs": [],
   "source": [
    "unique(hrs$score)"
   ]
  },
  {
   "cell_type": "code",
   "execution_count": null,
   "metadata": {
    "tags": []
   },
   "outputs": [],
   "source": [
    "purrr::map_dfr(integer(100), ~ hrs %>% group_by(endpoint, score) %>% sample_frac(1, replace=TRUE), .id=\"i\") -> temp_hrs"
   ]
  },
  {
   "cell_type": "code",
   "execution_count": null,
   "metadata": {
    "tags": []
   },
   "outputs": [],
   "source": [
    "library(ggdist)"
   ]
  },
  {
   "cell_type": "code",
   "execution_count": null,
   "metadata": {
    "tags": []
   },
   "outputs": [],
   "source": [
    "temp_hrs_ret = temp_hrs %>% group_by(endpoint, score, phecode_string, phecode_category) %>% median_qi(hrs_ret, hrs_ret_age, hrs_ret_sex, na.rm=TRUE)"
   ]
  },
  {
   "cell_type": "code",
   "execution_count": null,
   "metadata": {},
   "outputs": [],
   "source": [
    "temp_hrs_linear = temp_hrs %>% ungroup() %>%\n",
    "    filter(score %in% c(\"Retina\",\n",
    "                        \"Age+Sex+Retina\"\n",
    "#                        \"SCORE2+Retina\",\n",
    "#                        \"ASCVD+Retina\",\n",
    "#                        \"QRISK3+Retina\"\n",
    "                       )) %>%\n",
    "    group_by(endpoint, score, phecode_string, phecode_category) %>% \n",
    "    median_qi(`hrs_ret`, na.rm=TRUE) %>% rename(hr = `hrs_ret`) %>%\n",
    "    mutate(hr = round(hr, 2), .lower=round(.lower, 2), .upper=round(.upper, 2)) %>%#c(hr, .lower, .upper), round, 1) %>%\n",
    "    mutate(HR_Retina = as.character(glue(\"{hr} ({.lower}, {.upper})\"))) %>% \n",
    "    select(endpoint, score, phecode_string, phecode_category, HR_Retina) %>%\n",
    "    pivot_wider(names_from=\"score\", values_from=\"HR_Retina\") %>% \n",
    "    select(all_of(c(\"phecode_category\", \"endpoint\", \"phecode_string\", \"Retina\", 'Age+Sex+Retina'\n",
    "#                     \"SCORE2+Retina\", \"ASCVD+Retina\",\"QRISK3+Retina\"\n",
    "                   ))) %>% \n",
    "    #mutate(endpoint = factor(endpoint, levels = endpoint_order)) %>% \n",
    "    arrange(endpoint) %>%\n",
    "    #mutate(endpoint = recode(endpoint, !!!endpoint_map)) %>%\n",
    "    ungroup()\n",
    "    \n",
    "temp_hrs_linear"
   ]
  },
  {
   "cell_type": "code",
   "execution_count": null,
   "metadata": {},
   "outputs": [],
   "source": [
    "ukb = fread(\"UKB_SupplTable2_HRsLinearAll_CropRatio-0.66.csv\")"
   ]
  },
  {
   "cell_type": "code",
   "execution_count": null,
   "metadata": {},
   "outputs": [],
   "source": [
    "epic = temp_hrs_linear %>% select(-phecode_category, -phecode_string)\n",
    "colnames(epic) = c(\"endpoint\", \"epic_unadjusted\", \"epic_agesex\")\n",
    "epic"
   ]
  },
  {
   "cell_type": "code",
   "execution_count": null,
   "metadata": {},
   "outputs": [],
   "source": [
    "st6 = ukb %>% left_join(epic, by=\"endpoint\") %>% as_tibble() %>% arrange(endpoint)"
   ]
  },
  {
   "cell_type": "code",
   "execution_count": null,
   "metadata": {},
   "outputs": [],
   "source": [
    "st6_clean <- st6 %>%\n",
    "  mutate(across(everything(), ~ replace_na(., \"\"), .names = \"{col}\"))"
   ]
  },
  {
   "cell_type": "code",
   "execution_count": null,
   "metadata": {},
   "outputs": [],
   "source": [
    "st6_clean"
   ]
  },
  {
   "cell_type": "code",
   "execution_count": null,
   "metadata": {},
   "outputs": [],
   "source": [
    "st6_clean %>% write_csv(\"outputs/SupplTable6_ukbepic_merged.csv\")"
   ]
  },
  {
   "cell_type": "code",
   "execution_count": null,
   "metadata": {},
   "outputs": [],
   "source": [
    "st6_clean %>% select(endpoint, phecode_string, `Age+Sex+Retina`, epic_agesex) %>%  mutate(\n",
    "    AgeSexRetina_CI = str_match(`Age+Sex+Retina`, \"\\\\(([^,]+), ([^)]+)\\\\)\"),\n",
    "    epic_agesex_CI = str_match(epic_agesex, \"\\\\(([^,]+), ([^)]+)\\\\)\")\n",
    "  ) %>%\n",
    "  mutate(\n",
    "    AgeSexRetina_lower = as.numeric(AgeSexRetina_CI[, 2]),\n",
    "    AgeSexRetina_upper = as.numeric(AgeSexRetina_CI[, 3]),\n",
    "    epic_agesex_lower = ifelse(epic_agesex == \"\", NA, as.numeric(epic_agesex_CI[, 2])),\n",
    "    epic_agesex_upper = ifelse(epic_agesex == \"\", NA, as.numeric(epic_agesex_CI[, 3])),\n",
    "    overlap = case_when(\n",
    "      is.na(AgeSexRetina_lower) | is.na(epic_agesex_lower) ~ NA_character_,\n",
    "      AgeSexRetina_upper < epic_agesex_lower | epic_agesex_upper < AgeSexRetina_lower ~ \"-\",\n",
    "      AgeSexRetina_lower <= epic_agesex_upper & epic_agesex_lower <= AgeSexRetina_upper ~ \"+\",\n",
    "      TRUE ~ NA_character_\n",
    "    )\n",
    "  ) %>%\n",
    "  select(-AgeSexRetina_CI, -epic_agesex_CI) %>%\n",
    "    filter(!is.na(epic_agesex_upper)) %>% filter(overlap==\"+\") %>%\n",
    "    select(-AgeSexRetina_lower, -AgeSexRetina_upper, -epic_agesex_lower, -epic_agesex_upper)"
   ]
  },
  {
   "cell_type": "code",
   "execution_count": null,
   "metadata": {},
   "outputs": [],
   "source": [
    "# new, after bugfix\n",
    "temp_hrs_linear %>% filter(endpoint %in% endpoint_selection) %>% select(-phecode_category)"
   ]
  },
  {
   "cell_type": "code",
   "execution_count": null,
   "metadata": {},
   "outputs": [],
   "source": []
  }
 ],
 "metadata": {
  "hide_input": false,
  "kernelspec": {
   "display_name": "R [conda env:.conda-r_env]",
   "language": "R",
   "name": "conda-env-.conda-r_env-r"
  },
  "language_info": {
   "codemirror_mode": "r",
   "file_extension": ".r",
   "mimetype": "text/x-r-source",
   "name": "R",
   "pygments_lexer": "r",
   "version": "4.2.3"
  },
  "toc-autonumbering": false
 },
 "nbformat": 4,
 "nbformat_minor": 4
}
