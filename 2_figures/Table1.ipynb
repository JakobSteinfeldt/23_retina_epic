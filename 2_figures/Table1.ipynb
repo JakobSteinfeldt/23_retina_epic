{
 "cells": [
  {
   "cell_type": "markdown",
   "metadata": {},
   "source": [
    "# 2. Exploration"
   ]
  },
  {
   "cell_type": "code",
   "execution_count": null,
   "metadata": {
    "tags": []
   },
   "outputs": [],
   "source": [
    "try(library(tidyverse), silent=TRUE)\n",
    "library(lubridate)\n",
    "library(glue)\n",
    "library(cowplot)\n",
    "library(survminer)\n",
    "library(survival)\n",
    "library(ggsci)\n",
    "library(arsenal)\n",
    "library(yaml)\n",
    "\n",
    "#setwd(\"/\")\n",
    "#path = \"/home/steinfej/projects/uk_biobank/\"\n",
    "#dataset_path = \"data/datasets/cvd_massive_excl_emb_ind\""
   ]
  },
  {
   "cell_type": "code",
   "execution_count": null,
   "metadata": {
    "tags": []
   },
   "outputs": [],
   "source": [
    "base_path = \"/home/jakobs\"\n",
    "\n",
    "project_path = glue(\"{base_path}/data\")\n",
    "experiment = '230323'\n",
    "experiment_path = glue(\"{project_path}/{experiment}\")"
   ]
  },
  {
   "cell_type": "markdown",
   "metadata": {},
   "source": [
    "## Load data"
   ]
  },
  {
   "cell_type": "code",
   "execution_count": null,
   "metadata": {
    "tags": []
   },
   "outputs": [],
   "source": [
    "endpoint_defs = arrow::read_feather(glue(\"{base_path}/data/endpoints_epic_md.feather\"))\n",
    "endpoints = endpoint_defs$endpoint"
   ]
  },
  {
   "cell_type": "code",
   "execution_count": null,
   "metadata": {
    "tags": []
   },
   "outputs": [],
   "source": [
    "data_outcomes = arrow::read_feather(glue(\"{base_path}/data/data_outcomes_long_230320.feather\"))"
   ]
  },
  {
   "cell_type": "code",
   "execution_count": null,
   "metadata": {
    "tags": []
   },
   "outputs": [],
   "source": [
    "data_outcomes %>% head()"
   ]
  },
  {
   "cell_type": "code",
   "execution_count": null,
   "metadata": {
    "tags": []
   },
   "outputs": [],
   "source": [
    "data_outcomes = data_outcomes %>% \n",
    "        mutate(prev = as.integer(prev)) %>% \n",
    "        mutate(event = as.integer(event))"
   ]
  },
  {
   "cell_type": "code",
   "execution_count": null,
   "metadata": {
    "tags": []
   },
   "outputs": [],
   "source": [
    "data_outcomes_agg = data_outcomes %>% filter(prev==0) %>% group_by(endpoint) %>% summarise(ratio = mean(event))"
   ]
  },
  {
   "cell_type": "code",
   "execution_count": null,
   "metadata": {
    "tags": []
   },
   "outputs": [],
   "source": [
    "table_data = arrow::read_feather(glue(\"{experiment_path}/data_covariates_full.feather\")) %>% select(-eid)"
   ]
  },
  {
   "cell_type": "code",
   "execution_count": null,
   "metadata": {
    "tags": []
   },
   "outputs": [],
   "source": [
    "library(gtsummary)\n",
    "table1 <- table_data %>% select(age, sex, smoking_status, systolic_blood_pressure, cholesterol, hdl_cholesterol) %>%\n",
    "  # alcohol_intake_frequency = case_when(\n",
    "  #   alcohol_intake_frequency == \"Daily or almost daily\" ~ 1,\n",
    "  #   TRUE ~ 0\n",
    "  # )\n",
    "   \n",
    "  tbl_summary(by = \"sex\", \n",
    "              label = list(\n",
    "                age = \"Age at Recruitment\",\n",
    "                smoking_status = \"Smoker status\",\n",
    "                # alcohol_intake_frequency = \"Daily Alcohol Intake\",\n",
    "                #bmi = \"BMI\",\n",
    "                systolic_blood_pressure = \"Systolic Blood Pressure (mmHg)\",\n",
    "                cholesterol = \"Total Cholesterol (mmol/L)\",\n",
    "                hdl_cholesterol = \"HDL Cholesterol (mmol/L)\",\n",
    "                diabetes = \"Diabetes mellitus\"\n",
    "              ),\n",
    "              missing = \"no\") %>% \n",
    "  add_overall(last = TRUE) %>% \n",
    "  bold_labels()"
   ]
  },
  {
   "cell_type": "code",
   "execution_count": null,
   "metadata": {
    "tags": []
   },
   "outputs": [],
   "source": [
    "library(gt)\n",
    "plot_name = \"SupplTable8_EPIC_Table1\"\n",
    "table1 %>% as_gt() %>% \n",
    "    #opt_align_table_header(align = \"left\") %>% \n",
    "    gt::gtsave(glue(\"outputs/{plot_name}.html\"))\n",
    "#table1 %>% as_gt()  %>% tab_header(title = \"Table 1\") %>% \n",
    "#    #opt_align_table_header(align = \"left\") %>%\n",
    "#    gt::gtsave(glue(\"{figure_path}/{plot_name}.html\"))"
   ]
  },
  {
   "cell_type": "code",
   "execution_count": null,
   "metadata": {
    "tags": []
   },
   "outputs": [],
   "source": [
    "table1 %>% as_gt()"
   ]
  },
  {
   "cell_type": "markdown",
   "metadata": {},
   "source": [
    "# BASELINE"
   ]
  },
  {
   "cell_type": "code",
   "execution_count": null,
   "metadata": {
    "tags": []
   },
   "outputs": [],
   "source": [
    "options(repr.plot.width=20, repr.plot.height=8)"
   ]
  },
  {
   "cell_type": "markdown",
   "metadata": {},
   "source": [
    "# OBSERVATION TIME"
   ]
  },
  {
   "cell_type": "code",
   "execution_count": null,
   "metadata": {
    "tags": []
   },
   "outputs": [],
   "source": [
    "base_size = 25\n",
    "title_size = 35\n",
    "facet_size = 25\n",
    "geom_text_size=6\n",
    "library(ggplot2); "
   ]
  },
  {
   "cell_type": "code",
   "execution_count": null,
   "metadata": {
    "tags": []
   },
   "outputs": [],
   "source": [
    "plot_width=10; plot_height=3; plot_dpi=300\n",
    "options(repr.plot.width=plot_width, repr.plot.height=plot_height)\n",
    "\n",
    "theme_set(theme_classic(base_size = base_size) + \n",
    "    theme(strip.background = element_blank(), plot.title=element_text(size=25, hjust=0), \n",
    "          #axis.title.y = element_blank(), axis.text.y = element_blank(), axis.ticks.y = element_blank(), axis.line.y = element_blank(),\n",
    "          #axis.title.x = element_blank(), axis.text.x = element_blank(), #axis.ticks.y = element_blank(), axis.line.y = element_blank(), \n",
    "          strip.text.x = element_text(size = facet_size)) + theme(legend.position=\"bottom\", axis.line = element_line(size = 0.2), axis.ticks=element_line(size=0.2)))\n",
    "\n",
    "#expand = c(0.01, 0.8)"
   ]
  },
  {
   "cell_type": "code",
   "execution_count": null,
   "metadata": {
    "tags": []
   },
   "outputs": [],
   "source": [
    "temp = data %>% filter(MACE_event==0)  %>% select(c(eid, MACE_event_time))\n",
    "mean = round((temp %>% summarise(mean=median(MACE_event_time)))$mean, 1)\n",
    "obs_time = ggplot(temp, aes(x=MACE_event_time)) + ggtitle(\"Observation Time\") + \n",
    "    geom_density(fill=\"gray70\", alpha=0.5) +\n",
    "    labs(x=\"Years\", y=\"Density\") +\n",
    "    geom_vline(aes(xintercept=mean(MACE_event_time)),color=\"black\", linetype=\"dashed\", size=1)+\n",
    "    #geom_text(x=mean, label=mean, y=0.15, hjust=-0.5)+\n",
    "    #ylab(\"Prevalence in [%]\") +\n",
    "    scale_x_continuous(expand=c(0,0))+\n",
    "    scale_y_continuous(expand=c(0,0))+\n",
    "    coord_cartesian(xlim=c(0, 15))+\n",
    "    annotate(\"text\", x=mean-5, y=0.2, label=paste0(\"Median: \", mean, \" years\"), size = geom_text_size)\n",
    "obs_time"
   ]
  },
  {
   "cell_type": "markdown",
   "metadata": {},
   "source": [
    "# ENDPOINTS"
   ]
  },
  {
   "cell_type": "markdown",
   "metadata": {},
   "source": [
    "## Kaplan Meyer estimates"
   ]
  },
  {
   "cell_type": "code",
   "execution_count": null,
   "metadata": {},
   "outputs": [],
   "source": [
    "library(ggthemes)\n",
    "endpoint_map = c(\n",
    "    'M_MACE'='MACE',\n",
    "    'M_all_cause_dementia'='Dementia',\n",
    "    'M_type_2_diabetes'='T2 Diabetes',\n",
    "    'M_liver_disease'='Liver Disease',\n",
    "    'M_renal_disease'='Renal Disease',\n",
    "    'M_atrial_fibrillation'='Atrial Fibrillation',\n",
    "    'M_heart_failure'= 'Heart Failure',\n",
    "    'M_coronary_heart_disease'='CHD',\n",
    "    'M_venous_thrombosis'='Ven. Thrombosis',\n",
    "    'M_cerebral_stroke'='Cerebral Stroke',\n",
    "    'M_abdominal_aortic_aneurysm'='AAA',\n",
    "    'M_peripheral_arterial_disease'='PAD',\n",
    "    \"M_chronic_obstructuve_pulmonary_disease\" = \"COPD\",\n",
    "    \"M_asthma\" = \"Asthma\",\n",
    "    'M_parkinsons_disease' = \"Parkinson's\",    \n",
    "    \"M_lung_cancer\" = \"Lung Cancer\",\n",
    "    \"M_non_melanoma_skin_cancer\" = \"Skin Cancer\",\n",
    "    \"M_colon_cancer\"= \"Colon Cancer\",\n",
    "    \"M_rectal_cancer\" = \"Rectal Cancer\",\n",
    "    \"M_prostate_cancer\"= \"Prostate Cancer\",\n",
    "    \"M_breast_cancer\" = \"Breast Cancer\",\n",
    "    'M_cataracts' = \"Cataracts\", \n",
    "    'M_glaucoma' = \"Glaucoma\",\n",
    "    'M_fractures' = \"Fractures\"\n",
    ")\n",
    "\n",
    "endpoint_order = c(\"M_MACE\", \"M_coronary_heart_disease\", \"M_cerebral_stroke\", \"M_all_cause_dementia\", \"M_heart_failure\", \"M_atrial_fibrillation\",\n",
    "                   \"M_type_2_diabetes\", \"M_liver_disease\", \"M_renal_disease\", \"M_peripheral_arterial_disease\", \"M_venous_thrombosis\",  \"M_abdominal_aortic_aneurysm\",\n",
    "                   \"M_chronic_obstructuve_pulmonary_disease\", \"M_asthma\", 'M_parkinsons_disease', 'M_cataracts', 'M_glaucoma', 'M_fractures',\n",
    "                    \"M_lung_cancer\",\"M_non_melanoma_skin_cancer\",\"M_colon_cancer\",\"M_rectal_cancer\",\"M_prostate_cancer\",\"M_breast_cancer\"\n",
    "                   \n",
    ")"
   ]
  },
  {
   "cell_type": "code",
   "execution_count": null,
   "metadata": {},
   "outputs": [],
   "source": [
    "temp_endpoints = data %>% select(starts_with(\"M_\")) %>% select(ends_with(\"_event\"), -contains(\"-time\"), -contains(\"comp\")) %>% \n",
    "    pivot_longer(everything()) %>% group_by(name) %>% summarise(frequency=mean(value)) %>% arrange(frequency) %>% ungroup() %>% as.data.frame() %>%\n",
    "    mutate(name = str_remove_all(name, \"_event\")) %>% filter(name %in% endpoints) %>% mutate(name = factor(name, levels=endpoint_order))"
   ]
  },
  {
   "cell_type": "code",
   "execution_count": null,
   "metadata": {},
   "outputs": [],
   "source": [
    "inc_data = data %>% select(\"eid\", all_of(paste0(names(endpoint_map), \"_event\"))) %>% pivot_longer(-eid, names_to=\"endpoint\", values_to=\"Incident\") %>% mutate(endpoint = str_remove_all(endpoint, \"_event\"))\n",
    "prev_data = data %>% select(eid, all_of(names(endpoint_map))) %>% pivot_longer(-eid, names_to=\"endpoint\", values_to=\"Prevalent\") %>% mutate(Prevalent = as.integer(Prevalent))\n",
    "agg_data = prev_data %>% left_join(inc_data, by=c(\"eid\", \"endpoint\")) \n",
    "agg_data$endpoint = recode(agg_data$endpoint, !!!endpoint_map)\n",
    "agg_data %>% head()"
   ]
  },
  {
   "cell_type": "code",
   "execution_count": null,
   "metadata": {},
   "outputs": [],
   "source": [
    "agg_data %>% filter(Prevalent==0) %>% group_by(endpoint) %>% summarise(frequency=sum(Incident)/n()) %>% arrange(frequency) %>% mutate(f = round(frequency*100, 2)) # %>% mutate(sum=n()) %>% group_by(frequency, sum) %>% tally() %>% mutate(freq=n*100/sum)"
   ]
  },
  {
   "cell_type": "code",
   "execution_count": null,
   "metadata": {},
   "outputs": [],
   "source": [
    "agg_data %>% filter(Prevalent==0) %>% group_by(eid) %>% summarise(frequency=sum(Incident)) %>% mutate(sum=n()) %>% group_by(frequency, sum) %>% tally() %>% mutate(freq=n*100/sum)"
   ]
  },
  {
   "cell_type": "code",
   "execution_count": null,
   "metadata": {},
   "outputs": [],
   "source": [
    "117981-67735"
   ]
  },
  {
   "cell_type": "code",
   "execution_count": null,
   "metadata": {},
   "outputs": [],
   "source": [
    "100-57.411786644"
   ]
  },
  {
   "cell_type": "markdown",
   "metadata": {},
   "source": [
    "# person years"
   ]
  },
  {
   "cell_type": "code",
   "execution_count": null,
   "metadata": {
    "tags": []
   },
   "outputs": [],
   "source": [
    "tmp = data_outcomes %>% group_by(eid) %>% select(eid, time) %>% arrange(desc(time)) %>% slice(1) %>% ungroup()# %>% summarise(sum_years=sum(time))"
   ]
  },
  {
   "cell_type": "code",
   "execution_count": null,
   "metadata": {
    "tags": []
   },
   "outputs": [],
   "source": [
    "tmp %>% filter(eid %in% eids_with_retina$retina_eids) %>% summarise(sum_years=sum(time))"
   ]
  },
  {
   "cell_type": "code",
   "execution_count": null,
   "metadata": {},
   "outputs": [],
   "source": [
    "tmp %>% filter(eid %in% eids_with_retina$retina_eids) %>% summarise(sum_years=median(time))"
   ]
  },
  {
   "cell_type": "code",
   "execution_count": null,
   "metadata": {},
   "outputs": [],
   "source": [
    "py_data = data %>% select(\"eid\", all_of(paste0(names(endpoint_map), \"_event_time\"))) %>% pivot_longer(-eid, names_to=\"endpoint\", values_to=\"person_years\") %>% mutate(endpoint = str_remove_all(endpoint, \"_event\"))"
   ]
  },
  {
   "cell_type": "code",
   "execution_count": null,
   "metadata": {},
   "outputs": [],
   "source": [
    "py_data %>% group_by(eid) %>% arrange(desc(person_years)) %>% slice(1) %>% ungroup() %>% summarise(sum_years=sum(person_years))"
   ]
  },
  {
   "cell_type": "code",
   "execution_count": null,
   "metadata": {},
   "outputs": [],
   "source": [
    "agg_data %>% filter(Prevalent==0) %>% group_by(endpoint) %>% summarise(frequency=mean(Incident)) %>% arrange(frequency) %>% ungroup()"
   ]
  },
  {
   "cell_type": "code",
   "execution_count": null,
   "metadata": {},
   "outputs": [],
   "source": [
    "library(ggrepel)"
   ]
  },
  {
   "cell_type": "code",
   "execution_count": null,
   "metadata": {},
   "outputs": [],
   "source": [
    "temp_endpoints %>% mutate(label = recode(name, !!!endpoint_map))"
   ]
  },
  {
   "cell_type": "code",
   "execution_count": null,
   "metadata": {},
   "outputs": [],
   "source": [
    "plot_width=10; plot_height=12; plot_dpi=320\n",
    "options(repr.plot.width=plot_width, repr.plot.height=plot_height)\n",
    "endpoint_freq = ggplot(temp_endpoints %>% mutate(label = recode(name, !!!endpoint_map))) + ggtitle(\"Endpoint Frequency\") + \n",
    "    #geom_density(fill=\"gray70\", alpha=0.5) +\n",
    "    labs(x=\"Endpoint\", y=\"Frequency\") +\n",
    "    geom_bar(stat=\"identity\", aes(x=fct_rev(fct_reorder(name, desc(frequency))), y=frequency), size=1, alpha=0.7) + \n",
    "    coord_flip(ylim=c(0, 0.16))+\n",
    "    theme(legend.position=\"none\")+\n",
    "    scale_x_discrete(labels = endpoint_map) + scale_y_continuous(expand=c(0, 0), labels=scales::percent) + \n",
    "    geom_text(aes(x=name, y=frequency+0.003, label=stringr::str_wrap(label, 20)), size=7, hjust=0)+\n",
    "     theme(axis.title.y=element_blank(),\n",
    "        axis.text.y=element_blank(),\n",
    "        axis.ticks.y=element_blank())\n",
    "    #geom_text(x=mean, label=mean, y=0.15, hjust=-0.5)+\n",
    "    #ylab(\"Prevalence in [%]\") +\n",
    "   # scale_x_continuous(expand=c(0,0))+\n",
    "    #scale_y_continuous(expand=c(0,0))+\n",
    "\n",
    "    #coord_cartesian(xlim=c(0, 15))+\n",
    "endpoint_freq"
   ]
  },
  {
   "cell_type": "code",
   "execution_count": null,
   "metadata": {},
   "outputs": [],
   "source": [
    "library(patchwork)\n",
    "theme_set(theme_classic(base_size = base_size) + \n",
    "    theme(strip.background = element_blank(), plot.title=element_text(size=title_size, hjust=0),\n",
    "          #axis.title.y = element_blank(), \n",
    "          axis.text.y = element_text(size=base_size), #axis.ticks.y = element_blank(), axis.line.y = element_blank(),\n",
    "          #axis.title.x = element_blank(), \n",
    "          axis.text.x = element_text(size=base_size), #axis.ticks.x = element_blank(), axis.line.x = element_blank(), \n",
    "          strip.text.x = element_text(size = facet_size)) + theme(legend.position=\"bottom\", axis.line = element_line(size = 0.2), axis.ticks=element_line(size=0.2)))"
   ]
  },
  {
   "cell_type": "code",
   "execution_count": null,
   "metadata": {},
   "outputs": [],
   "source": [
    "flowchart <- png::readPNG(\"UKB_Flowchart1.png\", native = TRUE)"
   ]
  },
  {
   "cell_type": "code",
   "execution_count": null,
   "metadata": {},
   "outputs": [],
   "source": [
    "options(repr.plot.width=plot_width, repr.plot.height=plot_height)\n",
    "right = #(#(obs_time + theme(plot.title=element_text(size=25, hjust=0.5))) / \n",
    "        (endpoint_freq + theme(plot.title=element_text(size=25, hjust=0.5)))#) + \n",
    "        #plot_layout(heights = c(2, 10))"
   ]
  },
  {
   "cell_type": "code",
   "execution_count": null,
   "metadata": {},
   "outputs": [],
   "source": [
    "library(patchwork)"
   ]
  },
  {
   "cell_type": "code",
   "execution_count": null,
   "metadata": {},
   "outputs": [],
   "source": [
    "plot_width=20; plot_height=12; plot_dpi=320\n",
    "options(repr.plot.width=plot_width, repr.plot.height=plot_height)\n",
    "\n",
    "fig1 = (plot_spacer() | right)#+\n",
    "    #plot_annotation(title = \"Figure 1: Participant Selection and Subcohort Characteristics\") + \n",
    "    #plot_annotation(subtitle = \"~11.1 years average observation window; 21664 (~5.4%) major adverse cardiac events (MACE) in first 10 years\")\n",
    "    #plot_annotation(tag_levels = \"A\")\n",
    "fig1"
   ]
  },
  {
   "cell_type": "code",
   "execution_count": null,
   "metadata": {},
   "outputs": [],
   "source": [
    "plot_name = \"Figure1\"\n",
    "ggsave(filename=glue(\"{figure_path}/{plot_name}.pdf\"), plot=fig1, width=plot_width, height=plot_height, dpi=plot_dpi, device=\"pdf\")"
   ]
  }
 ],
 "metadata": {
  "hide_input": false,
  "kernelspec": {
   "display_name": "R",
   "language": "R",
   "name": "ir"
  },
  "language_info": {
   "codemirror_mode": "r",
   "file_extension": ".r",
   "mimetype": "text/x-r-source",
   "name": "R",
   "pygments_lexer": "r",
   "version": "4.3.0"
  },
  "toc-autonumbering": true,
  "toc-showcode": false,
  "toc-showmarkdowntxt": true
 },
 "nbformat": 4,
 "nbformat_minor": 4
}
