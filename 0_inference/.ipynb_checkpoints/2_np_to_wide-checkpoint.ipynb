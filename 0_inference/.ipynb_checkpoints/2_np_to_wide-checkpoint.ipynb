{
 "cells": [
  {
   "cell_type": "code",
   "execution_count": null,
   "id": "0",
   "metadata": {},
   "outputs": [],
   "source": [
    "import numpy as np\n",
    "import pandas as pd\n",
    "import pathlib\n",
    "from tqdm.notebook import tqdm"
   ]
  },
  {
   "cell_type": "code",
   "execution_count": null,
   "id": "1",
   "metadata": {},
   "outputs": [],
   "source": [
    "base_path = \"/home/jakobs\""
   ]
  },
  {
   "cell_type": "code",
   "execution_count": null,
   "id": "2",
   "metadata": {},
   "outputs": [],
   "source": [
    "endpoints_md = pd.read_csv(f\"{base_path}/BiHealth/onnx/endpoints.csv\").drop(columns=\"Unnamed: 0\").set_index(\"endpoint\")#[[\"endpoint\", \"eligable\", \"n\", \"freq\", \"phecode\", \"phecode_string\", \"phecode_category\", \"sex\"]]\n",
    "endpoints = endpoints_md.index.to_list()\n",
    "endpoints_md"
   ]
  },
  {
   "cell_type": "code",
   "execution_count": null,
   "id": "3",
   "metadata": {},
   "outputs": [],
   "source": [
    "import pandas as pd\n",
    "import pyarrow as pa\n",
    "import pyarrow.feather as feather\n",
    "\n",
    "# Read the Feather file as a PyArrow table\n",
    "table = feather.read_table(f\"{base_path}/data/predictionstta_231117.feather\")"
   ]
  },
  {
   "cell_type": "code",
   "execution_count": null,
   "id": "4",
   "metadata": {},
   "outputs": [],
   "source": [
    "metadata_df = pd.DataFrame({c: table[c].to_numpy() for c in [\"partition\", \"img_name\", \"iteration\"]})"
   ]
  },
  {
   "cell_type": "code",
   "execution_count": null,
   "id": "5",
   "metadata": {},
   "outputs": [],
   "source": [
    "column = table[\"loghs\"]\n",
    "float32_data_list = []\n",
    "               \n",
    "with tqdm(total=len(list(column.iterchunks())), desc=\"Processing chunks\", leave=False) as pbar_inner:\n",
    "    for chunk in column.iterchunks():\n",
    "\n",
    "        chunk_data = chunk.values.to_numpy()#.view(np.float16).astype(np.float32)\n",
    "        float32_data_list.append(chunk_data)\n",
    "\n",
    "        pbar_inner.update(1)"
   ]
  },
  {
   "cell_type": "code",
   "execution_count": null,
   "id": "6",
   "metadata": {},
   "outputs": [],
   "source": [
    "def concatenate_large_arrays(arrays):\n",
    "    # Determine the total size of the output array\n",
    "    total_size = sum([arr.size for arr in arrays])\n",
    "\n",
    "    # Create an uninitialized array of the appropriate size\n",
    "    result = np.empty(total_size, dtype=arrays[0].dtype)\n",
    "\n",
    "    # Concatenate the arrays into the pre-allocated result array\n",
    "    start = 0\n",
    "    for arr in tqdm(arrays):\n",
    "        end = start + arr.size\n",
    "        result[start:end] = arr\n",
    "        start = end\n",
    "\n",
    "    return result"
   ]
  },
  {
   "cell_type": "code",
   "execution_count": null,
   "id": "7",
   "metadata": {},
   "outputs": [],
   "source": [
    "loghs = concatenate_large_arrays(float32_data_list)\n",
    "loghs_wide = loghs.reshape(-1, 773)"
   ]
  },
  {
   "cell_type": "code",
   "execution_count": null,
   "id": "8",
   "metadata": {},
   "outputs": [],
   "source": [
    "del table\n",
    "del float32_data_list\n",
    "del column\n",
    "del chunk_data"
   ]
  },
  {
   "cell_type": "code",
   "execution_count": null,
   "id": "9",
   "metadata": {},
   "outputs": [],
   "source": [
    "loghs_df = pd.DataFrame(loghs_wide, columns=endpoints)"
   ]
  },
  {
   "cell_type": "code",
   "execution_count": null,
   "id": "10",
   "metadata": {},
   "outputs": [],
   "source": [
    "for endpoint in tqdm(endpoints):\n",
    "    metadata_df[endpoint] = loghs_df[endpoint]\n",
    "    del loghs_df[endpoint]"
   ]
  },
  {
   "cell_type": "code",
   "execution_count": null,
   "id": "11",
   "metadata": {},
   "outputs": [],
   "source": [
    "metadata_df.to_feather(f\"{base_path}/data/predictionstta_wide_231117.feather\")"
   ]
  },
  {
   "cell_type": "code",
   "execution_count": null,
   "id": "12",
   "metadata": {},
   "outputs": [],
   "source": []
  }
 ],
 "metadata": {
  "kernelspec": {
   "display_name": "Python [conda env:.conda-python]",
   "language": "python",
   "name": "conda-env-.conda-python-py"
  },
  "language_info": {
   "codemirror_mode": {
    "name": "ipython",
    "version": 3
   },
   "file_extension": ".py",
   "mimetype": "text/x-python",
   "name": "python",
   "nbconvert_exporter": "python",
   "pygments_lexer": "ipython3",
   "version": "3.11.0"
  }
 },
 "nbformat": 4,
 "nbformat_minor": 5
}
