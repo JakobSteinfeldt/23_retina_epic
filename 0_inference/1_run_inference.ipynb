{
 "cells": [
  {
   "cell_type": "code",
   "execution_count": 1,
   "id": "078ee139-9c75-41e3-bddb-4b3d1b7ff503",
   "metadata": {},
   "outputs": [],
   "source": [
    "import numpy as np\n",
    "import pandas as pd\n",
    "import pathlib\n",
    "from tqdm.notebook import tqdm"
   ]
  },
  {
   "cell_type": "code",
   "execution_count": 2,
   "id": "0dc7d1ab-34fd-4869-9619-93517a52e29c",
   "metadata": {},
   "outputs": [],
   "source": [
    "base_path = \"/home/jakobs\""
   ]
  },
  {
   "cell_type": "code",
   "execution_count": 3,
   "id": "0282944a-d693-4044-8ebb-ee7be1a85ce4",
   "metadata": {},
   "outputs": [
    {
     "data": {
      "text/html": [
       "<div>\n",
       "<style scoped>\n",
       "    .dataframe tbody tr th:only-of-type {\n",
       "        vertical-align: middle;\n",
       "    }\n",
       "\n",
       "    .dataframe tbody tr th {\n",
       "        vertical-align: top;\n",
       "    }\n",
       "\n",
       "    .dataframe thead th {\n",
       "        text-align: right;\n",
       "    }\n",
       "</style>\n",
       "<table border=\"1\" class=\"dataframe\">\n",
       "  <thead>\n",
       "    <tr style=\"text-align: right;\">\n",
       "      <th></th>\n",
       "      <th>eligable</th>\n",
       "      <th>n</th>\n",
       "      <th>freq</th>\n",
       "      <th>phecode</th>\n",
       "      <th>phecode_string</th>\n",
       "      <th>phecode_category</th>\n",
       "      <th>sex</th>\n",
       "    </tr>\n",
       "    <tr>\n",
       "      <th>endpoint</th>\n",
       "      <th></th>\n",
       "      <th></th>\n",
       "      <th></th>\n",
       "      <th></th>\n",
       "      <th></th>\n",
       "      <th></th>\n",
       "      <th></th>\n",
       "    </tr>\n",
       "  </thead>\n",
       "  <tbody>\n",
       "    <tr>\n",
       "      <th>OMOP_4306655</th>\n",
       "      <td>61256</td>\n",
       "      <td>3548</td>\n",
       "      <td>0.057921</td>\n",
       "      <td>4306655.00</td>\n",
       "      <td>All-Cause Death</td>\n",
       "      <td>Death</td>\n",
       "      <td>Both</td>\n",
       "    </tr>\n",
       "    <tr>\n",
       "      <th>phecode_002</th>\n",
       "      <td>60945</td>\n",
       "      <td>658</td>\n",
       "      <td>0.010797</td>\n",
       "      <td>2.00</td>\n",
       "      <td>Staphylococcus</td>\n",
       "      <td>ID</td>\n",
       "      <td>Both</td>\n",
       "    </tr>\n",
       "    <tr>\n",
       "      <th>phecode_002-1</th>\n",
       "      <td>61010</td>\n",
       "      <td>486</td>\n",
       "      <td>0.007966</td>\n",
       "      <td>2.10</td>\n",
       "      <td>Staphylococcus aureus</td>\n",
       "      <td>ID</td>\n",
       "      <td>Both</td>\n",
       "    </tr>\n",
       "    <tr>\n",
       "      <th>phecode_003</th>\n",
       "      <td>60757</td>\n",
       "      <td>1017</td>\n",
       "      <td>0.016739</td>\n",
       "      <td>3.00</td>\n",
       "      <td>Escherichia coli</td>\n",
       "      <td>ID</td>\n",
       "      <td>Both</td>\n",
       "    </tr>\n",
       "    <tr>\n",
       "      <th>phecode_004</th>\n",
       "      <td>60584</td>\n",
       "      <td>494</td>\n",
       "      <td>0.008154</td>\n",
       "      <td>4.00</td>\n",
       "      <td>Streptococcus</td>\n",
       "      <td>ID</td>\n",
       "      <td>Both</td>\n",
       "    </tr>\n",
       "    <tr>\n",
       "      <th>...</th>\n",
       "      <td>...</td>\n",
       "      <td>...</td>\n",
       "      <td>...</td>\n",
       "      <td>...</td>\n",
       "      <td>...</td>\n",
       "      <td>...</td>\n",
       "      <td>...</td>\n",
       "    </tr>\n",
       "    <tr>\n",
       "      <th>phecode_977-52</th>\n",
       "      <td>31669</td>\n",
       "      <td>520</td>\n",
       "      <td>0.016420</td>\n",
       "      <td>977.52</td>\n",
       "      <td>Hormone replacement therapy (postmenopausal)</td>\n",
       "      <td>Rx</td>\n",
       "      <td>Female</td>\n",
       "    </tr>\n",
       "    <tr>\n",
       "      <th>phecode_977-7</th>\n",
       "      <td>60032</td>\n",
       "      <td>2231</td>\n",
       "      <td>0.037164</td>\n",
       "      <td>977.70</td>\n",
       "      <td>Long term (current) use of insulin or oral hyp...</td>\n",
       "      <td>Rx</td>\n",
       "      <td>Both</td>\n",
       "    </tr>\n",
       "    <tr>\n",
       "      <th>phecode_977-71</th>\n",
       "      <td>60936</td>\n",
       "      <td>472</td>\n",
       "      <td>0.007746</td>\n",
       "      <td>977.71</td>\n",
       "      <td>Long term (current) use of insulin</td>\n",
       "      <td>Rx</td>\n",
       "      <td>Both</td>\n",
       "    </tr>\n",
       "    <tr>\n",
       "      <th>phecode_977-72</th>\n",
       "      <td>60207</td>\n",
       "      <td>2148</td>\n",
       "      <td>0.035677</td>\n",
       "      <td>977.72</td>\n",
       "      <td>Long term (current) use of oral hypoglycemic d...</td>\n",
       "      <td>Rx</td>\n",
       "      <td>Both</td>\n",
       "    </tr>\n",
       "    <tr>\n",
       "      <th>phecode_979</th>\n",
       "      <td>61159</td>\n",
       "      <td>158</td>\n",
       "      <td>0.002583</td>\n",
       "      <td>979.00</td>\n",
       "      <td>Transplated organ</td>\n",
       "      <td>Stat</td>\n",
       "      <td>Both</td>\n",
       "    </tr>\n",
       "  </tbody>\n",
       "</table>\n",
       "<p>1171 rows × 7 columns</p>\n",
       "</div>"
      ],
      "text/plain": [
       "                eligable     n      freq     phecode  \\\n",
       "endpoint                                               \n",
       "OMOP_4306655       61256  3548  0.057921  4306655.00   \n",
       "phecode_002        60945   658  0.010797        2.00   \n",
       "phecode_002-1      61010   486  0.007966        2.10   \n",
       "phecode_003        60757  1017  0.016739        3.00   \n",
       "phecode_004        60584   494  0.008154        4.00   \n",
       "...                  ...   ...       ...         ...   \n",
       "phecode_977-52     31669   520  0.016420      977.52   \n",
       "phecode_977-7      60032  2231  0.037164      977.70   \n",
       "phecode_977-71     60936   472  0.007746      977.71   \n",
       "phecode_977-72     60207  2148  0.035677      977.72   \n",
       "phecode_979        61159   158  0.002583      979.00   \n",
       "\n",
       "                                                   phecode_string  \\\n",
       "endpoint                                                            \n",
       "OMOP_4306655                                      All-Cause Death   \n",
       "phecode_002                                        Staphylococcus   \n",
       "phecode_002-1                               Staphylococcus aureus   \n",
       "phecode_003                                      Escherichia coli   \n",
       "phecode_004                                         Streptococcus   \n",
       "...                                                           ...   \n",
       "phecode_977-52       Hormone replacement therapy (postmenopausal)   \n",
       "phecode_977-7   Long term (current) use of insulin or oral hyp...   \n",
       "phecode_977-71                 Long term (current) use of insulin   \n",
       "phecode_977-72  Long term (current) use of oral hypoglycemic d...   \n",
       "phecode_979                                     Transplated organ   \n",
       "\n",
       "               phecode_category     sex  \n",
       "endpoint                                 \n",
       "OMOP_4306655              Death    Both  \n",
       "phecode_002                  ID    Both  \n",
       "phecode_002-1                ID    Both  \n",
       "phecode_003                  ID    Both  \n",
       "phecode_004                  ID    Both  \n",
       "...                         ...     ...  \n",
       "phecode_977-52               Rx  Female  \n",
       "phecode_977-7                Rx    Both  \n",
       "phecode_977-71               Rx    Both  \n",
       "phecode_977-72               Rx    Both  \n",
       "phecode_979                Stat    Both  \n",
       "\n",
       "[1171 rows x 7 columns]"
      ]
     },
     "execution_count": 3,
     "metadata": {},
     "output_type": "execute_result"
    }
   ],
   "source": [
    "endpoints_md = pd.read_csv(f\"{base_path}/BiHealth/onnx/endpoints.csv\").drop(columns=\"Unnamed: 0\").set_index(\"endpoint\")#[[\"endpoint\", \"eligable\", \"n\", \"freq\", \"phecode\", \"phecode_string\", \"phecode_category\", \"sex\"]]\n",
    "endpoints_md"
   ]
  },
  {
   "cell_type": "code",
   "execution_count": 4,
   "id": "fdc156f0-00c4-46cf-b875-2e245e0c09b2",
   "metadata": {},
   "outputs": [
    {
     "name": "stderr",
     "output_type": "stream",
     "text": [
      "/home/jakobs/.conda/envs/python310/lib/python3.10/site-packages/torchvision/io/image.py:13: UserWarning: Failed to load image Python extension: /home/jakobs/.conda/envs/python310/lib/python3.10/site-packages/torchvision/image.so: undefined symbol: _ZN5torch3jit17parseSchemaOrNameERKNSt7__cxx1112basic_stringIcSt11char_traitsIcESaIcEEE\n",
      "  warn(f\"Failed to load image Python extension: {e}\")\n"
     ]
    }
   ],
   "source": [
    "import math\n",
    "import warnings\n",
    "from socket import gethostname\n",
    "\n",
    "import numpy as np\n",
    "import torch\n",
    "import torchvision as tv\n",
    "import torchmetrics\n",
    "\n",
    "from retinalrisk.models.supervised import (\n",
    "    ImageTraining\n",
    ")\n",
    "from retinalrisk.modules.head import MLPHead\n",
    "\n",
    "def setup_training():\n",
    "    \n",
    "    def get_head(num_head_features, num_endpoints):\n",
    "\n",
    "        cls = MLPHead\n",
    "\n",
    "        return cls(\n",
    "            num_head_features,\n",
    "            num_endpoints,\n",
    "            incidence=None,\n",
    "            dropout=0.5,\n",
    "            gradient_checkpointing=False,\n",
    "            num_hidden =512, \n",
    "            num_layers =2,\n",
    "            #loss=None,\n",
    "        )\n",
    "    \n",
    "    base_path = \"/home/jakobs\"\n",
    "    x = torch.load(f\"{base_path}/BiHealth/ckpts/partition_0_last.ckpt\")\n",
    "    losses = x['hyper_parameters'][\"losses\"]\n",
    "    label_mapping = x['hyper_parameters'][\"label_mapping\"]\n",
    "    incidence_mapping = x['hyper_parameters'][\"incidence_mapping\"]\n",
    "\n",
    "    #encoder = tv.models.__dict__[args.model.encoder](pretrained=args.model.pretrained)\n",
    "    weights = 'DEFAULT' \n",
    "    encoder = tv.models.__dict__[\"convnext_small\"](weights=weights) \n",
    "    #print(encoder)\n",
    "\n",
    "    outshape = 768 \n",
    "\n",
    "    setattr(encoder.classifier, '2', torch.nn.Identity())\n",
    "\n",
    "    head = get_head(num_head_features=768, num_endpoints = 1171)\n",
    "\n",
    "    model = ImageTraining(encoder=encoder, head=head, losses=None, label_mapping=label_mapping, incidence_mapping=None, task=\"tte\")\n",
    "\n",
    "    return model"
   ]
  },
  {
   "cell_type": "code",
   "execution_count": 5,
   "id": "e8975dd6-77f3-4b5c-a2be-0aad6164d12c",
   "metadata": {},
   "outputs": [],
   "source": [
    "import torch.nn as nn\n",
    "import PIL\n",
    "from typing import Union\n",
    "from random import choice\n",
    "import torchvision as tv\n",
    "import torchvision.transforms.functional as TF\n",
    "from torchvision.transforms import InterpolationMode\n",
    "\n",
    "import torch\n",
    "import torchvision.transforms as transforms\n",
    "from skimage.io import imread\n",
    "\n",
    "crop_ratio = [0.66]\n",
    "img_size_to_gpu = 420 # 420\n",
    "\n",
    "class AdaptiveRandomCropTransform(nn.Module):\n",
    "    def __init__(self,\n",
    "                 crop_ratio: Union[list,float],\n",
    "                 out_size: int,\n",
    "                 interpolation=InterpolationMode.BILINEAR):\n",
    "        super().__init__()\n",
    "        self.crop_ratio = crop_ratio\n",
    "        self.out_size = out_size\n",
    "        self.interpolation = interpolation\n",
    "\n",
    "    def forward(self, sample):\n",
    "        input_size = min(sample.size)\n",
    "        if isinstance(self.crop_ratio, list):\n",
    "            crop_ratio = choice(self.crop_ratio)\n",
    "        else:\n",
    "            crop_ratio = self.crop_ratio\n",
    "\n",
    "        crop_size = int(crop_ratio * input_size)\n",
    "        if crop_size < self.out_size:\n",
    "            crop_size = tv.transforms.transforms._setup_size(self.out_size,\n",
    "                                                             error_msg=\"Please provide only two dimensions (h, w) for size.\")\n",
    "            i, j, h, w = transforms.RandomCrop.get_params(sample, crop_size)\n",
    "            return TF.crop(sample, i, j, h, w)\n",
    "        else:\n",
    "            crop_size = tv.transforms.transforms._setup_size(crop_size,\n",
    "                                                             error_msg=\"Please provide only two dimensions (h, w) for size.\")\n",
    "            i, j, h, w = transforms.RandomCrop.get_params(sample, crop_size)\n",
    "            cropped = TF.crop(sample, i, j, h, w)\n",
    "        out = TF.resize(cropped, self.out_size, self.interpolation)\n",
    "                        \n",
    "        return out\n",
    "    "
   ]
  },
  {
   "cell_type": "code",
   "execution_count": 6,
   "id": "7c83f503-fea6-4371-a87e-4924e8e2f412",
   "metadata": {},
   "outputs": [],
   "source": [
    "# Define the transforms to apply\n",
    "transform = transforms.Compose([\n",
    "    AdaptiveRandomCropTransform(crop_ratio=crop_ratio,\n",
    "                                out_size=img_size_to_gpu,\n",
    "                                interpolation=InterpolationMode.BICUBIC),\n",
    "    transforms.ToTensor(),\n",
    "    transforms.CenterCrop(size=384),\n",
    "    transforms.Normalize(mean=[0.485, 0.456, 0.406],\n",
    "                         std=[0.229, 0.224, 0.225]),\n",
    "                    \n",
    "])\n",
    "\n",
    "#invTrans = transforms.Compose([ \n",
    "#    transforms.Normalize(mean = [ 0., 0., 0. ], std = [ 1/0.229, 1/0.224, 1/0.225 ]), \n",
    "#    transforms.Normalize(mean = [ -0.485, -0.456, -0.406],  std = [ 1., 1., 1. ])])"
   ]
  },
  {
   "cell_type": "code",
   "execution_count": 7,
   "id": "f219d4df-e10c-4b60-a1d9-e42039db601e",
   "metadata": {},
   "outputs": [],
   "source": [
    "from torch.utils.data import Dataset, DataLoader\n",
    "\n",
    "class EPICImagesDataset(Dataset):\n",
    "    def __init__(self, data_images, transform):\n",
    "        self.data_images = data_images\n",
    "        self.transform = transform\n",
    "\n",
    "    def __len__(self):\n",
    "        return len(self.data_images)\n",
    "\n",
    "    def __getitem__(self, index):\n",
    "        img_name = self.data_images.iloc[index][\"distfilename\"]\n",
    "\n",
    "        try:\n",
    "            img_np = imread(f\"{base_path}/BiHealth/Data/EPICImages/{img_name}\")\n",
    "        except:\n",
    "            img_np = imread(f\"{base_path}/BiHealth/Data/EPICImages_PoorQuality/{img_name}\")\n",
    "\n",
    "        img_pil = PIL.Image.fromarray(img_np)\n",
    "\n",
    "        try:\n",
    "            img_tensor = self.transform(img_pil)\n",
    "        except:\n",
    "            print(img_name)\n",
    "\n",
    "        return img_name, img_tensor\n",
    "\n",
    "def collate_fn(batch):\n",
    "    img_names, img_tensors = zip(*batch)\n",
    "    img_names = list(img_names)\n",
    "    img_tensors = torch.stack(img_tensors)\n",
    "    return img_names, img_tensors\n",
    "\n",
    "def predict_batch(model, img_batch):\n",
    "    loghs = model(img_batch)[\"head_outputs\"][\"logits\"].detach().cpu().numpy()\n",
    "    return loghs\n",
    "\n",
    "corrupted_files = [\"0AIULA8E31FVNEXW_epiceye07142.png\", \n",
    "                   \"0AIULA8E315UZ3KA_epiceye03519.png\", \n",
    "                   \"0AIULA8E3354WXMB_epiceye03739.png\",\n",
    "                   \"0AIULA8E32JU9I3E_epiceye00148.png\",\n",
    "                   \"0AIULA8E3354JOZ0_epiceye06941.png\",\n",
    "                  \"0AIULA8E315XYVCL_epiceye05788.png\",\n",
    "                   \"0AIULA8E315WMUA2_epiceye05000.png\",\n",
    "                  \"0AIULA8E32JRQLLF_epiceye01039.png\",\n",
    "                  \"0AIULA8E329S6BCD_epiceye02546.png\",\n",
    "                  \"0AIULA8E31RCZB57_epiceye00155.png\",\n",
    "                  \"0AIULA8E31REEET3_epiceye05711.png\",\n",
    "                   \"0AIULA8E32SJJSL9_epiceye03063.png\",\n",
    "                  \"0AIULA8E31FQZ4OO_epiceye06657.png\",\n",
    "                   \"0AIULA8E1HIF7IFB_epiceye05427.png\",\n",
    "                  \"0AIULA8E32SDCBXM_epiceye00289.png\",\n",
    "                  \"0AIULA8E1KEKKV8Y_epiceye05179.png\"]\n",
    "\n",
    "data_images = pd.read_stata(f\"{base_path}/BiHealth/Data/StudyData/BiHealth_20230313_Long.dta\").query(\"distfilename!=@corrupted_files\")\n",
    "dataset = EPICImagesDataset(data_images, transform)\n",
    "#dataset = EPICImagesDataset(data_images, transform, base_path, num_workers=4, cache_size=100)\n",
    "dataloader = DataLoader(dataset, batch_size=10, shuffle=False, num_workers=32, collate_fn=collate_fn, drop_last=False)\n",
    "model = setup_training()"
   ]
  },
  {
   "cell_type": "code",
   "execution_count": null,
   "id": "c1925ca9-1b9f-4795-a8ce-a35008741c3e",
   "metadata": {},
   "outputs": [
    {
     "data": {
      "application/vnd.jupyter.widget-view+json": {
       "model_id": "61e37fc7c4a34a07b053f6b02df80c3c",
       "version_major": 2,
       "version_minor": 0
      },
      "text/plain": [
       "  0%|          | 0/100 [00:00<?, ?it/s]"
      ]
     },
     "metadata": {},
     "output_type": "display_data"
    },
    {
     "data": {
      "application/vnd.jupyter.widget-view+json": {
       "model_id": "43e697870a0d4ca0bfe777eaeef81e56",
       "version_major": 2,
       "version_minor": 0
      },
      "text/plain": [
       "  0%|          | 0/22 [00:00<?, ?it/s]"
      ]
     },
     "metadata": {},
     "output_type": "display_data"
    },
    {
     "data": {
      "application/vnd.jupyter.widget-view+json": {
       "model_id": "32f18376c98b46f0ae0dd9987bb52dc2",
       "version_major": 2,
       "version_minor": 0
      },
      "text/plain": [
       "  0%|          | 0/22 [00:00<?, ?it/s]"
      ]
     },
     "metadata": {},
     "output_type": "display_data"
    },
    {
     "data": {
      "application/vnd.jupyter.widget-view+json": {
       "model_id": "eeba28c4f5e846239fbbffbcbf660d64",
       "version_major": 2,
       "version_minor": 0
      },
      "text/plain": [
       "  0%|          | 0/22 [00:00<?, ?it/s]"
      ]
     },
     "metadata": {},
     "output_type": "display_data"
    },
    {
     "data": {
      "application/vnd.jupyter.widget-view+json": {
       "model_id": "9dc513ff92ce4f939b7c42e8d8e8cc99",
       "version_major": 2,
       "version_minor": 0
      },
      "text/plain": [
       "  0%|          | 0/22 [00:00<?, ?it/s]"
      ]
     },
     "metadata": {},
     "output_type": "display_data"
    },
    {
     "data": {
      "application/vnd.jupyter.widget-view+json": {
       "model_id": "176a5e1bc1894c5d8d15f75259fee8f2",
       "version_major": 2,
       "version_minor": 0
      },
      "text/plain": [
       "  0%|          | 0/22 [00:00<?, ?it/s]"
      ]
     },
     "metadata": {},
     "output_type": "display_data"
    },
    {
     "data": {
      "application/vnd.jupyter.widget-view+json": {
       "model_id": "b19271c1a5cb491dbb5628b89adb217c",
       "version_major": 2,
       "version_minor": 0
      },
      "text/plain": [
       "  0%|          | 0/22 [00:00<?, ?it/s]"
      ]
     },
     "metadata": {},
     "output_type": "display_data"
    },
    {
     "data": {
      "application/vnd.jupyter.widget-view+json": {
       "model_id": "9c1c57b23b6a4f6aab45f36b310d2acd",
       "version_major": 2,
       "version_minor": 0
      },
      "text/plain": [
       "  0%|          | 0/22 [00:00<?, ?it/s]"
      ]
     },
     "metadata": {},
     "output_type": "display_data"
    },
    {
     "data": {
      "application/vnd.jupyter.widget-view+json": {
       "model_id": "0c15d6ba3a3345f183bcdc06f24bb2d8",
       "version_major": 2,
       "version_minor": 0
      },
      "text/plain": [
       "  0%|          | 0/22 [00:00<?, ?it/s]"
      ]
     },
     "metadata": {},
     "output_type": "display_data"
    },
    {
     "data": {
      "application/vnd.jupyter.widget-view+json": {
       "model_id": "2f8e97fa838448e3a5ac51ac38326def",
       "version_major": 2,
       "version_minor": 0
      },
      "text/plain": [
       "  0%|          | 0/22 [00:00<?, ?it/s]"
      ]
     },
     "metadata": {},
     "output_type": "display_data"
    },
    {
     "data": {
      "application/vnd.jupyter.widget-view+json": {
       "model_id": "438524cbb863453b8c9b07051020133f",
       "version_major": 2,
       "version_minor": 0
      },
      "text/plain": [
       "  0%|          | 0/22 [00:00<?, ?it/s]"
      ]
     },
     "metadata": {},
     "output_type": "display_data"
    },
    {
     "data": {
      "application/vnd.jupyter.widget-view+json": {
       "model_id": "151dc31bc49f49ba81a295b7427ad674",
       "version_major": 2,
       "version_minor": 0
      },
      "text/plain": [
       "  0%|          | 0/22 [00:00<?, ?it/s]"
      ]
     },
     "metadata": {},
     "output_type": "display_data"
    },
    {
     "data": {
      "application/vnd.jupyter.widget-view+json": {
       "model_id": "463d883c46d14b5ba0773e06c5b6e729",
       "version_major": 2,
       "version_minor": 0
      },
      "text/plain": [
       "  0%|          | 0/22 [00:00<?, ?it/s]"
      ]
     },
     "metadata": {},
     "output_type": "display_data"
    },
    {
     "data": {
      "application/vnd.jupyter.widget-view+json": {
       "model_id": "a6e07662ac5e4d93aeb6b9306d00b21b",
       "version_major": 2,
       "version_minor": 0
      },
      "text/plain": [
       "  0%|          | 0/22 [00:00<?, ?it/s]"
      ]
     },
     "metadata": {},
     "output_type": "display_data"
    },
    {
     "data": {
      "application/vnd.jupyter.widget-view+json": {
       "model_id": "34e846fbd13e46cd940662e7ce6a8506",
       "version_major": 2,
       "version_minor": 0
      },
      "text/plain": [
       "  0%|          | 0/22 [00:00<?, ?it/s]"
      ]
     },
     "metadata": {},
     "output_type": "display_data"
    },
    {
     "data": {
      "application/vnd.jupyter.widget-view+json": {
       "model_id": "65c1d68c12484795899db2456e50fc27",
       "version_major": 2,
       "version_minor": 0
      },
      "text/plain": [
       "  0%|          | 0/22 [00:00<?, ?it/s]"
      ]
     },
     "metadata": {},
     "output_type": "display_data"
    },
    {
     "data": {
      "application/vnd.jupyter.widget-view+json": {
       "model_id": "38c961cea792403794ee2fd3cf96f292",
       "version_major": 2,
       "version_minor": 0
      },
      "text/plain": [
       "  0%|          | 0/22 [00:00<?, ?it/s]"
      ]
     },
     "metadata": {},
     "output_type": "display_data"
    },
    {
     "data": {
      "application/vnd.jupyter.widget-view+json": {
       "model_id": "73b22bcc025e4d6eb48ffee9fc147651",
       "version_major": 2,
       "version_minor": 0
      },
      "text/plain": [
       "  0%|          | 0/22 [00:00<?, ?it/s]"
      ]
     },
     "metadata": {},
     "output_type": "display_data"
    },
    {
     "data": {
      "application/vnd.jupyter.widget-view+json": {
       "model_id": "a71544b8ac664b80ba6f6fe610173d18",
       "version_major": 2,
       "version_minor": 0
      },
      "text/plain": [
       "  0%|          | 0/22 [00:00<?, ?it/s]"
      ]
     },
     "metadata": {},
     "output_type": "display_data"
    },
    {
     "data": {
      "application/vnd.jupyter.widget-view+json": {
       "model_id": "4a8dcd21b9ec48838ac2cbd6360dd4f8",
       "version_major": 2,
       "version_minor": 0
      },
      "text/plain": [
       "  0%|          | 0/22 [00:00<?, ?it/s]"
      ]
     },
     "metadata": {},
     "output_type": "display_data"
    },
    {
     "data": {
      "application/vnd.jupyter.widget-view+json": {
       "model_id": "e390b5662f564aec9934ce42e42096dd",
       "version_major": 2,
       "version_minor": 0
      },
      "text/plain": [
       "  0%|          | 0/22 [00:00<?, ?it/s]"
      ]
     },
     "metadata": {},
     "output_type": "display_data"
    },
    {
     "data": {
      "application/vnd.jupyter.widget-view+json": {
       "model_id": "19f7116f8c204296a9c131ed05266114",
       "version_major": 2,
       "version_minor": 0
      },
      "text/plain": [
       "  0%|          | 0/22 [00:00<?, ?it/s]"
      ]
     },
     "metadata": {},
     "output_type": "display_data"
    },
    {
     "data": {
      "application/vnd.jupyter.widget-view+json": {
       "model_id": "018772f3aaeb4337bfb1e9439faf8115",
       "version_major": 2,
       "version_minor": 0
      },
      "text/plain": [
       "  0%|          | 0/22 [00:00<?, ?it/s]"
      ]
     },
     "metadata": {},
     "output_type": "display_data"
    },
    {
     "data": {
      "application/vnd.jupyter.widget-view+json": {
       "model_id": "5568678b19f143a5b9c3b0d7e3501bd8",
       "version_major": 2,
       "version_minor": 0
      },
      "text/plain": [
       "  0%|          | 0/22 [00:00<?, ?it/s]"
      ]
     },
     "metadata": {},
     "output_type": "display_data"
    },
    {
     "data": {
      "application/vnd.jupyter.widget-view+json": {
       "model_id": "39046f898b69494b811bf468fef41402",
       "version_major": 2,
       "version_minor": 0
      },
      "text/plain": [
       "  0%|          | 0/22 [00:00<?, ?it/s]"
      ]
     },
     "metadata": {},
     "output_type": "display_data"
    },
    {
     "data": {
      "application/vnd.jupyter.widget-view+json": {
       "model_id": "b16ba389f51c42199f32f20af94e105f",
       "version_major": 2,
       "version_minor": 0
      },
      "text/plain": [
       "  0%|          | 0/22 [00:00<?, ?it/s]"
      ]
     },
     "metadata": {},
     "output_type": "display_data"
    },
    {
     "data": {
      "application/vnd.jupyter.widget-view+json": {
       "model_id": "9e86b29722ef4361916ab7bb03c832a6",
       "version_major": 2,
       "version_minor": 0
      },
      "text/plain": [
       "  0%|          | 0/22 [00:00<?, ?it/s]"
      ]
     },
     "metadata": {},
     "output_type": "display_data"
    },
    {
     "data": {
      "application/vnd.jupyter.widget-view+json": {
       "model_id": "6626ab9d42634221a9adebc9209f2667",
       "version_major": 2,
       "version_minor": 0
      },
      "text/plain": [
       "  0%|          | 0/22 [00:00<?, ?it/s]"
      ]
     },
     "metadata": {},
     "output_type": "display_data"
    },
    {
     "data": {
      "application/vnd.jupyter.widget-view+json": {
       "model_id": "99f566446d934d6c9a788f2a3c928e43",
       "version_major": 2,
       "version_minor": 0
      },
      "text/plain": [
       "  0%|          | 0/22 [00:00<?, ?it/s]"
      ]
     },
     "metadata": {},
     "output_type": "display_data"
    },
    {
     "data": {
      "application/vnd.jupyter.widget-view+json": {
       "model_id": "435ee735209840839cd40219a0d1edd9",
       "version_major": 2,
       "version_minor": 0
      },
      "text/plain": [
       "  0%|          | 0/22 [00:00<?, ?it/s]"
      ]
     },
     "metadata": {},
     "output_type": "display_data"
    },
    {
     "data": {
      "application/vnd.jupyter.widget-view+json": {
       "model_id": "41feb74fc1db4af589e07020040b79a2",
       "version_major": 2,
       "version_minor": 0
      },
      "text/plain": [
       "  0%|          | 0/22 [00:00<?, ?it/s]"
      ]
     },
     "metadata": {},
     "output_type": "display_data"
    },
    {
     "data": {
      "application/vnd.jupyter.widget-view+json": {
       "model_id": "5c11446ac4c144879b6611fa7543b929",
       "version_major": 2,
       "version_minor": 0
      },
      "text/plain": [
       "  0%|          | 0/22 [00:00<?, ?it/s]"
      ]
     },
     "metadata": {},
     "output_type": "display_data"
    },
    {
     "data": {
      "application/vnd.jupyter.widget-view+json": {
       "model_id": "3f5f83440c914f1392a3100c4d1f659e",
       "version_major": 2,
       "version_minor": 0
      },
      "text/plain": [
       "  0%|          | 0/22 [00:00<?, ?it/s]"
      ]
     },
     "metadata": {},
     "output_type": "display_data"
    },
    {
     "data": {
      "application/vnd.jupyter.widget-view+json": {
       "model_id": "5aaf4833dde2459bb5aacca789178010",
       "version_major": 2,
       "version_minor": 0
      },
      "text/plain": [
       "  0%|          | 0/22 [00:00<?, ?it/s]"
      ]
     },
     "metadata": {},
     "output_type": "display_data"
    },
    {
     "data": {
      "application/vnd.jupyter.widget-view+json": {
       "model_id": "b154716a56414d7b8a136f2a90c85d47",
       "version_major": 2,
       "version_minor": 0
      },
      "text/plain": [
       "  0%|          | 0/22 [00:00<?, ?it/s]"
      ]
     },
     "metadata": {},
     "output_type": "display_data"
    },
    {
     "data": {
      "application/vnd.jupyter.widget-view+json": {
       "model_id": "f5a46db38d044bf4ab7198b4c44b6f9a",
       "version_major": 2,
       "version_minor": 0
      },
      "text/plain": [
       "  0%|          | 0/22 [00:00<?, ?it/s]"
      ]
     },
     "metadata": {},
     "output_type": "display_data"
    },
    {
     "data": {
      "application/vnd.jupyter.widget-view+json": {
       "model_id": "f6797a98e27845dc97d3db73d09e5543",
       "version_major": 2,
       "version_minor": 0
      },
      "text/plain": [
       "  0%|          | 0/22 [00:00<?, ?it/s]"
      ]
     },
     "metadata": {},
     "output_type": "display_data"
    },
    {
     "data": {
      "application/vnd.jupyter.widget-view+json": {
       "model_id": "b322fa9e9c934e03a55802098a6060d9",
       "version_major": 2,
       "version_minor": 0
      },
      "text/plain": [
       "  0%|          | 0/22 [00:00<?, ?it/s]"
      ]
     },
     "metadata": {},
     "output_type": "display_data"
    },
    {
     "data": {
      "application/vnd.jupyter.widget-view+json": {
       "model_id": "3afcd2ff3c0246f698ac8b2be47ba77f",
       "version_major": 2,
       "version_minor": 0
      },
      "text/plain": [
       "  0%|          | 0/22 [00:00<?, ?it/s]"
      ]
     },
     "metadata": {},
     "output_type": "display_data"
    }
   ],
   "source": [
    "partitions = [p for p in range(22)]\n",
    "\n",
    "\n",
    "metadata = []\n",
    "for iteration in tqdm(range(100)):\n",
    "    for partition in tqdm(partitions):\n",
    "        with torch.amp.autocast(device_type=\"cuda\", dtype=torch.float16):\n",
    "            ckpt = torch.load(f\"{base_path}/BiHealth/ckpts/partition_{partition}_last.ckpt\")\n",
    "            model.encoder.load_state_dict({k[8:]:v for k, v in ckpt[\"state_dict\"].items() if \"encoder\" in k}, strict=True)\n",
    "            model.head.load_state_dict({k[5:]:v for k, v in ckpt[\"state_dict\"].items() if \"head\" in k}, strict=True)\n",
    "            model.eval();\n",
    "            model.to(\"cuda\")\n",
    "            # instantiate cktp here\n",
    "            for img_names, img_batch in dataloader:\n",
    "                img_batch = img_batch.to(\"cuda\")\n",
    "                loghs = predict_batch(model, img_batch)\n",
    "                for img_name, logh in zip(img_names, loghs):\n",
    "                    metadata.append({\"partition\": partition, \"img_name\": img_name, \"iteration\": iteration, \"loghs\": logh})\n",
    "                del img_batch\n",
    "\n",
    "metadata_df = pd.DataFrame(metadata)"
   ]
  },
  {
   "cell_type": "code",
   "execution_count": 17,
   "id": "b1b0c9ec-633e-4aae-a9eb-227630374f0d",
   "metadata": {},
   "outputs": [
    {
     "data": {
      "text/html": [
       "<div>\n",
       "<style scoped>\n",
       "    .dataframe tbody tr th:only-of-type {\n",
       "        vertical-align: middle;\n",
       "    }\n",
       "\n",
       "    .dataframe tbody tr th {\n",
       "        vertical-align: top;\n",
       "    }\n",
       "\n",
       "    .dataframe thead th {\n",
       "        text-align: right;\n",
       "    }\n",
       "</style>\n",
       "<table border=\"1\" class=\"dataframe\">\n",
       "  <thead>\n",
       "    <tr style=\"text-align: right;\">\n",
       "      <th></th>\n",
       "      <th>partition</th>\n",
       "      <th>img_name</th>\n",
       "      <th>iteration</th>\n",
       "      <th>loghs</th>\n",
       "    </tr>\n",
       "  </thead>\n",
       "  <tbody>\n",
       "    <tr>\n",
       "      <th>0</th>\n",
       "      <td>0</td>\n",
       "      <td>0AIULA8E315X35Q2_epiceye00372.png</td>\n",
       "      <td>0</td>\n",
       "      <td>[1.429, 3.213, 2.703, 3.55, 2.588, 0.71, 1.379...</td>\n",
       "    </tr>\n",
       "    <tr>\n",
       "      <th>1</th>\n",
       "      <td>0</td>\n",
       "      <td>0AIULA8E1D5J220T_epiceye01548.png</td>\n",
       "      <td>0</td>\n",
       "      <td>[1.355, 3.262, 2.824, 3.74, 2.777, 1.128, 2.06...</td>\n",
       "    </tr>\n",
       "    <tr>\n",
       "      <th>2</th>\n",
       "      <td>0</td>\n",
       "      <td>0AIULA8E13CCINZ0_epiceye02465.png</td>\n",
       "      <td>0</td>\n",
       "      <td>[-1.129, 1.634, 1.425, 1.722, 0.919, -0.8857, ...</td>\n",
       "    </tr>\n",
       "    <tr>\n",
       "      <th>3</th>\n",
       "      <td>0</td>\n",
       "      <td>0AIULA8E2K7MOEX9_epiceye03852.png</td>\n",
       "      <td>0</td>\n",
       "      <td>[1.787, 3.844, 3.35, 3.98, 2.81, 1.393, 1.391,...</td>\n",
       "    </tr>\n",
       "    <tr>\n",
       "      <th>4</th>\n",
       "      <td>0</td>\n",
       "      <td>0AIULA8E21BAWQ50_epiceye07263.png</td>\n",
       "      <td>0</td>\n",
       "      <td>[1.087, 3.055, 2.68, 3.285, 2.559, 1.223, 1.10...</td>\n",
       "    </tr>\n",
       "    <tr>\n",
       "      <th>...</th>\n",
       "      <td>...</td>\n",
       "      <td>...</td>\n",
       "      <td>...</td>\n",
       "      <td>...</td>\n",
       "    </tr>\n",
       "    <tr>\n",
       "      <th>35257195</th>\n",
       "      <td>21</td>\n",
       "      <td>0AIULA8E24KW7A44_epiceye02489.png</td>\n",
       "      <td>99</td>\n",
       "      <td>[0.91, 2.713, 2.277, 3.336, 2.38, 1.051, 1.541...</td>\n",
       "    </tr>\n",
       "    <tr>\n",
       "      <th>35257196</th>\n",
       "      <td>21</td>\n",
       "      <td>0AIULA8E32S7E8OO_epiceye03011.png</td>\n",
       "      <td>99</td>\n",
       "      <td>[0.9854, 2.914, 2.475, 3.766, 2.768, 1.403, 1....</td>\n",
       "    </tr>\n",
       "    <tr>\n",
       "      <th>35257197</th>\n",
       "      <td>21</td>\n",
       "      <td>0AIULA8E2C2N6MYL_epiceye02574.png</td>\n",
       "      <td>99</td>\n",
       "      <td>[1.303, 2.959, 2.47, 3.238, 2.443, 0.861, 1.56...</td>\n",
       "    </tr>\n",
       "    <tr>\n",
       "      <th>35257198</th>\n",
       "      <td>21</td>\n",
       "      <td>0AIULA8E18C97Z2K_epiceye00650.png</td>\n",
       "      <td>99</td>\n",
       "      <td>[1.362, 3.04, 2.678, 3.564, 2.36, 0.756, 1.9, ...</td>\n",
       "    </tr>\n",
       "    <tr>\n",
       "      <th>35257199</th>\n",
       "      <td>21</td>\n",
       "      <td>0AIULA8E329SP7SH_epiceye01173.png</td>\n",
       "      <td>99</td>\n",
       "      <td>[1.93, 3.98, 3.58, 4.26, 2.95, 1.71, 2.002, 2....</td>\n",
       "    </tr>\n",
       "  </tbody>\n",
       "</table>\n",
       "<p>35257200 rows × 4 columns</p>\n",
       "</div>"
      ],
      "text/plain": [
       "          partition                           img_name  iteration  \\\n",
       "0                 0  0AIULA8E315X35Q2_epiceye00372.png          0   \n",
       "1                 0  0AIULA8E1D5J220T_epiceye01548.png          0   \n",
       "2                 0  0AIULA8E13CCINZ0_epiceye02465.png          0   \n",
       "3                 0  0AIULA8E2K7MOEX9_epiceye03852.png          0   \n",
       "4                 0  0AIULA8E21BAWQ50_epiceye07263.png          0   \n",
       "...             ...                                ...        ...   \n",
       "35257195         21  0AIULA8E24KW7A44_epiceye02489.png         99   \n",
       "35257196         21  0AIULA8E32S7E8OO_epiceye03011.png         99   \n",
       "35257197         21  0AIULA8E2C2N6MYL_epiceye02574.png         99   \n",
       "35257198         21  0AIULA8E18C97Z2K_epiceye00650.png         99   \n",
       "35257199         21  0AIULA8E329SP7SH_epiceye01173.png         99   \n",
       "\n",
       "                                                      loghs  \n",
       "0         [1.429, 3.213, 2.703, 3.55, 2.588, 0.71, 1.379...  \n",
       "1         [1.355, 3.262, 2.824, 3.74, 2.777, 1.128, 2.06...  \n",
       "2         [-1.129, 1.634, 1.425, 1.722, 0.919, -0.8857, ...  \n",
       "3         [1.787, 3.844, 3.35, 3.98, 2.81, 1.393, 1.391,...  \n",
       "4         [1.087, 3.055, 2.68, 3.285, 2.559, 1.223, 1.10...  \n",
       "...                                                     ...  \n",
       "35257195  [0.91, 2.713, 2.277, 3.336, 2.38, 1.051, 1.541...  \n",
       "35257196  [0.9854, 2.914, 2.475, 3.766, 2.768, 1.403, 1....  \n",
       "35257197  [1.303, 2.959, 2.47, 3.238, 2.443, 0.861, 1.56...  \n",
       "35257198  [1.362, 3.04, 2.678, 3.564, 2.36, 0.756, 1.9, ...  \n",
       "35257199  [1.93, 3.98, 3.58, 4.26, 2.95, 1.71, 2.002, 2....  \n",
       "\n",
       "[35257200 rows x 4 columns]"
      ]
     },
     "execution_count": 17,
     "metadata": {},
     "output_type": "execute_result"
    }
   ],
   "source": [
    "metadata_df"
   ]
  },
  {
   "cell_type": "code",
   "execution_count": null,
   "id": "9e47724c-4241-4e23-bd6e-591f8be4f377",
   "metadata": {},
   "outputs": [],
   "source": [
    "metadata_df.reset_index(drop=True).to_feather(f\"{base_path}/data/predictionstta_230323.feather\")"
   ]
  }
 ],
 "metadata": {
  "kernelspec": {
   "display_name": "Python [conda env:.conda-python310]",
   "language": "python",
   "name": "conda-env-.conda-python310-py"
  },
  "language_info": {
   "codemirror_mode": {
    "name": "ipython",
    "version": 3
   },
   "file_extension": ".py",
   "mimetype": "text/x-python",
   "name": "python",
   "nbconvert_exporter": "python",
   "pygments_lexer": "ipython3",
   "version": "3.10.9"
  }
 },
 "nbformat": 4,
 "nbformat_minor": 5
}
