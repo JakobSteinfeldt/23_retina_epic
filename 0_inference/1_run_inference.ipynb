{
 "cells": [
  {
   "cell_type": "code",
   "execution_count": 1,
   "id": "078ee139-9c75-41e3-bddb-4b3d1b7ff503",
   "metadata": {},
   "outputs": [],
   "source": [
    "import numpy as np\n",
    "import pandas as pd\n",
    "import pathlib\n",
    "from tqdm.notebook import tqdm"
   ]
  },
  {
   "cell_type": "code",
   "execution_count": 2,
   "id": "0dc7d1ab-34fd-4869-9619-93517a52e29c",
   "metadata": {},
   "outputs": [],
   "source": [
    "base_path = \"/home/jakobs\""
   ]
  },
  {
   "cell_type": "code",
   "execution_count": 3,
   "id": "0282944a-d693-4044-8ebb-ee7be1a85ce4",
   "metadata": {},
   "outputs": [
    {
     "data": {
      "text/html": [
       "<div>\n",
       "<style scoped>\n",
       "    .dataframe tbody tr th:only-of-type {\n",
       "        vertical-align: middle;\n",
       "    }\n",
       "\n",
       "    .dataframe tbody tr th {\n",
       "        vertical-align: top;\n",
       "    }\n",
       "\n",
       "    .dataframe thead th {\n",
       "        text-align: right;\n",
       "    }\n",
       "</style>\n",
       "<table border=\"1\" class=\"dataframe\">\n",
       "  <thead>\n",
       "    <tr style=\"text-align: right;\">\n",
       "      <th></th>\n",
       "      <th>eligable</th>\n",
       "      <th>n</th>\n",
       "      <th>freq</th>\n",
       "      <th>phecode</th>\n",
       "      <th>phecode_string</th>\n",
       "      <th>phecode_category</th>\n",
       "      <th>sex</th>\n",
       "    </tr>\n",
       "    <tr>\n",
       "      <th>endpoint</th>\n",
       "      <th></th>\n",
       "      <th></th>\n",
       "      <th></th>\n",
       "      <th></th>\n",
       "      <th></th>\n",
       "      <th></th>\n",
       "      <th></th>\n",
       "    </tr>\n",
       "  </thead>\n",
       "  <tbody>\n",
       "    <tr>\n",
       "      <th>OMOP_4306655</th>\n",
       "      <td>61256</td>\n",
       "      <td>3548</td>\n",
       "      <td>0.057921</td>\n",
       "      <td>4306655.00</td>\n",
       "      <td>All-Cause Death</td>\n",
       "      <td>Death</td>\n",
       "      <td>Both</td>\n",
       "    </tr>\n",
       "    <tr>\n",
       "      <th>phecode_002</th>\n",
       "      <td>60945</td>\n",
       "      <td>658</td>\n",
       "      <td>0.010797</td>\n",
       "      <td>2.00</td>\n",
       "      <td>Staphylococcus</td>\n",
       "      <td>ID</td>\n",
       "      <td>Both</td>\n",
       "    </tr>\n",
       "    <tr>\n",
       "      <th>phecode_002-1</th>\n",
       "      <td>61010</td>\n",
       "      <td>486</td>\n",
       "      <td>0.007966</td>\n",
       "      <td>2.10</td>\n",
       "      <td>Staphylococcus aureus</td>\n",
       "      <td>ID</td>\n",
       "      <td>Both</td>\n",
       "    </tr>\n",
       "    <tr>\n",
       "      <th>phecode_003</th>\n",
       "      <td>60757</td>\n",
       "      <td>1017</td>\n",
       "      <td>0.016739</td>\n",
       "      <td>3.00</td>\n",
       "      <td>Escherichia coli</td>\n",
       "      <td>ID</td>\n",
       "      <td>Both</td>\n",
       "    </tr>\n",
       "    <tr>\n",
       "      <th>phecode_004</th>\n",
       "      <td>60584</td>\n",
       "      <td>494</td>\n",
       "      <td>0.008154</td>\n",
       "      <td>4.00</td>\n",
       "      <td>Streptococcus</td>\n",
       "      <td>ID</td>\n",
       "      <td>Both</td>\n",
       "    </tr>\n",
       "    <tr>\n",
       "      <th>...</th>\n",
       "      <td>...</td>\n",
       "      <td>...</td>\n",
       "      <td>...</td>\n",
       "      <td>...</td>\n",
       "      <td>...</td>\n",
       "      <td>...</td>\n",
       "      <td>...</td>\n",
       "    </tr>\n",
       "    <tr>\n",
       "      <th>phecode_977-52</th>\n",
       "      <td>31669</td>\n",
       "      <td>520</td>\n",
       "      <td>0.016420</td>\n",
       "      <td>977.52</td>\n",
       "      <td>Hormone replacement therapy (postmenopausal)</td>\n",
       "      <td>Rx</td>\n",
       "      <td>Female</td>\n",
       "    </tr>\n",
       "    <tr>\n",
       "      <th>phecode_977-7</th>\n",
       "      <td>60032</td>\n",
       "      <td>2231</td>\n",
       "      <td>0.037164</td>\n",
       "      <td>977.70</td>\n",
       "      <td>Long term (current) use of insulin or oral hyp...</td>\n",
       "      <td>Rx</td>\n",
       "      <td>Both</td>\n",
       "    </tr>\n",
       "    <tr>\n",
       "      <th>phecode_977-71</th>\n",
       "      <td>60936</td>\n",
       "      <td>472</td>\n",
       "      <td>0.007746</td>\n",
       "      <td>977.71</td>\n",
       "      <td>Long term (current) use of insulin</td>\n",
       "      <td>Rx</td>\n",
       "      <td>Both</td>\n",
       "    </tr>\n",
       "    <tr>\n",
       "      <th>phecode_977-72</th>\n",
       "      <td>60207</td>\n",
       "      <td>2148</td>\n",
       "      <td>0.035677</td>\n",
       "      <td>977.72</td>\n",
       "      <td>Long term (current) use of oral hypoglycemic d...</td>\n",
       "      <td>Rx</td>\n",
       "      <td>Both</td>\n",
       "    </tr>\n",
       "    <tr>\n",
       "      <th>phecode_979</th>\n",
       "      <td>61159</td>\n",
       "      <td>158</td>\n",
       "      <td>0.002583</td>\n",
       "      <td>979.00</td>\n",
       "      <td>Transplated organ</td>\n",
       "      <td>Stat</td>\n",
       "      <td>Both</td>\n",
       "    </tr>\n",
       "  </tbody>\n",
       "</table>\n",
       "<p>1171 rows × 7 columns</p>\n",
       "</div>"
      ],
      "text/plain": [
       "                eligable     n      freq     phecode  \\\n",
       "endpoint                                               \n",
       "OMOP_4306655       61256  3548  0.057921  4306655.00   \n",
       "phecode_002        60945   658  0.010797        2.00   \n",
       "phecode_002-1      61010   486  0.007966        2.10   \n",
       "phecode_003        60757  1017  0.016739        3.00   \n",
       "phecode_004        60584   494  0.008154        4.00   \n",
       "...                  ...   ...       ...         ...   \n",
       "phecode_977-52     31669   520  0.016420      977.52   \n",
       "phecode_977-7      60032  2231  0.037164      977.70   \n",
       "phecode_977-71     60936   472  0.007746      977.71   \n",
       "phecode_977-72     60207  2148  0.035677      977.72   \n",
       "phecode_979        61159   158  0.002583      979.00   \n",
       "\n",
       "                                                   phecode_string  \\\n",
       "endpoint                                                            \n",
       "OMOP_4306655                                      All-Cause Death   \n",
       "phecode_002                                        Staphylococcus   \n",
       "phecode_002-1                               Staphylococcus aureus   \n",
       "phecode_003                                      Escherichia coli   \n",
       "phecode_004                                         Streptococcus   \n",
       "...                                                           ...   \n",
       "phecode_977-52       Hormone replacement therapy (postmenopausal)   \n",
       "phecode_977-7   Long term (current) use of insulin or oral hyp...   \n",
       "phecode_977-71                 Long term (current) use of insulin   \n",
       "phecode_977-72  Long term (current) use of oral hypoglycemic d...   \n",
       "phecode_979                                     Transplated organ   \n",
       "\n",
       "               phecode_category     sex  \n",
       "endpoint                                 \n",
       "OMOP_4306655              Death    Both  \n",
       "phecode_002                  ID    Both  \n",
       "phecode_002-1                ID    Both  \n",
       "phecode_003                  ID    Both  \n",
       "phecode_004                  ID    Both  \n",
       "...                         ...     ...  \n",
       "phecode_977-52               Rx  Female  \n",
       "phecode_977-7                Rx    Both  \n",
       "phecode_977-71               Rx    Both  \n",
       "phecode_977-72               Rx    Both  \n",
       "phecode_979                Stat    Both  \n",
       "\n",
       "[1171 rows x 7 columns]"
      ]
     },
     "execution_count": 3,
     "metadata": {},
     "output_type": "execute_result"
    }
   ],
   "source": [
    "endpoints_md = pd.read_csv(f\"{base_path}/BiHealth/onnx/endpoints.csv\").drop(columns=\"Unnamed: 0\").set_index(\"endpoint\")#[[\"endpoint\", \"eligable\", \"n\", \"freq\", \"phecode\", \"phecode_string\", \"phecode_category\", \"sex\"]]\n",
    "endpoints_md"
   ]
  },
  {
   "cell_type": "code",
   "execution_count": 8,
   "id": "fdc156f0-00c4-46cf-b875-2e245e0c09b2",
   "metadata": {},
   "outputs": [],
   "source": [
    "import math\n",
    "import warnings\n",
    "from socket import gethostname\n",
    "\n",
    "import numpy as np\n",
    "import torch\n",
    "import torchvision as tv\n",
    "import torchmetrics\n",
    "\n",
    "from retinalrisk.models.supervised import (\n",
    "    ImageTraining\n",
    ")\n",
    "from retinalrisk.modules.head import MLPHead\n",
    "\n",
    "def setup_training():\n",
    "    \n",
    "    def get_head(num_head_features, num_endpoints):\n",
    "\n",
    "        cls = MLPHead\n",
    "\n",
    "        return cls(\n",
    "            num_head_features,\n",
    "            num_endpoints,\n",
    "            incidence=None,\n",
    "            dropout=0.5,\n",
    "            gradient_checkpointing=False,\n",
    "            num_hidden =512, \n",
    "            num_layers =2,\n",
    "            #loss=None,\n",
    "        )\n",
    "    \n",
    "    base_path = \"/home/jakobs\"\n",
    "    x = torch.load(f\"{base_path}/BiHealth/ckpts/ckpt_partition_4\")\n",
    "    losses = x['hyper_parameters'][\"losses\"]\n",
    "    label_mapping = x['hyper_parameters'][\"label_mapping\"]\n",
    "    incidence_mapping = x['hyper_parameters'][\"incidence_mapping\"]\n",
    "\n",
    "    #encoder = tv.models.__dict__[args.model.encoder](pretrained=args.model.pretrained)\n",
    "    weights = 'DEFAULT' \n",
    "    encoder = tv.models.__dict__[\"convnext_small\"](weights=weights) \n",
    "    #print(encoder)\n",
    "\n",
    "    outshape = 768 \n",
    "\n",
    "    setattr(encoder.classifier, '2', torch.nn.Identity())\n",
    "\n",
    "    head = get_head(num_head_features=768, num_endpoints = 1171)\n",
    "\n",
    "    model = ImageTraining(encoder=encoder, head=head, losses=None, label_mapping=label_mapping, incidence_mapping=None, task=\"tte\")\n",
    "\n",
    "    return model"
   ]
  },
  {
   "cell_type": "code",
   "execution_count": 5,
   "id": "e8975dd6-77f3-4b5c-a2be-0aad6164d12c",
   "metadata": {},
   "outputs": [],
   "source": [
    "import torch.nn as nn\n",
    "import PIL\n",
    "from typing import Union\n",
    "from random import choice\n",
    "import torchvision as tv\n",
    "import torchvision.transforms.functional as TF\n",
    "from torchvision.transforms import InterpolationMode\n",
    "\n",
    "import torch\n",
    "import torchvision.transforms as transforms\n",
    "from skimage.io import imread\n",
    "\n",
    "crop_ratio = [0.66]\n",
    "img_size_to_gpu = 420 # 420\n",
    "\n",
    "class AdaptiveRandomCropTransform(nn.Module):\n",
    "    def __init__(self,\n",
    "                 crop_ratio: Union[list,float],\n",
    "                 out_size: int,\n",
    "                 interpolation=InterpolationMode.BILINEAR):\n",
    "        super().__init__()\n",
    "        self.crop_ratio = crop_ratio\n",
    "        self.out_size = out_size\n",
    "        self.interpolation = interpolation\n",
    "\n",
    "    def forward(self, sample):\n",
    "        input_size = min(sample.size)\n",
    "        if isinstance(self.crop_ratio, list):\n",
    "            crop_ratio = choice(self.crop_ratio)\n",
    "        else:\n",
    "            crop_ratio = self.crop_ratio\n",
    "\n",
    "        crop_size = int(crop_ratio * input_size)\n",
    "        if crop_size < self.out_size:\n",
    "            crop_size = tv.transforms.transforms._setup_size(self.out_size,\n",
    "                                                             error_msg=\"Please provide only two dimensions (h, w) for size.\")\n",
    "            i, j, h, w = transforms.RandomCrop.get_params(sample, crop_size)\n",
    "            return TF.crop(sample, i, j, h, w)\n",
    "        else:\n",
    "            crop_size = tv.transforms.transforms._setup_size(crop_size,\n",
    "                                                             error_msg=\"Please provide only two dimensions (h, w) for size.\")\n",
    "            i, j, h, w = transforms.RandomCrop.get_params(sample, crop_size)\n",
    "            cropped = TF.crop(sample, i, j, h, w)\n",
    "        out = TF.resize(cropped, self.out_size, self.interpolation)\n",
    "                        \n",
    "        return out\n",
    "    "
   ]
  },
  {
   "cell_type": "code",
   "execution_count": 6,
   "id": "7c83f503-fea6-4371-a87e-4924e8e2f412",
   "metadata": {},
   "outputs": [],
   "source": [
    "# Define the transforms to apply\n",
    "transform = transforms.Compose([\n",
    "    AdaptiveRandomCropTransform(crop_ratio=crop_ratio,\n",
    "                                out_size=img_size_to_gpu,\n",
    "                                interpolation=InterpolationMode.BICUBIC),\n",
    "    transforms.ToTensor(),\n",
    "    transforms.CenterCrop(size=384),\n",
    "    transforms.Normalize(mean=[0.485, 0.456, 0.406],\n",
    "                         std=[0.229, 0.224, 0.225]),\n",
    "                    \n",
    "])\n",
    "\n",
    "#invTrans = transforms.Compose([ \n",
    "#    transforms.Normalize(mean = [ 0., 0., 0. ], std = [ 1/0.229, 1/0.224, 1/0.225 ]), \n",
    "#    transforms.Normalize(mean = [ -0.485, -0.456, -0.406],  std = [ 1., 1., 1. ])])"
   ]
  },
  {
   "cell_type": "code",
   "execution_count": 9,
   "id": "f219d4df-e10c-4b60-a1d9-e42039db601e",
   "metadata": {},
   "outputs": [],
   "source": [
    "from torch.utils.data import Dataset, DataLoader\n",
    "\n",
    "class EPICImagesDataset(Dataset):\n",
    "    def __init__(self, data_images, transform):\n",
    "        self.data_images = data_images\n",
    "        self.transform = transform\n",
    "\n",
    "    def __len__(self):\n",
    "        return len(self.data_images)\n",
    "\n",
    "    def __getitem__(self, index):\n",
    "        img_name = self.data_images.iloc[index][\"distfilename\"]\n",
    "\n",
    "        try:\n",
    "            img_np = imread(f\"{base_path}/BiHealth/Data/EPICImages/{img_name}\")\n",
    "        except:\n",
    "            img_np = imread(f\"{base_path}/BiHealth/Data/EPICImages_PoorQuality/{img_name}\")\n",
    "\n",
    "        img_pil = PIL.Image.fromarray(img_np)\n",
    "\n",
    "        try:\n",
    "            img_tensor = self.transform(img_pil)\n",
    "        except:\n",
    "            print(img_name)\n",
    "\n",
    "        return img_name, img_tensor\n",
    "\n",
    "def collate_fn(batch):\n",
    "    img_names, img_tensors = zip(*batch)\n",
    "    img_names = list(img_names)\n",
    "    img_tensors = torch.stack(img_tensors)\n",
    "    return img_names, img_tensors\n",
    "\n",
    "def predict_batch(model, img_batch):\n",
    "    loghs = model(img_batch)[\"head_outputs\"][\"logits\"].detach().cpu().numpy()\n",
    "    return loghs\n",
    "\n",
    "corrupted_files = [\"0AIULA8E31FVNEXW_epiceye07142.png\", \n",
    "                   \"0AIULA8E315UZ3KA_epiceye03519.png\", \n",
    "                   \"0AIULA8E3354WXMB_epiceye03739.png\",\n",
    "                   \"0AIULA8E32JU9I3E_epiceye00148.png\",\n",
    "                   \"0AIULA8E3354JOZ0_epiceye06941.png\",\n",
    "                  \"0AIULA8E315XYVCL_epiceye05788.png\",\n",
    "                   \"0AIULA8E315WMUA2_epiceye05000.png\",\n",
    "                  \"0AIULA8E32JRQLLF_epiceye01039.png\",\n",
    "                  \"0AIULA8E329S6BCD_epiceye02546.png\",\n",
    "                  \"0AIULA8E31RCZB57_epiceye00155.png\",\n",
    "                  \"0AIULA8E31REEET3_epiceye05711.png\",\n",
    "                   \"0AIULA8E32SJJSL9_epiceye03063.png\",\n",
    "                  \"0AIULA8E31FQZ4OO_epiceye06657.png\",\n",
    "                   \"0AIULA8E1HIF7IFB_epiceye05427.png\",\n",
    "                  \"0AIULA8E32SDCBXM_epiceye00289.png\",\n",
    "                  \"0AIULA8E1KEKKV8Y_epiceye05179.png\"]\n",
    "\n",
    "data_images = pd.read_stata(f\"{base_path}/BiHealth/Data/StudyData/BiHealth_20230313_Long.dta\").query(\"distfilename!=@corrupted_files\")\n",
    "dataset = EPICImagesDataset(data_images, transform)\n",
    "#dataset = EPICImagesDataset(data_images, transform, base_path, num_workers=4, cache_size=100)\n",
    "dataloader = DataLoader(dataset, batch_size=10, shuffle=False, num_workers=32, collate_fn=collate_fn, drop_last=False)\n",
    "model = setup_training()"
   ]
  },
  {
   "cell_type": "code",
   "execution_count": null,
   "id": "c1925ca9-1b9f-4795-a8ce-a35008741c3e",
   "metadata": {},
   "outputs": [
    {
     "data": {
      "application/vnd.jupyter.widget-view+json": {
       "model_id": "e9cd184d32a543daa4a0cc68d1d247a7",
       "version_major": 2,
       "version_minor": 0
      },
      "text/plain": [
       "  0%|          | 0/100 [00:00<?, ?it/s]"
      ]
     },
     "metadata": {},
     "output_type": "display_data"
    },
    {
     "data": {
      "application/vnd.jupyter.widget-view+json": {
       "model_id": "e528bc49943d486585b673e0459f86d2",
       "version_major": 2,
       "version_minor": 0
      },
      "text/plain": [
       "  0%|          | 0/6 [00:00<?, ?it/s]"
      ]
     },
     "metadata": {},
     "output_type": "display_data"
    },
    {
     "data": {
      "application/vnd.jupyter.widget-view+json": {
       "model_id": "b7dda779c706417cb1e217113c12d72f",
       "version_major": 2,
       "version_minor": 0
      },
      "text/plain": [
       "  0%|          | 0/6 [00:00<?, ?it/s]"
      ]
     },
     "metadata": {},
     "output_type": "display_data"
    },
    {
     "data": {
      "application/vnd.jupyter.widget-view+json": {
       "model_id": "5f3d0b3ff46a4e399cb6023a5381a346",
       "version_major": 2,
       "version_minor": 0
      },
      "text/plain": [
       "  0%|          | 0/6 [00:00<?, ?it/s]"
      ]
     },
     "metadata": {},
     "output_type": "display_data"
    },
    {
     "data": {
      "application/vnd.jupyter.widget-view+json": {
       "model_id": "89185c6ac05041a8b00492c09cb7f209",
       "version_major": 2,
       "version_minor": 0
      },
      "text/plain": [
       "  0%|          | 0/6 [00:00<?, ?it/s]"
      ]
     },
     "metadata": {},
     "output_type": "display_data"
    },
    {
     "data": {
      "application/vnd.jupyter.widget-view+json": {
       "model_id": "d23094a4d9f04f9cbe69d1e689e79465",
       "version_major": 2,
       "version_minor": 0
      },
      "text/plain": [
       "  0%|          | 0/6 [00:00<?, ?it/s]"
      ]
     },
     "metadata": {},
     "output_type": "display_data"
    },
    {
     "data": {
      "application/vnd.jupyter.widget-view+json": {
       "model_id": "3fcf2160182847a6bd98fb8ef9e827d3",
       "version_major": 2,
       "version_minor": 0
      },
      "text/plain": [
       "  0%|          | 0/6 [00:00<?, ?it/s]"
      ]
     },
     "metadata": {},
     "output_type": "display_data"
    },
    {
     "data": {
      "application/vnd.jupyter.widget-view+json": {
       "model_id": "5bec5ea4c971476e9cfe77a5cbd8af55",
       "version_major": 2,
       "version_minor": 0
      },
      "text/plain": [
       "  0%|          | 0/6 [00:00<?, ?it/s]"
      ]
     },
     "metadata": {},
     "output_type": "display_data"
    },
    {
     "data": {
      "application/vnd.jupyter.widget-view+json": {
       "model_id": "79ceb25b951f4af3a17e6ca4e69efe70",
       "version_major": 2,
       "version_minor": 0
      },
      "text/plain": [
       "  0%|          | 0/6 [00:00<?, ?it/s]"
      ]
     },
     "metadata": {},
     "output_type": "display_data"
    },
    {
     "data": {
      "application/vnd.jupyter.widget-view+json": {
       "model_id": "23b620aec2354caeab2736330d704bc3",
       "version_major": 2,
       "version_minor": 0
      },
      "text/plain": [
       "  0%|          | 0/6 [00:00<?, ?it/s]"
      ]
     },
     "metadata": {},
     "output_type": "display_data"
    },
    {
     "data": {
      "application/vnd.jupyter.widget-view+json": {
       "model_id": "275231f0f2194d3896dd2276af1fbf8d",
       "version_major": 2,
       "version_minor": 0
      },
      "text/plain": [
       "  0%|          | 0/6 [00:00<?, ?it/s]"
      ]
     },
     "metadata": {},
     "output_type": "display_data"
    },
    {
     "data": {
      "application/vnd.jupyter.widget-view+json": {
       "model_id": "71abb35825874545bbd31e79381dd9f1",
       "version_major": 2,
       "version_minor": 0
      },
      "text/plain": [
       "  0%|          | 0/6 [00:00<?, ?it/s]"
      ]
     },
     "metadata": {},
     "output_type": "display_data"
    },
    {
     "data": {
      "application/vnd.jupyter.widget-view+json": {
       "model_id": "f0200a7874c04ccb8b0c60a45bea0f49",
       "version_major": 2,
       "version_minor": 0
      },
      "text/plain": [
       "  0%|          | 0/6 [00:00<?, ?it/s]"
      ]
     },
     "metadata": {},
     "output_type": "display_data"
    },
    {
     "data": {
      "application/vnd.jupyter.widget-view+json": {
       "model_id": "429b84a63558404faca13d7d0f63a387",
       "version_major": 2,
       "version_minor": 0
      },
      "text/plain": [
       "  0%|          | 0/6 [00:00<?, ?it/s]"
      ]
     },
     "metadata": {},
     "output_type": "display_data"
    },
    {
     "data": {
      "application/vnd.jupyter.widget-view+json": {
       "model_id": "f72deae44c054b11895eb828ceae797c",
       "version_major": 2,
       "version_minor": 0
      },
      "text/plain": [
       "  0%|          | 0/6 [00:00<?, ?it/s]"
      ]
     },
     "metadata": {},
     "output_type": "display_data"
    },
    {
     "data": {
      "application/vnd.jupyter.widget-view+json": {
       "model_id": "ee40d71823174122b3b532a496479891",
       "version_major": 2,
       "version_minor": 0
      },
      "text/plain": [
       "  0%|          | 0/6 [00:00<?, ?it/s]"
      ]
     },
     "metadata": {},
     "output_type": "display_data"
    },
    {
     "data": {
      "application/vnd.jupyter.widget-view+json": {
       "model_id": "508b7ae02d8c47a9b61a45182c1a3c68",
       "version_major": 2,
       "version_minor": 0
      },
      "text/plain": [
       "  0%|          | 0/6 [00:00<?, ?it/s]"
      ]
     },
     "metadata": {},
     "output_type": "display_data"
    },
    {
     "data": {
      "application/vnd.jupyter.widget-view+json": {
       "model_id": "6e08bd997a22432dad74b92d56578eb8",
       "version_major": 2,
       "version_minor": 0
      },
      "text/plain": [
       "  0%|          | 0/6 [00:00<?, ?it/s]"
      ]
     },
     "metadata": {},
     "output_type": "display_data"
    },
    {
     "data": {
      "application/vnd.jupyter.widget-view+json": {
       "model_id": "16a2c56dd3a741fe87dbb917a075ba0b",
       "version_major": 2,
       "version_minor": 0
      },
      "text/plain": [
       "  0%|          | 0/6 [00:00<?, ?it/s]"
      ]
     },
     "metadata": {},
     "output_type": "display_data"
    },
    {
     "data": {
      "application/vnd.jupyter.widget-view+json": {
       "model_id": "5b9dd155b2714c17b70881af8ea2c76c",
       "version_major": 2,
       "version_minor": 0
      },
      "text/plain": [
       "  0%|          | 0/6 [00:00<?, ?it/s]"
      ]
     },
     "metadata": {},
     "output_type": "display_data"
    },
    {
     "data": {
      "application/vnd.jupyter.widget-view+json": {
       "model_id": "efb51631e051422aacb3bf7e9c819e3b",
       "version_major": 2,
       "version_minor": 0
      },
      "text/plain": [
       "  0%|          | 0/6 [00:00<?, ?it/s]"
      ]
     },
     "metadata": {},
     "output_type": "display_data"
    },
    {
     "data": {
      "application/vnd.jupyter.widget-view+json": {
       "model_id": "41dca7694e064727b95ed0ac1dc33872",
       "version_major": 2,
       "version_minor": 0
      },
      "text/plain": [
       "  0%|          | 0/6 [00:00<?, ?it/s]"
      ]
     },
     "metadata": {},
     "output_type": "display_data"
    },
    {
     "data": {
      "application/vnd.jupyter.widget-view+json": {
       "model_id": "ca249becbf724205ac1e910cee67647c",
       "version_major": 2,
       "version_minor": 0
      },
      "text/plain": [
       "  0%|          | 0/6 [00:00<?, ?it/s]"
      ]
     },
     "metadata": {},
     "output_type": "display_data"
    },
    {
     "data": {
      "application/vnd.jupyter.widget-view+json": {
       "model_id": "ae6bbc4d2e13400eb2a4c7e9fe0db359",
       "version_major": 2,
       "version_minor": 0
      },
      "text/plain": [
       "  0%|          | 0/6 [00:00<?, ?it/s]"
      ]
     },
     "metadata": {},
     "output_type": "display_data"
    },
    {
     "data": {
      "application/vnd.jupyter.widget-view+json": {
       "model_id": "8d36804bb2e84e619dc1e6a52fcde15f",
       "version_major": 2,
       "version_minor": 0
      },
      "text/plain": [
       "  0%|          | 0/6 [00:00<?, ?it/s]"
      ]
     },
     "metadata": {},
     "output_type": "display_data"
    },
    {
     "data": {
      "application/vnd.jupyter.widget-view+json": {
       "model_id": "93ec26a6bc7443ff832914d29b00c345",
       "version_major": 2,
       "version_minor": 0
      },
      "text/plain": [
       "  0%|          | 0/6 [00:00<?, ?it/s]"
      ]
     },
     "metadata": {},
     "output_type": "display_data"
    },
    {
     "data": {
      "application/vnd.jupyter.widget-view+json": {
       "model_id": "f61485c81ae94b81bc642d84e1623d34",
       "version_major": 2,
       "version_minor": 0
      },
      "text/plain": [
       "  0%|          | 0/6 [00:00<?, ?it/s]"
      ]
     },
     "metadata": {},
     "output_type": "display_data"
    },
    {
     "data": {
      "application/vnd.jupyter.widget-view+json": {
       "model_id": "ce5208021481489d9b008f7f525fdc2f",
       "version_major": 2,
       "version_minor": 0
      },
      "text/plain": [
       "  0%|          | 0/6 [00:00<?, ?it/s]"
      ]
     },
     "metadata": {},
     "output_type": "display_data"
    },
    {
     "data": {
      "application/vnd.jupyter.widget-view+json": {
       "model_id": "06546a0a10f646c2b6f48e1037d11794",
       "version_major": 2,
       "version_minor": 0
      },
      "text/plain": [
       "  0%|          | 0/6 [00:00<?, ?it/s]"
      ]
     },
     "metadata": {},
     "output_type": "display_data"
    },
    {
     "data": {
      "application/vnd.jupyter.widget-view+json": {
       "model_id": "ce40ba15a01b436e83352e938cc25fc8",
       "version_major": 2,
       "version_minor": 0
      },
      "text/plain": [
       "  0%|          | 0/6 [00:00<?, ?it/s]"
      ]
     },
     "metadata": {},
     "output_type": "display_data"
    },
    {
     "data": {
      "application/vnd.jupyter.widget-view+json": {
       "model_id": "4efd83adda2148c5a446fb7865c46792",
       "version_major": 2,
       "version_minor": 0
      },
      "text/plain": [
       "  0%|          | 0/6 [00:00<?, ?it/s]"
      ]
     },
     "metadata": {},
     "output_type": "display_data"
    },
    {
     "data": {
      "application/vnd.jupyter.widget-view+json": {
       "model_id": "96fe76a485e2403287b83abb8316be6e",
       "version_major": 2,
       "version_minor": 0
      },
      "text/plain": [
       "  0%|          | 0/6 [00:00<?, ?it/s]"
      ]
     },
     "metadata": {},
     "output_type": "display_data"
    },
    {
     "data": {
      "application/vnd.jupyter.widget-view+json": {
       "model_id": "e0c6f4b907434d6ca718a489cfe72ee6",
       "version_major": 2,
       "version_minor": 0
      },
      "text/plain": [
       "  0%|          | 0/6 [00:00<?, ?it/s]"
      ]
     },
     "metadata": {},
     "output_type": "display_data"
    },
    {
     "data": {
      "application/vnd.jupyter.widget-view+json": {
       "model_id": "2a49e8ab904545ce96038a8118ddf7b2",
       "version_major": 2,
       "version_minor": 0
      },
      "text/plain": [
       "  0%|          | 0/6 [00:00<?, ?it/s]"
      ]
     },
     "metadata": {},
     "output_type": "display_data"
    },
    {
     "data": {
      "application/vnd.jupyter.widget-view+json": {
       "model_id": "4ade7571d2cb44a8bb68bc5c649bc636",
       "version_major": 2,
       "version_minor": 0
      },
      "text/plain": [
       "  0%|          | 0/6 [00:00<?, ?it/s]"
      ]
     },
     "metadata": {},
     "output_type": "display_data"
    },
    {
     "data": {
      "application/vnd.jupyter.widget-view+json": {
       "model_id": "2a3269f36bcd47578a548ec40399552a",
       "version_major": 2,
       "version_minor": 0
      },
      "text/plain": [
       "  0%|          | 0/6 [00:00<?, ?it/s]"
      ]
     },
     "metadata": {},
     "output_type": "display_data"
    },
    {
     "data": {
      "application/vnd.jupyter.widget-view+json": {
       "model_id": "bbf17cdf6c9742b8bda8cf8b97039ac6",
       "version_major": 2,
       "version_minor": 0
      },
      "text/plain": [
       "  0%|          | 0/6 [00:00<?, ?it/s]"
      ]
     },
     "metadata": {},
     "output_type": "display_data"
    },
    {
     "data": {
      "application/vnd.jupyter.widget-view+json": {
       "model_id": "7fb2691550444968bc366078532a0116",
       "version_major": 2,
       "version_minor": 0
      },
      "text/plain": [
       "  0%|          | 0/6 [00:00<?, ?it/s]"
      ]
     },
     "metadata": {},
     "output_type": "display_data"
    },
    {
     "data": {
      "application/vnd.jupyter.widget-view+json": {
       "model_id": "f9d646157f7e483d8779f742cd3ea172",
       "version_major": 2,
       "version_minor": 0
      },
      "text/plain": [
       "  0%|          | 0/6 [00:00<?, ?it/s]"
      ]
     },
     "metadata": {},
     "output_type": "display_data"
    },
    {
     "data": {
      "application/vnd.jupyter.widget-view+json": {
       "model_id": "64f3544986a346139c625fd20ba58bd8",
       "version_major": 2,
       "version_minor": 0
      },
      "text/plain": [
       "  0%|          | 0/6 [00:00<?, ?it/s]"
      ]
     },
     "metadata": {},
     "output_type": "display_data"
    },
    {
     "data": {
      "application/vnd.jupyter.widget-view+json": {
       "model_id": "7cb51eac187442c68f7ad12ef708617f",
       "version_major": 2,
       "version_minor": 0
      },
      "text/plain": [
       "  0%|          | 0/6 [00:00<?, ?it/s]"
      ]
     },
     "metadata": {},
     "output_type": "display_data"
    },
    {
     "data": {
      "application/vnd.jupyter.widget-view+json": {
       "model_id": "c4d92dfe75ca4379a4e2b0a09713e029",
       "version_major": 2,
       "version_minor": 0
      },
      "text/plain": [
       "  0%|          | 0/6 [00:00<?, ?it/s]"
      ]
     },
     "metadata": {},
     "output_type": "display_data"
    },
    {
     "data": {
      "application/vnd.jupyter.widget-view+json": {
       "model_id": "9781411a527441769f4c4553d15a6bf7",
       "version_major": 2,
       "version_minor": 0
      },
      "text/plain": [
       "  0%|          | 0/6 [00:00<?, ?it/s]"
      ]
     },
     "metadata": {},
     "output_type": "display_data"
    },
    {
     "data": {
      "application/vnd.jupyter.widget-view+json": {
       "model_id": "4af632b1437b4dc683ecfb35a790bc56",
       "version_major": 2,
       "version_minor": 0
      },
      "text/plain": [
       "  0%|          | 0/6 [00:00<?, ?it/s]"
      ]
     },
     "metadata": {},
     "output_type": "display_data"
    },
    {
     "data": {
      "application/vnd.jupyter.widget-view+json": {
       "model_id": "4f355d1933424269bda1ea07902ab868",
       "version_major": 2,
       "version_minor": 0
      },
      "text/plain": [
       "  0%|          | 0/6 [00:00<?, ?it/s]"
      ]
     },
     "metadata": {},
     "output_type": "display_data"
    },
    {
     "data": {
      "application/vnd.jupyter.widget-view+json": {
       "model_id": "c7153911ee234365add13dc640c42ad2",
       "version_major": 2,
       "version_minor": 0
      },
      "text/plain": [
       "  0%|          | 0/6 [00:00<?, ?it/s]"
      ]
     },
     "metadata": {},
     "output_type": "display_data"
    },
    {
     "data": {
      "application/vnd.jupyter.widget-view+json": {
       "model_id": "999b8fe77d0d40148fe09bd2e72e31ac",
       "version_major": 2,
       "version_minor": 0
      },
      "text/plain": [
       "  0%|          | 0/6 [00:00<?, ?it/s]"
      ]
     },
     "metadata": {},
     "output_type": "display_data"
    },
    {
     "data": {
      "application/vnd.jupyter.widget-view+json": {
       "model_id": "240ee9284f4541249be6f5575090b21d",
       "version_major": 2,
       "version_minor": 0
      },
      "text/plain": [
       "  0%|          | 0/6 [00:00<?, ?it/s]"
      ]
     },
     "metadata": {},
     "output_type": "display_data"
    },
    {
     "data": {
      "application/vnd.jupyter.widget-view+json": {
       "model_id": "c81cc2f1ce2f452fa1574ec34b73adb8",
       "version_major": 2,
       "version_minor": 0
      },
      "text/plain": [
       "  0%|          | 0/6 [00:00<?, ?it/s]"
      ]
     },
     "metadata": {},
     "output_type": "display_data"
    },
    {
     "data": {
      "application/vnd.jupyter.widget-view+json": {
       "model_id": "5409509faed849449aed71d09c5758cc",
       "version_major": 2,
       "version_minor": 0
      },
      "text/plain": [
       "  0%|          | 0/6 [00:00<?, ?it/s]"
      ]
     },
     "metadata": {},
     "output_type": "display_data"
    },
    {
     "data": {
      "application/vnd.jupyter.widget-view+json": {
       "model_id": "6ec0075a6db44627ab887e0c043e2a3d",
       "version_major": 2,
       "version_minor": 0
      },
      "text/plain": [
       "  0%|          | 0/6 [00:00<?, ?it/s]"
      ]
     },
     "metadata": {},
     "output_type": "display_data"
    },
    {
     "data": {
      "application/vnd.jupyter.widget-view+json": {
       "model_id": "d6a7e030bb044d9c84096cc75d37a7a1",
       "version_major": 2,
       "version_minor": 0
      },
      "text/plain": [
       "  0%|          | 0/6 [00:00<?, ?it/s]"
      ]
     },
     "metadata": {},
     "output_type": "display_data"
    },
    {
     "data": {
      "application/vnd.jupyter.widget-view+json": {
       "model_id": "3a512c0e8e894e11b68fddac747f3ade",
       "version_major": 2,
       "version_minor": 0
      },
      "text/plain": [
       "  0%|          | 0/6 [00:00<?, ?it/s]"
      ]
     },
     "metadata": {},
     "output_type": "display_data"
    },
    {
     "data": {
      "application/vnd.jupyter.widget-view+json": {
       "model_id": "c2e9ccd5c85f47bda6882b715f66647c",
       "version_major": 2,
       "version_minor": 0
      },
      "text/plain": [
       "  0%|          | 0/6 [00:00<?, ?it/s]"
      ]
     },
     "metadata": {},
     "output_type": "display_data"
    },
    {
     "data": {
      "application/vnd.jupyter.widget-view+json": {
       "model_id": "5496a308dd7b48d9afcb213effc99246",
       "version_major": 2,
       "version_minor": 0
      },
      "text/plain": [
       "  0%|          | 0/6 [00:00<?, ?it/s]"
      ]
     },
     "metadata": {},
     "output_type": "display_data"
    },
    {
     "data": {
      "application/vnd.jupyter.widget-view+json": {
       "model_id": "e1d444d6fd694b8a993aef1d2b01b0d7",
       "version_major": 2,
       "version_minor": 0
      },
      "text/plain": [
       "  0%|          | 0/6 [00:00<?, ?it/s]"
      ]
     },
     "metadata": {},
     "output_type": "display_data"
    },
    {
     "data": {
      "application/vnd.jupyter.widget-view+json": {
       "model_id": "67c91f177f5a40b4b231867891c96682",
       "version_major": 2,
       "version_minor": 0
      },
      "text/plain": [
       "  0%|          | 0/6 [00:00<?, ?it/s]"
      ]
     },
     "metadata": {},
     "output_type": "display_data"
    },
    {
     "data": {
      "application/vnd.jupyter.widget-view+json": {
       "model_id": "e15a83ff717c43b08ac96de9cd4dbbc6",
       "version_major": 2,
       "version_minor": 0
      },
      "text/plain": [
       "  0%|          | 0/6 [00:00<?, ?it/s]"
      ]
     },
     "metadata": {},
     "output_type": "display_data"
    },
    {
     "data": {
      "application/vnd.jupyter.widget-view+json": {
       "model_id": "84409be6304441009b626ec9f1e9dba7",
       "version_major": 2,
       "version_minor": 0
      },
      "text/plain": [
       "  0%|          | 0/6 [00:00<?, ?it/s]"
      ]
     },
     "metadata": {},
     "output_type": "display_data"
    },
    {
     "data": {
      "application/vnd.jupyter.widget-view+json": {
       "model_id": "df52ab1b80354b8f8c2f17972cad2109",
       "version_major": 2,
       "version_minor": 0
      },
      "text/plain": [
       "  0%|          | 0/6 [00:00<?, ?it/s]"
      ]
     },
     "metadata": {},
     "output_type": "display_data"
    },
    {
     "data": {
      "application/vnd.jupyter.widget-view+json": {
       "model_id": "5467adb9affe47dba5787693a22751e6",
       "version_major": 2,
       "version_minor": 0
      },
      "text/plain": [
       "  0%|          | 0/6 [00:00<?, ?it/s]"
      ]
     },
     "metadata": {},
     "output_type": "display_data"
    },
    {
     "data": {
      "application/vnd.jupyter.widget-view+json": {
       "model_id": "20b181cb1502460fa64a4d8f11413b36",
       "version_major": 2,
       "version_minor": 0
      },
      "text/plain": [
       "  0%|          | 0/6 [00:00<?, ?it/s]"
      ]
     },
     "metadata": {},
     "output_type": "display_data"
    },
    {
     "data": {
      "application/vnd.jupyter.widget-view+json": {
       "model_id": "6a243d8722484269ab99262389cf3412",
       "version_major": 2,
       "version_minor": 0
      },
      "text/plain": [
       "  0%|          | 0/6 [00:00<?, ?it/s]"
      ]
     },
     "metadata": {},
     "output_type": "display_data"
    },
    {
     "data": {
      "application/vnd.jupyter.widget-view+json": {
       "model_id": "4c91e13bcb3c47a48007bce70a1de2b8",
       "version_major": 2,
       "version_minor": 0
      },
      "text/plain": [
       "  0%|          | 0/6 [00:00<?, ?it/s]"
      ]
     },
     "metadata": {},
     "output_type": "display_data"
    },
    {
     "data": {
      "application/vnd.jupyter.widget-view+json": {
       "model_id": "0bf727c4a17e4c8b9928c824ee9fe018",
       "version_major": 2,
       "version_minor": 0
      },
      "text/plain": [
       "  0%|          | 0/6 [00:00<?, ?it/s]"
      ]
     },
     "metadata": {},
     "output_type": "display_data"
    },
    {
     "data": {
      "application/vnd.jupyter.widget-view+json": {
       "model_id": "b0024bb40312497082af3d58cd983107",
       "version_major": 2,
       "version_minor": 0
      },
      "text/plain": [
       "  0%|          | 0/6 [00:00<?, ?it/s]"
      ]
     },
     "metadata": {},
     "output_type": "display_data"
    },
    {
     "data": {
      "application/vnd.jupyter.widget-view+json": {
       "model_id": "1edb578d5157414d949aff0995788477",
       "version_major": 2,
       "version_minor": 0
      },
      "text/plain": [
       "  0%|          | 0/6 [00:00<?, ?it/s]"
      ]
     },
     "metadata": {},
     "output_type": "display_data"
    },
    {
     "data": {
      "application/vnd.jupyter.widget-view+json": {
       "model_id": "4a0474dd6ebc4355b48b89652ce25d82",
       "version_major": 2,
       "version_minor": 0
      },
      "text/plain": [
       "  0%|          | 0/6 [00:00<?, ?it/s]"
      ]
     },
     "metadata": {},
     "output_type": "display_data"
    },
    {
     "data": {
      "application/vnd.jupyter.widget-view+json": {
       "model_id": "d6932115b26940149b9f6c2d917e18b7",
       "version_major": 2,
       "version_minor": 0
      },
      "text/plain": [
       "  0%|          | 0/6 [00:00<?, ?it/s]"
      ]
     },
     "metadata": {},
     "output_type": "display_data"
    },
    {
     "data": {
      "application/vnd.jupyter.widget-view+json": {
       "model_id": "0941093587314bb38cca610d73a61c14",
       "version_major": 2,
       "version_minor": 0
      },
      "text/plain": [
       "  0%|          | 0/6 [00:00<?, ?it/s]"
      ]
     },
     "metadata": {},
     "output_type": "display_data"
    },
    {
     "data": {
      "application/vnd.jupyter.widget-view+json": {
       "model_id": "60901ea81ab84c0781359d8cb127142e",
       "version_major": 2,
       "version_minor": 0
      },
      "text/plain": [
       "  0%|          | 0/6 [00:00<?, ?it/s]"
      ]
     },
     "metadata": {},
     "output_type": "display_data"
    },
    {
     "data": {
      "application/vnd.jupyter.widget-view+json": {
       "model_id": "ddcad1145c2c4a91a70772279cad01e4",
       "version_major": 2,
       "version_minor": 0
      },
      "text/plain": [
       "  0%|          | 0/6 [00:00<?, ?it/s]"
      ]
     },
     "metadata": {},
     "output_type": "display_data"
    },
    {
     "data": {
      "application/vnd.jupyter.widget-view+json": {
       "model_id": "dff35d5ffd0d4d37a8764043a29b6831",
       "version_major": 2,
       "version_minor": 0
      },
      "text/plain": [
       "  0%|          | 0/6 [00:00<?, ?it/s]"
      ]
     },
     "metadata": {},
     "output_type": "display_data"
    },
    {
     "data": {
      "application/vnd.jupyter.widget-view+json": {
       "model_id": "9b809455130946ee8394830600914b51",
       "version_major": 2,
       "version_minor": 0
      },
      "text/plain": [
       "  0%|          | 0/6 [00:00<?, ?it/s]"
      ]
     },
     "metadata": {},
     "output_type": "display_data"
    },
    {
     "data": {
      "application/vnd.jupyter.widget-view+json": {
       "model_id": "3f5bc2d582e948b1b1d6417a2cf36ae2",
       "version_major": 2,
       "version_minor": 0
      },
      "text/plain": [
       "  0%|          | 0/6 [00:00<?, ?it/s]"
      ]
     },
     "metadata": {},
     "output_type": "display_data"
    }
   ],
   "source": [
    "partitions = [4, 5, 7, 9, 10, 20]\n",
    "\n",
    "\n",
    "metadata = []\n",
    "for iteration in tqdm(range(100)):\n",
    "    for partition in tqdm(partitions):\n",
    "        with torch.amp.autocast(device_type=\"cuda\", dtype=torch.float16):\n",
    "            ckpt = torch.load(f\"{base_path}/BiHealth/ckpts/ckpt_partition_{partition}\")\n",
    "            model.encoder.load_state_dict({k[8:]:v for k, v in ckpt[\"state_dict\"].items() if \"encoder\" in k}, strict=True)\n",
    "            model.head.load_state_dict({k[5:]:v for k, v in ckpt[\"state_dict\"].items() if \"head\" in k}, strict=True)\n",
    "            model.eval();\n",
    "            model.to(\"cuda\")\n",
    "            # instantiate cktp here\n",
    "            for img_names, img_batch in dataloader:\n",
    "                img_batch = img_batch.to(\"cuda\")\n",
    "                loghs = predict_batch(model, img_batch)\n",
    "                for img_name, logh in zip(img_names, loghs):\n",
    "                    metadata.append({\"partition\": partition, \"img_name\": img_name, \"iteration\": iteration, \"loghs\": logh})\n",
    "                del img_batch\n",
    "\n",
    "metadata_df = pd.DataFrame(metadata)"
   ]
  },
  {
   "cell_type": "code",
   "execution_count": 17,
   "id": "b1b0c9ec-633e-4aae-a9eb-227630374f0d",
   "metadata": {},
   "outputs": [
    {
     "data": {
      "text/html": [
       "<div>\n",
       "<style scoped>\n",
       "    .dataframe tbody tr th:only-of-type {\n",
       "        vertical-align: middle;\n",
       "    }\n",
       "\n",
       "    .dataframe tbody tr th {\n",
       "        vertical-align: top;\n",
       "    }\n",
       "\n",
       "    .dataframe thead th {\n",
       "        text-align: right;\n",
       "    }\n",
       "</style>\n",
       "<table border=\"1\" class=\"dataframe\">\n",
       "  <thead>\n",
       "    <tr style=\"text-align: right;\">\n",
       "      <th></th>\n",
       "      <th>partition</th>\n",
       "      <th>img_name</th>\n",
       "      <th>iteration</th>\n",
       "      <th>loghs</th>\n",
       "    </tr>\n",
       "  </thead>\n",
       "  <tbody>\n",
       "    <tr>\n",
       "      <th>0</th>\n",
       "      <td>0</td>\n",
       "      <td>0AIULA8E315X35Q2_epiceye00372.png</td>\n",
       "      <td>0</td>\n",
       "      <td>[1.429, 3.213, 2.703, 3.55, 2.588, 0.71, 1.379...</td>\n",
       "    </tr>\n",
       "    <tr>\n",
       "      <th>1</th>\n",
       "      <td>0</td>\n",
       "      <td>0AIULA8E1D5J220T_epiceye01548.png</td>\n",
       "      <td>0</td>\n",
       "      <td>[1.355, 3.262, 2.824, 3.74, 2.777, 1.128, 2.06...</td>\n",
       "    </tr>\n",
       "    <tr>\n",
       "      <th>2</th>\n",
       "      <td>0</td>\n",
       "      <td>0AIULA8E13CCINZ0_epiceye02465.png</td>\n",
       "      <td>0</td>\n",
       "      <td>[-1.129, 1.634, 1.425, 1.722, 0.919, -0.8857, ...</td>\n",
       "    </tr>\n",
       "    <tr>\n",
       "      <th>3</th>\n",
       "      <td>0</td>\n",
       "      <td>0AIULA8E2K7MOEX9_epiceye03852.png</td>\n",
       "      <td>0</td>\n",
       "      <td>[1.787, 3.844, 3.35, 3.98, 2.81, 1.393, 1.391,...</td>\n",
       "    </tr>\n",
       "    <tr>\n",
       "      <th>4</th>\n",
       "      <td>0</td>\n",
       "      <td>0AIULA8E21BAWQ50_epiceye07263.png</td>\n",
       "      <td>0</td>\n",
       "      <td>[1.087, 3.055, 2.68, 3.285, 2.559, 1.223, 1.10...</td>\n",
       "    </tr>\n",
       "    <tr>\n",
       "      <th>...</th>\n",
       "      <td>...</td>\n",
       "      <td>...</td>\n",
       "      <td>...</td>\n",
       "      <td>...</td>\n",
       "    </tr>\n",
       "    <tr>\n",
       "      <th>35257195</th>\n",
       "      <td>21</td>\n",
       "      <td>0AIULA8E24KW7A44_epiceye02489.png</td>\n",
       "      <td>99</td>\n",
       "      <td>[0.91, 2.713, 2.277, 3.336, 2.38, 1.051, 1.541...</td>\n",
       "    </tr>\n",
       "    <tr>\n",
       "      <th>35257196</th>\n",
       "      <td>21</td>\n",
       "      <td>0AIULA8E32S7E8OO_epiceye03011.png</td>\n",
       "      <td>99</td>\n",
       "      <td>[0.9854, 2.914, 2.475, 3.766, 2.768, 1.403, 1....</td>\n",
       "    </tr>\n",
       "    <tr>\n",
       "      <th>35257197</th>\n",
       "      <td>21</td>\n",
       "      <td>0AIULA8E2C2N6MYL_epiceye02574.png</td>\n",
       "      <td>99</td>\n",
       "      <td>[1.303, 2.959, 2.47, 3.238, 2.443, 0.861, 1.56...</td>\n",
       "    </tr>\n",
       "    <tr>\n",
       "      <th>35257198</th>\n",
       "      <td>21</td>\n",
       "      <td>0AIULA8E18C97Z2K_epiceye00650.png</td>\n",
       "      <td>99</td>\n",
       "      <td>[1.362, 3.04, 2.678, 3.564, 2.36, 0.756, 1.9, ...</td>\n",
       "    </tr>\n",
       "    <tr>\n",
       "      <th>35257199</th>\n",
       "      <td>21</td>\n",
       "      <td>0AIULA8E329SP7SH_epiceye01173.png</td>\n",
       "      <td>99</td>\n",
       "      <td>[1.93, 3.98, 3.58, 4.26, 2.95, 1.71, 2.002, 2....</td>\n",
       "    </tr>\n",
       "  </tbody>\n",
       "</table>\n",
       "<p>35257200 rows × 4 columns</p>\n",
       "</div>"
      ],
      "text/plain": [
       "          partition                           img_name  iteration  \\\n",
       "0                 0  0AIULA8E315X35Q2_epiceye00372.png          0   \n",
       "1                 0  0AIULA8E1D5J220T_epiceye01548.png          0   \n",
       "2                 0  0AIULA8E13CCINZ0_epiceye02465.png          0   \n",
       "3                 0  0AIULA8E2K7MOEX9_epiceye03852.png          0   \n",
       "4                 0  0AIULA8E21BAWQ50_epiceye07263.png          0   \n",
       "...             ...                                ...        ...   \n",
       "35257195         21  0AIULA8E24KW7A44_epiceye02489.png         99   \n",
       "35257196         21  0AIULA8E32S7E8OO_epiceye03011.png         99   \n",
       "35257197         21  0AIULA8E2C2N6MYL_epiceye02574.png         99   \n",
       "35257198         21  0AIULA8E18C97Z2K_epiceye00650.png         99   \n",
       "35257199         21  0AIULA8E329SP7SH_epiceye01173.png         99   \n",
       "\n",
       "                                                      loghs  \n",
       "0         [1.429, 3.213, 2.703, 3.55, 2.588, 0.71, 1.379...  \n",
       "1         [1.355, 3.262, 2.824, 3.74, 2.777, 1.128, 2.06...  \n",
       "2         [-1.129, 1.634, 1.425, 1.722, 0.919, -0.8857, ...  \n",
       "3         [1.787, 3.844, 3.35, 3.98, 2.81, 1.393, 1.391,...  \n",
       "4         [1.087, 3.055, 2.68, 3.285, 2.559, 1.223, 1.10...  \n",
       "...                                                     ...  \n",
       "35257195  [0.91, 2.713, 2.277, 3.336, 2.38, 1.051, 1.541...  \n",
       "35257196  [0.9854, 2.914, 2.475, 3.766, 2.768, 1.403, 1....  \n",
       "35257197  [1.303, 2.959, 2.47, 3.238, 2.443, 0.861, 1.56...  \n",
       "35257198  [1.362, 3.04, 2.678, 3.564, 2.36, 0.756, 1.9, ...  \n",
       "35257199  [1.93, 3.98, 3.58, 4.26, 2.95, 1.71, 2.002, 2....  \n",
       "\n",
       "[35257200 rows x 4 columns]"
      ]
     },
     "execution_count": 17,
     "metadata": {},
     "output_type": "execute_result"
    }
   ],
   "source": [
    "metadata_df"
   ]
  },
  {
   "cell_type": "code",
   "execution_count": 11,
   "id": "a2462268-9e9e-467a-8823-e3097fc0bf54",
   "metadata": {},
   "outputs": [
    {
     "data": {
      "text/html": [
       "<div>\n",
       "<style scoped>\n",
       "    .dataframe tbody tr th:only-of-type {\n",
       "        vertical-align: middle;\n",
       "    }\n",
       "\n",
       "    .dataframe tbody tr th {\n",
       "        vertical-align: top;\n",
       "    }\n",
       "\n",
       "    .dataframe thead th {\n",
       "        text-align: right;\n",
       "    }\n",
       "</style>\n",
       "<table border=\"1\" class=\"dataframe\">\n",
       "  <thead>\n",
       "    <tr style=\"text-align: right;\">\n",
       "      <th></th>\n",
       "      <th>partition</th>\n",
       "      <th>img_name</th>\n",
       "      <th>iteration</th>\n",
       "      <th>loghs</th>\n",
       "    </tr>\n",
       "  </thead>\n",
       "  <tbody>\n",
       "    <tr>\n",
       "      <th>0</th>\n",
       "      <td>4</td>\n",
       "      <td>0AIULA8E315X35Q2_epiceye00372.png</td>\n",
       "      <td>0</td>\n",
       "      <td>[1.05, 2.055, 1.688, 2.31, 1.813, 0.5264, 1.09...</td>\n",
       "    </tr>\n",
       "    <tr>\n",
       "      <th>1</th>\n",
       "      <td>4</td>\n",
       "      <td>0AIULA8E1D5J220T_epiceye01548.png</td>\n",
       "      <td>0</td>\n",
       "      <td>[1.45, 2.574, 2.176, 2.744, 2.227, 0.7456, 1.3...</td>\n",
       "    </tr>\n",
       "    <tr>\n",
       "      <th>2</th>\n",
       "      <td>4</td>\n",
       "      <td>0AIULA8E13CCINZ0_epiceye02465.png</td>\n",
       "      <td>0</td>\n",
       "      <td>[0.3413, 1.57, 1.373, 1.723, 1.238, 0.005928, ...</td>\n",
       "    </tr>\n",
       "    <tr>\n",
       "      <th>3</th>\n",
       "      <td>4</td>\n",
       "      <td>0AIULA8E2K7MOEX9_epiceye03852.png</td>\n",
       "      <td>0</td>\n",
       "      <td>[1.27, 2.348, 2.014, 2.613, 1.878, 0.697, 0.87...</td>\n",
       "    </tr>\n",
       "    <tr>\n",
       "      <th>4</th>\n",
       "      <td>4</td>\n",
       "      <td>0AIULA8E21BAWQ50_epiceye07263.png</td>\n",
       "      <td>0</td>\n",
       "      <td>[0.5796, 1.634, 1.361, 1.937, 1.43, 0.4678, 0....</td>\n",
       "    </tr>\n",
       "    <tr>\n",
       "      <th>...</th>\n",
       "      <td>...</td>\n",
       "      <td>...</td>\n",
       "      <td>...</td>\n",
       "      <td>...</td>\n",
       "    </tr>\n",
       "    <tr>\n",
       "      <th>9615595</th>\n",
       "      <td>20</td>\n",
       "      <td>0AIULA8E24KW7A44_epiceye02489.png</td>\n",
       "      <td>99</td>\n",
       "      <td>[0.2869, 1.7295, 1.434, 2.186, 1.577, 0.753, 0...</td>\n",
       "    </tr>\n",
       "    <tr>\n",
       "      <th>9615596</th>\n",
       "      <td>20</td>\n",
       "      <td>0AIULA8E32S7E8OO_epiceye03011.png</td>\n",
       "      <td>99</td>\n",
       "      <td>[0.2458, 1.853, 1.625, 2.416, 1.78, 1.009, 1.2...</td>\n",
       "    </tr>\n",
       "    <tr>\n",
       "      <th>9615597</th>\n",
       "      <td>20</td>\n",
       "      <td>0AIULA8E2C2N6MYL_epiceye02574.png</td>\n",
       "      <td>99</td>\n",
       "      <td>[0.6025, 1.877, 1.547, 1.989, 1.453, 0.4739, 0...</td>\n",
       "    </tr>\n",
       "    <tr>\n",
       "      <th>9615598</th>\n",
       "      <td>20</td>\n",
       "      <td>0AIULA8E18C97Z2K_epiceye00650.png</td>\n",
       "      <td>99</td>\n",
       "      <td>[1.55, 2.775, 2.416, 3.174, 2.113, 0.8696, 2.1...</td>\n",
       "    </tr>\n",
       "    <tr>\n",
       "      <th>9615599</th>\n",
       "      <td>20</td>\n",
       "      <td>0AIULA8E329SP7SH_epiceye01173.png</td>\n",
       "      <td>99</td>\n",
       "      <td>[1.668, 3.855, 3.463, 3.832, 2.814, 2.305, 1.9...</td>\n",
       "    </tr>\n",
       "  </tbody>\n",
       "</table>\n",
       "<p>9615600 rows × 4 columns</p>\n",
       "</div>"
      ],
      "text/plain": [
       "         partition                           img_name  iteration  \\\n",
       "0                4  0AIULA8E315X35Q2_epiceye00372.png          0   \n",
       "1                4  0AIULA8E1D5J220T_epiceye01548.png          0   \n",
       "2                4  0AIULA8E13CCINZ0_epiceye02465.png          0   \n",
       "3                4  0AIULA8E2K7MOEX9_epiceye03852.png          0   \n",
       "4                4  0AIULA8E21BAWQ50_epiceye07263.png          0   \n",
       "...            ...                                ...        ...   \n",
       "9615595         20  0AIULA8E24KW7A44_epiceye02489.png         99   \n",
       "9615596         20  0AIULA8E32S7E8OO_epiceye03011.png         99   \n",
       "9615597         20  0AIULA8E2C2N6MYL_epiceye02574.png         99   \n",
       "9615598         20  0AIULA8E18C97Z2K_epiceye00650.png         99   \n",
       "9615599         20  0AIULA8E329SP7SH_epiceye01173.png         99   \n",
       "\n",
       "                                                     loghs  \n",
       "0        [1.05, 2.055, 1.688, 2.31, 1.813, 0.5264, 1.09...  \n",
       "1        [1.45, 2.574, 2.176, 2.744, 2.227, 0.7456, 1.3...  \n",
       "2        [0.3413, 1.57, 1.373, 1.723, 1.238, 0.005928, ...  \n",
       "3        [1.27, 2.348, 2.014, 2.613, 1.878, 0.697, 0.87...  \n",
       "4        [0.5796, 1.634, 1.361, 1.937, 1.43, 0.4678, 0....  \n",
       "...                                                    ...  \n",
       "9615595  [0.2869, 1.7295, 1.434, 2.186, 1.577, 0.753, 0...  \n",
       "9615596  [0.2458, 1.853, 1.625, 2.416, 1.78, 1.009, 1.2...  \n",
       "9615597  [0.6025, 1.877, 1.547, 1.989, 1.453, 0.4739, 0...  \n",
       "9615598  [1.55, 2.775, 2.416, 3.174, 2.113, 0.8696, 2.1...  \n",
       "9615599  [1.668, 3.855, 3.463, 3.832, 2.814, 2.305, 1.9...  \n",
       "\n",
       "[9615600 rows x 4 columns]"
      ]
     },
     "execution_count": 11,
     "metadata": {},
     "output_type": "execute_result"
    }
   ],
   "source": [
    "metadata_df"
   ]
  },
  {
   "cell_type": "code",
   "execution_count": 12,
   "id": "9e47724c-4241-4e23-bd6e-591f8be4f377",
   "metadata": {},
   "outputs": [],
   "source": [
    "metadata_df.reset_index(drop=True).to_feather(f\"{base_path}/data/predictionstta_230629.feather\")"
   ]
  },
  {
   "cell_type": "code",
   "execution_count": null,
   "id": "0ac79c7b-3a45-4239-89c7-d1f3ec6a1290",
   "metadata": {},
   "outputs": [],
   "source": []
  }
 ],
 "metadata": {
  "kernelspec": {
   "display_name": "Python [conda env:.conda-python310]",
   "language": "python",
   "name": "conda-env-.conda-python310-py"
  },
  "language_info": {
   "codemirror_mode": {
    "name": "ipython",
    "version": 3
   },
   "file_extension": ".py",
   "mimetype": "text/x-python",
   "name": "python",
   "nbconvert_exporter": "python",
   "pygments_lexer": "ipython3",
   "version": "3.10.9"
  }
 },
 "nbformat": 4,
 "nbformat_minor": 5
}
