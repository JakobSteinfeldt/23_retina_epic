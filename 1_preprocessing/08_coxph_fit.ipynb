{
 "cells": [
  {
   "cell_type": "markdown",
   "metadata": {},
   "source": [
    "# Fit Cox Models"
   ]
  },
  {
   "cell_type": "markdown",
   "metadata": {},
   "source": [
    "## Initialize"
   ]
  },
  {
   "cell_type": "code",
   "execution_count": 1,
   "metadata": {
    "tags": []
   },
   "outputs": [],
   "source": [
    "import os\n",
    "import math\n",
    "import pathlib\n",
    "import numpy as np\n",
    "import pandas as pd\n",
    "from tqdm.auto import tqdm\n",
    "from IPython.display import clear_output\n",
    "import ray\n",
    "import datetime\n",
    "import subprocess\n",
    "import warnings\n",
    "import lifelines\n",
    "from lifelines.utils import CensoringType\n",
    "from lifelines.utils import concordance_index"
   ]
  },
  {
   "cell_type": "code",
   "execution_count": 2,
   "metadata": {},
   "outputs": [],
   "source": [
    "base_path = \"/home/jakobs\"\n",
    "\n",
    "project_path = f\"{base_path}/data\"\n",
    "\n",
    "experiment = '230323'\n",
    "experiment_path = f\"{project_path}/{experiment}\"\n",
    "pathlib.Path(experiment_path).mkdir(parents=True, exist_ok=True)\n",
    "\n",
    "partitions = [i for i in range(10)]"
   ]
  },
  {
   "cell_type": "code",
   "execution_count": 3,
   "metadata": {},
   "outputs": [],
   "source": [
    "os.environ['MKL_NUM_THREADS'] = \"1\"\n",
    "os.environ['NUMEXPR_NUM_THREADS'] = \"1\"\n",
    "os.environ['OMP_NUM_THREADS'] = \"1\""
   ]
  },
  {
   "cell_type": "code",
   "execution_count": 4,
   "metadata": {},
   "outputs": [],
   "source": [
    "from scripts.coxph_fit_partition import load_data, fit_endpoint"
   ]
  },
  {
   "cell_type": "code",
   "execution_count": 5,
   "metadata": {},
   "outputs": [
    {
     "data": {
      "text/plain": [
       "[0, 1, 2, 3, 4, 5, 6, 7, 8, 9]"
      ]
     },
     "execution_count": 5,
     "metadata": {},
     "output_type": "execute_result"
    }
   ],
   "source": [
    "partitions"
   ]
  },
  {
   "cell_type": "code",
   "execution_count": 6,
   "metadata": {},
   "outputs": [
    {
     "data": {
      "application/vnd.jupyter.widget-view+json": {
       "model_id": "11bbaf5509f940e8b441a75692221379",
       "version_major": 2,
       "version_minor": 0
      },
      "text/plain": [
       "  0%|          | 0/10 [00:00<?, ?it/s]"
      ]
     },
     "metadata": {},
     "output_type": "display_data"
    },
    {
     "name": "stderr",
     "output_type": "stream",
     "text": [
      "2023-03-23 15:29:44,875\tINFO worker.py:1544 -- Started a local Ray instance. View the dashboard at \u001b[1m\u001b[32m127.0.0.1:8265 \u001b[39m\u001b[22m\n"
     ]
    },
    {
     "data": {
      "application/vnd.jupyter.widget-view+json": {
       "model_id": "9c2da00e8d7d45d1ae30928e54f7c2c0",
       "version_major": 2,
       "version_minor": 0
      },
      "text/plain": [
       "  0%|          | 0/368 [00:00<?, ?it/s]"
      ]
     },
     "metadata": {},
     "output_type": "display_data"
    },
    {
     "data": {
      "application/vnd.jupyter.widget-view+json": {
       "model_id": "52907e8287a0440a9bddc73acc5673fd",
       "version_major": 2,
       "version_minor": 0
      },
      "text/plain": [
       "  0%|          | 0/368 [00:00<?, ?it/s]"
      ]
     },
     "metadata": {},
     "output_type": "display_data"
    },
    {
     "data": {
      "application/vnd.jupyter.widget-view+json": {
       "model_id": "1cf4806b0b56454fae23a40b68102a7b",
       "version_major": 2,
       "version_minor": 0
      },
      "text/plain": [
       "  0%|          | 0/368 [00:00<?, ?it/s]"
      ]
     },
     "metadata": {},
     "output_type": "display_data"
    },
    {
     "data": {
      "application/vnd.jupyter.widget-view+json": {
       "model_id": "877ae5f3993447288cdb07f45c079f10",
       "version_major": 2,
       "version_minor": 0
      },
      "text/plain": [
       "  0%|          | 0/368 [00:00<?, ?it/s]"
      ]
     },
     "metadata": {},
     "output_type": "display_data"
    },
    {
     "data": {
      "application/vnd.jupyter.widget-view+json": {
       "model_id": "1e37a8511a70489c854cf3646d504613",
       "version_major": 2,
       "version_minor": 0
      },
      "text/plain": [
       "  0%|          | 0/368 [00:00<?, ?it/s]"
      ]
     },
     "metadata": {},
     "output_type": "display_data"
    },
    {
     "data": {
      "application/vnd.jupyter.widget-view+json": {
       "model_id": "7d28d6958a714d06ac16ea8e3225e4a9",
       "version_major": 2,
       "version_minor": 0
      },
      "text/plain": [
       "  0%|          | 0/368 [00:00<?, ?it/s]"
      ]
     },
     "metadata": {},
     "output_type": "display_data"
    },
    {
     "data": {
      "application/vnd.jupyter.widget-view+json": {
       "model_id": "dcc0b4bd39d34a7a864912ab6c135df7",
       "version_major": 2,
       "version_minor": 0
      },
      "text/plain": [
       "  0%|          | 0/368 [00:00<?, ?it/s]"
      ]
     },
     "metadata": {},
     "output_type": "display_data"
    },
    {
     "data": {
      "application/vnd.jupyter.widget-view+json": {
       "model_id": "60a0299a93c841319fbfac51a6dde445",
       "version_major": 2,
       "version_minor": 0
      },
      "text/plain": [
       "  0%|          | 0/368 [00:00<?, ?it/s]"
      ]
     },
     "metadata": {},
     "output_type": "display_data"
    },
    {
     "data": {
      "application/vnd.jupyter.widget-view+json": {
       "model_id": "3d237311b2a0479694f2b5df0d5b95e2",
       "version_major": 2,
       "version_minor": 0
      },
      "text/plain": [
       "  0%|          | 0/368 [00:00<?, ?it/s]"
      ]
     },
     "metadata": {},
     "output_type": "display_data"
    },
    {
     "data": {
      "application/vnd.jupyter.widget-view+json": {
       "model_id": "8178a6b26e3845c6a358d50aaba9daef",
       "version_major": 2,
       "version_minor": 0
      },
      "text/plain": [
       "  0%|          | 0/368 [00:00<?, ?it/s]"
      ]
     },
     "metadata": {},
     "output_type": "display_data"
    }
   ],
   "source": [
    "for partition in tqdm(partitions):\n",
    "    eids_dict, score_defs, endpoint_defs, endpoints, models, model_path, experiment_path, data_partition = load_data(partition)\n",
    "    # setup ray and put files in plasma storage\n",
    "    #ray.init(num_cpus=24) # crashes if num_cpus > 16, why not more possible?\n",
    "    ray_eids = ray.put(eids_dict)\n",
    "    ray_score_defs = ray.put(score_defs)\n",
    "    ray_endpoint_defs = ray.put(endpoint_defs)\n",
    "    ray_partition = ray.put(data_partition)\n",
    "    # fit cox models via ray\n",
    "    progress = []\n",
    "    for endpoint in endpoints:\n",
    "        progress.append(fit_endpoint.remote(ray_partition, ray_eids, ray_score_defs, ray_endpoint_defs, endpoint, partition, models, model_path, experiment_path))\n",
    "    [ray.get(s) for s in tqdm(progress)]"
   ]
  },
  {
   "cell_type": "markdown",
   "metadata": {},
   "source": [
    "## Check progress"
   ]
  },
  {
   "cell_type": "code",
   "execution_count": 7,
   "metadata": {
    "tags": []
   },
   "outputs": [
    {
     "name": "stdout",
     "output_type": "stream",
     "text": [
      "                                    path\n",
      "0       phecode_168-1_SCORE2_RetinaUKB_9\n",
      "1  phecode_582_SCORE2+Retina_RetinaUKB_6\n",
      "2       phecode_714-3_SCORE2_RetinaUKB_0\n",
      "3  phecode_477_SCORE2+Retina_RetinaUKB_0\n",
      "4     phecode_431-12_Age+Sex_RetinaUKB_1\n"
     ]
    }
   ],
   "source": [
    "cox_paths = os.listdir(f\"{experiment_path}/coxph/models/\")\n",
    "#len(cox_paths), cox_paths[0]\n",
    "path_df = pd.DataFrame(data = [p[:-2] for p in cox_paths]).rename(columns={0:\"path\"})\n",
    "print(path_df.head())\n",
    "path_df[[\"endpoint_1\", \"endpoint_2\", \"score\", \"model\", \"partition\"]] = path_df[\"path\"].str.split(\"_\", expand=True)"
   ]
  },
  {
   "cell_type": "code",
   "execution_count": 8,
   "metadata": {},
   "outputs": [
    {
     "data": {
      "text/html": [
       "<div>\n",
       "<style scoped>\n",
       "    .dataframe tbody tr th:only-of-type {\n",
       "        vertical-align: middle;\n",
       "    }\n",
       "\n",
       "    .dataframe tbody tr th {\n",
       "        vertical-align: top;\n",
       "    }\n",
       "\n",
       "    .dataframe thead th {\n",
       "        text-align: right;\n",
       "    }\n",
       "</style>\n",
       "<table border=\"1\" class=\"dataframe\">\n",
       "  <thead>\n",
       "    <tr style=\"text-align: right;\">\n",
       "      <th></th>\n",
       "      <th>0</th>\n",
       "    </tr>\n",
       "    <tr>\n",
       "      <th>partition</th>\n",
       "      <th></th>\n",
       "    </tr>\n",
       "  </thead>\n",
       "  <tbody>\n",
       "    <tr>\n",
       "      <th>0</th>\n",
       "      <td>2576</td>\n",
       "    </tr>\n",
       "    <tr>\n",
       "      <th>1</th>\n",
       "      <td>2576</td>\n",
       "    </tr>\n",
       "    <tr>\n",
       "      <th>2</th>\n",
       "      <td>2576</td>\n",
       "    </tr>\n",
       "    <tr>\n",
       "      <th>3</th>\n",
       "      <td>2576</td>\n",
       "    </tr>\n",
       "    <tr>\n",
       "      <th>4</th>\n",
       "      <td>2576</td>\n",
       "    </tr>\n",
       "    <tr>\n",
       "      <th>5</th>\n",
       "      <td>2576</td>\n",
       "    </tr>\n",
       "    <tr>\n",
       "      <th>6</th>\n",
       "      <td>2576</td>\n",
       "    </tr>\n",
       "    <tr>\n",
       "      <th>7</th>\n",
       "      <td>2576</td>\n",
       "    </tr>\n",
       "    <tr>\n",
       "      <th>8</th>\n",
       "      <td>2576</td>\n",
       "    </tr>\n",
       "    <tr>\n",
       "      <th>9</th>\n",
       "      <td>2576</td>\n",
       "    </tr>\n",
       "  </tbody>\n",
       "</table>\n",
       "</div>"
      ],
      "text/plain": [
       "              0\n",
       "partition      \n",
       "0          2576\n",
       "1          2576\n",
       "2          2576\n",
       "3          2576\n",
       "4          2576\n",
       "5          2576\n",
       "6          2576\n",
       "7          2576\n",
       "8          2576\n",
       "9          2576"
      ]
     },
     "execution_count": 8,
     "metadata": {},
     "output_type": "execute_result"
    }
   ],
   "source": [
    "path_df[\"endpoint\"] = path_df[\"endpoint_1\"] + \"_\" + path_df[\"endpoint_2\"] \n",
    "\n",
    "path_df.value_counts([\"partition\"]).to_frame()"
   ]
  },
  {
   "cell_type": "code",
   "execution_count": null,
   "metadata": {},
   "outputs": [],
   "source": []
  },
  {
   "cell_type": "code",
   "execution_count": null,
   "metadata": {},
   "outputs": [],
   "source": []
  },
  {
   "cell_type": "markdown",
   "metadata": {},
   "source": [
    "## Fig Crashing CoxPH models"
   ]
  },
  {
   "cell_type": "raw",
   "metadata": {
    "tags": []
   },
   "source": [
    "node = !hostname\n",
    "if \"sc\" in node[0]:\n",
    "    base_path = \"/sc-projects/sc-proj-ukb-cvd\"\n",
    "else: \n",
    "    base_path = \"/data/analysis/ag-reils/ag-reils-shared/cardioRS\"\n",
    "print(base_path)\n",
    "\n",
    "project_label = \"22_retina_phewas_220603_fullrun\"\n",
    "project_path = f\"{base_path}/results/projects/{project_label}\"\n",
    "figure_path = f\"{project_path}/figures\"\n",
    "output_path = f\"{project_path}/data\"\n",
    "\n",
    "pathlib.Path(figure_path).mkdir(parents=True, exist_ok=True)\n",
    "pathlib.Path(output_path).mkdir(parents=True, exist_ok=True)\n",
    "\n",
    "experiment = '220603_fullrun'\n",
    "experiment_path = f\"{output_path}/{experiment}\"\n",
    "pathlib.Path(experiment_path).mkdir(parents=True, exist_ok=True)\n",
    "\n",
    "name_dict = {\n",
    "    \"predictions_cropratio0.3\": \"ConvNextSmall(Retina)+MLP_cropratio0.3\",\n",
    "    \"predictions_cropratio0.5\": \"ConvNextSmall(Retina)+MLP_cropratio0.5\",\n",
    "    \"predictions_cropratio0.8\": \"ConvNextSmall(Retina)+MLP_cropratio0.8\",\n",
    "}\n",
    "\n",
    "partitions = [i for i in range(22)]\n",
    "partitions"
   ]
  },
  {
   "cell_type": "code",
   "execution_count": null,
   "metadata": {
    "execution": {
     "iopub.status.busy": "2022-11-08T23:12:51.987757Z",
     "iopub.status.idle": "2022-11-08T23:12:51.987959Z",
     "shell.execute_reply": "2022-11-08T23:12:51.987856Z",
     "shell.execute_reply.started": "2022-11-08T23:12:51.987846Z"
    },
    "tags": []
   },
   "outputs": [],
   "source": [
    "in_path = pathlib.Path(f\"{experiment_path}/coxph/input\")\n",
    "models = [f.name for f in in_path.iterdir() if f.is_dir() and \"ipynb_checkpoints\" not in str(f)]\n",
    "models"
   ]
  },
  {
   "cell_type": "code",
   "execution_count": null,
   "metadata": {
    "execution": {
     "iopub.status.busy": "2022-11-08T23:12:51.988773Z",
     "iopub.status.idle": "2022-11-08T23:12:51.988952Z",
     "shell.execute_reply": "2022-11-08T23:12:51.988865Z",
     "shell.execute_reply.started": "2022-11-08T23:12:51.988856Z"
    },
    "tags": []
   },
   "outputs": [],
   "source": [
    "import pandas as pd\n",
    "endpoints_md = pd.read_csv('/sc-projects/sc-proj-ukb-cvd/results/projects/22_retinal_risk/data/220602/endpoints.csv')\n",
    "endpoints = sorted([l.replace('_prevalent', '') for l in list(pd.read_csv('/sc-projects/sc-proj-ukb-cvd/results/projects/22_retinal_risk/data/220602/endpoints.csv').endpoint.values)])\n",
    "endpoints_md"
   ]
  },
  {
   "cell_type": "code",
   "execution_count": null,
   "metadata": {
    "execution": {
     "iopub.status.busy": "2022-11-08T23:12:51.989804Z",
     "iopub.status.idle": "2022-11-08T23:12:51.990048Z",
     "shell.execute_reply": "2022-11-08T23:12:51.989894Z",
     "shell.execute_reply.started": "2022-11-08T23:12:51.989885Z"
    },
    "tags": []
   },
   "outputs": [],
   "source": [
    "import yaml\n",
    "import pickle\n",
    "import zstandard\n",
    "\n",
    "def get_score_defs():\n",
    "\n",
    "    with open(r'/sc-projects/sc-proj-ukb-cvd/results/projects/22_retina_phewas_220603_fullrun/data/score_definitions.yaml') as file:\n",
    "        score_defs = yaml.full_load(file)\n",
    "    \n",
    "    return score_defs\n",
    "\n",
    "def get_features(endpoint, score_defs):\n",
    "    features = {\n",
    "        model: {\n",
    "            #\"Age+Sex\": score_defs[\"AgeSex\"],\n",
    "            #\"Retina\": [endpoint],\n",
    "            #\"SCORE2\": score_defs[\"SCORE2\"],\n",
    "            #\"ASCVD\": score_defs[\"ASCVD\"],\n",
    "            \"QRISK3\": score_defs[\"QRISK3\"],\n",
    "            #\"Age+Sex+Retina\": score_defs[\"AgeSex\"] + [endpoint],\n",
    "            #\"SCORE2+Retina\": score_defs[\"SCORE2\"] + [endpoint],\n",
    "            #\"ASCVD+Retina\": score_defs[\"ASCVD\"] + [endpoint],\n",
    "            \"QRISK3+Retina\": score_defs[\"QRISK3\"] + [endpoint],\n",
    "            }\n",
    "        for model in models}\n",
    "    return features\n",
    "\n",
    "def load_pickle(fp):\n",
    "    with open(fp, \"rb\") as fh:\n",
    "        dctx = zstandard.ZstdDecompressor()\n",
    "        with dctx.stream_reader(fh) as decompressor:\n",
    "            data = pickle.loads(decompressor.read())\n",
    "    return data\n",
    "\n",
    "def fit_cox(data_fit, feature_set, covariates, endpoint, penalizer, step_size=1):\n",
    "    cph = CoxPHFitter(penalizer=penalizer)\n",
    "    cph.fit(data_fit, f\"{endpoint}_time\", f\"{endpoint}_event\", step_size=step_size)\n",
    "    return cph\n",
    "\n",
    "score_defs = get_score_defs()"
   ]
  },
  {
   "cell_type": "code",
   "execution_count": null,
   "metadata": {
    "execution": {
     "iopub.status.busy": "2022-11-08T23:12:51.990939Z",
     "iopub.status.idle": "2022-11-08T23:12:51.991410Z",
     "shell.execute_reply": "2022-11-08T23:12:51.991299Z",
     "shell.execute_reply.started": "2022-11-08T23:12:51.991285Z"
    },
    "tags": []
   },
   "outputs": [],
   "source": [
    "def clean_covariates(endpoint, covariates):\n",
    "    if endpoint==\"phecode_181\": # Autoimmune disease\n",
    "        covariates = [c for c in covariates if c!=\"systemic_lupus_erythematosus\"]\n",
    "    if endpoint==\"phecode_202\": # Diabetes\n",
    "        covariates = [c for c in covariates if c not in ['diabetes1', 'diabetes2', 'diabetes']]\n",
    "    if endpoint==\"phecode_202-1\": # Diabetes 1\n",
    "        covariates = [c for c in covariates if c!=\"diabetes1\"]\n",
    "    if endpoint==\"phecode_202-2\": # Diabetes 1\n",
    "        covariates = [c for c in covariates if c!=\"diabetes2\"]\n",
    "    if endpoint==\"phecode_286\": # Mood [affective] disorders\n",
    "        covariates = [c for c in covariates if c not in ['bipolar_disorder', 'major_depressive_disorder']]\n",
    "    if endpoint==\"phecode_286-1\": # Bipolar disorder\n",
    "        covariates = [c for c in covariates if c not in ['bipolar_disorder']]\n",
    "    if endpoint==\"phecode_286-2\": # Major depressive disorder\n",
    "        covariates = [c for c in covariates if c not in ['major_depressive_disorder']]\n",
    "    if endpoint==\"phecode_287\": # psychotic disorders\n",
    "        covariates = [c for c in covariates if c not in ['schizophrenia']]\n",
    "    if endpoint==\"phecode_287-1\": # schizophrenia\n",
    "        covariates = [c for c in covariates if c not in ['schizophrenia']]\n",
    "    if endpoint==\"phecode_331\": # headache\n",
    "        covariates = [c for c in covariates if c!=\"migraine\"]\n",
    "    if endpoint==\"phecode_331-6\": # headache\n",
    "        covariates = [c for c in covariates if c!=\"migraine\"]\n",
    "    if endpoint==\"phecode_416\": # atrial fibrillation\n",
    "        covariates = [c for c in covariates if c not in ['atrial_fibrillation']]\n",
    "    if endpoint==\"phecode_416-2\": # atrial fibrillation and flutter\n",
    "        covariates = [c for c in covariates if c not in ['atrial_fibrillation']]\n",
    "    if endpoint==\"phecode_416-21\": # atrial fibrillation\n",
    "        covariates = [c for c in covariates if c not in ['atrial_fibrillation']]\n",
    "    if endpoint==\"phecode_584\": # Renal failure\n",
    "        covariates = [c for c in covariates if c not in ['renal_failure']]\n",
    "    if endpoint==\"phecode_605\": # Male sexual dysfuction\n",
    "        covariates = [c for c in covariates if c not in ['sex_Male', 'male_erectile_dysfunction']]\n",
    "    if endpoint==\"phecode_605-1\": # Male sexual dysfuction\n",
    "        covariates = [c for c in covariates if c not in ['sex_Male', 'male_erectile_dysfunction']]\n",
    "    if endpoint==\"phecode_700\": # Diffuse diseases of connective tissue\n",
    "        covariates = [c for c in covariates if c not in ['systemic_lupus_erythematosus']]\n",
    "    if endpoint==\"phecode_700-1\": # Lupus\n",
    "        covariates = [c for c in covariates if c not in ['systemic_lupus_erythematosus']]\n",
    "    if endpoint==\"phecode_700-11\": # Systemic lupus erythematosus [SLE]\t\n",
    "        covariates = [c for c in covariates if c not in ['systemic_lupus_erythematosus']]\n",
    "    if endpoint==\"phecode_705\": # Rheumatoid arthritis and other inflammatory\n",
    "        covariates = [c for c in covariates if c not in ['rheumatoid_arthritis']]\n",
    "    if endpoint==\"phecode_705-1\": # Rheumatoid arthritis and other inflammatory\n",
    "        covariates = [c for c in covariates if c not in ['rheumatoid_arthritis']]\n",
    "    # added by lukas\n",
    "    if endpoint=='phecode_620':\n",
    "        covariates = [c for c in covariates if c not in ['sex_Male', 'male_erectile_dysfunction']]\n",
    "    if endpoint=='phecode_627':\n",
    "        covariates = [c for c in covariates if c not in ['sex_Male', 'male_erectile_dysfunction']]\n",
    "    if endpoint=='phecode_627-4':\n",
    "        covariates = [c for c in covariates if c not in ['sex_Male', 'male_erectile_dysfunction']]\n",
    "    return covariates"
   ]
  },
  {
   "cell_type": "code",
   "execution_count": null,
   "metadata": {
    "execution": {
     "iopub.status.busy": "2022-11-08T23:12:51.992012Z",
     "iopub.status.idle": "2022-11-08T23:12:51.992396Z",
     "shell.execute_reply": "2022-11-08T23:12:51.992285Z",
     "shell.execute_reply.started": "2022-11-08T23:12:51.992272Z"
    },
    "tags": []
   },
   "outputs": [],
   "source": [
    "# problematic endpoints\n",
    "problem_endpoints = [\n",
    "    'phecode_620',\n",
    "    'phecode_627',\n",
    "    'phecode_627-4',\n",
    "    #\"phecode_181\",\n",
    "    #\"phecode_202\",\n",
    "    #\"phecode_202-1\",\n",
    "    #\"phecode_286\",\n",
    "    #\"phecode_287-1\",\n",
    "    #\"phecode_331\",\n",
    "    #\"phecode_416\",\n",
    "    #\"phecode_416-2\",\n",
    "    #\"phecode_416-21\",\n",
    "    #\"phecode_584\", # \n",
    "    #\"phecode_605\",\n",
    "    #\"phecode_700\",\n",
    "    #\"phecode_700-1\",\n",
    "    #\"phecode_700-11\",\n",
    "    #\"phecode_705\",\n",
    "    #\"phecode_705-1\"\n",
    "]\n",
    "\n",
    "endpoints_md.query(\"endpoint==@problem_endpoints\")"
   ]
  },
  {
   "cell_type": "code",
   "execution_count": null,
   "metadata": {
    "execution": {
     "iopub.status.busy": "2022-11-08T23:12:51.993147Z",
     "iopub.status.idle": "2022-11-08T23:12:51.993323Z",
     "shell.execute_reply": "2022-11-08T23:12:51.993231Z",
     "shell.execute_reply.started": "2022-11-08T23:12:51.993222Z"
    },
    "tags": []
   },
   "outputs": [],
   "source": [
    "from lifelines import CoxPHFitter\n",
    "endpoint = problem_endpoints[0]\n",
    "partition = 20\n",
    "feature_set = \"QRISK3\" # QRISK3+Retina\n",
    "display(endpoints_md.query(\"endpoint==@endpoint\"))\n",
    "\n",
    "test_data = load_pickle(f\"{experiment_path}/coxph/errordata_{endpoint}_{feature_set}_{partition}.p\")\n",
    "display(test_data.T)\n",
    "\n",
    "features = get_features(endpoint, score_defs)\n",
    "print(features)\n",
    "covariates = features[\"ImageTraining_[]_ConvNeXt_MLPHead_predictions_cropratio0.3\"][feature_set]\n",
    "\n",
    "# # clean covariates for the coxphs to fit\n",
    "covariates = clean_covariates(endpoint, covariates)\n",
    "print(covariates)\n",
    "\n",
    "data_endpoint = test_data[covariates + [f\"{endpoint}_event\", f\"{endpoint}_time\"]].astype(np.float32)\n",
    "\n",
    "cph = fit_cox(data_endpoint,#.drop(columns=[\"systemic_lupus_erythematosus\"]), \n",
    "              feature_set, covariates, endpoint, penalizer=0, step_size=0.1)\n",
    "cph.print_summary()"
   ]
  },
  {
   "cell_type": "code",
   "execution_count": null,
   "metadata": {
    "tags": []
   },
   "outputs": [],
   "source": []
  },
  {
   "cell_type": "code",
   "execution_count": null,
   "metadata": {},
   "outputs": [],
   "source": []
  },
  {
   "cell_type": "code",
   "execution_count": null,
   "metadata": {},
   "outputs": [],
   "source": []
  },
  {
   "cell_type": "code",
   "execution_count": null,
   "metadata": {},
   "outputs": [],
   "source": []
  },
  {
   "cell_type": "code",
   "execution_count": null,
   "metadata": {
    "execution": {
     "iopub.status.busy": "2022-11-08T23:12:51.994074Z",
     "iopub.status.idle": "2022-11-08T23:12:51.994538Z",
     "shell.execute_reply": "2022-11-08T23:12:51.994427Z",
     "shell.execute_reply.started": "2022-11-08T23:12:51.994412Z"
    }
   },
   "outputs": [],
   "source": [
    "jobids"
   ]
  },
  {
   "cell_type": "code",
   "execution_count": null,
   "metadata": {
    "tags": []
   },
   "outputs": [],
   "source": []
  },
  {
   "cell_type": "code",
   "execution_count": null,
   "metadata": {
    "execution": {
     "iopub.status.busy": "2022-11-08T23:12:51.995103Z",
     "iopub.status.idle": "2022-11-08T23:12:51.995265Z",
     "shell.execute_reply": "2022-11-08T23:12:51.995189Z",
     "shell.execute_reply.started": "2022-11-08T23:12:51.995180Z"
    },
    "tags": []
   },
   "outputs": [],
   "source": [
    "#fit_partition(in_path, model_path, score_defs, 0)"
   ]
  },
  {
   "cell_type": "code",
   "execution_count": null,
   "metadata": {
    "execution": {
     "iopub.status.busy": "2022-11-08T23:12:51.996100Z",
     "iopub.status.idle": "2022-11-08T23:12:51.996471Z",
     "shell.execute_reply": "2022-11-08T23:12:51.996365Z",
     "shell.execute_reply.started": "2022-11-08T23:12:51.996351Z"
    },
    "tags": []
   },
   "outputs": [],
   "source": [
    "import submitit\n",
    "\n",
    "partitions = [i for i in range(22)]\n",
    "\n",
    "executor = submitit.AutoExecutor(folder=\"log_test/%j\")\n",
    "# set timeout in min, and partition for running the job\n",
    "executor.update_parameters(slurm_array_parallelism=6,\n",
    "                           nodes=1,\n",
    "                           #slurm_mem=\"500G\",\n",
    "                           timeout_min=600,\n",
    "                          #slurm_setup=[\n",
    "                          #  \"\"\"export MKL_NUM_THREADS=1\"\"\",\n",
    "                          #  \"\"\"export NUMEXPR_NUM_THREADS=1\"\"\",\n",
    "                           # \"\"\"export OMP_NUM_THREADS=1\"\"\"]\n",
    "                          )\n",
    "\n",
    "job = executor.map_array(fit_partition, partitions)  \n",
    "\n",
    "\n",
    "# jobs = []\n",
    "# for partition in tqdm(partitions):\n",
    "#     job = executor.submit(fit_partition, in_path, model_path, score_defs, partition)\n",
    "#     jobs.append(job)"
   ]
  },
  {
   "cell_type": "code",
   "execution_count": null,
   "metadata": {},
   "outputs": [],
   "source": []
  },
  {
   "cell_type": "code",
   "execution_count": null,
   "metadata": {},
   "outputs": [],
   "source": []
  },
  {
   "cell_type": "code",
   "execution_count": null,
   "metadata": {},
   "outputs": [],
   "source": []
  },
  {
   "cell_type": "code",
   "execution_count": null,
   "metadata": {},
   "outputs": [],
   "source": []
  },
  {
   "cell_type": "code",
   "execution_count": null,
   "metadata": {},
   "outputs": [],
   "source": []
  },
  {
   "cell_type": "code",
   "execution_count": null,
   "metadata": {},
   "outputs": [],
   "source": []
  },
  {
   "cell_type": "code",
   "execution_count": null,
   "metadata": {},
   "outputs": [],
   "source": []
  },
  {
   "cell_type": "code",
   "execution_count": null,
   "metadata": {},
   "outputs": [],
   "source": []
  },
  {
   "cell_type": "code",
   "execution_count": null,
   "metadata": {
    "execution": {
     "iopub.status.busy": "2022-11-08T23:12:51.997125Z",
     "iopub.status.idle": "2022-11-08T23:12:51.997288Z",
     "shell.execute_reply": "2022-11-08T23:12:51.997210Z",
     "shell.execute_reply.started": "2022-11-08T23:12:51.997202Z"
    },
    "tags": []
   },
   "outputs": [],
   "source": [
    "%env MKL_NUM_THREADS=1\n",
    "%env NUMEXPR_NUM_THREADS=1\n",
    "%env OMP_NUM_THREADS=1\n",
    "\n",
    "import ray\n",
    "#ray start --head --port=6379 --num-cpus 64 # in terminal\n",
    "#ray.init(address='auto')#, dashboard_port=24762, dashboard_host=\"0.0.0.0\", include_dashboard=True)#, webui_url=\"0.0.0.0\"))\n",
    "#ray.init(num_cpus=32)#, dashboard_port=24762, dashboard_host=\"0.0.0.0\", include_dashboard=True)#, webui_url=\"0.0.0.0\"))"
   ]
  },
  {
   "cell_type": "code",
   "execution_count": null,
   "metadata": {
    "execution": {
     "iopub.status.busy": "2022-11-08T23:12:51.998073Z",
     "iopub.status.idle": "2022-11-08T23:12:51.998237Z",
     "shell.execute_reply": "2022-11-08T23:12:51.998159Z",
     "shell.execute_reply.started": "2022-11-08T23:12:51.998151Z"
    },
    "tags": []
   },
   "outputs": [],
   "source": [
    "ray.available_resources()"
   ]
  },
  {
   "cell_type": "code",
   "execution_count": null,
   "metadata": {
    "tags": []
   },
   "outputs": [],
   "source": []
  },
  {
   "cell_type": "code",
   "execution_count": null,
   "metadata": {},
   "outputs": [],
   "source": []
  },
  {
   "cell_type": "code",
   "execution_count": null,
   "metadata": {
    "execution": {
     "iopub.status.busy": "2022-11-08T23:12:51.999056Z",
     "iopub.status.idle": "2022-11-08T23:12:51.999471Z",
     "shell.execute_reply": "2022-11-08T23:12:51.999357Z",
     "shell.execute_reply.started": "2022-11-08T23:12:51.999344Z"
    },
    "tags": []
   },
   "outputs": [],
   "source": [
    "for partition in tqdm(partitions):\n",
    "    fit_partition()"
   ]
  },
  {
   "cell_type": "code",
   "execution_count": null,
   "metadata": {},
   "outputs": [],
   "source": []
  },
  {
   "cell_type": "code",
   "execution_count": null,
   "metadata": {},
   "outputs": [],
   "source": []
  },
  {
   "cell_type": "code",
   "execution_count": null,
   "metadata": {},
   "outputs": [],
   "source": []
  },
  {
   "cell_type": "code",
   "execution_count": null,
   "metadata": {
    "execution": {
     "iopub.status.busy": "2022-11-08T23:12:52.000022Z",
     "iopub.status.idle": "2022-11-08T23:12:52.000525Z",
     "shell.execute_reply": "2022-11-08T23:12:52.000414Z",
     "shell.execute_reply.started": "2022-11-08T23:12:52.000400Z"
    }
   },
   "outputs": [],
   "source": [
    "## Debugging"
   ]
  },
  {
   "cell_type": "code",
   "execution_count": null,
   "metadata": {
    "execution": {
     "iopub.status.busy": "2022-11-08T23:12:52.001025Z",
     "iopub.status.idle": "2022-11-08T23:12:52.001398Z",
     "shell.execute_reply": "2022-11-08T23:12:52.001295Z",
     "shell.execute_reply.started": "2022-11-08T23:12:52.001282Z"
    },
    "tags": []
   },
   "outputs": [],
   "source": [
    "# fit_endpoint(data_partition, eids_dict, endpoint_defs, endpoints[0], partition, models, model_path)"
   ]
  },
  {
   "cell_type": "code",
   "execution_count": null,
   "metadata": {
    "execution": {
     "iopub.status.busy": "2022-11-08T23:12:52.001967Z",
     "iopub.status.idle": "2022-11-08T23:12:52.002127Z",
     "shell.execute_reply": "2022-11-08T23:12:52.002046Z",
     "shell.execute_reply.started": "2022-11-08T23:12:52.002037Z"
    }
   },
   "outputs": [],
   "source": [
    "cph_1 = load_pickle(\"/sc-projects/sc-proj-ukb-cvd/results/projects/22_medical_records/data/220613/coxph/models/OMOP_4306655_QRISK3_0.p\")\n",
    "cph_2 = load_pickle(\"/sc-projects/sc-proj-ukb-cvd/results/projects/22_medical_records/data/220613/coxph/models/OMOP_4306655_Age+Sex+MedicalHistory_0.p\")"
   ]
  },
  {
   "cell_type": "code",
   "execution_count": null,
   "metadata": {
    "execution": {
     "iopub.status.busy": "2022-11-08T23:12:52.002865Z",
     "iopub.status.idle": "2022-11-08T23:12:52.003025Z",
     "shell.execute_reply": "2022-11-08T23:12:52.002948Z",
     "shell.execute_reply.started": "2022-11-08T23:12:52.002940Z"
    }
   },
   "outputs": [],
   "source": [
    "cph_1.print_summary()"
   ]
  },
  {
   "cell_type": "code",
   "execution_count": null,
   "metadata": {
    "execution": {
     "iopub.status.busy": "2022-11-08T23:12:52.003735Z",
     "iopub.status.idle": "2022-11-08T23:12:52.003893Z",
     "shell.execute_reply": "2022-11-08T23:12:52.003817Z",
     "shell.execute_reply.started": "2022-11-08T23:12:52.003809Z"
    }
   },
   "outputs": [],
   "source": [
    "cph_2.print_summary()"
   ]
  },
  {
   "cell_type": "code",
   "execution_count": null,
   "metadata": {
    "execution": {
     "iopub.status.busy": "2022-11-08T23:12:52.004651Z",
     "iopub.status.idle": "2022-11-08T23:12:52.004811Z",
     "shell.execute_reply": "2022-11-08T23:12:52.004733Z",
     "shell.execute_reply.started": "2022-11-08T23:12:52.004725Z"
    }
   },
   "outputs": [],
   "source": [
    "encode_cols = \n",
    "pd.get_dummies(data_partition['Identity(Records)+MLP'], columns=[\"ethnic_background\", \"sex\", \"smoking_status\"], prefix=)"
   ]
  },
  {
   "cell_type": "code",
   "execution_count": null,
   "metadata": {
    "execution": {
     "iopub.status.busy": "2022-11-08T23:12:52.005660Z",
     "iopub.status.idle": "2022-11-08T23:12:52.005834Z",
     "shell.execute_reply": "2022-11-08T23:12:52.005743Z",
     "shell.execute_reply.started": "2022-11-08T23:12:52.005735Z"
    },
    "tags": []
   },
   "outputs": [],
   "source": [
    "data_partition['Identity(Records)+MLP'].select_dtypes(\"category\")"
   ]
  },
  {
   "cell_type": "code",
   "execution_count": null,
   "metadata": {
    "execution": {
     "iopub.status.busy": "2022-11-08T23:12:52.006698Z",
     "iopub.status.idle": "2022-11-08T23:12:52.006876Z",
     "shell.execute_reply": "2022-11-08T23:12:52.006783Z",
     "shell.execute_reply.started": "2022-11-08T23:12:52.006775Z"
    }
   },
   "outputs": [],
   "source": [
    "load_pickle(\"/sc-projects/sc-proj-ukb-cvd/results/projects/22_medical_records/data/220413/coxph/errordata_phecode_002-1_Age+Sex+MedicalHistory+I(Age*MH)_0.p\")"
   ]
  },
  {
   "cell_type": "code",
   "execution_count": null,
   "metadata": {
    "execution": {
     "iopub.status.busy": "2022-11-08T23:12:52.007541Z",
     "iopub.status.idle": "2022-11-08T23:12:52.007720Z",
     "shell.execute_reply": "2022-11-08T23:12:52.007630Z",
     "shell.execute_reply.started": "2022-11-08T23:12:52.007622Z"
    },
    "tags": []
   },
   "outputs": [],
   "source": [
    "data_partition['Identity(Records)+MLP']['phecode_977']"
   ]
  },
  {
   "cell_type": "code",
   "execution_count": null,
   "metadata": {},
   "outputs": [],
   "source": []
  },
  {
   "cell_type": "code",
   "execution_count": null,
   "metadata": {},
   "outputs": [],
   "source": []
  },
  {
   "cell_type": "code",
   "execution_count": null,
   "metadata": {},
   "outputs": [],
   "source": []
  },
  {
   "cell_type": "code",
   "execution_count": null,
   "metadata": {},
   "outputs": [],
   "source": []
  },
  {
   "cell_type": "code",
   "execution_count": null,
   "metadata": {},
   "outputs": [],
   "source": []
  },
  {
   "cell_type": "code",
   "execution_count": null,
   "metadata": {},
   "outputs": [],
   "source": []
  },
  {
   "cell_type": "code",
   "execution_count": null,
   "metadata": {},
   "outputs": [],
   "source": []
  },
  {
   "cell_type": "code",
   "execution_count": null,
   "metadata": {},
   "outputs": [],
   "source": []
  },
  {
   "cell_type": "code",
   "execution_count": null,
   "metadata": {},
   "outputs": [],
   "source": []
  },
  {
   "cell_type": "code",
   "execution_count": null,
   "metadata": {},
   "outputs": [],
   "source": []
  },
  {
   "cell_type": "code",
   "execution_count": null,
   "metadata": {},
   "outputs": [],
   "source": []
  },
  {
   "cell_type": "code",
   "execution_count": null,
   "metadata": {},
   "outputs": [],
   "source": []
  },
  {
   "cell_type": "code",
   "execution_count": null,
   "metadata": {},
   "outputs": [],
   "source": []
  },
  {
   "cell_type": "code",
   "execution_count": null,
   "metadata": {},
   "outputs": [],
   "source": []
  },
  {
   "cell_type": "code",
   "execution_count": null,
   "metadata": {},
   "outputs": [],
   "source": []
  },
  {
   "cell_type": "markdown",
   "metadata": {},
   "source": [
    "# old stuff"
   ]
  },
  {
   "cell_type": "code",
   "execution_count": null,
   "metadata": {
    "execution": {
     "iopub.status.busy": "2022-11-08T23:12:52.008368Z",
     "iopub.status.idle": "2022-11-08T23:12:52.008524Z",
     "shell.execute_reply": "2022-11-08T23:12:52.008448Z",
     "shell.execute_reply.started": "2022-11-08T23:12:52.008440Z"
    }
   },
   "outputs": [],
   "source": [
    "!ls -al {output_path}"
   ]
  },
  {
   "cell_type": "code",
   "execution_count": null,
   "metadata": {
    "execution": {
     "iopub.status.busy": "2022-11-08T23:12:52.009178Z",
     "iopub.status.idle": "2022-11-08T23:12:52.009336Z",
     "shell.execute_reply": "2022-11-08T23:12:52.009255Z",
     "shell.execute_reply.started": "2022-11-08T23:12:52.009247Z"
    },
    "tags": []
   },
   "outputs": [],
   "source": [
    "print(output_path)\n",
    "data_outcomes = pd.read_feather(f\"{output_path}/baseline_outcomes_220531.feather\").set_index(\"eid\")\n",
    "data_outcomes"
   ]
  },
  {
   "cell_type": "code",
   "execution_count": null,
   "metadata": {
    "execution": {
     "iopub.status.busy": "2022-11-08T23:12:52.010119Z",
     "iopub.status.idle": "2022-11-08T23:12:52.010283Z",
     "shell.execute_reply": "2022-11-08T23:12:52.010201Z",
     "shell.execute_reply.started": "2022-11-08T23:12:52.010193Z"
    },
    "tags": []
   },
   "outputs": [],
   "source": [
    "import pandas as pd\n",
    "all_endpoints = sorted([l.replace('_prevalent', '') for l in list(pd.read_csv('/sc-projects/sc-proj-ukb-cvd/results/projects/22_retinal_risk/data/220602/endpoints.csv').endpoint.values)])\n",
    "\n",
    "#all_endpoints = sorted(endpoints_all_md.endpoint.to_list())\n",
    "print(len(all_endpoints))\n",
    "\n",
    "endpoints_not_overlapping_with_preds = []\n",
    "#endpoints_not_overlapping_with_preds_md = pd.read_csv(f\"{experiment_path}/endpoints_not_overlapping.csv\", header=None)\n",
    "#print(len(endpoints_not_overlapping_with_preds_md))\n",
    "#endpoints_not_overlapping_with_preds = list(endpoints_not_overlapping_with_preds_md[0].values)\n",
    "\n",
    "endpoints = []\n",
    "for c in all_endpoints:\n",
    "    if c not in endpoints_not_overlapping_with_preds: # this is what i want\n",
    "        #print('OK    - ',c)\n",
    "        endpoints.append(c)\n",
    "    #if c in endpoints_not_overlapping_with_preds: # this is what causes errors!\n",
    "    #    print('ERROR - ',c)\n",
    "print(len(endpoints))"
   ]
  },
  {
   "cell_type": "code",
   "execution_count": null,
   "metadata": {
    "execution": {
     "iopub.status.busy": "2022-11-08T23:12:52.010982Z",
     "iopub.status.idle": "2022-11-08T23:12:52.011145Z",
     "shell.execute_reply": "2022-11-08T23:12:52.011062Z",
     "shell.execute_reply.started": "2022-11-08T23:12:52.011054Z"
    },
    "tags": []
   },
   "outputs": [],
   "source": [
    "splits = [\"train\", \"valid\", 'test'] # \"test_left\", 'test_right'"
   ]
  },
  {
   "cell_type": "code",
   "execution_count": null,
   "metadata": {
    "execution": {
     "iopub.status.busy": "2022-11-08T23:12:52.011927Z",
     "iopub.status.idle": "2022-11-08T23:12:52.012102Z",
     "shell.execute_reply": "2022-11-08T23:12:52.012010Z",
     "shell.execute_reply.started": "2022-11-08T23:12:52.012002Z"
    },
    "tags": []
   },
   "outputs": [],
   "source": [
    "endpoint_defs = pd.read_feather(f\"{output_path}/phecode_defs_220306.feather\").query(\"endpoint==@endpoints\").sort_values(\"endpoint\").set_index(\"endpoint\")"
   ]
  },
  {
   "cell_type": "code",
   "execution_count": null,
   "metadata": {
    "execution": {
     "iopub.status.busy": "2022-11-08T23:12:52.012999Z",
     "iopub.status.idle": "2022-11-08T23:12:52.013174Z",
     "shell.execute_reply": "2022-11-08T23:12:52.013080Z",
     "shell.execute_reply.started": "2022-11-08T23:12:52.013072Z"
    }
   },
   "outputs": [],
   "source": [
    "from datetime import date\n",
    "today = str(date.today())"
   ]
  },
  {
   "cell_type": "code",
   "execution_count": null,
   "metadata": {
    "execution": {
     "iopub.status.busy": "2022-11-08T23:12:52.013757Z",
     "iopub.status.idle": "2022-11-08T23:12:52.013909Z",
     "shell.execute_reply": "2022-11-08T23:12:52.013835Z",
     "shell.execute_reply.started": "2022-11-08T23:12:52.013827Z"
    },
    "tags": []
   },
   "outputs": [],
   "source": [
    "eligable_eids = pd.read_feather(f\"{output_path}/eligable_eids_{today}.feather\") # TODO CHANGE!\n",
    "eids_dict = eligable_eids.set_index(\"endpoint\")[\"eid_list\"].to_dict()"
   ]
  },
  {
   "cell_type": "code",
   "execution_count": null,
   "metadata": {
    "execution": {
     "iopub.status.busy": "2022-11-08T23:12:52.014849Z",
     "iopub.status.idle": "2022-11-08T23:12:52.015028Z",
     "shell.execute_reply": "2022-11-08T23:12:52.014934Z",
     "shell.execute_reply.started": "2022-11-08T23:12:52.014926Z"
    },
    "tags": []
   },
   "outputs": [],
   "source": [
    "%env MKL_NUM_THREADS=4\n",
    "%env NUMEXPR_NUM_THREADS=4\n",
    "%env OMP_NUM_THREADS=4"
   ]
  },
  {
   "cell_type": "code",
   "execution_count": null,
   "metadata": {
    "execution": {
     "iopub.status.busy": "2022-11-08T23:12:52.016078Z",
     "iopub.status.idle": "2022-11-08T23:12:52.016258Z",
     "shell.execute_reply": "2022-11-08T23:12:52.016163Z",
     "shell.execute_reply.started": "2022-11-08T23:12:52.016155Z"
    },
    "tags": []
   },
   "outputs": [],
   "source": [
    "ray.shutdown()"
   ]
  },
  {
   "cell_type": "code",
   "execution_count": null,
   "metadata": {
    "execution": {
     "iopub.status.busy": "2022-11-08T23:12:52.017000Z",
     "iopub.status.idle": "2022-11-08T23:12:52.017377Z",
     "shell.execute_reply": "2022-11-08T23:12:52.017271Z",
     "shell.execute_reply.started": "2022-11-08T23:12:52.017259Z"
    },
    "tags": []
   },
   "outputs": [],
   "source": [
    "import ray\n",
    "\n",
    "ray.init(num_cpus=24)#, dashboard_port=24762, dashboard_host=\"0.0.0.0\", include_dashboard=True)#, webui_url=\"0.0.0.0\"))"
   ]
  },
  {
   "cell_type": "code",
   "execution_count": null,
   "metadata": {
    "execution": {
     "iopub.status.busy": "2022-11-08T23:12:52.018042Z",
     "iopub.status.idle": "2022-11-08T23:12:52.018198Z",
     "shell.execute_reply": "2022-11-08T23:12:52.018121Z",
     "shell.execute_reply.started": "2022-11-08T23:12:52.018113Z"
    },
    "tags": []
   },
   "outputs": [],
   "source": [
    "AgeSex = [\"age_at_recruitment_f21022_0_0\", \"sex_f31_0_0\"]"
   ]
  },
  {
   "cell_type": "markdown",
   "metadata": {},
   "source": [
    "# Train COX"
   ]
  },
  {
   "cell_type": "code",
   "execution_count": null,
   "metadata": {
    "execution": {
     "iopub.status.busy": "2022-11-08T23:12:52.018991Z",
     "iopub.status.idle": "2022-11-08T23:12:52.019160Z",
     "shell.execute_reply": "2022-11-08T23:12:52.019077Z",
     "shell.execute_reply.started": "2022-11-08T23:12:52.019069Z"
    },
    "tags": []
   },
   "outputs": [],
   "source": [
    "in_path = pathlib.Path(f\"{experiment_path}/coxph/input\")\n",
    "in_path.mkdir(parents=True, exist_ok=True)\n",
    "\n",
    "model_path = f\"{experiment_path}/coxph/models\"\n",
    "pathlib.Path(model_path).mkdir(parents=True, exist_ok=True)"
   ]
  },
  {
   "cell_type": "code",
   "execution_count": null,
   "metadata": {
    "execution": {
     "iopub.status.busy": "2022-11-08T23:12:52.019906Z",
     "iopub.status.idle": "2022-11-08T23:12:52.020065Z",
     "shell.execute_reply": "2022-11-08T23:12:52.019987Z",
     "shell.execute_reply.started": "2022-11-08T23:12:52.019979Z"
    },
    "tags": []
   },
   "outputs": [],
   "source": [
    "models = [f.name for f in in_path.iterdir() if f.is_dir() and \"ipynb_checkpoints\" not in str(f)]\n",
    "models"
   ]
  },
  {
   "cell_type": "code",
   "execution_count": null,
   "metadata": {
    "execution": {
     "iopub.status.busy": "2022-11-08T23:12:52.020959Z",
     "iopub.status.idle": "2022-11-08T23:12:52.021324Z",
     "shell.execute_reply": "2022-11-08T23:12:52.021215Z",
     "shell.execute_reply.started": "2022-11-08T23:12:52.021203Z"
    },
    "tags": []
   },
   "outputs": [],
   "source": [
    "from formulaic.errors import FactorEvaluationError"
   ]
  },
  {
   "cell_type": "code",
   "execution_count": null,
   "metadata": {
    "execution": {
     "iopub.status.busy": "2022-11-08T23:12:52.022117Z",
     "iopub.status.idle": "2022-11-08T23:12:52.022389Z",
     "shell.execute_reply": "2022-11-08T23:12:52.022285Z",
     "shell.execute_reply.started": "2022-11-08T23:12:52.022274Z"
    }
   },
   "outputs": [],
   "source": [
    "in_path"
   ]
  },
  {
   "cell_type": "code",
   "execution_count": null,
   "metadata": {
    "execution": {
     "iopub.status.busy": "2022-11-08T23:12:52.023205Z",
     "iopub.status.idle": "2022-11-08T23:12:52.023388Z",
     "shell.execute_reply": "2022-11-08T23:12:52.023292Z",
     "shell.execute_reply.started": "2022-11-08T23:12:52.023284Z"
    },
    "tags": []
   },
   "outputs": [],
   "source": [
    "from lifelines import CoxPHFitter\n",
    "from lifelines.exceptions import ConvergenceError\n",
    "import zstandard\n",
    "import pickle\n",
    "\n",
    "def get_features(endpoint):\n",
    "    features = {\n",
    "        models[0]: { # TODO CHANGE!\n",
    "            \"Age+Sex\": AgeSex,\n",
    "            \"Retina\": [endpoint],\n",
    "            \"Age+Sex+Retina\": AgeSex + [endpoint],\n",
    "            #\"Age+Sex+MedicalHistory+I(Age*MH)\": AgeSex + [endpoint]\n",
    "            }\n",
    "    }\n",
    "    return features\n",
    "\n",
    "def get_train_data(in_path, partition, models, mapping):\n",
    "    train_data = {\n",
    "        model: pd.read_feather(f\"{in_path}/{model}/{partition}/train.feather\").set_index(\"eid\").merge(data_outcomes, left_index=True, right_index=True, how=\"left\").replace(mapping)\n",
    "    for model in models}\n",
    "    \n",
    "    return train_data\n",
    "\n",
    "def fit_cox(data_fit, feature_set, covariates, endpoint, penalizer, step_size=1):\n",
    "    if feature_set==\"Age+Sex+MedicalHistory+I(Age*MH)\":\n",
    "        endpoint_label = endpoint.replace(\"-\", \"\")\n",
    "        data_fit.columns = [c.replace(\"-\", \"\") for c in data_fit.columns]\n",
    "        covariates = [c.replace(\"-\", \"\") for c in covariates]\n",
    "        #print(endpoint_label)\n",
    "        #print(data_fit)\n",
    "        #print(covariates)\n",
    "        if \"sex_f31_0_0\" in covariates:\n",
    "            formula=f\"age_at_recruitment_f21022_0_0*{endpoint_label}+sex_f31_0_0*{endpoint_label}\"\n",
    "        else:\n",
    "            formula=f\"age_at_recruitment_f21022_0_0*{endpoint_label}\"\n",
    "        cph = CoxPHFitter(penalizer=penalizer)\n",
    "        cph.fit(data_fit, f\"{endpoint_label}_time\", f\"{endpoint_label}_event\", formula=formula, step_size=step_size)\n",
    "    else:\n",
    "        cph = CoxPHFitter(penalizer=penalizer)\n",
    "        cph.fit(data_fit, f\"{endpoint}_time\", f\"{endpoint}_event\", step_size=step_size)\n",
    "\n",
    "    return cph\n",
    "\n",
    "def save_pickle(data, data_path):\n",
    "    with open(data_path, \"wb\") as fh:\n",
    "        cctx = zstandard.ZstdCompressor()\n",
    "        with cctx.stream_writer(fh) as compressor:\n",
    "            compressor.write(pickle.dumps(data, protocol=pickle.HIGHEST_PROTOCOL))\n",
    "            \n",
    "def load_pickle(fp):\n",
    "    with open(fp, \"rb\") as fh:\n",
    "        dctx = zstandard.ZstdDecompressor()\n",
    "        with dctx.stream_reader(fh) as decompressor:\n",
    "            data = pickle.loads(decompressor.read())\n",
    "    return data\n",
    "\n",
    "@ray.remote\n",
    "def fit_endpoint(data_partition, eids_dict, endpoint_defs, endpoint, partition, models, model_path):\n",
    "    eids_incl = eids_dict[endpoint].tolist()\n",
    "    features = get_features(endpoint)\n",
    "    eligibility = endpoint_defs.loc[endpoint][\"sex\"]\n",
    "    for model in models:\n",
    "        data_model = data_partition[model]\n",
    "        for feature_set, covariates in features[model].items():\n",
    "            cph_path = f\"{model_path}/{endpoint}_{feature_set}_{partition}.p\"\n",
    "            if os.path.isfile(cph_path):\n",
    "                try:\n",
    "                    cph = load_pickle(cph_path)\n",
    "                    success = True\n",
    "                except:\n",
    "                    success = False\n",
    "                    pass\n",
    "            if not os.path.isfile(cph_path) or success==False:\n",
    "                if (eligibility != \"Both\") and (\"sex_f31_0_0\" in covariates): \n",
    "                    covariates = [c for c in covariates if c!=\"sex_f31_0_0\"]\n",
    "                #print('covariates:', covariates)\n",
    "                data_endpoint = data_model[covariates + [f\"{endpoint}_event\", f\"{endpoint}_time\"]].astype(np.float32)\n",
    "                data_endpoint = data_endpoint[data_endpoint.index.isin(eids_incl)]\n",
    "                try:\n",
    "                    cph = fit_cox(data_endpoint, feature_set, covariates, endpoint, penalizer=0.0)\n",
    "                    save_pickle(cph, cph_path)\n",
    "                except (ValueError, ConvergenceError, KeyError,FactorEvaluationError) as e:\n",
    "                    print(\"ConvergenceError\", model, endpoint, feature_set, partition, \"problem: reduce step size\")\n",
    "                    try:\n",
    "                        cph = fit_cox(data_endpoint, feature_set, covariates, endpoint, penalizer=0.0, step_size=0.5)\n",
    "                        save_pickle(cph, cph_path)\n",
    "                        print(\"ConvergenceError\", model, endpoint, feature_set, partition, \"trying with reduced step size ... 0.5 successfull\")\n",
    "                    except (ValueError, ConvergenceError, KeyError,FactorEvaluationError) as e:\n",
    "                        print(\"ConvergenceError\", model, endpoint, feature_set, partition, \"trying with reduced step size ... 0.5 failed\")\n",
    "                        try:\n",
    "                            cph = fit_cox(data_endpoint, feature_set, covariates, endpoint, penalizer=0.0, step_size=0.1)\n",
    "                            save_pickle(cph, cph_path)\n",
    "                            print(\"ConvergenceError\", model, endpoint, feature_set, partition, \"trying with reduced step size ... 0.1 successfull\")\n",
    "                        except (ValueError, ConvergenceError, KeyError, FactorEvaluationError) as e:\n",
    "                            print(\"ConvergenceError\", model, endpoint, feature_set, partition, \"trying with reduced step size ... 0.1 failed\")\n",
    "                            save_pickle(data_endpoint, f\"{experiment_path}/coxph/errordata_{endpoint}_{feature_set}_{partition}.p\")\n",
    "                            pass\n",
    "    return True"
   ]
  },
  {
   "cell_type": "code",
   "execution_count": null,
   "metadata": {
    "execution": {
     "iopub.status.busy": "2022-11-08T23:12:52.024178Z",
     "iopub.status.idle": "2022-11-08T23:12:52.024358Z",
     "shell.execute_reply": "2022-11-08T23:12:52.024264Z",
     "shell.execute_reply.started": "2022-11-08T23:12:52.024256Z"
    }
   },
   "outputs": [],
   "source": [
    "f\"{experiment_path}/coxph\""
   ]
  },
  {
   "cell_type": "raw",
   "metadata": {
    "execution": {
     "iopub.execute_input": "2022-04-14T14:30:58.815755Z",
     "iopub.status.busy": "2022-04-14T14:30:58.815646Z",
     "iopub.status.idle": "2022-04-14T14:30:59.641195Z",
     "shell.execute_reply": "2022-04-14T14:30:59.640433Z",
     "shell.execute_reply.started": "2022-04-14T14:30:58.815742Z"
    },
    "tags": []
   },
   "source": [
    "features = get_features(endpoint)\n",
    "covariates = features['Identity(Records)+MLP']['Age+Sex+MedicalHistory+I(Age*MH)']"
   ]
  },
  {
   "cell_type": "raw",
   "metadata": {
    "execution": {
     "iopub.status.busy": "2022-04-14T14:30:59.642136Z",
     "iopub.status.idle": "2022-04-14T14:30:59.642450Z",
     "shell.execute_reply": "2022-04-14T14:30:59.642343Z",
     "shell.execute_reply.started": "2022-04-14T14:30:59.642329Z"
    },
    "tags": []
   },
   "source": [
    "formula=f\"{' + '.join(covariates)}+age_at_recruitment_f21022_0_0*{endpoint}\"\n",
    "formula"
   ]
  },
  {
   "cell_type": "code",
   "execution_count": null,
   "metadata": {
    "execution": {
     "iopub.status.busy": "2022-11-08T23:12:52.024965Z",
     "iopub.status.idle": "2022-11-08T23:12:52.025347Z",
     "shell.execute_reply": "2022-11-08T23:12:52.025243Z",
     "shell.execute_reply.started": "2022-11-08T23:12:52.025231Z"
    },
    "tags": []
   },
   "outputs": [],
   "source": [
    "model_list =  !ls $model_path\n",
    "#model_list = [m for m in model_list if \"I(\" in m]\n",
    "model_list = [m for m in model_list]"
   ]
  },
  {
   "cell_type": "code",
   "execution_count": null,
   "metadata": {
    "execution": {
     "iopub.status.busy": "2022-11-08T23:12:52.026023Z",
     "iopub.status.idle": "2022-11-08T23:12:52.026398Z",
     "shell.execute_reply": "2022-11-08T23:12:52.026293Z",
     "shell.execute_reply.started": "2022-11-08T23:12:52.026280Z"
    },
    "tags": []
   },
   "outputs": [],
   "source": [
    "model_list"
   ]
  },
  {
   "cell_type": "code",
   "execution_count": null,
   "metadata": {
    "execution": {
     "iopub.status.busy": "2022-11-08T23:12:52.027024Z",
     "iopub.status.idle": "2022-11-08T23:12:52.027475Z",
     "shell.execute_reply": "2022-11-08T23:12:52.027366Z",
     "shell.execute_reply.started": "2022-11-08T23:12:52.027352Z"
    }
   },
   "outputs": [],
   "source": [
    "1+1"
   ]
  },
  {
   "cell_type": "raw",
   "metadata": {
    "jupyter": {
     "outputs_hidden": true
    },
    "tags": []
   },
   "source": [
    "#### TEST ####\n",
    "\n",
    "mapping = {\"sex_f31_0_0\": {\"Female\":0, \"Male\":1}}\n",
    "\n",
    "for partition in tqdm([0]): # in tqdm(partitions) # TODO: CHANGE!\n",
    "    try:\n",
    "        data_partition = get_train_data(in_path, partition, models, mapping)\n",
    "        for endpoint in tqdm(endpoints):\n",
    "            print('NEXT ENDPOINT:',endpoint)\n",
    "            if endpoint not in endpoints_not_overlapping_with_preds: # double check if this works as expected\n",
    "                fit_endpoint(data_partition, eids_dict, endpoint_defs, endpoint, partition, models, model_path)\n",
    "            else:\n",
    "                print('überspringe', endpoint)\n",
    "    except FileNotFoundError:\n",
    "        print('file not found')\n",
    "        pass"
   ]
  },
  {
   "cell_type": "code",
   "execution_count": null,
   "metadata": {
    "execution": {
     "iopub.status.busy": "2022-11-08T23:12:52.028040Z",
     "iopub.status.idle": "2022-11-08T23:12:52.028394Z",
     "shell.execute_reply": "2022-11-08T23:12:52.028287Z",
     "shell.execute_reply.started": "2022-11-08T23:12:52.028274Z"
    },
    "tags": []
   },
   "outputs": [],
   "source": [
    "mapping = {\"sex_f31_0_0\": {\"Female\":0, \"Male\":1}}\n",
    "\n",
    "ray_eids = ray.put(eids_dict)\n",
    "ray_endpoint_defs = ray.put(endpoint_defs)\n",
    "for partition in tqdm([0]): # in tqdm(partitions) # TODO: CHANGE!\n",
    "    try:\n",
    "        del ray_partition\n",
    "    except:\n",
    "        print(\"Ray object not yet initialised\")\n",
    "    try:\n",
    "        data_partition = get_train_data(in_path, partition, models, mapping)\n",
    "        ray_partition = ray.put(data_partition)\n",
    "        progress = []\n",
    "        for endpoint in endpoints:\n",
    "            progress.append(fit_endpoint.remote(ray_partition, ray_eids, ray_endpoint_defs, endpoint, partition, models, model_path))\n",
    "        [ray.get(s) for s in tqdm(progress)]\n",
    "    except FileNotFoundError:\n",
    "        print('file not found')\n",
    "        pass"
   ]
  },
  {
   "cell_type": "code",
   "execution_count": null,
   "metadata": {
    "execution": {
     "iopub.status.busy": "2022-11-08T23:12:52.029046Z",
     "iopub.status.idle": "2022-11-08T23:12:52.029219Z",
     "shell.execute_reply": "2022-11-08T23:12:52.029131Z",
     "shell.execute_reply.started": "2022-11-08T23:12:52.029123Z"
    },
    "tags": []
   },
   "outputs": [],
   "source": [
    "load_pickle(\"/sc-projects/sc-proj-ukb-cvd/results/projects/22_retina_phewas/data/test_experiment/coxph/models/phecode_841_Retina_0.p\")"
   ]
  },
  {
   "cell_type": "code",
   "execution_count": null,
   "metadata": {
    "execution": {
     "iopub.status.busy": "2022-11-08T23:12:52.029800Z",
     "iopub.status.idle": "2022-11-08T23:12:52.029951Z",
     "shell.execute_reply": "2022-11-08T23:12:52.029876Z",
     "shell.execute_reply.started": "2022-11-08T23:12:52.029868Z"
    },
    "tags": []
   },
   "outputs": [],
   "source": [
    "data_partition['Identity(Records)+MLP']['phecode_977']"
   ]
  },
  {
   "cell_type": "code",
   "execution_count": null,
   "metadata": {},
   "outputs": [],
   "source": []
  }
 ],
 "metadata": {
  "kernelspec": {
   "display_name": "Python [conda env:.conda-python]",
   "language": "python",
   "name": "conda-env-.conda-python-py"
  },
  "language_info": {
   "codemirror_mode": {
    "name": "ipython",
    "version": 3
   },
   "file_extension": ".py",
   "mimetype": "text/x-python",
   "name": "python",
   "nbconvert_exporter": "python",
   "pygments_lexer": "ipython3",
   "version": "3.11.0"
  },
  "toc-autonumbering": false
 },
 "nbformat": 4,
 "nbformat_minor": 4
}
