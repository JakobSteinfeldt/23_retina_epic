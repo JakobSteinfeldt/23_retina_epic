{
 "cells": [
  {
   "cell_type": "markdown",
   "metadata": {},
   "source": [
    "# Fit Cox Models"
   ]
  },
  {
   "cell_type": "markdown",
   "metadata": {},
   "source": [
    "## Initialize"
   ]
  },
  {
   "cell_type": "code",
   "execution_count": null,
   "metadata": {
    "tags": []
   },
   "outputs": [],
   "source": [
    "import os\n",
    "import math\n",
    "import pathlib\n",
    "import numpy as np\n",
    "import pandas as pd\n",
    "from tqdm.auto import tqdm\n",
    "from IPython.display import clear_output\n",
    "import ray\n",
    "import datetime\n",
    "import subprocess\n",
    "import warnings\n",
    "import lifelines\n",
    "from lifelines.utils import CensoringType\n",
    "from lifelines.utils import concordance_index"
   ]
  },
  {
   "cell_type": "code",
   "execution_count": null,
   "metadata": {},
   "outputs": [],
   "source": [
    "base_path = \"/home/jakobs\"\n",
    "\n",
    "project_path = f\"{base_path}/data\"\n",
    "\n",
    "#experiment = '230629'\n",
    "#experiment_path = f\"{project_path}/{experiment}\"\n",
    "#pathlib.Path(experiment_path).mkdir(parents=True, exist_ok=True)\n",
    "\n",
    "partitions = [i for i in range(10)]"
   ]
  },
  {
   "cell_type": "code",
   "execution_count": null,
   "metadata": {},
   "outputs": [],
   "source": [
    "os.environ['MKL_NUM_THREADS'] = \"1\"\n",
    "os.environ['NUMEXPR_NUM_THREADS'] = \"1\"\n",
    "os.environ['OMP_NUM_THREADS'] = \"1\""
   ]
  },
  {
   "cell_type": "code",
   "execution_count": null,
   "metadata": {},
   "outputs": [],
   "source": [
    "from scripts.coxph_fit_partition import load_data, fit_endpoint"
   ]
  },
  {
   "cell_type": "code",
   "execution_count": null,
   "metadata": {},
   "outputs": [],
   "source": [
    "partitions"
   ]
  },
  {
   "cell_type": "code",
   "execution_count": null,
   "metadata": {},
   "outputs": [],
   "source": [
    "for partition in tqdm(partitions):\n",
    "    eids_dict, score_defs, endpoint_defs, endpoints, models, model_path, experiment_path, data_partition = load_data(partition)\n",
    "    # setup ray and put files in plasma storage\n",
    "    #ray.init(num_cpus=24) # crashes if num_cpus > 16, why not more possible?\n",
    "    ray_eids = ray.put(eids_dict)\n",
    "    ray_score_defs = ray.put(score_defs)\n",
    "    ray_endpoint_defs = ray.put(endpoint_defs)\n",
    "    ray_partition = ray.put(data_partition)\n",
    "    # fit cox models via ray\n",
    "    progress = []\n",
    "    for endpoint in endpoints:\n",
    "        progress.append(fit_endpoint.remote(ray_partition, ray_eids, ray_score_defs, ray_endpoint_defs, endpoint, partition, models, model_path, experiment_path))\n",
    "    [ray.get(s) for s in tqdm(progress)]"
   ]
  },
  {
   "cell_type": "markdown",
   "metadata": {},
   "source": [
    "## Check progress"
   ]
  },
  {
   "cell_type": "code",
   "execution_count": null,
   "metadata": {
    "tags": []
   },
   "outputs": [],
   "source": [
    "cox_paths = os.listdir(f\"{experiment_path}/coxph/models/\")\n",
    "#len(cox_paths), cox_paths[0]\n",
    "path_df = pd.DataFrame(data = [p[:-2] for p in cox_paths]).rename(columns={0:\"path\"})\n",
    "print(path_df.head())\n",
    "path_df[[\"endpoint_1\", \"endpoint_2\", \"score\", \"model\", \"partition\"]] = path_df[\"path\"].str.split(\"_\", expand=True)"
   ]
  },
  {
   "cell_type": "code",
   "execution_count": null,
   "metadata": {},
   "outputs": [],
   "source": [
    "experiment_path"
   ]
  },
  {
   "cell_type": "code",
   "execution_count": null,
   "metadata": {},
   "outputs": [],
   "source": [
    "experiment_path"
   ]
  },
  {
   "cell_type": "code",
   "execution_count": null,
   "metadata": {},
   "outputs": [],
   "source": [
    "cox_paths"
   ]
  },
  {
   "cell_type": "code",
   "execution_count": null,
   "metadata": {},
   "outputs": [],
   "source": [
    "path_df[\"endpoint\"] = path_df[\"endpoint_1\"] + \"_\" + path_df[\"endpoint_2\"] \n",
    "\n",
    "path_df.value_counts([\"partition\"]).to_frame()"
   ]
  },
  {
   "cell_type": "code",
   "execution_count": null,
   "metadata": {},
   "outputs": [],
   "source": []
  }
 ],
 "metadata": {
  "kernelspec": {
   "display_name": "Python [conda env:.conda-python]",
   "language": "python",
   "name": "conda-env-.conda-python-py"
  },
  "language_info": {
   "codemirror_mode": {
    "name": "ipython",
    "version": 3
   },
   "file_extension": ".py",
   "mimetype": "text/x-python",
   "name": "python",
   "nbconvert_exporter": "python",
   "pygments_lexer": "ipython3",
   "version": "3.11.0"
  },
  "toc-autonumbering": false
 },
 "nbformat": 4,
 "nbformat_minor": 4
}
