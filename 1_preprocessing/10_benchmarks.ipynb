{
 "cells": [
  {
   "cell_type": "markdown",
   "metadata": {},
   "source": [
    "# Benchmark Models"
   ]
  },
  {
   "cell_type": "markdown",
   "metadata": {},
   "source": [
    "## Initialize"
   ]
  },
  {
   "cell_type": "code",
   "execution_count": 7,
   "metadata": {
    "tags": []
   },
   "outputs": [
    {
     "name": "stdout",
     "output_type": "stream",
     "text": [
      "The autoreload extension is already loaded. To reload it, use:\n",
      "  %reload_ext autoreload\n"
     ]
    }
   ],
   "source": [
    "%load_ext autoreload\n",
    "%autoreload 2\n",
    "\n",
    "import os\n",
    "from tqdm.auto import tqdm\n",
    "import pathlib\n",
    "import datetime\n",
    "import subprocess\n",
    "import numpy as np\n",
    "import pandas as pd\n",
    "import lifelines"
   ]
  },
  {
   "cell_type": "code",
   "execution_count": 8,
   "metadata": {
    "tags": []
   },
   "outputs": [],
   "source": [
    "base_path = \"/home/jakobs\"\n",
    "\n",
    "project_path = f\"{base_path}/data\"\n",
    "\n",
    "experiment = '230629'\n",
    "experiment_path = f\"{project_path}/{experiment}\"\n",
    "pathlib.Path(experiment_path).mkdir(parents=True, exist_ok=True)\n",
    "\n",
    "partitions = [i for i in range(10)]\n",
    "\n",
    "today = experiment "
   ]
  },
  {
   "cell_type": "code",
   "execution_count": 9,
   "metadata": {},
   "outputs": [],
   "source": [
    "endpoint_defs = pd.read_feather(f\"{base_path}/data/endpoints_epic_md.feather\").set_index(\"endpoint\")\n",
    "endpoints = endpoint_defs.index.to_list()"
   ]
  },
  {
   "cell_type": "code",
   "execution_count": 10,
   "metadata": {},
   "outputs": [],
   "source": [
    "from scripts.benchmarks_iteration import load_data, calculate_iteration"
   ]
  },
  {
   "cell_type": "code",
   "execution_count": 11,
   "metadata": {},
   "outputs": [],
   "source": [
    "os.environ['MKL_NUM_THREADS'] = \"1\"\n",
    "os.environ['NUMEXPR_NUM_THREADS'] = \"1\"\n",
    "os.environ['OMP_NUM_THREADS'] = \"1\""
   ]
  },
  {
   "cell_type": "code",
   "execution_count": 13,
   "metadata": {},
   "outputs": [
    {
     "data": {
      "application/vnd.jupyter.widget-view+json": {
       "model_id": "49effbbe052b49cebd02f589c7f20fa0",
       "version_major": 2,
       "version_minor": 0
      },
      "text/plain": [
       "  0%|          | 0/10 [00:00<?, ?it/s]"
      ]
     },
     "metadata": {},
     "output_type": "display_data"
    },
    {
     "data": {
      "application/vnd.jupyter.widget-view+json": {
       "model_id": "e1d6049ac55846f68b1484723e8066db",
       "version_major": 2,
       "version_minor": 0
      },
      "text/plain": [
       "  0%|          | 0/368 [00:00<?, ?it/s]"
      ]
     },
     "metadata": {},
     "output_type": "display_data"
    },
    {
     "data": {
      "application/vnd.jupyter.widget-view+json": {
       "model_id": "88ea043b171847e4897f43e20401c8d8",
       "version_major": 2,
       "version_minor": 0
      },
      "text/plain": [
       "  0%|          | 0/368 [00:00<?, ?it/s]"
      ]
     },
     "metadata": {},
     "output_type": "display_data"
    },
    {
     "data": {
      "application/vnd.jupyter.widget-view+json": {
       "model_id": "1375d1d26afd437a889aafa191fbbd3e",
       "version_major": 2,
       "version_minor": 0
      },
      "text/plain": [
       "  0%|          | 0/368 [00:00<?, ?it/s]"
      ]
     },
     "metadata": {},
     "output_type": "display_data"
    },
    {
     "data": {
      "application/vnd.jupyter.widget-view+json": {
       "model_id": "d77f4de853bd44058b85fb433b3dbe76",
       "version_major": 2,
       "version_minor": 0
      },
      "text/plain": [
       "  0%|          | 0/368 [00:00<?, ?it/s]"
      ]
     },
     "metadata": {},
     "output_type": "display_data"
    },
    {
     "data": {
      "application/vnd.jupyter.widget-view+json": {
       "model_id": "588f62c2911e49bbb2f83b547212c95c",
       "version_major": 2,
       "version_minor": 0
      },
      "text/plain": [
       "  0%|          | 0/368 [00:00<?, ?it/s]"
      ]
     },
     "metadata": {},
     "output_type": "display_data"
    },
    {
     "data": {
      "application/vnd.jupyter.widget-view+json": {
       "model_id": "e672c83c5a0644efa6b1a58c1b432ae8",
       "version_major": 2,
       "version_minor": 0
      },
      "text/plain": [
       "  0%|          | 0/368 [00:00<?, ?it/s]"
      ]
     },
     "metadata": {},
     "output_type": "display_data"
    },
    {
     "data": {
      "application/vnd.jupyter.widget-view+json": {
       "model_id": "9227c400735a498fb10395a70119dffd",
       "version_major": 2,
       "version_minor": 0
      },
      "text/plain": [
       "  0%|          | 0/368 [00:00<?, ?it/s]"
      ]
     },
     "metadata": {},
     "output_type": "display_data"
    },
    {
     "data": {
      "application/vnd.jupyter.widget-view+json": {
       "model_id": "704d98fb670b4da981f80ef1388b50ee",
       "version_major": 2,
       "version_minor": 0
      },
      "text/plain": [
       "  0%|          | 0/368 [00:00<?, ?it/s]"
      ]
     },
     "metadata": {},
     "output_type": "display_data"
    },
    {
     "data": {
      "application/vnd.jupyter.widget-view+json": {
       "model_id": "b2f358cacef64301ac1d63bed6a03f74",
       "version_major": 2,
       "version_minor": 0
      },
      "text/plain": [
       "  0%|          | 0/368 [00:00<?, ?it/s]"
      ]
     },
     "metadata": {},
     "output_type": "display_data"
    },
    {
     "data": {
      "application/vnd.jupyter.widget-view+json": {
       "model_id": "dd3b8f0486aa4356a308687868bb5daa",
       "version_major": 2,
       "version_minor": 0
      },
      "text/plain": [
       "  0%|          | 0/368 [00:00<?, ?it/s]"
      ]
     },
     "metadata": {},
     "output_type": "display_data"
    }
   ],
   "source": [
    "rows_ray = []\n",
    "iterations = [i for i in range(100)]\n",
    "model = \"RetinaUKB\"\n",
    "t_eval = 10\n",
    "for iteration in tqdm(iterations[:10]):\n",
    "    output_path, experiment_path, in_path, out_path, endpoints, scores, prediction_paths, eids_dict = load_data()\n",
    "    for endpoint in tqdm(endpoints): \n",
    "        eids_e = eids_dict[endpoint]\n",
    "\n",
    "        #ds = calculate_iteration.remote(in_path, prediction_paths, endpoint, scores, partition, model, t_eval, iteration, eids_e, output_path) #ray\n",
    "\n",
    "        ds = calculate_iteration(in_path, prediction_paths, endpoint, scores, model, t_eval, iteration, eids_e, output_path) #ray\n",
    "        rows_ray.append(ds)\n",
    "\n",
    "        del eids_e"
   ]
  },
  {
   "cell_type": "code",
   "execution_count": 14,
   "metadata": {},
   "outputs": [],
   "source": [
    "#rows = [ray.get(r) for r in tqdm(rows_ray)] # ray\n",
    "rows = rows_ray # not ray\n",
    "rows_finished = [item for sublist in rows for item in sublist]\n",
    "benchmark_endpoints = pd.DataFrame(rows_finished)\n",
    "\n",
    "benchmark_endpoints.to_feather(f\"{experiment_path}/benchmarks_230629.feather\")"
   ]
  },
  {
   "cell_type": "code",
   "execution_count": 15,
   "metadata": {},
   "outputs": [
    {
     "data": {
      "text/html": [
       "<div>\n",
       "<style scoped>\n",
       "    .dataframe tbody tr th:only-of-type {\n",
       "        vertical-align: middle;\n",
       "    }\n",
       "\n",
       "    .dataframe tbody tr th {\n",
       "        vertical-align: top;\n",
       "    }\n",
       "\n",
       "    .dataframe thead th {\n",
       "        text-align: right;\n",
       "    }\n",
       "</style>\n",
       "<table border=\"1\" class=\"dataframe\">\n",
       "  <thead>\n",
       "    <tr style=\"text-align: right;\">\n",
       "      <th></th>\n",
       "      <th>cindex</th>\n",
       "    </tr>\n",
       "    <tr>\n",
       "      <th>score</th>\n",
       "      <th></th>\n",
       "    </tr>\n",
       "  </thead>\n",
       "  <tbody>\n",
       "    <tr>\n",
       "      <th>Retina</th>\n",
       "      <td>0.569173</td>\n",
       "    </tr>\n",
       "    <tr>\n",
       "      <th>Age+Sex</th>\n",
       "      <td>0.592459</td>\n",
       "    </tr>\n",
       "    <tr>\n",
       "      <th>SCORE2</th>\n",
       "      <td>0.592964</td>\n",
       "    </tr>\n",
       "    <tr>\n",
       "      <th>ASCVD</th>\n",
       "      <td>0.595097</td>\n",
       "    </tr>\n",
       "    <tr>\n",
       "      <th>Age+Sex+Retina</th>\n",
       "      <td>0.602586</td>\n",
       "    </tr>\n",
       "    <tr>\n",
       "      <th>SCORE2+Retina</th>\n",
       "      <td>0.603018</td>\n",
       "    </tr>\n",
       "    <tr>\n",
       "      <th>ASCVD+Retina</th>\n",
       "      <td>0.604345</td>\n",
       "    </tr>\n",
       "  </tbody>\n",
       "</table>\n",
       "</div>"
      ],
      "text/plain": [
       "                  cindex\n",
       "score                   \n",
       "Retina          0.569173\n",
       "Age+Sex         0.592459\n",
       "SCORE2          0.592964\n",
       "ASCVD           0.595097\n",
       "Age+Sex+Retina  0.602586\n",
       "SCORE2+Retina   0.603018\n",
       "ASCVD+Retina    0.604345"
      ]
     },
     "execution_count": 15,
     "metadata": {},
     "output_type": "execute_result"
    }
   ],
   "source": [
    "benchmark_endpoints.groupby(\"score\")[\"cindex\"].mean().to_frame(\"cindex\").sort_values(\"cindex\")"
   ]
  },
  {
   "cell_type": "code",
   "execution_count": 16,
   "metadata": {},
   "outputs": [
    {
     "data": {
      "text/html": [
       "<div>\n",
       "<style scoped>\n",
       "    .dataframe tbody tr th:only-of-type {\n",
       "        vertical-align: middle;\n",
       "    }\n",
       "\n",
       "    .dataframe tbody tr th {\n",
       "        vertical-align: top;\n",
       "    }\n",
       "\n",
       "    .dataframe thead th {\n",
       "        text-align: right;\n",
       "    }\n",
       "</style>\n",
       "<table border=\"1\" class=\"dataframe\">\n",
       "  <thead>\n",
       "    <tr style=\"text-align: right;\">\n",
       "      <th></th>\n",
       "      <th>cindex</th>\n",
       "    </tr>\n",
       "    <tr>\n",
       "      <th>score</th>\n",
       "      <th></th>\n",
       "    </tr>\n",
       "  </thead>\n",
       "  <tbody>\n",
       "    <tr>\n",
       "      <th>Retina</th>\n",
       "      <td>0.569173</td>\n",
       "    </tr>\n",
       "    <tr>\n",
       "      <th>Age+Sex</th>\n",
       "      <td>0.592459</td>\n",
       "    </tr>\n",
       "    <tr>\n",
       "      <th>SCORE2</th>\n",
       "      <td>0.592964</td>\n",
       "    </tr>\n",
       "    <tr>\n",
       "      <th>ASCVD</th>\n",
       "      <td>0.595097</td>\n",
       "    </tr>\n",
       "    <tr>\n",
       "      <th>Age+Sex+Retina</th>\n",
       "      <td>0.602586</td>\n",
       "    </tr>\n",
       "    <tr>\n",
       "      <th>SCORE2+Retina</th>\n",
       "      <td>0.603018</td>\n",
       "    </tr>\n",
       "    <tr>\n",
       "      <th>ASCVD+Retina</th>\n",
       "      <td>0.604345</td>\n",
       "    </tr>\n",
       "  </tbody>\n",
       "</table>\n",
       "</div>"
      ],
      "text/plain": [
       "                  cindex\n",
       "score                   \n",
       "Retina          0.569173\n",
       "Age+Sex         0.592459\n",
       "SCORE2          0.592964\n",
       "ASCVD           0.595097\n",
       "Age+Sex+Retina  0.602586\n",
       "SCORE2+Retina   0.603018\n",
       "ASCVD+Retina    0.604345"
      ]
     },
     "execution_count": 16,
     "metadata": {},
     "output_type": "execute_result"
    }
   ],
   "source": [
    "benchmark_endpoints.groupby(\"score\")[\"cindex\"].mean().to_frame(\"cindex\").sort_values(\"cindex\")"
   ]
  }
 ],
 "metadata": {
  "kernelspec": {
   "display_name": "Python [conda env:.conda-python]",
   "language": "python",
   "name": "conda-env-.conda-python-py"
  },
  "language_info": {
   "codemirror_mode": {
    "name": "ipython",
    "version": 3
   },
   "file_extension": ".py",
   "mimetype": "text/x-python",
   "name": "python",
   "nbconvert_exporter": "python",
   "pygments_lexer": "ipython3",
   "version": "3.11.0"
  },
  "toc-autonumbering": false
 },
 "nbformat": 4,
 "nbformat_minor": 4
}
