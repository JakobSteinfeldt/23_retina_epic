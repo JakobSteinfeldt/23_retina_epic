{
 "cells": [
  {
   "cell_type": "code",
   "execution_count": null,
   "id": "0",
   "metadata": {},
   "outputs": [],
   "source": [
    "import numpy as np\n",
    "import pandas as pd\n",
    "import pathlib\n",
    "from tqdm.auto import tqdm\n",
    "\n",
    "import ray"
   ]
  },
  {
   "cell_type": "code",
   "execution_count": null,
   "id": "1",
   "metadata": {},
   "outputs": [],
   "source": [
    "base_path = \"/home/jakobs\""
   ]
  },
  {
   "cell_type": "code",
   "execution_count": null,
   "id": "2",
   "metadata": {},
   "outputs": [],
   "source": [
    "data_baseline = pd.read_feather(f\"{base_path}/data/data_baseline_230321.feather\")"
   ]
  },
  {
   "cell_type": "code",
   "execution_count": null,
   "id": "3",
   "metadata": {},
   "outputs": [],
   "source": [
    "data_baseline"
   ]
  },
  {
   "cell_type": "markdown",
   "id": "4",
   "metadata": {},
   "source": [
    "## Map records to phecodes"
   ]
  },
  {
   "cell_type": "code",
   "execution_count": null,
   "id": "5",
   "metadata": {},
   "outputs": [],
   "source": [
    "endpoints_md = pd.read_csv(f\"{base_path}/BiHealth/onnx/endpoints.csv\", dtype={\"phecode\":str}).drop(columns=\"Unnamed: 0\").set_index(\"endpoint\")#[[\"endpoint\", \"eligable\", \"n\", \"freq\", \"phecode\", \"phecode_string\", \"phecode_category\", \"sex\"]]\n",
    "endpoints_md"
   ]
  },
  {
   "cell_type": "code",
   "execution_count": null,
   "id": "6",
   "metadata": {},
   "outputs": [],
   "source": [
    "phecodes_md = pd.read_csv(f\"{base_path}/mapping/phecode_strings_V2.csv\", dtype={\"phecode\":str, \"icd10\":str}).sort_values(\"phecode\").reset_index(drop=True)#.rename(columns={\"icd10\":\"icd\"})[[\"icd\", \"phecode\"]]\n",
    "phecodes_md[\"phecode\"] = phecodes_md[\"phecode\"].str.replace(\".\", \"-\")\n",
    "phecodes_md"
   ]
  },
  {
   "cell_type": "code",
   "execution_count": null,
   "id": "7",
   "metadata": {},
   "outputs": [],
   "source": [
    "icd10_phecode_mapping = pd.read_csv(f\"{base_path}/mapping/ICD10_to_phecode_V2.csv\", dtype={\"phecode\":str, \"icd10\":str}).rename(columns={\"icd10\":\"icd\"})[[\"icd\", \"phecode\"]]\n",
    "icd10_phecode_mapping[\"phecode\"] = icd10_phecode_mapping[\"phecode\"].str.replace(\".\", \"-\")\n",
    "icd10_phecode_mapping"
   ]
  },
  {
   "cell_type": "markdown",
   "id": "8",
   "metadata": {},
   "source": [
    "## Create Metdata and load records"
   ]
  },
  {
   "cell_type": "code",
   "execution_count": null,
   "id": "9",
   "metadata": {},
   "outputs": [],
   "source": [
    "hes = pd.read_stata(f\"{base_path}/BiHealth/Data/StudyData/HESLong2019HC3.dta\").rename(columns={\"bihid\": \"eid\", \"admidate\":\"date\", \"Diag\":\"icd\"})[[\"eid\", \"icd\", \"date\"]].assign(source=\"HES\")"
   ]
  },
  {
   "cell_type": "code",
   "execution_count": null,
   "id": "10",
   "metadata": {},
   "outputs": [],
   "source": [
    "deaths = pd.read_stata(f\"{base_path}/BiHealth/Data/StudyData/DeathsLong2019HC3.dta\").rename(columns={\"bihid\": \"eid\", \"dod\":\"date\", \"diag\":\"icd\"})[[\"eid\", \"icd\", \"date\"]].assign(source=\"ONS\")"
   ]
  },
  {
   "cell_type": "code",
   "execution_count": null,
   "id": "11",
   "metadata": {},
   "outputs": [],
   "source": [
    "metadata_md = data_baseline[[\"eid\", \"recruitment_date\"]]\\\n",
    "    .merge(deaths[[\"eid\", \"date\"]].drop_duplicates().rename(columns={\"date\":\"death_date\"}), how=\"left\")\\\n",
    "    .assign(censoring_date=pd.to_datetime(\"2019-06-17\", infer_datetime_format=True))#\\\n",
    "    #.assign(exit_date = lambda x: min(x.date, x.censoring_date))[[\"eid\", \"recruitment_date\", \"exit_date\"]]\n",
    "metadata_md[\"exit_date\"] = metadata_md[\"death_date\"].combine_first(metadata_md[\"censoring_date\"])\n",
    "metadata_md = metadata_md[[\"eid\", \"recruitment_date\", \"death_date\", \"exit_date\"]].assign(exit_time=lambda x: (x.exit_date - x.recruitment_date).dt.days / 365.25)"
   ]
  },
  {
   "cell_type": "code",
   "execution_count": null,
   "id": "12",
   "metadata": {},
   "outputs": [],
   "source": [
    "icd_long = pd.concat([hes, deaths], axis=0).sort_values([\"eid\", \"date\"]).drop_duplicates().reset_index(drop=True)"
   ]
  },
  {
   "cell_type": "code",
   "execution_count": null,
   "id": "13",
   "metadata": {},
   "outputs": [],
   "source": [
    "phecodes_long = icd_long.merge(icd10_phecode_mapping, how=\"left\", on=\"icd\")\n",
    "phecodes_long"
   ]
  },
  {
   "cell_type": "code",
   "execution_count": null,
   "id": "14",
   "metadata": {},
   "outputs": [],
   "source": [
    "phecodes_long_mapped_native = phecodes_long.query(\"phecode==phecode\")\n",
    "phecodes_long_unmapped_hack = phecodes_long.query(\"phecode!=phecode\").drop(columns=\"phecode\").assign(icd= lambda x: x.icd.str.slice(0, 3)).merge(icd10_phecode_mapping, how=\"left\", on=\"icd\")\n",
    "phecodes_long_mapped = pd.concat([phecodes_long_mapped_native, phecodes_long_unmapped_hack], axis=0).drop_duplicates().sort_values([\"eid\", \"date\"]).query(\"phecode==phecode\").reset_index(drop=True)\n",
    "phecodes_long_mapped[\"endpoint\"] = \"phecode_\" + phecodes_long_mapped[\"phecode\"]\n",
    "phecodes_long_mapped"
   ]
  },
  {
   "cell_type": "code",
   "execution_count": null,
   "id": "15",
   "metadata": {},
   "outputs": [],
   "source": [
    "deaths_long_mapped = deaths[[\"eid\", \"date\"]].drop_duplicates().assign(source=\"ONS\", icd=\"\", phecode=\"\", endpoint = \"OMOP_4306655\")[[\"eid\", \"icd\", \"date\", \"source\", \"phecode\", \"endpoint\"]]\n",
    "deaths_long_mapped"
   ]
  },
  {
   "cell_type": "code",
   "execution_count": null,
   "id": "16",
   "metadata": {},
   "outputs": [],
   "source": [
    "endpoints_long_mapped = pd.concat([phecodes_long_mapped, deaths_long_mapped], axis=0).sort_values([\"eid\", \"date\"]).reset_index(drop=True).merge(metadata_md, on=\"eid\", how=\"left\")\n",
    "endpoints_long_mapped = endpoints_long_mapped[['eid','recruitment_date', \"death_date\", 'exit_date', 'source', 'date',  'icd', 'phecode', 'endpoint',]]\n",
    "endpoints_long_mapped"
   ]
  },
  {
   "cell_type": "code",
   "execution_count": null,
   "id": "17",
   "metadata": {},
   "outputs": [],
   "source": [
    "endpoints_long_mapped.to_feather(f\"{base_path}/data/records_long_230320.feather\")"
   ]
  },
  {
   "cell_type": "code",
   "execution_count": null,
   "id": "18",
   "metadata": {},
   "outputs": [],
   "source": [
    "records_prev = endpoints_long_mapped.query(\"date<=recruitment_date\")\n",
    "records_inc = endpoints_long_mapped.query(\"date>recruitment_date\")"
   ]
  },
  {
   "cell_type": "code",
   "execution_count": null,
   "id": "19",
   "metadata": {},
   "outputs": [],
   "source": [
    "data_outcomes_prev = records_prev[[\"eid\", \"endpoint\"]].drop_duplicates().reset_index(drop=True).assign(prev=1)\n",
    "data_outcomes_prev"
   ]
  },
  {
   "cell_type": "code",
   "execution_count": null,
   "id": "20",
   "metadata": {},
   "outputs": [],
   "source": [
    "data_outcomes_event_time = records_inc.sort_values([\"eid\", \"endpoint\", \"date\"]).drop_duplicates([\"eid\", \"endpoint\", \"date\"], keep=\"first\")\\\n",
    "    .assign(event=1, time=lambda x: (x.date - x.recruitment_date).dt.days / 365.25).reset_index(drop=True)[[\"eid\", \"endpoint\", \"event\", \"time\"]]\n",
    "data_outcomes_event_time"
   ]
  },
  {
   "cell_type": "code",
   "execution_count": null,
   "id": "21",
   "metadata": {},
   "outputs": [],
   "source": [
    "data_outcomes_event = data_outcomes_event_time[[\"eid\", \"endpoint\", \"event\"]]\n",
    "data_outcomes_time = data_outcomes_event_time[[\"eid\", \"endpoint\", \"time\"]]"
   ]
  },
  {
   "cell_type": "code",
   "execution_count": null,
   "id": "22",
   "metadata": {},
   "outputs": [],
   "source": [
    "temp_wide = data_outcomes_prev.pivot_table(index='eid', columns='endpoint', values='prev', fill_value=0)\n",
    "data_outcomes_prev_wide = data_baseline[[\"eid\"]].merge(temp_wide, on=\"eid\", how=\"left\").fillna(0)\n",
    "data_outcomes_prev_wide.reset_index(drop=True, inplace=True)\n",
    "data_outcomes_prev_wide = data_outcomes_prev_wide.set_index(\"eid\")\n",
    "data_outcomes_prev_wide.columns = [f\"{c}_prev\" for c in data_outcomes_prev_wide.columns]\n",
    "\n",
    "data_outcomes_prev_wide"
   ]
  },
  {
   "cell_type": "code",
   "execution_count": null,
   "id": "23",
   "metadata": {},
   "outputs": [],
   "source": [
    "temp_wide = data_outcomes_event.pivot_table(index='eid', columns='endpoint', values='event', fill_value=0)\n",
    "data_outcomes_event_wide = data_baseline[[\"eid\"]].merge(temp_wide, on=\"eid\", how=\"left\").fillna(0)\n",
    "data_outcomes_event_wide.reset_index(drop=True, inplace=True)\n",
    "data_outcomes_event_wide = data_outcomes_event_wide.set_index(\"eid\")\n",
    "data_outcomes_event_wide.columns = [f\"{c}_event\" for c in data_outcomes_event_wide.columns]\n",
    "\n",
    "data_outcomes_event_wide"
   ]
  },
  {
   "cell_type": "code",
   "execution_count": null,
   "id": "24",
   "metadata": {},
   "outputs": [],
   "source": [
    "temp_wide = data_outcomes_time.pivot_table(index='eid', columns='endpoint', values='time', fill_value=np.nan)\n",
    "data_outcomes_time_wide = data_baseline[[\"eid\"]].merge(temp_wide, on=\"eid\", how=\"left\")\n",
    "data_outcomes_time_wide.reset_index(drop=True, inplace=True)\n",
    "data_outcomes_time_wide = data_outcomes_time_wide.set_index(\"eid\")\n",
    "\n",
    "metadata_md = metadata_md.set_index(\"eid\")\n",
    "\n",
    "# Use the 'apply()' function to replace missing values (NaN) with the corresponding 'exit_time' values\n",
    "data_outcomes_time_wide = data_outcomes_time_wide.apply(\n",
    "    lambda row: row.where(\n",
    "        pd.notnull(row), metadata_md.loc[row.name][\"exit_time\"]\n",
    "    ),\n",
    "    axis=1\n",
    ")\n",
    "\n",
    "# Reset the index of 'metadata_md' if needed\n",
    "metadata_md.reset_index(inplace=True)\n",
    "\n",
    "data_outcomes_time_wide.columns = [f\"{c}_time\" for c in data_outcomes_time_wide.columns]\n",
    "\n",
    "# Check the updated 'data_outcomes_time_wide' DataFrame\n",
    "data_outcomes_time_wide"
   ]
  },
  {
   "cell_type": "code",
   "execution_count": null,
   "id": "25",
   "metadata": {},
   "outputs": [],
   "source": [
    "data_outcomes_wide = data_outcomes_prev_wide\\\n",
    "    .merge(data_outcomes_event_wide, how=\"left\", left_index=True, right_index=True)\\\n",
    "    .merge(data_outcomes_time_wide, how=\"left\", left_index=True, right_index=True).sort_index(axis=1)\n",
    "data_outcomes_wide"
   ]
  },
  {
   "cell_type": "code",
   "execution_count": null,
   "id": "26",
   "metadata": {},
   "outputs": [],
   "source": [
    "data_outcomes_wide.reset_index().to_feather(f\"{base_path}/data/data_outcomes_wide_230320.feather\")"
   ]
  },
  {
   "cell_type": "code",
   "execution_count": null,
   "id": "27",
   "metadata": {},
   "outputs": [],
   "source": []
  },
  {
   "cell_type": "code",
   "execution_count": null,
   "id": "28",
   "metadata": {},
   "outputs": [],
   "source": [
    "endpoints = sorted(list(set([c.replace(\"_prev\", \"\").replace(\"_event\", \"\").replace(\"_time\", \"\") for c in data_outcomes_wide.columns])))"
   ]
  },
  {
   "cell_type": "code",
   "execution_count": null,
   "id": "29",
   "metadata": {},
   "outputs": [],
   "source": [
    "endpoints"
   ]
  },
  {
   "cell_type": "code",
   "execution_count": null,
   "id": "30",
   "metadata": {},
   "outputs": [],
   "source": [
    "dfs_long = []\n",
    "for e in tqdm(endpoints):\n",
    "    cols = [c for c in data_outcomes_wide.columns if c in [f\"{e}_prev\", f\"{e}_event\", f\"{e}_time\"]]\n",
    "    temp = data_outcomes_wide[cols]\n",
    "    cols_post = temp.columns = [c.replace(f\"{e}_\", \"\") for c in temp.columns]\n",
    "    temp = temp.assign(endpoint = e)[[\"endpoint\"] + cols_post]\n",
    "    dfs_long.append(temp)"
   ]
  },
  {
   "cell_type": "code",
   "execution_count": null,
   "id": "31",
   "metadata": {},
   "outputs": [],
   "source": [
    "data_outcomes_long_pre = pd.concat(dfs_long, axis=0).reset_index()\n",
    "data_outcomes_long_pre[\"prev\"] = data_outcomes_long_pre[\"prev\"].fillna(0.0)\n",
    "\n",
    "metadata_long = data_outcomes_long_pre.query(\"event==0\")[[\"eid\", \"event\", \"time\"]].drop_duplicates().reset_index(drop=True)\n",
    "merged_df = data_outcomes_long_pre.merge(metadata_long, on=\"eid\", how=\"left\", suffixes=(\"_outcomes\", \"_metadata\"))\n",
    "merged_df[\"event\"] = merged_df[\"event_outcomes\"].fillna(merged_df[\"event_metadata\"])\n",
    "merged_df[\"time\"] = merged_df[\"time_outcomes\"].fillna(merged_df[\"time_metadata\"])\n",
    "merged_df.drop([\"event_metadata\", \"time_metadata\", \"event_outcomes\", \"time_outcomes\"], axis=1, inplace=True)\n",
    "data_outcomes_long = merged_df[[\"eid\", \"endpoint\", \"prev\", \"event\", \"time\"]]"
   ]
  },
  {
   "cell_type": "code",
   "execution_count": null,
   "id": "32",
   "metadata": {},
   "outputs": [],
   "source": [
    "data_outcomes_long.to_feather(f\"{base_path}/data/data_outcomes_long_230320.feather\")"
   ]
  },
  {
   "cell_type": "code",
   "execution_count": null,
   "id": "33",
   "metadata": {},
   "outputs": [],
   "source": [
    "data_outcomes_long.sample(10)"
   ]
  },
  {
   "cell_type": "code",
   "execution_count": null,
   "id": "34",
   "metadata": {},
   "outputs": [],
   "source": [
    "len(data_outcomes_long)/7411"
   ]
  },
  {
   "cell_type": "code",
   "execution_count": null,
   "id": "35",
   "metadata": {},
   "outputs": [],
   "source": []
  }
 ],
 "metadata": {
  "kernelspec": {
   "display_name": "Python [conda env:.conda-python]",
   "language": "python",
   "name": "conda-env-.conda-python-py"
  },
  "language_info": {
   "codemirror_mode": {
    "name": "ipython",
    "version": 3
   },
   "file_extension": ".py",
   "mimetype": "text/x-python",
   "name": "python",
   "nbconvert_exporter": "python",
   "pygments_lexer": "ipython3",
   "version": "3.11.0"
  }
 },
 "nbformat": 4,
 "nbformat_minor": 5
}
