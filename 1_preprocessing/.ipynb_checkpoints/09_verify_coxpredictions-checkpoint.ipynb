{
 "cells": [
  {
   "cell_type": "markdown",
   "metadata": {},
   "source": [
    "# Benchmarks"
   ]
  },
  {
   "cell_type": "markdown",
   "metadata": {},
   "source": [
    "## Initialize"
   ]
  },
  {
   "cell_type": "code",
   "execution_count": null,
   "metadata": {
    "tags": []
   },
   "outputs": [],
   "source": [
    "import os\n",
    "import math\n",
    "import pathlib\n",
    "import numpy as np\n",
    "import pandas as pd\n",
    "import pyarrow as pa\n",
    "import pyarrow.feather as feather\n",
    "from tqdm.auto import tqdm\n",
    "from IPython.display import clear_output\n",
    "\n",
    "import warnings\n",
    "from lifelines.utils import CensoringType\n",
    "from lifelines.utils import concordance_index"
   ]
  },
  {
   "cell_type": "code",
   "execution_count": null,
   "metadata": {
    "tags": []
   },
   "outputs": [],
   "source": [
    "base_path = \"/home/jakobs\"\n",
    "\n",
    "project_path = f\"{base_path}/data\"\n",
    "\n",
    "experiment = '230321'\n",
    "experiment_path = f\"{project_path}/{experiment}\"\n",
    "pathlib.Path(experiment_path).mkdir(parents=True, exist_ok=True)\n",
    "\n",
    "partitions = [i for i in range(10)]\n",
    "\n",
    "today = '230321'"
   ]
  },
  {
   "cell_type": "code",
   "execution_count": null,
   "metadata": {
    "tags": []
   },
   "outputs": [],
   "source": [
    "endpoint_defs = pd.read_feather(f\"{base_path}/data/endpoints_epic_md.feather\").set_index(\"endpoint\")\n",
    "endpoints = endpoint_defs.index.to_list()"
   ]
  },
  {
   "cell_type": "code",
   "execution_count": null,
   "metadata": {
    "tags": []
   },
   "outputs": [],
   "source": [
    "out_path = f\"{experiment_path}/coxph/predictions\"\n",
    "pathlib.Path(out_path).mkdir(parents=True, exist_ok=True)"
   ]
  },
  {
   "cell_type": "code",
   "execution_count": null,
   "metadata": {
    "tags": []
   },
   "outputs": [],
   "source": [
    "from sklearn.preprocessing import StandardScaler\n",
    "import pickle\n",
    "import zstandard\n",
    "\n",
    "def read_data(fp_in):\n",
    "    temp = pd.read_feather(f\"{fp_in}\").set_index(\"eid\")\n",
    "    return temp   \n",
    "    \n",
    "def save_pickle(data, data_path):\n",
    "    with open(data_path, \"wb\") as fh:\n",
    "        cctx = zstandard.ZstdCompressor()\n",
    "        with cctx.stream_writer(fh) as compressor:\n",
    "            compressor.write(pickle.dumps(data, protocol=pickle.HIGHEST_PROTOCOL))\n",
    "    \n",
    "def read_predictions(endpoint, feature_set, partition, model):\n",
    "    \n",
    "    #identifier = f\"{endpoint}_{feature_set}_{model}_{partition}_mean\" # for meaned preds\n",
    "    identifier = f\"{endpoint}_{feature_set}_{model}_{partition}\"\n",
    "    fp_in = f\"{out_path}/{identifier}.feather\"\n",
    "    \n",
    "    temp = read_data(fp_in)\n",
    "    return temp"
   ]
  },
  {
   "cell_type": "code",
   "execution_count": null,
   "metadata": {
    "tags": []
   },
   "outputs": [],
   "source": [
    "model_path = pathlib.Path(f\"{experiment_path}/coxph/input\")\n",
    "models = [f.name for f in model_path.iterdir() if f.is_dir() and \"ipynb_checkpoints\" not in str(f)]\n",
    "models"
   ]
  },
  {
   "cell_type": "code",
   "execution_count": null,
   "metadata": {
    "tags": []
   },
   "outputs": [],
   "source": [
    "d = []\n",
    "\n",
    "for i, endpoint in enumerate(tqdm(endpoints)):\n",
    "    for feature_set in [\n",
    "        \"Age+Sex\",\n",
    "        \"Retina\",\n",
    "        \"Age+Sex+Retina\",\n",
    "         \"SCORE2\",\n",
    "         \"SCORE2+Retina\",\n",
    "         \"ASCVD\",\n",
    "         \"ASCVD+Retina\",\n",
    "#         \"QRISK3\",\n",
    "#         \"QRISK3+Retina\"\n",
    "                    ]:\n",
    "        for partition in partitions:\n",
    "            for model in models:\n",
    "                try: \n",
    "                    temp = read_predictions(endpoint, feature_set, partition, model)\n",
    "                    d.append({\"endpoint\": endpoint, \"features\":feature_set, \"model\":model, \"partition\":partition, \"available\": True})\n",
    "                except:\n",
    "                    d.append({\"endpoint\": endpoint, \"features\":feature_set, \"partition\":partition, \"available\": False})"
   ]
  },
  {
   "cell_type": "code",
   "execution_count": null,
   "metadata": {
    "tags": []
   },
   "outputs": [],
   "source": [
    "pd.DataFrame.from_dict(d)['available'].unique()"
   ]
  },
  {
   "cell_type": "code",
   "execution_count": null,
   "metadata": {
    "tags": []
   },
   "outputs": [],
   "source": [
    "pd.DataFrame.from_dict(d).groupby([\"features\"])[\"available\"].sum().to_frame()"
   ]
  },
  {
   "cell_type": "code",
   "execution_count": null,
   "metadata": {
    "tags": []
   },
   "outputs": [],
   "source": [
    "pd.DataFrame.from_dict(d).groupby([\"model\", \"features\"])[\"available\"].sum().to_frame()"
   ]
  },
  {
   "cell_type": "code",
   "execution_count": null,
   "metadata": {
    "tags": []
   },
   "outputs": [],
   "source": [
    "in_path = f\"{experiment_path}/coxph/predictions\"\n",
    "prediction_paths = !ls $in_path\n",
    "print(prediction_paths[0])\n",
    "predictions = pd.Series(prediction_paths).str.split(\"_\", expand=True)\\\n",
    "    .assign(path = prediction_paths)\\\n",
    "    .assign(endpoint = lambda x: x[0]+\"_\"+x[1])\\\n",
    "    .assign(score = lambda x: x[2])\\\n",
    "    .assign(model = lambda x: x[3]+\"_\"+x[4]+\"_\"+x[5]+\"_\"+x[6]+\"_\"+x[7]+\"_\"+x[8])\\\n",
    "    .assign(partition = lambda x: x[9].str.replace(\".feather\", \"\", regex=True).astype(int))\\\n",
    "    [[\"model\", \"endpoint\", \"score\", \"partition\", \"path\"]].sort_values([\"model\", \"endpoint\", \"score\", \"partition\"]).reset_index(drop=True)\n",
    "predictions"
   ]
  },
  {
   "cell_type": "code",
   "execution_count": null,
   "metadata": {
    "tags": []
   },
   "outputs": [],
   "source": [
    "predictions.to_feather(f\"{experiment_path}/prediction_paths.feather\")"
   ]
  },
  {
   "cell_type": "code",
   "execution_count": null,
   "metadata": {},
   "outputs": [],
   "source": []
  }
 ],
 "metadata": {
  "kernelspec": {
   "display_name": "Python [conda env:.conda-python]",
   "language": "python",
   "name": "conda-env-.conda-python-py"
  },
  "language_info": {
   "codemirror_mode": {
    "name": "ipython",
    "version": 3
   },
   "file_extension": ".py",
   "mimetype": "text/x-python",
   "name": "python",
   "nbconvert_exporter": "python",
   "pygments_lexer": "ipython3",
   "version": "3.11.0"
  },
  "toc-autonumbering": false
 },
 "nbformat": 4,
 "nbformat_minor": 4
}
