{
 "cells": [
  {
   "cell_type": "markdown",
   "metadata": {},
   "source": [
    "# Benchmarks"
   ]
  },
  {
   "cell_type": "markdown",
   "metadata": {},
   "source": [
    "## Initialize"
   ]
  },
  {
   "cell_type": "code",
   "execution_count": null,
   "metadata": {
    "tags": []
   },
   "outputs": [],
   "source": [
    "import os\n",
    "import math\n",
    "import pathlib\n",
    "import numpy as np\n",
    "import pandas as pd\n",
    "import pyarrow as pa\n",
    "import pyarrow.feather as feather\n",
    "from tqdm.auto import tqdm\n",
    "from IPython.display import clear_output\n",
    "\n",
    "import warnings\n",
    "from lifelines.utils import CensoringType\n",
    "from lifelines.utils import concordance_index"
   ]
  },
  {
   "cell_type": "code",
   "execution_count": null,
   "metadata": {
    "tags": []
   },
   "outputs": [],
   "source": [
    "base_path = \"/home/jakobs\"\n",
    "\n",
    "project_path = f\"{base_path}/data\"\n",
    "\n",
    "experiment = '230321'\n",
    "experiment_path = f\"{project_path}/{experiment}\"\n",
    "pathlib.Path(experiment_path).mkdir(parents=True, exist_ok=True)\n",
    "\n",
    "partitions = [i for i in range(10)]"
   ]
  },
  {
   "cell_type": "code",
   "execution_count": null,
   "metadata": {},
   "outputs": [],
   "source": [
    "data_baseline = pd.read_feather(f\"{base_path}/data/data_baseline_230321.feather\")\n",
    "data_baseline"
   ]
  },
  {
   "cell_type": "code",
   "execution_count": null,
   "metadata": {},
   "outputs": [],
   "source": [
    "data_outcomes = pd.read_feather(f\"{base_path}/data/data_outcomes_wide_230320.feather\")"
   ]
  },
  {
   "cell_type": "code",
   "execution_count": null,
   "metadata": {},
   "outputs": [],
   "source": [
    "data_baseline = data_baseline.merge(data_outcomes, on=\"eid\", how=\"left\")"
   ]
  },
  {
   "cell_type": "code",
   "execution_count": null,
   "metadata": {},
   "outputs": [],
   "source": [
    "endpoints_md = pd.read_feather(f\"{base_path}/data/endpoints_epic_md.feather\").set_index(\"endpoint\")\n",
    "endpoints = endpoints_md.index.to_list()"
   ]
  },
  {
   "cell_type": "code",
   "execution_count": null,
   "metadata": {},
   "outputs": [],
   "source": [
    "endpoints_md.query(\"phecode_string.str.contains('Diabetes')\")"
   ]
  },
  {
   "cell_type": "code",
   "execution_count": null,
   "metadata": {},
   "outputs": [],
   "source": [
    "data_outcomes"
   ]
  },
  {
   "cell_type": "code",
   "execution_count": null,
   "metadata": {},
   "outputs": [],
   "source": [
    "covariate_map = {\n",
    "    \"age3\":\"age\", \n",
    "    \"sex\":\"sex\", \n",
    "    \"systol3\":\"systolic_blood_pressure\", \n",
    "    \"cholesterol3\":\"cholesterol\", \n",
    "    \"hdl3\":\"hdl_cholesterol\", \n",
    "    \"phecode_202_prev\":\"diabetes\",\n",
    "    \"bmi3\":\"bmi\",\n",
    "    \"cigstat3\":\"smoking_status\"\n",
    "}"
   ]
  },
  {
   "cell_type": "code",
   "execution_count": null,
   "metadata": {},
   "outputs": [],
   "source": [
    "data_covariates_pre = data_baseline[covariate_map]\n",
    "data_covariates_pre.columns = [covariate_map[c] for c in data_covariates_pre.columns]"
   ]
  },
  {
   "cell_type": "code",
   "execution_count": null,
   "metadata": {},
   "outputs": [],
   "source": [
    "# prepare new variables\n",
    "data_covariates = data_covariates_pre.copy()\n",
    "data_covariates[\"age\"] = data_covariates[\"age\"].astype(np.int32)"
   ]
  },
  {
   "cell_type": "code",
   "execution_count": null,
   "metadata": {},
   "outputs": [],
   "source": [
    "AgeSex = [\"age\", \"sex\"]\n",
    "\n",
    "SCORE2 = [\n",
    "    \"age\", \n",
    "    \"sex\",\n",
    "    \"smoking_status\", # current smoker\n",
    "    \"systolic_blood_pressure\",\n",
    "    \"cholesterol\",\n",
    "    \"hdl_cholesterol\",\n",
    "\n",
    "] \n",
    "\n",
    "ASCVD = [\n",
    "    \"age\", \n",
    "    \"sex\",\n",
    "   # \"ethnic_background\",\n",
    "    \"smoking_status\", # current smoker\n",
    "    \"diabetes\", # diabetes\n",
    "    #\"antihypertensives\", \n",
    "    \"systolic_blood_pressure\",\n",
    "    \"cholesterol\",\n",
    "    \"hdl_cholesterol\",\n",
    "] \n",
    "\n",
    "# assert, that all variables are available\n",
    "covariates_scores = sorted(list(set(AgeSex + SCORE2 + ASCVD)))\n",
    "if not set(covariates_scores).issubset(data_covariates.columns.to_list()):\n",
    "    print(\"Not all required covariates are prepared!\", list(set(covariates_scores).difference(data_covariates.columns.to_list())))\n",
    "else:\n",
    "    print(\"Success, all required covariates are prepared!\")\n",
    "    data_covariates = data_covariates[covariates_scores]"
   ]
  },
  {
   "cell_type": "code",
   "execution_count": null,
   "metadata": {
    "tags": []
   },
   "outputs": [],
   "source": [
    "data_covariates.reset_index().to_feather(f\"{experiment_path}/data_covariates_full.feather\")"
   ]
  },
  {
   "cell_type": "code",
   "execution_count": null,
   "metadata": {},
   "outputs": [],
   "source": []
  },
  {
   "cell_type": "code",
   "execution_count": null,
   "metadata": {},
   "outputs": [],
   "source": []
  }
 ],
 "metadata": {
  "kernelspec": {
   "display_name": "Python [conda env:.conda-python]",
   "language": "python",
   "name": "conda-env-.conda-python-py"
  },
  "language_info": {
   "codemirror_mode": {
    "name": "ipython",
    "version": 3
   },
   "file_extension": ".py",
   "mimetype": "text/x-python",
   "name": "python",
   "nbconvert_exporter": "python",
   "pygments_lexer": "ipython3",
   "version": "3.11.0"
  },
  "toc-autonumbering": false
 },
 "nbformat": 4,
 "nbformat_minor": 4
}
