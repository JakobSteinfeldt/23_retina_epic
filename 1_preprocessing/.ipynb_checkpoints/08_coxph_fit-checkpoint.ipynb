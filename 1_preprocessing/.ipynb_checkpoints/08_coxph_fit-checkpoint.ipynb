{
 "cells": [
  {
   "cell_type": "markdown",
   "metadata": {},
   "source": [
    "# Fit Cox Models"
   ]
  },
  {
   "cell_type": "markdown",
   "metadata": {},
   "source": [
    "## Initialize"
   ]
  },
  {
   "cell_type": "code",
   "execution_count": 4,
   "metadata": {
    "tags": []
   },
   "outputs": [],
   "source": [
    "import os\n",
    "import math\n",
    "import pathlib\n",
    "import numpy as np\n",
    "import pandas as pd\n",
    "from tqdm.auto import tqdm\n",
    "from IPython.display import clear_output\n",
    "import ray\n",
    "import datetime\n",
    "import subprocess\n",
    "import warnings\n",
    "import lifelines\n",
    "from lifelines.utils import CensoringType\n",
    "from lifelines.utils import concordance_index"
   ]
  },
  {
   "cell_type": "code",
   "execution_count": 5,
   "metadata": {},
   "outputs": [],
   "source": [
    "base_path = \"/home/jakobs\"\n",
    "\n",
    "project_path = f\"{base_path}/data\"\n",
    "\n",
    "#experiment = '230629'\n",
    "#experiment_path = f\"{project_path}/{experiment}\"\n",
    "#pathlib.Path(experiment_path).mkdir(parents=True, exist_ok=True)\n",
    "\n",
    "partitions = [i for i in range(10)]"
   ]
  },
  {
   "cell_type": "code",
   "execution_count": 6,
   "metadata": {},
   "outputs": [],
   "source": [
    "os.environ['MKL_NUM_THREADS'] = \"1\"\n",
    "os.environ['NUMEXPR_NUM_THREADS'] = \"1\"\n",
    "os.environ['OMP_NUM_THREADS'] = \"1\""
   ]
  },
  {
   "cell_type": "code",
   "execution_count": 3,
   "metadata": {},
   "outputs": [],
   "source": [
    "from scripts.coxph_fit_partition import load_data, fit_endpoint"
   ]
  },
  {
   "cell_type": "code",
   "execution_count": 5,
   "metadata": {},
   "outputs": [
    {
     "data": {
      "text/plain": [
       "[0, 1, 2, 3, 4, 5, 6, 7, 8, 9]"
      ]
     },
     "execution_count": 5,
     "metadata": {},
     "output_type": "execute_result"
    }
   ],
   "source": [
    "partitions"
   ]
  },
  {
   "cell_type": "code",
   "execution_count": 6,
   "metadata": {},
   "outputs": [
    {
     "data": {
      "application/vnd.jupyter.widget-view+json": {
       "model_id": "4e2fbdffb2a54e94853c148da877b5ea",
       "version_major": 2,
       "version_minor": 0
      },
      "text/plain": [
       "  0%|          | 0/10 [00:00<?, ?it/s]"
      ]
     },
     "metadata": {},
     "output_type": "display_data"
    },
    {
     "name": "stderr",
     "output_type": "stream",
     "text": [
      "2023-06-30 10:11:01,532\tINFO worker.py:1544 -- Started a local Ray instance. View the dashboard at \u001b[1m\u001b[32m127.0.0.1:8265 \u001b[39m\u001b[22m\n"
     ]
    },
    {
     "data": {
      "application/vnd.jupyter.widget-view+json": {
       "model_id": "50bba25c323f4af79fbafab07c97dc76",
       "version_major": 2,
       "version_minor": 0
      },
      "text/plain": [
       "  0%|          | 0/368 [00:00<?, ?it/s]"
      ]
     },
     "metadata": {},
     "output_type": "display_data"
    },
    {
     "data": {
      "application/vnd.jupyter.widget-view+json": {
       "model_id": "8ae47656b6bc449d91ed25807aef6ebc",
       "version_major": 2,
       "version_minor": 0
      },
      "text/plain": [
       "  0%|          | 0/368 [00:00<?, ?it/s]"
      ]
     },
     "metadata": {},
     "output_type": "display_data"
    },
    {
     "data": {
      "application/vnd.jupyter.widget-view+json": {
       "model_id": "2c16ea5dc0974af5a9271e995a548142",
       "version_major": 2,
       "version_minor": 0
      },
      "text/plain": [
       "  0%|          | 0/368 [00:00<?, ?it/s]"
      ]
     },
     "metadata": {},
     "output_type": "display_data"
    },
    {
     "data": {
      "application/vnd.jupyter.widget-view+json": {
       "model_id": "dd98c6588dc648cabf8e7c8a26736a9f",
       "version_major": 2,
       "version_minor": 0
      },
      "text/plain": [
       "  0%|          | 0/368 [00:00<?, ?it/s]"
      ]
     },
     "metadata": {},
     "output_type": "display_data"
    },
    {
     "data": {
      "application/vnd.jupyter.widget-view+json": {
       "model_id": "acbe6459193a4a60959cf5ec17d73a5d",
       "version_major": 2,
       "version_minor": 0
      },
      "text/plain": [
       "  0%|          | 0/368 [00:00<?, ?it/s]"
      ]
     },
     "metadata": {},
     "output_type": "display_data"
    },
    {
     "data": {
      "application/vnd.jupyter.widget-view+json": {
       "model_id": "383d7918475f49e1aa1b6de271dc408c",
       "version_major": 2,
       "version_minor": 0
      },
      "text/plain": [
       "  0%|          | 0/368 [00:00<?, ?it/s]"
      ]
     },
     "metadata": {},
     "output_type": "display_data"
    },
    {
     "data": {
      "application/vnd.jupyter.widget-view+json": {
       "model_id": "24ec1e3c31654d999be1e24b796b0760",
       "version_major": 2,
       "version_minor": 0
      },
      "text/plain": [
       "  0%|          | 0/368 [00:00<?, ?it/s]"
      ]
     },
     "metadata": {},
     "output_type": "display_data"
    },
    {
     "data": {
      "application/vnd.jupyter.widget-view+json": {
       "model_id": "a94eecf4bf5c46d990746d01b54f3e7e",
       "version_major": 2,
       "version_minor": 0
      },
      "text/plain": [
       "  0%|          | 0/368 [00:00<?, ?it/s]"
      ]
     },
     "metadata": {},
     "output_type": "display_data"
    },
    {
     "data": {
      "application/vnd.jupyter.widget-view+json": {
       "model_id": "ae0392ee05ef4abd81f45d83ada6d9cf",
       "version_major": 2,
       "version_minor": 0
      },
      "text/plain": [
       "  0%|          | 0/368 [00:00<?, ?it/s]"
      ]
     },
     "metadata": {},
     "output_type": "display_data"
    },
    {
     "data": {
      "application/vnd.jupyter.widget-view+json": {
       "model_id": "6e1da3e2655a4dac8148f81c0afe675f",
       "version_major": 2,
       "version_minor": 0
      },
      "text/plain": [
       "  0%|          | 0/368 [00:00<?, ?it/s]"
      ]
     },
     "metadata": {},
     "output_type": "display_data"
    }
   ],
   "source": [
    "for partition in tqdm(partitions):\n",
    "    eids_dict, score_defs, endpoint_defs, endpoints, models, model_path, experiment_path, data_partition = load_data(partition)\n",
    "    # setup ray and put files in plasma storage\n",
    "    #ray.init(num_cpus=24) # crashes if num_cpus > 16, why not more possible?\n",
    "    ray_eids = ray.put(eids_dict)\n",
    "    ray_score_defs = ray.put(score_defs)\n",
    "    ray_endpoint_defs = ray.put(endpoint_defs)\n",
    "    ray_partition = ray.put(data_partition)\n",
    "    # fit cox models via ray\n",
    "    progress = []\n",
    "    for endpoint in endpoints:\n",
    "        progress.append(fit_endpoint.remote(ray_partition, ray_eids, ray_score_defs, ray_endpoint_defs, endpoint, partition, models, model_path, experiment_path))\n",
    "    [ray.get(s) for s in tqdm(progress)]"
   ]
  },
  {
   "cell_type": "markdown",
   "metadata": {},
   "source": [
    "## Check progress"
   ]
  },
  {
   "cell_type": "code",
   "execution_count": 7,
   "metadata": {
    "tags": []
   },
   "outputs": [
    {
     "name": "stdout",
     "output_type": "stream",
     "text": [
      "                                    path\n",
      "0       phecode_168-1_SCORE2_RetinaUKB_9\n",
      "1  phecode_582_SCORE2+Retina_RetinaUKB_6\n",
      "2       phecode_714-3_SCORE2_RetinaUKB_0\n",
      "3  phecode_477_SCORE2+Retina_RetinaUKB_0\n",
      "4     phecode_431-12_Age+Sex_RetinaUKB_1\n"
     ]
    }
   ],
   "source": [
    "cox_paths = os.listdir(f\"{experiment_path}/coxph/models/\")\n",
    "#len(cox_paths), cox_paths[0]\n",
    "path_df = pd.DataFrame(data = [p[:-2] for p in cox_paths]).rename(columns={0:\"path\"})\n",
    "print(path_df.head())\n",
    "path_df[[\"endpoint_1\", \"endpoint_2\", \"score\", \"model\", \"partition\"]] = path_df[\"path\"].str.split(\"_\", expand=True)"
   ]
  },
  {
   "cell_type": "code",
   "execution_count": 8,
   "metadata": {},
   "outputs": [
    {
     "data": {
      "text/plain": [
       "'/home/jakobs/data/230323'"
      ]
     },
     "execution_count": 8,
     "metadata": {},
     "output_type": "execute_result"
    }
   ],
   "source": [
    "experiment_path"
   ]
  },
  {
   "cell_type": "code",
   "execution_count": 15,
   "metadata": {},
   "outputs": [
    {
     "data": {
      "text/plain": [
       "['phecode_168-1_SCORE2_RetinaUKB_9.p',\n",
       " 'phecode_582_SCORE2+Retina_RetinaUKB_6.p',\n",
       " 'phecode_714-3_SCORE2_RetinaUKB_0.p',\n",
       " 'phecode_477_SCORE2+Retina_RetinaUKB_0.p',\n",
       " 'phecode_431-12_Age+Sex_RetinaUKB_1.p',\n",
       " 'phecode_403_ASCVD_RetinaUKB_9.p',\n",
       " 'phecode_420_ASCVD+Retina_RetinaUKB_5.p',\n",
       " 'phecode_444-1_ASCVD_RetinaUKB_1.p',\n",
       " 'phecode_413-1_SCORE2_RetinaUKB_7.p',\n",
       " 'phecode_139-6_Age+Sex_RetinaUKB_5.p',\n",
       " 'phecode_324_ASCVD_RetinaUKB_4.p',\n",
       " 'phecode_522-11_ASCVD+Retina_RetinaUKB_2.p',\n",
       " 'phecode_440-1_Retina_RetinaUKB_2.p',\n",
       " 'phecode_585_SCORE2+Retina_RetinaUKB_1.p',\n",
       " 'phecode_120-2_ASCVD+Retina_RetinaUKB_1.p',\n",
       " 'phecode_469_Age+Sex_RetinaUKB_8.p',\n",
       " 'phecode_144-2_Age+Sex+Retina_RetinaUKB_3.p',\n",
       " 'phecode_522_Age+Sex+Retina_RetinaUKB_1.p',\n",
       " 'phecode_722_ASCVD+Retina_RetinaUKB_1.p',\n",
       " 'phecode_554-1_ASCVD+Retina_RetinaUKB_9.p',\n",
       " 'phecode_401-3_Age+Sex+Retina_RetinaUKB_5.p',\n",
       " 'phecode_106-3_Retina_RetinaUKB_4.p',\n",
       " 'phecode_092-2_ASCVD+Retina_RetinaUKB_4.p',\n",
       " 'phecode_529-2_Age+Sex+Retina_RetinaUKB_2.p',\n",
       " 'phecode_354_Age+Sex_RetinaUKB_0.p',\n",
       " 'phecode_513-3_ASCVD+Retina_RetinaUKB_7.p',\n",
       " 'phecode_525_SCORE2_RetinaUKB_5.p',\n",
       " 'phecode_334_SCORE2+Retina_RetinaUKB_6.p',\n",
       " 'phecode_416_Retina_RetinaUKB_8.p',\n",
       " 'phecode_247-7_Retina_RetinaUKB_0.p',\n",
       " 'phecode_387_Age+Sex+Retina_RetinaUKB_9.p',\n",
       " 'phecode_444_ASCVD+Retina_RetinaUKB_8.p',\n",
       " 'phecode_121_SCORE2_RetinaUKB_3.p',\n",
       " 'phecode_807_Age+Sex_RetinaUKB_0.p',\n",
       " 'phecode_247-7_SCORE2+Retina_RetinaUKB_4.p',\n",
       " 'phecode_144-21_Age+Sex+Retina_RetinaUKB_8.p',\n",
       " 'phecode_431-12_ASCVD+Retina_RetinaUKB_3.p',\n",
       " 'phecode_430_SCORE2+Retina_RetinaUKB_2.p',\n",
       " 'phecode_329-9_SCORE2+Retina_RetinaUKB_3.p',\n",
       " 'phecode_462_SCORE2+Retina_RetinaUKB_4.p',\n",
       " 'phecode_522-12_SCORE2+Retina_RetinaUKB_6.p',\n",
       " 'phecode_709_SCORE2_RetinaUKB_6.p',\n",
       " 'phecode_092-2_ASCVD+Retina_RetinaUKB_6.p',\n",
       " 'phecode_202_Age+Sex_RetinaUKB_0.p',\n",
       " 'phecode_324-11_ASCVD+Retina_RetinaUKB_8.p',\n",
       " 'phecode_170_SCORE2+Retina_RetinaUKB_4.p',\n",
       " 'phecode_089-1_SCORE2+Retina_RetinaUKB_7.p',\n",
       " 'phecode_107_SCORE2_RetinaUKB_9.p',\n",
       " 'phecode_582_SCORE2+Retina_RetinaUKB_7.p',\n",
       " 'phecode_341_ASCVD+Retina_RetinaUKB_3.p',\n",
       " 'phecode_711_Age+Sex_RetinaUKB_4.p',\n",
       " 'phecode_120_Age+Sex_RetinaUKB_4.p',\n",
       " 'phecode_404_SCORE2_RetinaUKB_1.p',\n",
       " 'phecode_256-7_SCORE2_RetinaUKB_6.p',\n",
       " 'phecode_705_SCORE2_RetinaUKB_6.p',\n",
       " 'phecode_400-2_Retina_RetinaUKB_3.p',\n",
       " 'phecode_487_Age+Sex_RetinaUKB_5.p',\n",
       " 'phecode_510-2_Retina_RetinaUKB_8.p',\n",
       " 'phecode_602_Age+Sex+Retina_RetinaUKB_0.p',\n",
       " 'phecode_722_SCORE2_RetinaUKB_3.p',\n",
       " 'phecode_460_Retina_RetinaUKB_8.p',\n",
       " 'phecode_705-1_SCORE2_RetinaUKB_8.p',\n",
       " 'phecode_103_Age+Sex+Retina_RetinaUKB_2.p',\n",
       " 'phecode_103-1_ASCVD+Retina_RetinaUKB_7.p',\n",
       " 'phecode_476_ASCVD+Retina_RetinaUKB_4.p',\n",
       " 'phecode_200-3_SCORE2+Retina_RetinaUKB_3.p',\n",
       " 'phecode_403_Age+Sex+Retina_RetinaUKB_2.p',\n",
       " 'phecode_341-2_Retina_RetinaUKB_0.p',\n",
       " 'phecode_604_Age+Sex+Retina_RetinaUKB_5.p',\n",
       " 'phecode_208_SCORE2_RetinaUKB_8.p',\n",
       " 'phecode_581-3_Age+Sex_RetinaUKB_8.p',\n",
       " 'phecode_592_SCORE2+Retina_RetinaUKB_7.p',\n",
       " 'phecode_460-2_Age+Sex_RetinaUKB_7.p',\n",
       " 'phecode_403_Age+Sex+Retina_RetinaUKB_6.p',\n",
       " 'phecode_108_ASCVD+Retina_RetinaUKB_4.p',\n",
       " 'phecode_520-13_ASCVD_RetinaUKB_9.p',\n",
       " 'phecode_374-3_Retina_RetinaUKB_5.p',\n",
       " 'phecode_286-1_Age+Sex_RetinaUKB_0.p',\n",
       " 'phecode_200-3_SCORE2_RetinaUKB_0.p',\n",
       " 'phecode_388_SCORE2+Retina_RetinaUKB_2.p',\n",
       " 'phecode_481_SCORE2_RetinaUKB_9.p',\n",
       " 'phecode_705_Retina_RetinaUKB_0.p',\n",
       " 'phecode_431-12_Retina_RetinaUKB_1.p',\n",
       " 'phecode_367_SCORE2_RetinaUKB_1.p',\n",
       " 'phecode_512_Age+Sex+Retina_RetinaUKB_0.p',\n",
       " 'phecode_202-1_SCORE2_RetinaUKB_9.p',\n",
       " 'phecode_247_Retina_RetinaUKB_6.p',\n",
       " 'phecode_468_Age+Sex_RetinaUKB_0.p',\n",
       " 'phecode_103-1_ASCVD+Retina_RetinaUKB_0.p',\n",
       " 'phecode_440_SCORE2+Retina_RetinaUKB_7.p',\n",
       " 'phecode_202-2_Age+Sex+Retina_RetinaUKB_4.p',\n",
       " 'phecode_144-21_SCORE2_RetinaUKB_8.p',\n",
       " 'phecode_089_ASCVD_RetinaUKB_7.p',\n",
       " 'phecode_446_Retina_RetinaUKB_8.p',\n",
       " 'phecode_200_Age+Sex+Retina_RetinaUKB_4.p',\n",
       " 'phecode_288_Age+Sex_RetinaUKB_2.p',\n",
       " 'phecode_520-1_ASCVD_RetinaUKB_6.p',\n",
       " 'phecode_107_Age+Sex_RetinaUKB_2.p',\n",
       " 'phecode_200-1_SCORE2+Retina_RetinaUKB_2.p',\n",
       " 'phecode_714_Retina_RetinaUKB_3.p',\n",
       " 'phecode_351_ASCVD+Retina_RetinaUKB_1.p',\n",
       " 'phecode_168-1_SCORE2_RetinaUKB_7.p',\n",
       " 'phecode_138_ASCVD+Retina_RetinaUKB_4.p',\n",
       " 'phecode_120-21_ASCVD+Retina_RetinaUKB_6.p',\n",
       " 'phecode_474-1_SCORE2_RetinaUKB_6.p',\n",
       " 'phecode_440-3_Retina_RetinaUKB_6.p',\n",
       " 'phecode_675_SCORE2_RetinaUKB_2.p',\n",
       " 'phecode_106-21_ASCVD+Retina_RetinaUKB_1.p',\n",
       " 'phecode_522_Age+Sex+Retina_RetinaUKB_7.p',\n",
       " 'phecode_101-4_Retina_RetinaUKB_9.p',\n",
       " 'phecode_530_SCORE2_RetinaUKB_2.p',\n",
       " 'phecode_801_SCORE2_RetinaUKB_8.p',\n",
       " 'phecode_582_Age+Sex+Retina_RetinaUKB_4.p',\n",
       " 'phecode_513-2_ASCVD_RetinaUKB_2.p',\n",
       " 'phecode_526_Age+Sex+Retina_RetinaUKB_2.p',\n",
       " 'phecode_527_Age+Sex+Retina_RetinaUKB_3.p',\n",
       " 'phecode_410_Age+Sex+Retina_RetinaUKB_2.p',\n",
       " 'phecode_103-3_SCORE2_RetinaUKB_9.p',\n",
       " 'phecode_356_Retina_RetinaUKB_2.p',\n",
       " 'phecode_481_Age+Sex_RetinaUKB_5.p',\n",
       " 'phecode_627_ASCVD+Retina_RetinaUKB_7.p',\n",
       " 'phecode_403_SCORE2+Retina_RetinaUKB_0.p',\n",
       " 'phecode_804_Age+Sex_RetinaUKB_7.p',\n",
       " 'phecode_437_SCORE2+Retina_RetinaUKB_4.p',\n",
       " 'phecode_437_SCORE2_RetinaUKB_2.p',\n",
       " 'phecode_594-4_Age+Sex_RetinaUKB_8.p',\n",
       " 'phecode_520-2_ASCVD+Retina_RetinaUKB_3.p',\n",
       " 'phecode_460-2_Retina_RetinaUKB_2.p',\n",
       " 'phecode_286-1_SCORE2_RetinaUKB_3.p',\n",
       " 'phecode_726-1_SCORE2+Retina_RetinaUKB_9.p',\n",
       " 'phecode_596_SCORE2_RetinaUKB_6.p',\n",
       " 'phecode_700_ASCVD_RetinaUKB_6.p',\n",
       " 'phecode_529-2_Retina_RetinaUKB_8.p',\n",
       " 'phecode_580_Age+Sex_RetinaUKB_7.p',\n",
       " 'phecode_416-1_ASCVD_RetinaUKB_1.p',\n",
       " 'phecode_092_SCORE2_RetinaUKB_2.p',\n",
       " 'phecode_530_Age+Sex_RetinaUKB_5.p',\n",
       " 'phecode_488_SCORE2_RetinaUKB_7.p',\n",
       " 'phecode_308_ASCVD+Retina_RetinaUKB_0.p',\n",
       " 'phecode_401-3_ASCVD_RetinaUKB_1.p',\n",
       " 'phecode_413-3_SCORE2+Retina_RetinaUKB_3.p',\n",
       " 'phecode_374-4_ASCVD+Retina_RetinaUKB_3.p',\n",
       " 'phecode_416-1_SCORE2+Retina_RetinaUKB_7.p',\n",
       " 'phecode_479_ASCVD+Retina_RetinaUKB_5.p',\n",
       " 'phecode_367_ASCVD+Retina_RetinaUKB_5.p',\n",
       " 'phecode_367_Age+Sex_RetinaUKB_1.p',\n",
       " 'phecode_170-1_ASCVD_RetinaUKB_5.p',\n",
       " 'phecode_334_ASCVD_RetinaUKB_8.p',\n",
       " 'phecode_144-2_SCORE2+Retina_RetinaUKB_4.p',\n",
       " 'phecode_479_SCORE2+Retina_RetinaUKB_2.p',\n",
       " 'phecode_443_Retina_RetinaUKB_8.p',\n",
       " 'phecode_410-2_Retina_RetinaUKB_9.p',\n",
       " 'phecode_525_Age+Sex_RetinaUKB_0.p',\n",
       " 'phecode_808_ASCVD_RetinaUKB_0.p',\n",
       " 'phecode_328-1_SCORE2_RetinaUKB_7.p',\n",
       " 'phecode_520-1_ASCVD+Retina_RetinaUKB_1.p',\n",
       " 'phecode_488_Age+Sex+Retina_RetinaUKB_9.p',\n",
       " 'phecode_709_SCORE2+Retina_RetinaUKB_6.p',\n",
       " 'phecode_702_ASCVD_RetinaUKB_3.p',\n",
       " 'phecode_702_ASCVD+Retina_RetinaUKB_4.p',\n",
       " 'phecode_552_Retina_RetinaUKB_4.p',\n",
       " 'phecode_122_SCORE2_RetinaUKB_1.p',\n",
       " 'phecode_800_Retina_RetinaUKB_4.p',\n",
       " 'phecode_526_Age+Sex_RetinaUKB_8.p',\n",
       " 'phecode_722_Retina_RetinaUKB_6.p',\n",
       " 'phecode_354_Age+Sex_RetinaUKB_8.p',\n",
       " 'phecode_108-5_SCORE2+Retina_RetinaUKB_8.p',\n",
       " 'phecode_410-2_Age+Sex+Retina_RetinaUKB_5.p',\n",
       " 'phecode_542-1_ASCVD_RetinaUKB_2.p',\n",
       " 'phecode_330_Age+Sex+Retina_RetinaUKB_5.p',\n",
       " 'phecode_404-11_ASCVD+Retina_RetinaUKB_2.p',\n",
       " 'phecode_102_Retina_RetinaUKB_5.p',\n",
       " 'phecode_479_ASCVD+Retina_RetinaUKB_4.p',\n",
       " 'phecode_170_ASCVD_RetinaUKB_5.p',\n",
       " 'phecode_349_Age+Sex+Retina_RetinaUKB_1.p',\n",
       " 'phecode_707_Age+Sex+Retina_RetinaUKB_9.p',\n",
       " 'phecode_388_Age+Sex_RetinaUKB_1.p',\n",
       " 'phecode_673_Age+Sex_RetinaUKB_0.p',\n",
       " 'phecode_474-1_Retina_RetinaUKB_5.p',\n",
       " 'phecode_812_Age+Sex_RetinaUKB_7.p',\n",
       " 'phecode_108-41_ASCVD+Retina_RetinaUKB_5.p',\n",
       " 'phecode_350_Retina_RetinaUKB_7.p',\n",
       " 'phecode_106-21_SCORE2+Retina_RetinaUKB_7.p',\n",
       " 'phecode_528-2_Age+Sex+Retina_RetinaUKB_2.p',\n",
       " 'phecode_135-5_SCORE2_RetinaUKB_0.p',\n",
       " 'phecode_726-1_ASCVD+Retina_RetinaUKB_6.p',\n",
       " 'phecode_501_SCORE2_RetinaUKB_6.p',\n",
       " 'phecode_376_Age+Sex_RetinaUKB_9.p',\n",
       " 'phecode_070_Age+Sex_RetinaUKB_2.p',\n",
       " 'phecode_471_ASCVD_RetinaUKB_6.p',\n",
       " 'phecode_594_SCORE2+Retina_RetinaUKB_4.p',\n",
       " 'phecode_390_ASCVD+Retina_RetinaUKB_0.p',\n",
       " 'phecode_401-3_Age+Sex_RetinaUKB_0.p',\n",
       " 'phecode_660_SCORE2_RetinaUKB_0.p',\n",
       " 'phecode_594-3_ASCVD_RetinaUKB_4.p',\n",
       " 'phecode_599_SCORE2+Retina_RetinaUKB_0.p',\n",
       " 'phecode_474_Age+Sex_RetinaUKB_7.p',\n",
       " 'phecode_144-21_SCORE2_RetinaUKB_0.p',\n",
       " 'phecode_335_SCORE2_RetinaUKB_9.p',\n",
       " 'phecode_580_ASCVD_RetinaUKB_4.p',\n",
       " 'phecode_438_SCORE2_RetinaUKB_2.p',\n",
       " 'phecode_108-5_ASCVD_RetinaUKB_8.p',\n",
       " 'phecode_582_ASCVD_RetinaUKB_6.p',\n",
       " 'phecode_120_ASCVD_RetinaUKB_1.p',\n",
       " 'phecode_139_ASCVD_RetinaUKB_7.p',\n",
       " 'phecode_200-3_ASCVD_RetinaUKB_2.p',\n",
       " 'phecode_413-2_Age+Sex+Retina_RetinaUKB_6.p',\n",
       " 'phecode_331_SCORE2+Retina_RetinaUKB_9.p',\n",
       " 'phecode_092_ASCVD_RetinaUKB_2.p',\n",
       " 'phecode_341_SCORE2+Retina_RetinaUKB_7.p',\n",
       " 'phecode_420_ASCVD_RetinaUKB_2.p',\n",
       " 'phecode_556_ASCVD_RetinaUKB_6.p',\n",
       " 'phecode_433_Age+Sex+Retina_RetinaUKB_9.p',\n",
       " 'phecode_664_Age+Sex+Retina_RetinaUKB_4.p',\n",
       " 'phecode_550_Age+Sex_RetinaUKB_6.p',\n",
       " 'phecode_468_SCORE2+Retina_RetinaUKB_9.p',\n",
       " 'phecode_522_SCORE2+Retina_RetinaUKB_7.p',\n",
       " 'phecode_704_SCORE2+Retina_RetinaUKB_4.p',\n",
       " 'phecode_529-3_ASCVD_RetinaUKB_2.p',\n",
       " 'phecode_804_Age+Sex_RetinaUKB_5.p',\n",
       " 'phecode_401_ASCVD+Retina_RetinaUKB_6.p',\n",
       " 'phecode_524-1_Retina_RetinaUKB_8.p',\n",
       " 'phecode_107-2_SCORE2+Retina_RetinaUKB_8.p',\n",
       " 'phecode_089_Age+Sex+Retina_RetinaUKB_0.p',\n",
       " 'phecode_812_Age+Sex+Retina_RetinaUKB_5.p',\n",
       " 'phecode_256_Age+Sex+Retina_RetinaUKB_4.p',\n",
       " 'phecode_593-3_SCORE2+Retina_RetinaUKB_3.p',\n",
       " 'phecode_138_Retina_RetinaUKB_4.p',\n",
       " 'phecode_138-2_Age+Sex+Retina_RetinaUKB_6.p',\n",
       " 'phecode_308_SCORE2+Retina_RetinaUKB_5.p',\n",
       " 'phecode_102_Age+Sex_RetinaUKB_0.p',\n",
       " 'phecode_308_Age+Sex_RetinaUKB_0.p',\n",
       " 'phecode_333_Age+Sex+Retina_RetinaUKB_2.p',\n",
       " 'phecode_416-4_ASCVD+Retina_RetinaUKB_1.p',\n",
       " 'phecode_718_Age+Sex_RetinaUKB_0.p',\n",
       " 'phecode_481_ASCVD_RetinaUKB_5.p',\n",
       " 'phecode_336_Retina_RetinaUKB_7.p',\n",
       " 'phecode_388_SCORE2+Retina_RetinaUKB_1.p',\n",
       " 'phecode_486_ASCVD_RetinaUKB_4.p',\n",
       " 'phecode_328-7_SCORE2_RetinaUKB_8.p',\n",
       " 'phecode_550-2_ASCVD_RetinaUKB_3.p',\n",
       " 'phecode_334_ASCVD+Retina_RetinaUKB_5.p',\n",
       " 'phecode_256-7_Retina_RetinaUKB_6.p',\n",
       " 'phecode_103-3_Age+Sex_RetinaUKB_9.p',\n",
       " 'phecode_333_Retina_RetinaUKB_7.p',\n",
       " 'phecode_328-7_ASCVD+Retina_RetinaUKB_1.p',\n",
       " 'phecode_686-1_SCORE2_RetinaUKB_0.p',\n",
       " 'phecode_436_ASCVD_RetinaUKB_5.p',\n",
       " 'phecode_527_ASCVD_RetinaUKB_3.p',\n",
       " 'phecode_542-1_ASCVD+Retina_RetinaUKB_4.p',\n",
       " 'phecode_800_SCORE2+Retina_RetinaUKB_9.p',\n",
       " 'phecode_550_SCORE2+Retina_RetinaUKB_8.p',\n",
       " 'OMOP_4306655_SCORE2+Retina_RetinaUKB_1.p',\n",
       " 'phecode_283-8_SCORE2+Retina_RetinaUKB_9.p',\n",
       " 'phecode_417_Retina_RetinaUKB_9.p',\n",
       " 'phecode_108_SCORE2_RetinaUKB_5.p',\n",
       " 'phecode_529-2_Age+Sex_RetinaUKB_9.p',\n",
       " 'phecode_471_Retina_RetinaUKB_9.p',\n",
       " 'phecode_160_Age+Sex_RetinaUKB_4.p',\n",
       " 'phecode_101-1_Retina_RetinaUKB_2.p',\n",
       " 'phecode_594-3_SCORE2+Retina_RetinaUKB_9.p',\n",
       " 'phecode_401-1_ASCVD_RetinaUKB_3.p',\n",
       " 'phecode_108-41_Retina_RetinaUKB_2.p',\n",
       " 'phecode_554-1_ASCVD_RetinaUKB_3.p',\n",
       " 'phecode_386_SCORE2+Retina_RetinaUKB_1.p',\n",
       " 'phecode_713_Retina_RetinaUKB_8.p',\n",
       " 'phecode_678_Age+Sex+Retina_RetinaUKB_1.p',\n",
       " 'phecode_688_SCORE2+Retina_RetinaUKB_3.p',\n",
       " 'phecode_400_Age+Sex+Retina_RetinaUKB_7.p',\n",
       " 'phecode_401-3_ASCVD+Retina_RetinaUKB_7.p',\n",
       " 'phecode_592_Age+Sex_RetinaUKB_7.p',\n",
       " 'phecode_686-1_ASCVD_RetinaUKB_3.p',\n",
       " 'phecode_106-3_ASCVD+Retina_RetinaUKB_3.p',\n",
       " 'phecode_108-41_Retina_RetinaUKB_4.p',\n",
       " 'phecode_707_ASCVD+Retina_RetinaUKB_7.p',\n",
       " 'phecode_232_Retina_RetinaUKB_5.p',\n",
       " 'phecode_413_ASCVD_RetinaUKB_1.p',\n",
       " 'phecode_475_SCORE2_RetinaUKB_7.p',\n",
       " 'phecode_593_Retina_RetinaUKB_8.p',\n",
       " 'phecode_682_Age+Sex_RetinaUKB_1.p',\n",
       " 'phecode_670_ASCVD_RetinaUKB_8.p',\n",
       " 'phecode_444-1_SCORE2+Retina_RetinaUKB_9.p',\n",
       " 'phecode_716_ASCVD_RetinaUKB_0.p',\n",
       " 'phecode_200_SCORE2_RetinaUKB_8.p',\n",
       " 'phecode_460-1_Age+Sex+Retina_RetinaUKB_7.p',\n",
       " 'phecode_281_Age+Sex+Retina_RetinaUKB_3.p',\n",
       " 'phecode_391_ASCVD_RetinaUKB_6.p',\n",
       " 'phecode_108_SCORE2_RetinaUKB_2.p',\n",
       " 'phecode_554_SCORE2+Retina_RetinaUKB_1.p',\n",
       " 'phecode_400-2_ASCVD+Retina_RetinaUKB_5.p',\n",
       " 'phecode_804_SCORE2+Retina_RetinaUKB_5.p',\n",
       " 'phecode_460-1_ASCVD+Retina_RetinaUKB_8.p',\n",
       " 'phecode_509_Age+Sex+Retina_RetinaUKB_8.p',\n",
       " 'phecode_437_Age+Sex+Retina_RetinaUKB_8.p',\n",
       " 'phecode_679-1_ASCVD_RetinaUKB_4.p',\n",
       " 'phecode_703-11_ASCVD_RetinaUKB_8.p',\n",
       " 'phecode_396_Age+Sex_RetinaUKB_4.p',\n",
       " 'phecode_479-3_SCORE2+Retina_RetinaUKB_8.p',\n",
       " 'phecode_410_ASCVD+Retina_RetinaUKB_9.p',\n",
       " 'phecode_247_ASCVD_RetinaUKB_9.p',\n",
       " 'phecode_256_Retina_RetinaUKB_7.p',\n",
       " 'phecode_164_Age+Sex+Retina_RetinaUKB_0.p',\n",
       " 'phecode_472_SCORE2+Retina_RetinaUKB_7.p',\n",
       " 'phecode_281_ASCVD+Retina_RetinaUKB_4.p',\n",
       " 'phecode_596_ASCVD+Retina_RetinaUKB_1.p',\n",
       " 'phecode_411_ASCVD+Retina_RetinaUKB_9.p',\n",
       " 'phecode_716_ASCVD_RetinaUKB_1.p',\n",
       " 'phecode_394_ASCVD+Retina_RetinaUKB_5.p',\n",
       " 'phecode_102-1_SCORE2+Retina_RetinaUKB_1.p',\n",
       " 'phecode_474-1_ASCVD_RetinaUKB_8.p',\n",
       " 'phecode_711_Retina_RetinaUKB_0.p',\n",
       " 'phecode_417_SCORE2_RetinaUKB_8.p',\n",
       " 'phecode_120-1_SCORE2_RetinaUKB_6.p',\n",
       " 'phecode_101-1_ASCVD_RetinaUKB_5.p',\n",
       " 'phecode_164-1_SCORE2+Retina_RetinaUKB_3.p',\n",
       " 'phecode_330_SCORE2+Retina_RetinaUKB_0.p',\n",
       " 'phecode_501_ASCVD+Retina_RetinaUKB_0.p',\n",
       " 'phecode_513-3_ASCVD+Retina_RetinaUKB_6.p',\n",
       " 'phecode_328_Age+Sex_RetinaUKB_5.p',\n",
       " 'phecode_106-21_Age+Sex_RetinaUKB_8.p',\n",
       " 'phecode_433_SCORE2_RetinaUKB_4.p',\n",
       " 'phecode_164-1_Age+Sex_RetinaUKB_0.p',\n",
       " 'phecode_520-2_Age+Sex_RetinaUKB_6.p',\n",
       " 'phecode_627_SCORE2_RetinaUKB_1.p',\n",
       " 'phecode_280-1_ASCVD+Retina_RetinaUKB_8.p',\n",
       " 'phecode_347_Retina_RetinaUKB_0.p',\n",
       " 'phecode_460_SCORE2+Retina_RetinaUKB_7.p',\n",
       " 'phecode_105_SCORE2_RetinaUKB_4.p',\n",
       " 'phecode_430-2_SCORE2+Retina_RetinaUKB_4.p',\n",
       " 'phecode_286_Retina_RetinaUKB_9.p',\n",
       " 'phecode_106-2_SCORE2+Retina_RetinaUKB_3.p',\n",
       " 'phecode_525_Retina_RetinaUKB_0.p',\n",
       " 'phecode_102-1_ASCVD_RetinaUKB_1.p',\n",
       " 'phecode_374_ASCVD+Retina_RetinaUKB_8.p',\n",
       " 'phecode_518_Age+Sex+Retina_RetinaUKB_7.p',\n",
       " 'phecode_804_ASCVD+Retina_RetinaUKB_7.p',\n",
       " 'phecode_101-42_Retina_RetinaUKB_4.p',\n",
       " 'phecode_603_SCORE2+Retina_RetinaUKB_1.p',\n",
       " 'phecode_829_SCORE2_RetinaUKB_6.p',\n",
       " 'phecode_503_Retina_RetinaUKB_5.p',\n",
       " 'phecode_102_ASCVD+Retina_RetinaUKB_1.p',\n",
       " 'phecode_401-1_ASCVD_RetinaUKB_5.p',\n",
       " 'phecode_324-11_ASCVD_RetinaUKB_7.p',\n",
       " 'phecode_208_SCORE2+Retina_RetinaUKB_7.p',\n",
       " 'phecode_546_SCORE2_RetinaUKB_3.p',\n",
       " 'phecode_586_SCORE2+Retina_RetinaUKB_7.p',\n",
       " 'phecode_160-1_ASCVD+Retina_RetinaUKB_0.p',\n",
       " 'phecode_361_Retina_RetinaUKB_9.p',\n",
       " 'phecode_722_Retina_RetinaUKB_2.p',\n",
       " 'phecode_413-1_ASCVD+Retina_RetinaUKB_3.p',\n",
       " 'phecode_052_Age+Sex+Retina_RetinaUKB_9.p',\n",
       " 'phecode_522-11_Age+Sex_RetinaUKB_1.p',\n",
       " 'phecode_282-1_Age+Sex+Retina_RetinaUKB_5.p',\n",
       " 'phecode_552_ASCVD+Retina_RetinaUKB_7.p',\n",
       " 'phecode_139-5_Age+Sex+Retina_RetinaUKB_7.p',\n",
       " 'phecode_514_SCORE2+Retina_RetinaUKB_0.p',\n",
       " 'phecode_102_ASCVD_RetinaUKB_5.p',\n",
       " 'phecode_586_ASCVD+Retina_RetinaUKB_6.p',\n",
       " 'phecode_282-1_Age+Sex_RetinaUKB_8.p',\n",
       " 'phecode_585_Retina_RetinaUKB_5.p',\n",
       " 'phecode_556_ASCVD+Retina_RetinaUKB_0.p',\n",
       " 'phecode_160_ASCVD+Retina_RetinaUKB_0.p',\n",
       " 'phecode_280_ASCVD_RetinaUKB_5.p',\n",
       " 'phecode_686_SCORE2+Retina_RetinaUKB_5.p',\n",
       " 'phecode_101-1_Retina_RetinaUKB_5.p',\n",
       " 'phecode_660_Age+Sex_RetinaUKB_3.p',\n",
       " 'phecode_716_Age+Sex+Retina_RetinaUKB_3.p',\n",
       " 'phecode_507_Age+Sex+Retina_RetinaUKB_8.p',\n",
       " 'phecode_526-2_SCORE2_RetinaUKB_9.p',\n",
       " 'phecode_510_Age+Sex+Retina_RetinaUKB_1.p',\n",
       " 'phecode_386_Age+Sex_RetinaUKB_3.p',\n",
       " 'phecode_328_Age+Sex_RetinaUKB_0.p',\n",
       " 'phecode_703-1_Age+Sex_RetinaUKB_0.p',\n",
       " 'phecode_120-2_SCORE2_RetinaUKB_2.p',\n",
       " 'phecode_232-2_Retina_RetinaUKB_0.p',\n",
       " 'phecode_144-21_SCORE2_RetinaUKB_2.p',\n",
       " 'phecode_559_SCORE2_RetinaUKB_8.p',\n",
       " 'phecode_387_SCORE2_RetinaUKB_3.p',\n",
       " 'phecode_597-1_ASCVD+Retina_RetinaUKB_4.p',\n",
       " 'phecode_724_SCORE2_RetinaUKB_6.p',\n",
       " 'phecode_474-1_SCORE2_RetinaUKB_5.p',\n",
       " 'phecode_524_SCORE2+Retina_RetinaUKB_7.p',\n",
       " 'phecode_520_Age+Sex_RetinaUKB_7.p',\n",
       " 'phecode_700_Age+Sex_RetinaUKB_4.p',\n",
       " 'phecode_349_Age+Sex_RetinaUKB_2.p',\n",
       " 'phecode_599_Age+Sex_RetinaUKB_1.p',\n",
       " 'phecode_107-2_ASCVD+Retina_RetinaUKB_9.p',\n",
       " 'phecode_702_Age+Sex+Retina_RetinaUKB_7.p',\n",
       " 'phecode_440_ASCVD+Retina_RetinaUKB_1.p',\n",
       " 'phecode_511_Age+Sex_RetinaUKB_3.p',\n",
       " 'phecode_460_Age+Sex_RetinaUKB_3.p',\n",
       " 'phecode_108-5_SCORE2+Retina_RetinaUKB_9.p',\n",
       " 'phecode_116_ASCVD+Retina_RetinaUKB_7.p',\n",
       " 'phecode_423_Retina_RetinaUKB_6.p',\n",
       " 'phecode_333_Age+Sex_RetinaUKB_0.p',\n",
       " 'phecode_559_ASCVD+Retina_RetinaUKB_8.p',\n",
       " 'phecode_528_Age+Sex_RetinaUKB_6.p',\n",
       " 'phecode_139-5_SCORE2+Retina_RetinaUKB_5.p',\n",
       " 'phecode_360_ASCVD+Retina_RetinaUKB_1.p',\n",
       " 'phecode_433-2_Age+Sex+Retina_RetinaUKB_9.p',\n",
       " 'phecode_431-12_ASCVD_RetinaUKB_6.p',\n",
       " 'phecode_135_ASCVD_RetinaUKB_9.p',\n",
       " 'phecode_439_ASCVD_RetinaUKB_7.p',\n",
       " 'phecode_247-72_ASCVD+Retina_RetinaUKB_0.p',\n",
       " 'phecode_052_Age+Sex+Retina_RetinaUKB_8.p',\n",
       " 'phecode_324_SCORE2_RetinaUKB_6.p',\n",
       " 'phecode_680_SCORE2_RetinaUKB_1.p',\n",
       " 'phecode_107_Age+Sex_RetinaUKB_5.p',\n",
       " 'phecode_437_ASCVD+Retina_RetinaUKB_4.p',\n",
       " 'phecode_524-1_Age+Sex_RetinaUKB_6.p',\n",
       " 'phecode_668_ASCVD+Retina_RetinaUKB_5.p',\n",
       " 'phecode_446_SCORE2_RetinaUKB_3.p',\n",
       " 'phecode_416_SCORE2+Retina_RetinaUKB_0.p',\n",
       " 'phecode_247-7_ASCVD+Retina_RetinaUKB_9.p',\n",
       " 'phecode_440-1_ASCVD_RetinaUKB_0.p',\n",
       " 'phecode_520-1_Age+Sex_RetinaUKB_4.p',\n",
       " 'phecode_413-3_ASCVD+Retina_RetinaUKB_5.p',\n",
       " 'phecode_596_SCORE2+Retina_RetinaUKB_1.p',\n",
       " 'phecode_585_Age+Sex+Retina_RetinaUKB_1.p',\n",
       " 'phecode_476_Age+Sex_RetinaUKB_0.p',\n",
       " 'phecode_584_ASCVD+Retina_RetinaUKB_8.p',\n",
       " 'phecode_403_ASCVD_RetinaUKB_8.p',\n",
       " 'phecode_410_Retina_RetinaUKB_7.p',\n",
       " 'phecode_244_Age+Sex_RetinaUKB_5.p',\n",
       " 'phecode_164_ASCVD+Retina_RetinaUKB_6.p',\n",
       " 'phecode_164-1_Retina_RetinaUKB_2.p',\n",
       " 'phecode_281-2_Retina_RetinaUKB_7.p',\n",
       " 'phecode_542_Retina_RetinaUKB_5.p',\n",
       " 'phecode_356_ASCVD+Retina_RetinaUKB_3.p',\n",
       " 'phecode_680_Age+Sex+Retina_RetinaUKB_5.p',\n",
       " 'phecode_800_SCORE2+Retina_RetinaUKB_8.p',\n",
       " 'phecode_130_SCORE2_RetinaUKB_1.p',\n",
       " 'phecode_325_SCORE2+Retina_RetinaUKB_1.p',\n",
       " 'phecode_524_SCORE2+Retina_RetinaUKB_8.p',\n",
       " 'phecode_236_Age+Sex+Retina_RetinaUKB_0.p',\n",
       " 'phecode_522-11_ASCVD+Retina_RetinaUKB_7.p',\n",
       " 'phecode_520-13_Retina_RetinaUKB_7.p',\n",
       " 'phecode_444-11_SCORE2_RetinaUKB_9.p',\n",
       " 'phecode_542_SCORE2+Retina_RetinaUKB_5.p',\n",
       " 'phecode_413-1_ASCVD+Retina_RetinaUKB_0.p',\n",
       " 'phecode_721-1_SCORE2_RetinaUKB_9.p',\n",
       " 'phecode_708-1_Age+Sex_RetinaUKB_9.p',\n",
       " 'phecode_581-3_Age+Sex+Retina_RetinaUKB_6.p',\n",
       " 'phecode_711_ASCVD+Retina_RetinaUKB_3.p',\n",
       " 'phecode_522-11_Retina_RetinaUKB_4.p',\n",
       " 'phecode_283_Retina_RetinaUKB_8.p',\n",
       " 'phecode_324-11_SCORE2_RetinaUKB_9.p',\n",
       " 'phecode_462_SCORE2_RetinaUKB_9.p',\n",
       " 'phecode_101-41_SCORE2+Retina_RetinaUKB_1.p',\n",
       " 'phecode_281-2_SCORE2_RetinaUKB_5.p',\n",
       " 'phecode_439_Age+Sex+Retina_RetinaUKB_9.p',\n",
       " 'phecode_387_Age+Sex+Retina_RetinaUKB_1.p',\n",
       " 'phecode_331_ASCVD_RetinaUKB_9.p',\n",
       " 'phecode_809_Retina_RetinaUKB_4.p',\n",
       " 'phecode_665_Age+Sex+Retina_RetinaUKB_4.p',\n",
       " 'phecode_440-1_SCORE2+Retina_RetinaUKB_6.p',\n",
       " 'phecode_413-3_ASCVD+Retina_RetinaUKB_4.p',\n",
       " 'phecode_726-2_Age+Sex+Retina_RetinaUKB_2.p',\n",
       " 'phecode_211_ASCVD_RetinaUKB_3.p',\n",
       " 'phecode_070_SCORE2+Retina_RetinaUKB_6.p',\n",
       " 'phecode_341-2_Age+Sex_RetinaUKB_6.p',\n",
       " 'phecode_704_Age+Sex+Retina_RetinaUKB_9.p',\n",
       " 'phecode_430_SCORE2_RetinaUKB_1.p',\n",
       " 'phecode_247_Retina_RetinaUKB_1.p',\n",
       " 'phecode_513_ASCVD_RetinaUKB_5.p',\n",
       " 'phecode_394_SCORE2_RetinaUKB_1.p',\n",
       " 'phecode_509_ASCVD+Retina_RetinaUKB_3.p',\n",
       " 'phecode_102-1_ASCVD+Retina_RetinaUKB_9.p',\n",
       " 'phecode_416_ASCVD_RetinaUKB_2.p',\n",
       " 'phecode_354_Age+Sex+Retina_RetinaUKB_4.p',\n",
       " 'phecode_520-11_ASCVD+Retina_RetinaUKB_4.p',\n",
       " 'phecode_460-1_Age+Sex_RetinaUKB_1.p',\n",
       " 'phecode_726_Age+Sex_RetinaUKB_5.p',\n",
       " 'phecode_144-21_ASCVD_RetinaUKB_1.p',\n",
       " 'phecode_325-2_Age+Sex+Retina_RetinaUKB_8.p',\n",
       " 'phecode_664-1_Age+Sex_RetinaUKB_7.p',\n",
       " 'phecode_281_SCORE2+Retina_RetinaUKB_4.p',\n",
       " 'phecode_164_Age+Sex+Retina_RetinaUKB_1.p',\n",
       " 'phecode_436_SCORE2+Retina_RetinaUKB_8.p',\n",
       " 'phecode_511_Age+Sex+Retina_RetinaUKB_2.p',\n",
       " 'phecode_329_Retina_RetinaUKB_0.p',\n",
       " 'phecode_440_Age+Sex_RetinaUKB_4.p',\n",
       " 'phecode_727_SCORE2_RetinaUKB_8.p',\n",
       " 'phecode_070_ASCVD_RetinaUKB_4.p',\n",
       " 'phecode_413-2_ASCVD+Retina_RetinaUKB_1.p',\n",
       " 'phecode_462_Retina_RetinaUKB_9.p',\n",
       " 'phecode_135_Retina_RetinaUKB_6.p',\n",
       " 'phecode_559_SCORE2+Retina_RetinaUKB_4.p',\n",
       " 'phecode_805_Age+Sex+Retina_RetinaUKB_4.p',\n",
       " 'phecode_542-1_Age+Sex+Retina_RetinaUKB_8.p',\n",
       " 'phecode_333_Retina_RetinaUKB_9.p',\n",
       " 'phecode_525_Age+Sex+Retina_RetinaUKB_4.p',\n",
       " 'phecode_424_SCORE2_RetinaUKB_9.p',\n",
       " 'phecode_436_SCORE2+Retina_RetinaUKB_5.p',\n",
       " 'phecode_688_SCORE2_RetinaUKB_0.p',\n",
       " 'phecode_431-12_Age+Sex_RetinaUKB_4.p',\n",
       " 'phecode_120_Age+Sex+Retina_RetinaUKB_8.p',\n",
       " 'phecode_325_Retina_RetinaUKB_9.p',\n",
       " 'phecode_327_Retina_RetinaUKB_7.p',\n",
       " 'phecode_804_SCORE2_RetinaUKB_7.p',\n",
       " 'phecode_476_SCORE2+Retina_RetinaUKB_3.p',\n",
       " 'phecode_593-3_SCORE2_RetinaUKB_6.p',\n",
       " 'phecode_202-1_SCORE2_RetinaUKB_7.p',\n",
       " 'phecode_106-2_Age+Sex_RetinaUKB_4.p',\n",
       " 'phecode_522-11_ASCVD_RetinaUKB_1.p',\n",
       " 'phecode_103-3_ASCVD_RetinaUKB_4.p',\n",
       " 'phecode_164_Retina_RetinaUKB_8.p',\n",
       " 'phecode_181_Age+Sex+Retina_RetinaUKB_8.p',\n",
       " 'phecode_705_SCORE2+Retina_RetinaUKB_6.p',\n",
       " 'phecode_286-2_Retina_RetinaUKB_7.p',\n",
       " 'phecode_144-21_SCORE2+Retina_RetinaUKB_9.p',\n",
       " 'phecode_168_ASCVD_RetinaUKB_1.p',\n",
       " 'phecode_431_Age+Sex+Retina_RetinaUKB_2.p',\n",
       " 'phecode_308_Age+Sex_RetinaUKB_9.p',\n",
       " 'phecode_462-2_Age+Sex+Retina_RetinaUKB_4.p',\n",
       " 'phecode_550-1_SCORE2_RetinaUKB_2.p',\n",
       " 'phecode_721_ASCVD_RetinaUKB_1.p',\n",
       " 'phecode_101-8_ASCVD_RetinaUKB_8.p',\n",
       " 'phecode_479-3_ASCVD+Retina_RetinaUKB_0.p',\n",
       " 'phecode_410_Age+Sex+Retina_RetinaUKB_9.p',\n",
       " 'phecode_417_ASCVD_RetinaUKB_0.p',\n",
       " 'phecode_479-3_ASCVD_RetinaUKB_6.p',\n",
       " 'phecode_688_Age+Sex_RetinaUKB_5.p',\n",
       " 'phecode_512_ASCVD+Retina_RetinaUKB_2.p',\n",
       " 'phecode_108-5_Age+Sex+Retina_RetinaUKB_7.p',\n",
       " 'phecode_200_ASCVD_RetinaUKB_0.p',\n",
       " 'phecode_160-1_Age+Sex_RetinaUKB_9.p',\n",
       " 'phecode_308_Retina_RetinaUKB_1.p',\n",
       " 'phecode_325-2_Retina_RetinaUKB_2.p',\n",
       " 'phecode_680_SCORE2_RetinaUKB_3.p',\n",
       " 'phecode_333_Age+Sex+Retina_RetinaUKB_6.p',\n",
       " 'phecode_619_Retina_RetinaUKB_1.p',\n",
       " 'phecode_440_ASCVD_RetinaUKB_4.p',\n",
       " 'phecode_460-2_SCORE2_RetinaUKB_4.p',\n",
       " 'phecode_520-1_Retina_RetinaUKB_5.p',\n",
       " 'phecode_089_ASCVD+Retina_RetinaUKB_0.p',\n",
       " 'phecode_120_Age+Sex_RetinaUKB_2.p',\n",
       " 'phecode_522-12_Age+Sex+Retina_RetinaUKB_6.p',\n",
       " 'phecode_682_Age+Sex_RetinaUKB_6.p',\n",
       " 'phecode_349_SCORE2+Retina_RetinaUKB_3.p',\n",
       " 'phecode_170_Retina_RetinaUKB_3.p',\n",
       " 'phecode_511_Retina_RetinaUKB_6.p',\n",
       " 'phecode_354_SCORE2_RetinaUKB_3.p',\n",
       " 'phecode_721_Retina_RetinaUKB_6.p',\n",
       " 'phecode_522_ASCVD_RetinaUKB_1.p',\n",
       " 'phecode_726-2_SCORE2+Retina_RetinaUKB_4.p',\n",
       " 'phecode_724_ASCVD+Retina_RetinaUKB_5.p',\n",
       " 'phecode_401_Retina_RetinaUKB_5.p',\n",
       " 'phecode_719_SCORE2_RetinaUKB_0.p',\n",
       " 'phecode_708-7_ASCVD+Retina_RetinaUKB_0.p',\n",
       " 'phecode_107-2_Age+Sex_RetinaUKB_6.p',\n",
       " 'phecode_288_Age+Sex_RetinaUKB_3.p',\n",
       " 'phecode_510_SCORE2+Retina_RetinaUKB_1.p',\n",
       " 'phecode_200-1_ASCVD_RetinaUKB_5.p',\n",
       " 'phecode_444-1_ASCVD+Retina_RetinaUKB_4.p',\n",
       " 'phecode_542_Age+Sex+Retina_RetinaUKB_4.p',\n",
       " 'phecode_351_Age+Sex_RetinaUKB_9.p',\n",
       " 'phecode_108-41_SCORE2_RetinaUKB_6.p',\n",
       " 'phecode_288_Age+Sex_RetinaUKB_0.p',\n",
       " 'phecode_108-4_SCORE2+Retina_RetinaUKB_4.p',\n",
       " 'phecode_396_ASCVD_RetinaUKB_8.p',\n",
       " 'phecode_052-32_ASCVD+Retina_RetinaUKB_9.p',\n",
       " 'phecode_440-3_Age+Sex_RetinaUKB_4.p',\n",
       " 'phecode_375_SCORE2_RetinaUKB_6.p',\n",
       " 'phecode_705_Age+Sex_RetinaUKB_2.p',\n",
       " 'phecode_122_SCORE2_RetinaUKB_3.p',\n",
       " 'phecode_513_Age+Sex_RetinaUKB_3.p',\n",
       " 'phecode_164-1_Age+Sex+Retina_RetinaUKB_9.p',\n",
       " 'phecode_232_Age+Sex_RetinaUKB_6.p',\n",
       " 'phecode_200-3_Retina_RetinaUKB_3.p',\n",
       " 'phecode_334_SCORE2_RetinaUKB_7.p',\n",
       " 'phecode_550-1_Age+Sex_RetinaUKB_4.p',\n",
       " 'phecode_604_SCORE2+Retina_RetinaUKB_5.p',\n",
       " 'phecode_513-2_ASCVD+Retina_RetinaUKB_2.p',\n",
       " 'phecode_437_Age+Sex_RetinaUKB_8.p',\n",
       " 'phecode_144-21_ASCVD_RetinaUKB_9.p',\n",
       " 'phecode_413_ASCVD+Retina_RetinaUKB_0.p',\n",
       " 'phecode_330-3_SCORE2_RetinaUKB_4.p',\n",
       " 'phecode_528-1_ASCVD_RetinaUKB_1.p',\n",
       " 'phecode_327_SCORE2+Retina_RetinaUKB_0.p',\n",
       " 'phecode_101-42_SCORE2+Retina_RetinaUKB_5.p',\n",
       " 'phecode_448_ASCVD+Retina_RetinaUKB_8.p',\n",
       " 'phecode_232_SCORE2_RetinaUKB_7.p',\n",
       " 'phecode_807_SCORE2_RetinaUKB_3.p',\n",
       " 'phecode_391_ASCVD+Retina_RetinaUKB_0.p',\n",
       " 'phecode_708_Age+Sex_RetinaUKB_9.p',\n",
       " 'phecode_715_SCORE2_RetinaUKB_4.p',\n",
       " 'phecode_556_ASCVD_RetinaUKB_1.p',\n",
       " 'phecode_513-3_Retina_RetinaUKB_8.p',\n",
       " 'phecode_726-1_Age+Sex+Retina_RetinaUKB_6.p',\n",
       " 'phecode_680_Retina_RetinaUKB_5.p',\n",
       " 'phecode_520-11_Age+Sex+Retina_RetinaUKB_3.p',\n",
       " 'phecode_552_ASCVD+Retina_RetinaUKB_5.p',\n",
       " 'phecode_440-13_Age+Sex+Retina_RetinaUKB_1.p',\n",
       " 'phecode_336_SCORE2_RetinaUKB_5.p',\n",
       " 'phecode_444_Age+Sex_RetinaUKB_4.p',\n",
       " 'phecode_130_ASCVD+Retina_RetinaUKB_3.p',\n",
       " 'phecode_597-1_Age+Sex+Retina_RetinaUKB_6.p',\n",
       " 'phecode_678_SCORE2_RetinaUKB_8.p',\n",
       " 'phecode_627_Age+Sex_RetinaUKB_2.p',\n",
       " 'phecode_120_ASCVD+Retina_RetinaUKB_3.p',\n",
       " 'phecode_440-3_ASCVD+Retina_RetinaUKB_2.p',\n",
       " 'phecode_520_Age+Sex_RetinaUKB_8.p',\n",
       " 'phecode_430-2_ASCVD_RetinaUKB_6.p',\n",
       " 'phecode_520-11_ASCVD+Retina_RetinaUKB_9.p',\n",
       " 'phecode_559_Age+Sex_RetinaUKB_9.p',\n",
       " 'phecode_501_Age+Sex_RetinaUKB_2.p',\n",
       " 'phecode_401-1_SCORE2+Retina_RetinaUKB_1.p',\n",
       " 'phecode_374_Age+Sex_RetinaUKB_4.p',\n",
       " 'phecode_350_Age+Sex_RetinaUKB_2.p',\n",
       " 'phecode_526-2_Age+Sex_RetinaUKB_2.p',\n",
       " 'phecode_280-1_Age+Sex+Retina_RetinaUKB_5.p',\n",
       " 'phecode_232-4_ASCVD+Retina_RetinaUKB_5.p',\n",
       " 'phecode_160-1_ASCVD_RetinaUKB_5.p',\n",
       " 'phecode_526_ASCVD+Retina_RetinaUKB_5.p',\n",
       " 'phecode_070_ASCVD_RetinaUKB_2.p',\n",
       " 'phecode_361_Age+Sex_RetinaUKB_0.p',\n",
       " 'phecode_406_SCORE2+Retina_RetinaUKB_0.p',\n",
       " 'phecode_396_ASCVD_RetinaUKB_4.p',\n",
       " 'phecode_324-11_SCORE2_RetinaUKB_7.p',\n",
       " 'phecode_108-5_SCORE2+Retina_RetinaUKB_7.p',\n",
       " 'phecode_247-72_Age+Sex+Retina_RetinaUKB_2.p',\n",
       " 'phecode_585_SCORE2_RetinaUKB_7.p',\n",
       " 'phecode_102-1_Age+Sex+Retina_RetinaUKB_1.p',\n",
       " 'phecode_481_ASCVD+Retina_RetinaUKB_3.p',\n",
       " 'phecode_708-1_ASCVD_RetinaUKB_7.p',\n",
       " 'phecode_510-2_Age+Sex_RetinaUKB_1.p',\n",
       " 'phecode_256_Age+Sex+Retina_RetinaUKB_5.p',\n",
       " 'phecode_106_Age+Sex+Retina_RetinaUKB_9.p',\n",
       " 'phecode_149_ASCVD+Retina_RetinaUKB_1.p',\n",
       " 'phecode_522-11_SCORE2+Retina_RetinaUKB_2.p',\n",
       " 'phecode_438_ASCVD_RetinaUKB_8.p',\n",
       " 'phecode_211_Age+Sex+Retina_RetinaUKB_6.p',\n",
       " 'phecode_437_Age+Sex+Retina_RetinaUKB_2.p',\n",
       " 'phecode_529-2_Age+Sex+Retina_RetinaUKB_6.p',\n",
       " 'phecode_433_Age+Sex+Retina_RetinaUKB_1.p',\n",
       " 'phecode_401_Age+Sex_RetinaUKB_9.p',\n",
       " 'phecode_149_Age+Sex+Retina_RetinaUKB_4.p',\n",
       " 'phecode_430_SCORE2_RetinaUKB_2.p',\n",
       " 'phecode_070_Retina_RetinaUKB_5.p',\n",
       " 'phecode_232-4_Age+Sex+Retina_RetinaUKB_0.p',\n",
       " 'phecode_374_SCORE2+Retina_RetinaUKB_8.p',\n",
       " 'phecode_341-2_Age+Sex_RetinaUKB_0.p',\n",
       " 'phecode_487_ASCVD_RetinaUKB_6.p',\n",
       " 'phecode_413_SCORE2_RetinaUKB_7.p',\n",
       " 'phecode_280_Age+Sex+Retina_RetinaUKB_0.p',\n",
       " 'phecode_583_ASCVD_RetinaUKB_7.p',\n",
       " 'phecode_202-2_Age+Sex+Retina_RetinaUKB_9.p',\n",
       " 'phecode_135-5_SCORE2+Retina_RetinaUKB_4.p',\n",
       " 'phecode_103-3_ASCVD_RetinaUKB_0.p',\n",
       " 'phecode_363_SCORE2+Retina_RetinaUKB_0.p',\n",
       " 'phecode_483_Age+Sex+Retina_RetinaUKB_5.p',\n",
       " 'phecode_979_SCORE2_RetinaUKB_1.p',\n",
       " 'phecode_804_SCORE2_RetinaUKB_6.p',\n",
       " 'phecode_550_ASCVD+Retina_RetinaUKB_4.p',\n",
       " 'phecode_491_Age+Sex_RetinaUKB_4.p',\n",
       " 'phecode_559_SCORE2_RetinaUKB_4.p',\n",
       " 'phecode_236_SCORE2+Retina_RetinaUKB_8.p',\n",
       " 'phecode_446_SCORE2_RetinaUKB_4.p',\n",
       " 'phecode_430_Age+Sex_RetinaUKB_1.p',\n",
       " 'phecode_592_Age+Sex_RetinaUKB_3.p',\n",
       " 'phecode_709_Age+Sex_RetinaUKB_7.p',\n",
       " 'phecode_812_ASCVD+Retina_RetinaUKB_4.p',\n",
       " 'phecode_416_ASCVD+Retina_RetinaUKB_0.p',\n",
       " 'phecode_160-1_Age+Sex_RetinaUKB_5.p',\n",
       " 'phecode_472_Age+Sex+Retina_RetinaUKB_7.p',\n",
       " 'phecode_106-3_Retina_RetinaUKB_3.p',\n",
       " 'phecode_417_ASCVD+Retina_RetinaUKB_3.p',\n",
       " 'phecode_401_Retina_RetinaUKB_8.p',\n",
       " 'phecode_168_Retina_RetinaUKB_6.p',\n",
       " 'phecode_707_SCORE2+Retina_RetinaUKB_9.p',\n",
       " 'phecode_416_Retina_RetinaUKB_9.p',\n",
       " 'phecode_324-11_ASCVD_RetinaUKB_2.p',\n",
       " 'phecode_440-13_Age+Sex+Retina_RetinaUKB_6.p',\n",
       " 'phecode_520-14_SCORE2_RetinaUKB_0.p',\n",
       " 'phecode_513_SCORE2+Retina_RetinaUKB_5.p',\n",
       " 'phecode_120-2_Retina_RetinaUKB_7.p',\n",
       " 'phecode_170_SCORE2_RetinaUKB_3.p',\n",
       " 'phecode_105_Age+Sex_RetinaUKB_7.p',\n",
       " 'phecode_715_ASCVD_RetinaUKB_7.p',\n",
       " 'phecode_713_ASCVD+Retina_RetinaUKB_9.p',\n",
       " 'phecode_387_SCORE2+Retina_RetinaUKB_5.p',\n",
       " 'phecode_374-4_SCORE2+Retina_RetinaUKB_6.p',\n",
       " 'phecode_706_ASCVD_RetinaUKB_0.p',\n",
       " 'phecode_286-2_SCORE2_RetinaUKB_3.p',\n",
       " 'phecode_487_ASCVD+Retina_RetinaUKB_9.p',\n",
       " 'phecode_329_Retina_RetinaUKB_8.p',\n",
       " 'phecode_411_Age+Sex_RetinaUKB_2.p',\n",
       " 'phecode_103_ASCVD+Retina_RetinaUKB_6.p',\n",
       " 'phecode_809_SCORE2_RetinaUKB_8.p',\n",
       " 'phecode_520_ASCVD+Retina_RetinaUKB_9.p',\n",
       " 'phecode_829_Retina_RetinaUKB_4.p',\n",
       " 'phecode_103-1_Retina_RetinaUKB_2.p',\n",
       " 'phecode_283_SCORE2+Retina_RetinaUKB_4.p',\n",
       " 'phecode_596_Age+Sex_RetinaUKB_2.p',\n",
       " 'phecode_686-2_ASCVD_RetinaUKB_4.p',\n",
       " 'phecode_433_Age+Sex+Retina_RetinaUKB_0.p',\n",
       " 'phecode_431-1_SCORE2_RetinaUKB_1.p',\n",
       " 'phecode_108-4_SCORE2+Retina_RetinaUKB_5.p',\n",
       " 'phecode_670_SCORE2_RetinaUKB_1.p',\n",
       " 'phecode_160_ASCVD+Retina_RetinaUKB_8.p',\n",
       " 'phecode_061_ASCVD_RetinaUKB_9.p',\n",
       " 'phecode_232-4_ASCVD_RetinaUKB_1.p',\n",
       " 'phecode_491_SCORE2+Retina_RetinaUKB_0.p',\n",
       " 'phecode_481_Age+Sex+Retina_RetinaUKB_9.p',\n",
       " 'phecode_471-5_Age+Sex_RetinaUKB_5.p',\n",
       " 'phecode_528_ASCVD_RetinaUKB_7.p',\n",
       " 'phecode_583_Age+Sex+Retina_RetinaUKB_1.p',\n",
       " 'phecode_374_ASCVD_RetinaUKB_1.p',\n",
       " 'phecode_487_Age+Sex_RetinaUKB_9.p',\n",
       " 'phecode_244_ASCVD+Retina_RetinaUKB_7.p',\n",
       " 'phecode_236_ASCVD_RetinaUKB_1.p',\n",
       " 'phecode_324_ASCVD_RetinaUKB_3.p',\n",
       " 'phecode_200-3_Age+Sex_RetinaUKB_0.p',\n",
       " 'phecode_144-2_Age+Sex+Retina_RetinaUKB_0.p',\n",
       " 'phecode_424_Retina_RetinaUKB_5.p',\n",
       " 'phecode_474_ASCVD+Retina_RetinaUKB_2.p',\n",
       " 'phecode_101-1_SCORE2+Retina_RetinaUKB_8.p',\n",
       " 'phecode_404-11_Age+Sex+Retina_RetinaUKB_1.p',\n",
       " 'phecode_202-2_SCORE2+Retina_RetinaUKB_4.p',\n",
       " 'phecode_522_SCORE2_RetinaUKB_2.p',\n",
       " 'phecode_446_ASCVD_RetinaUKB_4.p',\n",
       " 'phecode_715-1_Age+Sex+Retina_RetinaUKB_9.p',\n",
       " 'phecode_052_ASCVD+Retina_RetinaUKB_7.p',\n",
       " 'phecode_337_Age+Sex+Retina_RetinaUKB_8.p',\n",
       " 'phecode_530_Retina_RetinaUKB_0.p',\n",
       " 'phecode_487_Age+Sex_RetinaUKB_7.p',\n",
       " 'phecode_556_Age+Sex+Retina_RetinaUKB_9.p',\n",
       " 'phecode_513-3_SCORE2+Retina_RetinaUKB_6.p',\n",
       " 'phecode_474_SCORE2_RetinaUKB_1.p',\n",
       " 'phecode_108-41_Age+Sex+Retina_RetinaUKB_2.p',\n",
       " 'phecode_144_SCORE2_RetinaUKB_4.p',\n",
       " 'phecode_101-42_SCORE2_RetinaUKB_9.p',\n",
       " 'phecode_513_Age+Sex_RetinaUKB_0.p',\n",
       " 'phecode_522-12_ASCVD+Retina_RetinaUKB_9.p',\n",
       " 'phecode_603-1_SCORE2+Retina_RetinaUKB_3.p',\n",
       " 'phecode_328-7_SCORE2_RetinaUKB_3.p',\n",
       " 'phecode_526_SCORE2_RetinaUKB_9.p',\n",
       " 'phecode_112_ASCVD+Retina_RetinaUKB_2.p',\n",
       " 'phecode_328-7_Age+Sex_RetinaUKB_7.p',\n",
       " 'phecode_670_SCORE2+Retina_RetinaUKB_8.p',\n",
       " 'phecode_448_SCORE2+Retina_RetinaUKB_7.p',\n",
       " 'phecode_711_ASCVD+Retina_RetinaUKB_0.p',\n",
       " 'phecode_488_Age+Sex_RetinaUKB_3.p',\n",
       " 'phecode_507_SCORE2_RetinaUKB_7.p',\n",
       " 'phecode_411_SCORE2+Retina_RetinaUKB_4.p',\n",
       " 'phecode_324-11_SCORE2_RetinaUKB_6.p',\n",
       " 'phecode_120_Age+Sex+Retina_RetinaUKB_5.p',\n",
       " 'phecode_424_Age+Sex+Retina_RetinaUKB_2.p',\n",
       " 'phecode_331_Retina_RetinaUKB_0.p',\n",
       " 'phecode_483_Retina_RetinaUKB_9.p',\n",
       " 'phecode_387_ASCVD+Retina_RetinaUKB_8.p',\n",
       " 'phecode_107_SCORE2+Retina_RetinaUKB_0.p',\n",
       " 'phecode_708_Age+Sex+Retina_RetinaUKB_5.p',\n",
       " 'phecode_401-1_Age+Sex_RetinaUKB_5.p',\n",
       " 'phecode_052-32_ASCVD+Retina_RetinaUKB_3.p',\n",
       " 'phecode_283_SCORE2_RetinaUKB_4.p',\n",
       " 'phecode_664_Retina_RetinaUKB_2.p',\n",
       " 'phecode_420_SCORE2_RetinaUKB_2.p',\n",
       " 'phecode_431-1_ASCVD_RetinaUKB_2.p',\n",
       " 'phecode_138_Age+Sex+Retina_RetinaUKB_4.p',\n",
       " 'phecode_481_SCORE2+Retina_RetinaUKB_0.p',\n",
       " 'phecode_202-2_SCORE2+Retina_RetinaUKB_3.p',\n",
       " 'phecode_328-1_SCORE2_RetinaUKB_6.p',\n",
       " 'phecode_424_ASCVD+Retina_RetinaUKB_3.p',\n",
       " 'phecode_522_Age+Sex+Retina_RetinaUKB_3.p',\n",
       " 'phecode_597_SCORE2_RetinaUKB_3.p',\n",
       " 'phecode_331-6_ASCVD+Retina_RetinaUKB_1.p',\n",
       " 'phecode_510_Age+Sex+Retina_RetinaUKB_4.p',\n",
       " 'phecode_550_SCORE2+Retina_RetinaUKB_2.p',\n",
       " 'phecode_144_SCORE2_RetinaUKB_9.p',\n",
       " 'phecode_414_Age+Sex_RetinaUKB_5.p',\n",
       " 'phecode_679_Age+Sex+Retina_RetinaUKB_1.p',\n",
       " 'phecode_052-32_Age+Sex+Retina_RetinaUKB_5.p',\n",
       " 'phecode_602_SCORE2_RetinaUKB_5.p',\n",
       " 'phecode_400-2_ASCVD_RetinaUKB_0.p',\n",
       " 'phecode_101-1_Age+Sex_RetinaUKB_1.p',\n",
       " 'phecode_688_SCORE2+Retina_RetinaUKB_9.p',\n",
       " 'phecode_702_SCORE2+Retina_RetinaUKB_5.p',\n",
       " 'phecode_281_SCORE2+Retina_RetinaUKB_8.p',\n",
       " 'phecode_537_ASCVD_RetinaUKB_4.p',\n",
       " 'phecode_170_Age+Sex_RetinaUKB_7.p',\n",
       " 'phecode_503_SCORE2+Retina_RetinaUKB_4.p',\n",
       " 'phecode_679_SCORE2+Retina_RetinaUKB_1.p',\n",
       " 'phecode_341_Age+Sex_RetinaUKB_0.p',\n",
       " 'phecode_324_ASCVD+Retina_RetinaUKB_9.p',\n",
       " 'phecode_510-2_SCORE2+Retina_RetinaUKB_3.p',\n",
       " 'phecode_401_Age+Sex_RetinaUKB_1.p',\n",
       " 'phecode_471_Age+Sex_RetinaUKB_8.p',\n",
       " 'phecode_529-3_Age+Sex+Retina_RetinaUKB_8.p',\n",
       " 'phecode_513-2_Age+Sex+Retina_RetinaUKB_4.p',\n",
       " 'phecode_144-2_ASCVD_RetinaUKB_1.p',\n",
       " 'phecode_686-2_Age+Sex+Retina_RetinaUKB_9.p',\n",
       " 'phecode_404-11_ASCVD+Retina_RetinaUKB_7.p',\n",
       " 'phecode_542_ASCVD_RetinaUKB_9.p',\n",
       " 'phecode_673_ASCVD+Retina_RetinaUKB_8.p',\n",
       " 'phecode_105_SCORE2_RetinaUKB_0.p',\n",
       " 'phecode_501_SCORE2_RetinaUKB_2.p',\n",
       " 'phecode_341_Age+Sex_RetinaUKB_4.p',\n",
       " 'phecode_244_Age+Sex_RetinaUKB_3.p',\n",
       " 'phecode_426_ASCVD+Retina_RetinaUKB_6.p',\n",
       " 'phecode_411_Age+Sex_RetinaUKB_5.p',\n",
       " 'phecode_181_SCORE2+Retina_RetinaUKB_4.p',\n",
       " 'phecode_488_SCORE2_RetinaUKB_6.p',\n",
       " 'phecode_808_Retina_RetinaUKB_8.p',\n",
       " 'phecode_593_Age+Sex+Retina_RetinaUKB_9.p',\n",
       " 'phecode_542-1_Age+Sex_RetinaUKB_0.p',\n",
       " 'phecode_106-3_SCORE2+Retina_RetinaUKB_5.p',\n",
       " 'phecode_431-1_Age+Sex+Retina_RetinaUKB_5.p',\n",
       " 'phecode_491_Age+Sex+Retina_RetinaUKB_4.p',\n",
       " 'phecode_390_SCORE2+Retina_RetinaUKB_0.p',\n",
       " 'phecode_144-2_SCORE2+Retina_RetinaUKB_5.p',\n",
       " 'phecode_554-11_Age+Sex+Retina_RetinaUKB_5.p',\n",
       " 'phecode_703-1_Age+Sex_RetinaUKB_7.p',\n",
       " 'phecode_819_Age+Sex_RetinaUKB_1.p',\n",
       " 'phecode_333_Age+Sex+Retina_RetinaUKB_4.p',\n",
       " 'phecode_682_SCORE2_RetinaUKB_9.p',\n",
       " 'phecode_390_Age+Sex_RetinaUKB_5.p',\n",
       " 'phecode_680_Retina_RetinaUKB_7.p',\n",
       " 'phecode_070_SCORE2+Retina_RetinaUKB_8.p',\n",
       " 'phecode_181_ASCVD_RetinaUKB_8.p',\n",
       " 'phecode_502_SCORE2+Retina_RetinaUKB_6.p',\n",
       " 'phecode_523_ASCVD_RetinaUKB_8.p',\n",
       " 'phecode_593-3_ASCVD_RetinaUKB_6.p',\n",
       " 'phecode_668_Age+Sex+Retina_RetinaUKB_9.p',\n",
       " 'phecode_355_ASCVD+Retina_RetinaUKB_4.p',\n",
       " 'phecode_139_SCORE2+Retina_RetinaUKB_9.p',\n",
       " 'phecode_469_Age+Sex+Retina_RetinaUKB_4.p',\n",
       " 'phecode_098_SCORE2_RetinaUKB_2.p',\n",
       " 'phecode_355_ASCVD_RetinaUKB_6.p',\n",
       " 'phecode_719_ASCVD_RetinaUKB_0.p',\n",
       " 'phecode_120-1_Age+Sex_RetinaUKB_3.p',\n",
       " 'phecode_518_Retina_RetinaUKB_0.p',\n",
       " 'phecode_280_Age+Sex+Retina_RetinaUKB_5.p',\n",
       " 'phecode_396_Retina_RetinaUKB_0.p',\n",
       " 'phecode_503_Age+Sex_RetinaUKB_7.p',\n",
       " 'phecode_446_Age+Sex_RetinaUKB_5.p',\n",
       " 'phecode_144-21_SCORE2_RetinaUKB_1.p',\n",
       " 'phecode_138-2_SCORE2_RetinaUKB_9.p',\n",
       " 'phecode_593-3_Age+Sex+Retina_RetinaUKB_4.p',\n",
       " 'phecode_431-12_SCORE2_RetinaUKB_8.p',\n",
       " 'phecode_170-1_Age+Sex_RetinaUKB_9.p',\n",
       " 'phecode_328-1_Age+Sex_RetinaUKB_6.p',\n",
       " 'phecode_550_Age+Sex+Retina_RetinaUKB_3.p',\n",
       " 'phecode_431-12_ASCVD+Retina_RetinaUKB_0.p',\n",
       " 'phecode_554_SCORE2_RetinaUKB_5.p',\n",
       " 'phecode_341-2_SCORE2_RetinaUKB_9.p',\n",
       " 'phecode_596_Age+Sex+Retina_RetinaUKB_5.p',\n",
       " 'phecode_202-1_Age+Sex_RetinaUKB_9.p',\n",
       " 'phecode_168-1_Age+Sex+Retina_RetinaUKB_5.p',\n",
       " 'phecode_288_ASCVD+Retina_RetinaUKB_4.p',\n",
       " 'phecode_722_ASCVD+Retina_RetinaUKB_2.p',\n",
       " 'phecode_347_SCORE2_RetinaUKB_0.p',\n",
       " 'phecode_120-2_ASCVD_RetinaUKB_1.p',\n",
       " 'phecode_550-2_ASCVD_RetinaUKB_5.p',\n",
       " 'phecode_160-1_Age+Sex_RetinaUKB_2.p',\n",
       " 'phecode_594_SCORE2_RetinaUKB_8.p',\n",
       " 'phecode_510_Age+Sex_RetinaUKB_6.p',\n",
       " 'phecode_144-2_ASCVD+Retina_RetinaUKB_4.p',\n",
       " 'phecode_349_SCORE2+Retina_RetinaUKB_6.p',\n",
       " 'phecode_089-2_SCORE2+Retina_RetinaUKB_9.p',\n",
       " 'phecode_594_ASCVD+Retina_RetinaUKB_6.p',\n",
       " 'phecode_582_Retina_RetinaUKB_4.p',\n",
       " 'phecode_514_Retina_RetinaUKB_2.p',\n",
       " 'phecode_709_SCORE2+Retina_RetinaUKB_7.p',\n",
       " 'phecode_542-1_SCORE2_RetinaUKB_7.p',\n",
       " 'OMOP_4306655_Age+Sex+Retina_RetinaUKB_3.p',\n",
       " 'phecode_108-4_SCORE2_RetinaUKB_4.p',\n",
       " 'phecode_714-3_ASCVD+Retina_RetinaUKB_1.p',\n",
       " 'phecode_416-4_SCORE2+Retina_RetinaUKB_0.p',\n",
       " 'phecode_416-4_SCORE2+Retina_RetinaUKB_3.p',\n",
       " 'phecode_604_Retina_RetinaUKB_7.p',\n",
       " 'phecode_522-9_ASCVD_RetinaUKB_1.p',\n",
       " 'phecode_120-1_Age+Sex_RetinaUKB_6.p',\n",
       " 'phecode_400_SCORE2_RetinaUKB_0.p',\n",
       " 'phecode_149_Age+Sex_RetinaUKB_5.p',\n",
       " 'phecode_512_ASCVD+Retina_RetinaUKB_0.p',\n",
       " 'phecode_510-2_Age+Sex_RetinaUKB_7.p',\n",
       " 'phecode_431_SCORE2_RetinaUKB_1.p',\n",
       " 'phecode_138-2_SCORE2_RetinaUKB_2.p',\n",
       " 'phecode_554-1_SCORE2+Retina_RetinaUKB_3.p',\n",
       " 'phecode_555_ASCVD+Retina_RetinaUKB_5.p',\n",
       " 'phecode_522-11_SCORE2+Retina_RetinaUKB_8.p',\n",
       " 'phecode_101-4_ASCVD_RetinaUKB_9.p',\n",
       " 'phecode_554-11_ASCVD_RetinaUKB_8.p',\n",
       " 'phecode_670_ASCVD_RetinaUKB_5.p',\n",
       " 'phecode_680_SCORE2+Retina_RetinaUKB_6.p',\n",
       " 'phecode_513-3_SCORE2_RetinaUKB_6.p',\n",
       " 'phecode_602_ASCVD+Retina_RetinaUKB_4.p',\n",
       " 'phecode_403_SCORE2_RetinaUKB_0.p',\n",
       " 'phecode_106-21_Retina_RetinaUKB_3.p',\n",
       " 'phecode_726_Retina_RetinaUKB_6.p',\n",
       " 'phecode_283-8_Age+Sex+Retina_RetinaUKB_4.p',\n",
       " 'phecode_328_Retina_RetinaUKB_2.p',\n",
       " 'phecode_594-4_ASCVD_RetinaUKB_4.p',\n",
       " 'phecode_596_SCORE2_RetinaUKB_0.p',\n",
       " 'phecode_682_Age+Sex+Retina_RetinaUKB_8.p',\n",
       " 'phecode_460_Age+Sex+Retina_RetinaUKB_6.p',\n",
       " 'phecode_440-1_Age+Sex_RetinaUKB_2.p',\n",
       " 'phecode_686-2_Age+Sex+Retina_RetinaUKB_0.p',\n",
       " 'phecode_139-5_Age+Sex+Retina_RetinaUKB_4.p',\n",
       " 'phecode_160_ASCVD_RetinaUKB_8.p',\n",
       " 'phecode_520_SCORE2+Retina_RetinaUKB_9.p',\n",
       " 'phecode_164_SCORE2+Retina_RetinaUKB_4.p',\n",
       " 'phecode_444-1_ASCVD_RetinaUKB_6.p',\n",
       " 'phecode_400-2_SCORE2+Retina_RetinaUKB_0.p',\n",
       " 'phecode_101-4_ASCVD+Retina_RetinaUKB_4.p',\n",
       " 'phecode_594_ASCVD_RetinaUKB_6.p',\n",
       " 'phecode_714-3_ASCVD+Retina_RetinaUKB_5.p',\n",
       " 'phecode_089-1_SCORE2+Retina_RetinaUKB_6.p',\n",
       " 'phecode_089-3_Retina_RetinaUKB_6.p',\n",
       " 'phecode_105_Age+Sex+Retina_RetinaUKB_5.p',\n",
       " 'phecode_341-2_Age+Sex_RetinaUKB_5.p',\n",
       " 'phecode_507_Age+Sex_RetinaUKB_7.p',\n",
       " 'phecode_106_Age+Sex_RetinaUKB_5.p',\n",
       " 'phecode_700_ASCVD_RetinaUKB_3.p',\n",
       " 'phecode_286-2_SCORE2+Retina_RetinaUKB_9.p',\n",
       " 'phecode_200_Age+Sex+Retina_RetinaUKB_9.p',\n",
       " 'phecode_103-3_SCORE2_RetinaUKB_3.p',\n",
       " 'phecode_168_Age+Sex_RetinaUKB_0.p',\n",
       " 'phecode_537_SCORE2_RetinaUKB_6.p',\n",
       " 'phecode_130_SCORE2_RetinaUKB_9.p',\n",
       " 'phecode_705-1_Age+Sex_RetinaUKB_4.p',\n",
       " 'phecode_410_ASCVD_RetinaUKB_2.p',\n",
       " 'phecode_520-1_SCORE2_RetinaUKB_9.p',\n",
       " 'phecode_135-5_Age+Sex+Retina_RetinaUKB_7.p',\n",
       " 'phecode_509_Age+Sex_RetinaUKB_9.p',\n",
       " 'phecode_528_SCORE2+Retina_RetinaUKB_0.p',\n",
       " 'phecode_440-1_Retina_RetinaUKB_0.p',\n",
       " 'phecode_325_ASCVD+Retina_RetinaUKB_5.p',\n",
       " 'phecode_404_Age+Sex+Retina_RetinaUKB_6.p',\n",
       " 'phecode_703-11_SCORE2+Retina_RetinaUKB_4.p',\n",
       " 'phecode_431-11_ASCVD+Retina_RetinaUKB_9.p',\n",
       " 'phecode_594-4_ASCVD+Retina_RetinaUKB_7.p',\n",
       " 'phecode_594-1_Age+Sex+Retina_RetinaUKB_0.p',\n",
       " 'phecode_130_Age+Sex_RetinaUKB_2.p',\n",
       " 'phecode_586_Age+Sex_RetinaUKB_2.p',\n",
       " 'phecode_256-7_ASCVD_RetinaUKB_6.p',\n",
       " 'phecode_430_SCORE2+Retina_RetinaUKB_7.p',\n",
       " 'phecode_431-12_Age+Sex_RetinaUKB_7.p',\n",
       " 'phecode_516_Retina_RetinaUKB_4.p',\n",
       " 'phecode_103-3_ASCVD_RetinaUKB_2.p',\n",
       " 'phecode_979_SCORE2_RetinaUKB_4.p',\n",
       " 'phecode_686_Age+Sex+Retina_RetinaUKB_8.p',\n",
       " 'phecode_160_Age+Sex_RetinaUKB_3.p',\n",
       " 'phecode_350_Age+Sex_RetinaUKB_3.p',\n",
       " 'phecode_460-2_ASCVD+Retina_RetinaUKB_6.p',\n",
       " 'phecode_522-12_ASCVD_RetinaUKB_1.p',\n",
       " 'phecode_829_Age+Sex+Retina_RetinaUKB_0.p',\n",
       " 'phecode_341-2_SCORE2+Retina_RetinaUKB_7.p',\n",
       " 'phecode_599_Retina_RetinaUKB_7.p',\n",
       " 'phecode_627_SCORE2+Retina_RetinaUKB_2.p',\n",
       " 'phecode_443_ASCVD+Retina_RetinaUKB_6.p',\n",
       " 'phecode_331-6_Age+Sex+Retina_RetinaUKB_6.p',\n",
       " 'phecode_200-3_ASCVD+Retina_RetinaUKB_6.p',\n",
       " 'phecode_356_ASCVD+Retina_RetinaUKB_6.p',\n",
       " 'phecode_202_Age+Sex_RetinaUKB_3.p',\n",
       " 'phecode_529-2_SCORE2+Retina_RetinaUKB_7.p',\n",
       " 'phecode_331_ASCVD_RetinaUKB_3.p',\n",
       " 'phecode_106-21_Age+Sex_RetinaUKB_5.p',\n",
       " 'phecode_462-2_ASCVD_RetinaUKB_0.p',\n",
       " 'phecode_707_Retina_RetinaUKB_8.p',\n",
       " 'phecode_424_ASCVD_RetinaUKB_3.p',\n",
       " 'phecode_403_Retina_RetinaUKB_9.p',\n",
       " 'phecode_718_SCORE2+Retina_RetinaUKB_7.p',\n",
       " 'phecode_168-1_ASCVD_RetinaUKB_1.p',\n",
       " 'phecode_135-5_Age+Sex_RetinaUKB_7.p',\n",
       " 'phecode_139_ASCVD+Retina_RetinaUKB_0.p',\n",
       " 'phecode_089_ASCVD_RetinaUKB_8.p',\n",
       " 'phecode_404-11_SCORE2+Retina_RetinaUKB_6.p',\n",
       " 'phecode_585_SCORE2_RetinaUKB_4.p',\n",
       " 'phecode_664_Age+Sex_RetinaUKB_6.p',\n",
       " 'phecode_413-1_Age+Sex_RetinaUKB_5.p',\n",
       " 'phecode_809_ASCVD_RetinaUKB_5.p',\n",
       " 'phecode_481_ASCVD+Retina_RetinaUKB_6.p',\n",
       " 'phecode_594-3_Retina_RetinaUKB_0.p',\n",
       " 'phecode_433_Age+Sex+Retina_RetinaUKB_7.p',\n",
       " 'phecode_138_ASCVD_RetinaUKB_6.p',\n",
       " 'phecode_597-1_Retina_RetinaUKB_5.p',\n",
       " 'phecode_431-12_ASCVD+Retina_RetinaUKB_7.p',\n",
       " 'phecode_280-1_ASCVD+Retina_RetinaUKB_4.p',\n",
       " 'phecode_414_SCORE2+Retina_RetinaUKB_3.p',\n",
       " 'phecode_715-1_Retina_RetinaUKB_9.p',\n",
       " 'phecode_800_ASCVD+Retina_RetinaUKB_2.p',\n",
       " 'phecode_709_ASCVD+Retina_RetinaUKB_2.p',\n",
       " 'phecode_361_ASCVD_RetinaUKB_6.p',\n",
       " 'phecode_526-2_Age+Sex_RetinaUKB_8.p',\n",
       " 'phecode_102_ASCVD_RetinaUKB_7.p',\n",
       " 'phecode_430-2_Age+Sex_RetinaUKB_0.p',\n",
       " 'phecode_423_ASCVD+Retina_RetinaUKB_5.p',\n",
       " 'phecode_052-3_ASCVD_RetinaUKB_5.p',\n",
       " 'phecode_108-5_ASCVD_RetinaUKB_3.p',\n",
       " 'phecode_410-2_Age+Sex+Retina_RetinaUKB_3.p',\n",
       " 'phecode_542-1_SCORE2_RetinaUKB_6.p',\n",
       " 'phecode_462-2_Age+Sex_RetinaUKB_2.p',\n",
       " 'phecode_374-4_Retina_RetinaUKB_8.p',\n",
       " 'phecode_120-1_ASCVD_RetinaUKB_4.p',\n",
       " 'phecode_660-6_ASCVD+Retina_RetinaUKB_4.p',\n",
       " 'phecode_502_ASCVD_RetinaUKB_3.p',\n",
       " 'phecode_807_ASCVD_RetinaUKB_4.p',\n",
       " ...]"
      ]
     },
     "execution_count": 15,
     "metadata": {},
     "output_type": "execute_result"
    }
   ],
   "source": [
    "cox_paths"
   ]
  },
  {
   "cell_type": "code",
   "execution_count": 8,
   "metadata": {},
   "outputs": [
    {
     "data": {
      "text/html": [
       "<div>\n",
       "<style scoped>\n",
       "    .dataframe tbody tr th:only-of-type {\n",
       "        vertical-align: middle;\n",
       "    }\n",
       "\n",
       "    .dataframe tbody tr th {\n",
       "        vertical-align: top;\n",
       "    }\n",
       "\n",
       "    .dataframe thead th {\n",
       "        text-align: right;\n",
       "    }\n",
       "</style>\n",
       "<table border=\"1\" class=\"dataframe\">\n",
       "  <thead>\n",
       "    <tr style=\"text-align: right;\">\n",
       "      <th></th>\n",
       "      <th>0</th>\n",
       "    </tr>\n",
       "    <tr>\n",
       "      <th>partition</th>\n",
       "      <th></th>\n",
       "    </tr>\n",
       "  </thead>\n",
       "  <tbody>\n",
       "    <tr>\n",
       "      <th>0</th>\n",
       "      <td>2576</td>\n",
       "    </tr>\n",
       "    <tr>\n",
       "      <th>1</th>\n",
       "      <td>2576</td>\n",
       "    </tr>\n",
       "    <tr>\n",
       "      <th>2</th>\n",
       "      <td>2576</td>\n",
       "    </tr>\n",
       "    <tr>\n",
       "      <th>3</th>\n",
       "      <td>2576</td>\n",
       "    </tr>\n",
       "    <tr>\n",
       "      <th>4</th>\n",
       "      <td>2576</td>\n",
       "    </tr>\n",
       "    <tr>\n",
       "      <th>5</th>\n",
       "      <td>2576</td>\n",
       "    </tr>\n",
       "    <tr>\n",
       "      <th>6</th>\n",
       "      <td>2576</td>\n",
       "    </tr>\n",
       "    <tr>\n",
       "      <th>7</th>\n",
       "      <td>2576</td>\n",
       "    </tr>\n",
       "    <tr>\n",
       "      <th>8</th>\n",
       "      <td>2576</td>\n",
       "    </tr>\n",
       "    <tr>\n",
       "      <th>9</th>\n",
       "      <td>2576</td>\n",
       "    </tr>\n",
       "  </tbody>\n",
       "</table>\n",
       "</div>"
      ],
      "text/plain": [
       "              0\n",
       "partition      \n",
       "0          2576\n",
       "1          2576\n",
       "2          2576\n",
       "3          2576\n",
       "4          2576\n",
       "5          2576\n",
       "6          2576\n",
       "7          2576\n",
       "8          2576\n",
       "9          2576"
      ]
     },
     "execution_count": 8,
     "metadata": {},
     "output_type": "execute_result"
    }
   ],
   "source": [
    "path_df[\"endpoint\"] = path_df[\"endpoint_1\"] + \"_\" + path_df[\"endpoint_2\"] \n",
    "\n",
    "path_df.value_counts([\"partition\"]).to_frame()"
   ]
  },
  {
   "cell_type": "code",
   "execution_count": null,
   "metadata": {},
   "outputs": [],
   "source": []
  },
  {
   "cell_type": "code",
   "execution_count": null,
   "metadata": {},
   "outputs": [],
   "source": []
  },
  {
   "cell_type": "markdown",
   "metadata": {},
   "source": [
    "## Fig Crashing CoxPH models"
   ]
  },
  {
   "cell_type": "raw",
   "metadata": {
    "tags": []
   },
   "source": [
    "node = !hostname\n",
    "if \"sc\" in node[0]:\n",
    "    base_path = \"/sc-projects/sc-proj-ukb-cvd\"\n",
    "else: \n",
    "    base_path = \"/data/analysis/ag-reils/ag-reils-shared/cardioRS\"\n",
    "print(base_path)\n",
    "\n",
    "project_label = \"22_retina_phewas_220603_fullrun\"\n",
    "project_path = f\"{base_path}/results/projects/{project_label}\"\n",
    "figure_path = f\"{project_path}/figures\"\n",
    "output_path = f\"{project_path}/data\"\n",
    "\n",
    "pathlib.Path(figure_path).mkdir(parents=True, exist_ok=True)\n",
    "pathlib.Path(output_path).mkdir(parents=True, exist_ok=True)\n",
    "\n",
    "experiment = '220603_fullrun'\n",
    "experiment_path = f\"{output_path}/{experiment}\"\n",
    "pathlib.Path(experiment_path).mkdir(parents=True, exist_ok=True)\n",
    "\n",
    "name_dict = {\n",
    "    \"predictions_cropratio0.3\": \"ConvNextSmall(Retina)+MLP_cropratio0.3\",\n",
    "    \"predictions_cropratio0.5\": \"ConvNextSmall(Retina)+MLP_cropratio0.5\",\n",
    "    \"predictions_cropratio0.8\": \"ConvNextSmall(Retina)+MLP_cropratio0.8\",\n",
    "}\n",
    "\n",
    "partitions = [i for i in range(22)]\n",
    "partitions"
   ]
  },
  {
   "cell_type": "code",
   "execution_count": null,
   "metadata": {
    "execution": {
     "iopub.status.busy": "2022-11-08T23:12:51.987757Z",
     "iopub.status.idle": "2022-11-08T23:12:51.987959Z",
     "shell.execute_reply": "2022-11-08T23:12:51.987856Z",
     "shell.execute_reply.started": "2022-11-08T23:12:51.987846Z"
    },
    "tags": []
   },
   "outputs": [],
   "source": [
    "in_path = pathlib.Path(f\"{experiment_path}/coxph/input\")\n",
    "models = [f.name for f in in_path.iterdir() if f.is_dir() and \"ipynb_checkpoints\" not in str(f)]\n",
    "models"
   ]
  },
  {
   "cell_type": "code",
   "execution_count": null,
   "metadata": {
    "execution": {
     "iopub.status.busy": "2022-11-08T23:12:51.988773Z",
     "iopub.status.idle": "2022-11-08T23:12:51.988952Z",
     "shell.execute_reply": "2022-11-08T23:12:51.988865Z",
     "shell.execute_reply.started": "2022-11-08T23:12:51.988856Z"
    },
    "tags": []
   },
   "outputs": [],
   "source": [
    "import pandas as pd\n",
    "endpoints_md = pd.read_csv('/sc-projects/sc-proj-ukb-cvd/results/projects/22_retinal_risk/data/220602/endpoints.csv')\n",
    "endpoints = sorted([l.replace('_prevalent', '') for l in list(pd.read_csv('/sc-projects/sc-proj-ukb-cvd/results/projects/22_retinal_risk/data/220602/endpoints.csv').endpoint.values)])\n",
    "endpoints_md"
   ]
  },
  {
   "cell_type": "code",
   "execution_count": null,
   "metadata": {
    "execution": {
     "iopub.status.busy": "2022-11-08T23:12:51.989804Z",
     "iopub.status.idle": "2022-11-08T23:12:51.990048Z",
     "shell.execute_reply": "2022-11-08T23:12:51.989894Z",
     "shell.execute_reply.started": "2022-11-08T23:12:51.989885Z"
    },
    "tags": []
   },
   "outputs": [],
   "source": [
    "import yaml\n",
    "import pickle\n",
    "import zstandard\n",
    "\n",
    "def get_score_defs():\n",
    "\n",
    "    with open(r'/sc-projects/sc-proj-ukb-cvd/results/projects/22_retina_phewas_220603_fullrun/data/score_definitions.yaml') as file:\n",
    "        score_defs = yaml.full_load(file)\n",
    "    \n",
    "    return score_defs\n",
    "\n",
    "def get_features(endpoint, score_defs):\n",
    "    features = {\n",
    "        model: {\n",
    "            #\"Age+Sex\": score_defs[\"AgeSex\"],\n",
    "            #\"Retina\": [endpoint],\n",
    "            #\"SCORE2\": score_defs[\"SCORE2\"],\n",
    "            #\"ASCVD\": score_defs[\"ASCVD\"],\n",
    "            \"QRISK3\": score_defs[\"QRISK3\"],\n",
    "            #\"Age+Sex+Retina\": score_defs[\"AgeSex\"] + [endpoint],\n",
    "            #\"SCORE2+Retina\": score_defs[\"SCORE2\"] + [endpoint],\n",
    "            #\"ASCVD+Retina\": score_defs[\"ASCVD\"] + [endpoint],\n",
    "            \"QRISK3+Retina\": score_defs[\"QRISK3\"] + [endpoint],\n",
    "            }\n",
    "        for model in models}\n",
    "    return features\n",
    "\n",
    "def load_pickle(fp):\n",
    "    with open(fp, \"rb\") as fh:\n",
    "        dctx = zstandard.ZstdDecompressor()\n",
    "        with dctx.stream_reader(fh) as decompressor:\n",
    "            data = pickle.loads(decompressor.read())\n",
    "    return data\n",
    "\n",
    "def fit_cox(data_fit, feature_set, covariates, endpoint, penalizer, step_size=1):\n",
    "    cph = CoxPHFitter(penalizer=penalizer)\n",
    "    cph.fit(data_fit, f\"{endpoint}_time\", f\"{endpoint}_event\", step_size=step_size)\n",
    "    return cph\n",
    "\n",
    "score_defs = get_score_defs()"
   ]
  },
  {
   "cell_type": "code",
   "execution_count": null,
   "metadata": {
    "execution": {
     "iopub.status.busy": "2022-11-08T23:12:51.990939Z",
     "iopub.status.idle": "2022-11-08T23:12:51.991410Z",
     "shell.execute_reply": "2022-11-08T23:12:51.991299Z",
     "shell.execute_reply.started": "2022-11-08T23:12:51.991285Z"
    },
    "tags": []
   },
   "outputs": [],
   "source": [
    "def clean_covariates(endpoint, covariates):\n",
    "    if endpoint==\"phecode_181\": # Autoimmune disease\n",
    "        covariates = [c for c in covariates if c!=\"systemic_lupus_erythematosus\"]\n",
    "    if endpoint==\"phecode_202\": # Diabetes\n",
    "        covariates = [c for c in covariates if c not in ['diabetes1', 'diabetes2', 'diabetes']]\n",
    "    if endpoint==\"phecode_202-1\": # Diabetes 1\n",
    "        covariates = [c for c in covariates if c!=\"diabetes1\"]\n",
    "    if endpoint==\"phecode_202-2\": # Diabetes 1\n",
    "        covariates = [c for c in covariates if c!=\"diabetes2\"]\n",
    "    if endpoint==\"phecode_286\": # Mood [affective] disorders\n",
    "        covariates = [c for c in covariates if c not in ['bipolar_disorder', 'major_depressive_disorder']]\n",
    "    if endpoint==\"phecode_286-1\": # Bipolar disorder\n",
    "        covariates = [c for c in covariates if c not in ['bipolar_disorder']]\n",
    "    if endpoint==\"phecode_286-2\": # Major depressive disorder\n",
    "        covariates = [c for c in covariates if c not in ['major_depressive_disorder']]\n",
    "    if endpoint==\"phecode_287\": # psychotic disorders\n",
    "        covariates = [c for c in covariates if c not in ['schizophrenia']]\n",
    "    if endpoint==\"phecode_287-1\": # schizophrenia\n",
    "        covariates = [c for c in covariates if c not in ['schizophrenia']]\n",
    "    if endpoint==\"phecode_331\": # headache\n",
    "        covariates = [c for c in covariates if c!=\"migraine\"]\n",
    "    if endpoint==\"phecode_331-6\": # headache\n",
    "        covariates = [c for c in covariates if c!=\"migraine\"]\n",
    "    if endpoint==\"phecode_416\": # atrial fibrillation\n",
    "        covariates = [c for c in covariates if c not in ['atrial_fibrillation']]\n",
    "    if endpoint==\"phecode_416-2\": # atrial fibrillation and flutter\n",
    "        covariates = [c for c in covariates if c not in ['atrial_fibrillation']]\n",
    "    if endpoint==\"phecode_416-21\": # atrial fibrillation\n",
    "        covariates = [c for c in covariates if c not in ['atrial_fibrillation']]\n",
    "    if endpoint==\"phecode_584\": # Renal failure\n",
    "        covariates = [c for c in covariates if c not in ['renal_failure']]\n",
    "    if endpoint==\"phecode_605\": # Male sexual dysfuction\n",
    "        covariates = [c for c in covariates if c not in ['sex_Male', 'male_erectile_dysfunction']]\n",
    "    if endpoint==\"phecode_605-1\": # Male sexual dysfuction\n",
    "        covariates = [c for c in covariates if c not in ['sex_Male', 'male_erectile_dysfunction']]\n",
    "    if endpoint==\"phecode_700\": # Diffuse diseases of connective tissue\n",
    "        covariates = [c for c in covariates if c not in ['systemic_lupus_erythematosus']]\n",
    "    if endpoint==\"phecode_700-1\": # Lupus\n",
    "        covariates = [c for c in covariates if c not in ['systemic_lupus_erythematosus']]\n",
    "    if endpoint==\"phecode_700-11\": # Systemic lupus erythematosus [SLE]\t\n",
    "        covariates = [c for c in covariates if c not in ['systemic_lupus_erythematosus']]\n",
    "    if endpoint==\"phecode_705\": # Rheumatoid arthritis and other inflammatory\n",
    "        covariates = [c for c in covariates if c not in ['rheumatoid_arthritis']]\n",
    "    if endpoint==\"phecode_705-1\": # Rheumatoid arthritis and other inflammatory\n",
    "        covariates = [c for c in covariates if c not in ['rheumatoid_arthritis']]\n",
    "    # added by lukas\n",
    "    if endpoint=='phecode_620':\n",
    "        covariates = [c for c in covariates if c not in ['sex_Male', 'male_erectile_dysfunction']]\n",
    "    if endpoint=='phecode_627':\n",
    "        covariates = [c for c in covariates if c not in ['sex_Male', 'male_erectile_dysfunction']]\n",
    "    if endpoint=='phecode_627-4':\n",
    "        covariates = [c for c in covariates if c not in ['sex_Male', 'male_erectile_dysfunction']]\n",
    "    return covariates"
   ]
  },
  {
   "cell_type": "code",
   "execution_count": null,
   "metadata": {
    "execution": {
     "iopub.status.busy": "2022-11-08T23:12:51.992012Z",
     "iopub.status.idle": "2022-11-08T23:12:51.992396Z",
     "shell.execute_reply": "2022-11-08T23:12:51.992285Z",
     "shell.execute_reply.started": "2022-11-08T23:12:51.992272Z"
    },
    "tags": []
   },
   "outputs": [],
   "source": [
    "# problematic endpoints\n",
    "problem_endpoints = [\n",
    "    'phecode_620',\n",
    "    'phecode_627',\n",
    "    'phecode_627-4',\n",
    "    #\"phecode_181\",\n",
    "    #\"phecode_202\",\n",
    "    #\"phecode_202-1\",\n",
    "    #\"phecode_286\",\n",
    "    #\"phecode_287-1\",\n",
    "    #\"phecode_331\",\n",
    "    #\"phecode_416\",\n",
    "    #\"phecode_416-2\",\n",
    "    #\"phecode_416-21\",\n",
    "    #\"phecode_584\", # \n",
    "    #\"phecode_605\",\n",
    "    #\"phecode_700\",\n",
    "    #\"phecode_700-1\",\n",
    "    #\"phecode_700-11\",\n",
    "    #\"phecode_705\",\n",
    "    #\"phecode_705-1\"\n",
    "]\n",
    "\n",
    "endpoints_md.query(\"endpoint==@problem_endpoints\")"
   ]
  },
  {
   "cell_type": "code",
   "execution_count": null,
   "metadata": {
    "execution": {
     "iopub.status.busy": "2022-11-08T23:12:51.993147Z",
     "iopub.status.idle": "2022-11-08T23:12:51.993323Z",
     "shell.execute_reply": "2022-11-08T23:12:51.993231Z",
     "shell.execute_reply.started": "2022-11-08T23:12:51.993222Z"
    },
    "tags": []
   },
   "outputs": [],
   "source": [
    "from lifelines import CoxPHFitter\n",
    "endpoint = problem_endpoints[0]\n",
    "partition = 20\n",
    "feature_set = \"QRISK3\" # QRISK3+Retina\n",
    "display(endpoints_md.query(\"endpoint==@endpoint\"))\n",
    "\n",
    "test_data = load_pickle(f\"{experiment_path}/coxph/errordata_{endpoint}_{feature_set}_{partition}.p\")\n",
    "display(test_data.T)\n",
    "\n",
    "features = get_features(endpoint, score_defs)\n",
    "print(features)\n",
    "covariates = features[\"ImageTraining_[]_ConvNeXt_MLPHead_predictions_cropratio0.3\"][feature_set]\n",
    "\n",
    "# # clean covariates for the coxphs to fit\n",
    "covariates = clean_covariates(endpoint, covariates)\n",
    "print(covariates)\n",
    "\n",
    "data_endpoint = test_data[covariates + [f\"{endpoint}_event\", f\"{endpoint}_time\"]].astype(np.float32)\n",
    "\n",
    "cph = fit_cox(data_endpoint,#.drop(columns=[\"systemic_lupus_erythematosus\"]), \n",
    "              feature_set, covariates, endpoint, penalizer=0, step_size=0.1)\n",
    "cph.print_summary()"
   ]
  },
  {
   "cell_type": "code",
   "execution_count": null,
   "metadata": {
    "tags": []
   },
   "outputs": [],
   "source": []
  },
  {
   "cell_type": "code",
   "execution_count": null,
   "metadata": {},
   "outputs": [],
   "source": []
  },
  {
   "cell_type": "code",
   "execution_count": null,
   "metadata": {},
   "outputs": [],
   "source": []
  },
  {
   "cell_type": "code",
   "execution_count": null,
   "metadata": {},
   "outputs": [],
   "source": []
  },
  {
   "cell_type": "code",
   "execution_count": null,
   "metadata": {
    "execution": {
     "iopub.status.busy": "2022-11-08T23:12:51.994074Z",
     "iopub.status.idle": "2022-11-08T23:12:51.994538Z",
     "shell.execute_reply": "2022-11-08T23:12:51.994427Z",
     "shell.execute_reply.started": "2022-11-08T23:12:51.994412Z"
    }
   },
   "outputs": [],
   "source": [
    "jobids"
   ]
  },
  {
   "cell_type": "code",
   "execution_count": null,
   "metadata": {
    "tags": []
   },
   "outputs": [],
   "source": []
  },
  {
   "cell_type": "code",
   "execution_count": null,
   "metadata": {
    "execution": {
     "iopub.status.busy": "2022-11-08T23:12:51.995103Z",
     "iopub.status.idle": "2022-11-08T23:12:51.995265Z",
     "shell.execute_reply": "2022-11-08T23:12:51.995189Z",
     "shell.execute_reply.started": "2022-11-08T23:12:51.995180Z"
    },
    "tags": []
   },
   "outputs": [],
   "source": [
    "#fit_partition(in_path, model_path, score_defs, 0)"
   ]
  },
  {
   "cell_type": "code",
   "execution_count": null,
   "metadata": {
    "execution": {
     "iopub.status.busy": "2022-11-08T23:12:51.996100Z",
     "iopub.status.idle": "2022-11-08T23:12:51.996471Z",
     "shell.execute_reply": "2022-11-08T23:12:51.996365Z",
     "shell.execute_reply.started": "2022-11-08T23:12:51.996351Z"
    },
    "tags": []
   },
   "outputs": [],
   "source": [
    "import submitit\n",
    "\n",
    "partitions = [i for i in range(22)]\n",
    "\n",
    "executor = submitit.AutoExecutor(folder=\"log_test/%j\")\n",
    "# set timeout in min, and partition for running the job\n",
    "executor.update_parameters(slurm_array_parallelism=6,\n",
    "                           nodes=1,\n",
    "                           #slurm_mem=\"500G\",\n",
    "                           timeout_min=600,\n",
    "                          #slurm_setup=[\n",
    "                          #  \"\"\"export MKL_NUM_THREADS=1\"\"\",\n",
    "                          #  \"\"\"export NUMEXPR_NUM_THREADS=1\"\"\",\n",
    "                           # \"\"\"export OMP_NUM_THREADS=1\"\"\"]\n",
    "                          )\n",
    "\n",
    "job = executor.map_array(fit_partition, partitions)  \n",
    "\n",
    "\n",
    "# jobs = []\n",
    "# for partition in tqdm(partitions):\n",
    "#     job = executor.submit(fit_partition, in_path, model_path, score_defs, partition)\n",
    "#     jobs.append(job)"
   ]
  },
  {
   "cell_type": "code",
   "execution_count": null,
   "metadata": {},
   "outputs": [],
   "source": []
  },
  {
   "cell_type": "code",
   "execution_count": null,
   "metadata": {},
   "outputs": [],
   "source": []
  },
  {
   "cell_type": "code",
   "execution_count": null,
   "metadata": {},
   "outputs": [],
   "source": []
  },
  {
   "cell_type": "code",
   "execution_count": null,
   "metadata": {},
   "outputs": [],
   "source": []
  },
  {
   "cell_type": "code",
   "execution_count": null,
   "metadata": {},
   "outputs": [],
   "source": []
  },
  {
   "cell_type": "code",
   "execution_count": null,
   "metadata": {},
   "outputs": [],
   "source": []
  },
  {
   "cell_type": "code",
   "execution_count": null,
   "metadata": {},
   "outputs": [],
   "source": []
  },
  {
   "cell_type": "code",
   "execution_count": null,
   "metadata": {},
   "outputs": [],
   "source": []
  },
  {
   "cell_type": "code",
   "execution_count": null,
   "metadata": {
    "execution": {
     "iopub.status.busy": "2022-11-08T23:12:51.997125Z",
     "iopub.status.idle": "2022-11-08T23:12:51.997288Z",
     "shell.execute_reply": "2022-11-08T23:12:51.997210Z",
     "shell.execute_reply.started": "2022-11-08T23:12:51.997202Z"
    },
    "tags": []
   },
   "outputs": [],
   "source": [
    "%env MKL_NUM_THREADS=1\n",
    "%env NUMEXPR_NUM_THREADS=1\n",
    "%env OMP_NUM_THREADS=1\n",
    "\n",
    "import ray\n",
    "#ray start --head --port=6379 --num-cpus 64 # in terminal\n",
    "#ray.init(address='auto')#, dashboard_port=24762, dashboard_host=\"0.0.0.0\", include_dashboard=True)#, webui_url=\"0.0.0.0\"))\n",
    "#ray.init(num_cpus=32)#, dashboard_port=24762, dashboard_host=\"0.0.0.0\", include_dashboard=True)#, webui_url=\"0.0.0.0\"))"
   ]
  },
  {
   "cell_type": "code",
   "execution_count": null,
   "metadata": {
    "execution": {
     "iopub.status.busy": "2022-11-08T23:12:51.998073Z",
     "iopub.status.idle": "2022-11-08T23:12:51.998237Z",
     "shell.execute_reply": "2022-11-08T23:12:51.998159Z",
     "shell.execute_reply.started": "2022-11-08T23:12:51.998151Z"
    },
    "tags": []
   },
   "outputs": [],
   "source": [
    "ray.available_resources()"
   ]
  },
  {
   "cell_type": "code",
   "execution_count": null,
   "metadata": {
    "tags": []
   },
   "outputs": [],
   "source": []
  },
  {
   "cell_type": "code",
   "execution_count": null,
   "metadata": {},
   "outputs": [],
   "source": []
  },
  {
   "cell_type": "code",
   "execution_count": null,
   "metadata": {
    "execution": {
     "iopub.status.busy": "2022-11-08T23:12:51.999056Z",
     "iopub.status.idle": "2022-11-08T23:12:51.999471Z",
     "shell.execute_reply": "2022-11-08T23:12:51.999357Z",
     "shell.execute_reply.started": "2022-11-08T23:12:51.999344Z"
    },
    "tags": []
   },
   "outputs": [],
   "source": [
    "for partition in tqdm(partitions):\n",
    "    fit_partition()"
   ]
  },
  {
   "cell_type": "code",
   "execution_count": null,
   "metadata": {},
   "outputs": [],
   "source": []
  },
  {
   "cell_type": "code",
   "execution_count": null,
   "metadata": {},
   "outputs": [],
   "source": []
  },
  {
   "cell_type": "code",
   "execution_count": null,
   "metadata": {},
   "outputs": [],
   "source": []
  },
  {
   "cell_type": "code",
   "execution_count": null,
   "metadata": {
    "execution": {
     "iopub.status.busy": "2022-11-08T23:12:52.000022Z",
     "iopub.status.idle": "2022-11-08T23:12:52.000525Z",
     "shell.execute_reply": "2022-11-08T23:12:52.000414Z",
     "shell.execute_reply.started": "2022-11-08T23:12:52.000400Z"
    }
   },
   "outputs": [],
   "source": [
    "## Debugging"
   ]
  },
  {
   "cell_type": "code",
   "execution_count": null,
   "metadata": {
    "execution": {
     "iopub.status.busy": "2022-11-08T23:12:52.001025Z",
     "iopub.status.idle": "2022-11-08T23:12:52.001398Z",
     "shell.execute_reply": "2022-11-08T23:12:52.001295Z",
     "shell.execute_reply.started": "2022-11-08T23:12:52.001282Z"
    },
    "tags": []
   },
   "outputs": [],
   "source": [
    "# fit_endpoint(data_partition, eids_dict, endpoint_defs, endpoints[0], partition, models, model_path)"
   ]
  },
  {
   "cell_type": "code",
   "execution_count": null,
   "metadata": {
    "execution": {
     "iopub.status.busy": "2022-11-08T23:12:52.001967Z",
     "iopub.status.idle": "2022-11-08T23:12:52.002127Z",
     "shell.execute_reply": "2022-11-08T23:12:52.002046Z",
     "shell.execute_reply.started": "2022-11-08T23:12:52.002037Z"
    }
   },
   "outputs": [],
   "source": [
    "cph_1 = load_pickle(\"/sc-projects/sc-proj-ukb-cvd/results/projects/22_medical_records/data/220613/coxph/models/OMOP_4306655_QRISK3_0.p\")\n",
    "cph_2 = load_pickle(\"/sc-projects/sc-proj-ukb-cvd/results/projects/22_medical_records/data/220613/coxph/models/OMOP_4306655_Age+Sex+MedicalHistory_0.p\")"
   ]
  },
  {
   "cell_type": "code",
   "execution_count": null,
   "metadata": {
    "execution": {
     "iopub.status.busy": "2022-11-08T23:12:52.002865Z",
     "iopub.status.idle": "2022-11-08T23:12:52.003025Z",
     "shell.execute_reply": "2022-11-08T23:12:52.002948Z",
     "shell.execute_reply.started": "2022-11-08T23:12:52.002940Z"
    }
   },
   "outputs": [],
   "source": [
    "cph_1.print_summary()"
   ]
  },
  {
   "cell_type": "code",
   "execution_count": null,
   "metadata": {
    "execution": {
     "iopub.status.busy": "2022-11-08T23:12:52.003735Z",
     "iopub.status.idle": "2022-11-08T23:12:52.003893Z",
     "shell.execute_reply": "2022-11-08T23:12:52.003817Z",
     "shell.execute_reply.started": "2022-11-08T23:12:52.003809Z"
    }
   },
   "outputs": [],
   "source": [
    "cph_2.print_summary()"
   ]
  },
  {
   "cell_type": "code",
   "execution_count": null,
   "metadata": {
    "execution": {
     "iopub.status.busy": "2022-11-08T23:12:52.004651Z",
     "iopub.status.idle": "2022-11-08T23:12:52.004811Z",
     "shell.execute_reply": "2022-11-08T23:12:52.004733Z",
     "shell.execute_reply.started": "2022-11-08T23:12:52.004725Z"
    }
   },
   "outputs": [],
   "source": [
    "encode_cols = \n",
    "pd.get_dummies(data_partition['Identity(Records)+MLP'], columns=[\"ethnic_background\", \"sex\", \"smoking_status\"], prefix=)"
   ]
  },
  {
   "cell_type": "code",
   "execution_count": null,
   "metadata": {
    "execution": {
     "iopub.status.busy": "2022-11-08T23:12:52.005660Z",
     "iopub.status.idle": "2022-11-08T23:12:52.005834Z",
     "shell.execute_reply": "2022-11-08T23:12:52.005743Z",
     "shell.execute_reply.started": "2022-11-08T23:12:52.005735Z"
    },
    "tags": []
   },
   "outputs": [],
   "source": [
    "data_partition['Identity(Records)+MLP'].select_dtypes(\"category\")"
   ]
  },
  {
   "cell_type": "code",
   "execution_count": null,
   "metadata": {
    "execution": {
     "iopub.status.busy": "2022-11-08T23:12:52.006698Z",
     "iopub.status.idle": "2022-11-08T23:12:52.006876Z",
     "shell.execute_reply": "2022-11-08T23:12:52.006783Z",
     "shell.execute_reply.started": "2022-11-08T23:12:52.006775Z"
    }
   },
   "outputs": [],
   "source": [
    "load_pickle(\"/sc-projects/sc-proj-ukb-cvd/results/projects/22_medical_records/data/220413/coxph/errordata_phecode_002-1_Age+Sex+MedicalHistory+I(Age*MH)_0.p\")"
   ]
  },
  {
   "cell_type": "code",
   "execution_count": null,
   "metadata": {
    "execution": {
     "iopub.status.busy": "2022-11-08T23:12:52.007541Z",
     "iopub.status.idle": "2022-11-08T23:12:52.007720Z",
     "shell.execute_reply": "2022-11-08T23:12:52.007630Z",
     "shell.execute_reply.started": "2022-11-08T23:12:52.007622Z"
    },
    "tags": []
   },
   "outputs": [],
   "source": [
    "data_partition['Identity(Records)+MLP']['phecode_977']"
   ]
  },
  {
   "cell_type": "code",
   "execution_count": null,
   "metadata": {},
   "outputs": [],
   "source": []
  },
  {
   "cell_type": "code",
   "execution_count": null,
   "metadata": {},
   "outputs": [],
   "source": []
  },
  {
   "cell_type": "code",
   "execution_count": null,
   "metadata": {},
   "outputs": [],
   "source": []
  },
  {
   "cell_type": "code",
   "execution_count": null,
   "metadata": {},
   "outputs": [],
   "source": []
  },
  {
   "cell_type": "code",
   "execution_count": null,
   "metadata": {},
   "outputs": [],
   "source": []
  },
  {
   "cell_type": "code",
   "execution_count": null,
   "metadata": {},
   "outputs": [],
   "source": []
  },
  {
   "cell_type": "code",
   "execution_count": null,
   "metadata": {},
   "outputs": [],
   "source": []
  },
  {
   "cell_type": "code",
   "execution_count": null,
   "metadata": {},
   "outputs": [],
   "source": []
  },
  {
   "cell_type": "code",
   "execution_count": null,
   "metadata": {},
   "outputs": [],
   "source": []
  },
  {
   "cell_type": "code",
   "execution_count": null,
   "metadata": {},
   "outputs": [],
   "source": []
  },
  {
   "cell_type": "code",
   "execution_count": null,
   "metadata": {},
   "outputs": [],
   "source": []
  },
  {
   "cell_type": "code",
   "execution_count": null,
   "metadata": {},
   "outputs": [],
   "source": []
  },
  {
   "cell_type": "code",
   "execution_count": null,
   "metadata": {},
   "outputs": [],
   "source": []
  },
  {
   "cell_type": "code",
   "execution_count": null,
   "metadata": {},
   "outputs": [],
   "source": []
  },
  {
   "cell_type": "code",
   "execution_count": null,
   "metadata": {},
   "outputs": [],
   "source": []
  },
  {
   "cell_type": "markdown",
   "metadata": {},
   "source": [
    "# old stuff"
   ]
  },
  {
   "cell_type": "code",
   "execution_count": null,
   "metadata": {
    "execution": {
     "iopub.status.busy": "2022-11-08T23:12:52.008368Z",
     "iopub.status.idle": "2022-11-08T23:12:52.008524Z",
     "shell.execute_reply": "2022-11-08T23:12:52.008448Z",
     "shell.execute_reply.started": "2022-11-08T23:12:52.008440Z"
    }
   },
   "outputs": [],
   "source": [
    "!ls -al {output_path}"
   ]
  },
  {
   "cell_type": "code",
   "execution_count": null,
   "metadata": {
    "execution": {
     "iopub.status.busy": "2022-11-08T23:12:52.009178Z",
     "iopub.status.idle": "2022-11-08T23:12:52.009336Z",
     "shell.execute_reply": "2022-11-08T23:12:52.009255Z",
     "shell.execute_reply.started": "2022-11-08T23:12:52.009247Z"
    },
    "tags": []
   },
   "outputs": [],
   "source": [
    "print(output_path)\n",
    "data_outcomes = pd.read_feather(f\"{output_path}/baseline_outcomes_220531.feather\").set_index(\"eid\")\n",
    "data_outcomes"
   ]
  },
  {
   "cell_type": "code",
   "execution_count": null,
   "metadata": {
    "execution": {
     "iopub.status.busy": "2022-11-08T23:12:52.010119Z",
     "iopub.status.idle": "2022-11-08T23:12:52.010283Z",
     "shell.execute_reply": "2022-11-08T23:12:52.010201Z",
     "shell.execute_reply.started": "2022-11-08T23:12:52.010193Z"
    },
    "tags": []
   },
   "outputs": [],
   "source": [
    "import pandas as pd\n",
    "all_endpoints = sorted([l.replace('_prevalent', '') for l in list(pd.read_csv('/sc-projects/sc-proj-ukb-cvd/results/projects/22_retinal_risk/data/220602/endpoints.csv').endpoint.values)])\n",
    "\n",
    "#all_endpoints = sorted(endpoints_all_md.endpoint.to_list())\n",
    "print(len(all_endpoints))\n",
    "\n",
    "endpoints_not_overlapping_with_preds = []\n",
    "#endpoints_not_overlapping_with_preds_md = pd.read_csv(f\"{experiment_path}/endpoints_not_overlapping.csv\", header=None)\n",
    "#print(len(endpoints_not_overlapping_with_preds_md))\n",
    "#endpoints_not_overlapping_with_preds = list(endpoints_not_overlapping_with_preds_md[0].values)\n",
    "\n",
    "endpoints = []\n",
    "for c in all_endpoints:\n",
    "    if c not in endpoints_not_overlapping_with_preds: # this is what i want\n",
    "        #print('OK    - ',c)\n",
    "        endpoints.append(c)\n",
    "    #if c in endpoints_not_overlapping_with_preds: # this is what causes errors!\n",
    "    #    print('ERROR - ',c)\n",
    "print(len(endpoints))"
   ]
  },
  {
   "cell_type": "code",
   "execution_count": null,
   "metadata": {
    "execution": {
     "iopub.status.busy": "2022-11-08T23:12:52.010982Z",
     "iopub.status.idle": "2022-11-08T23:12:52.011145Z",
     "shell.execute_reply": "2022-11-08T23:12:52.011062Z",
     "shell.execute_reply.started": "2022-11-08T23:12:52.011054Z"
    },
    "tags": []
   },
   "outputs": [],
   "source": [
    "splits = [\"train\", \"valid\", 'test'] # \"test_left\", 'test_right'"
   ]
  },
  {
   "cell_type": "code",
   "execution_count": null,
   "metadata": {
    "execution": {
     "iopub.status.busy": "2022-11-08T23:12:52.011927Z",
     "iopub.status.idle": "2022-11-08T23:12:52.012102Z",
     "shell.execute_reply": "2022-11-08T23:12:52.012010Z",
     "shell.execute_reply.started": "2022-11-08T23:12:52.012002Z"
    },
    "tags": []
   },
   "outputs": [],
   "source": [
    "endpoint_defs = pd.read_feather(f\"{output_path}/phecode_defs_220306.feather\").query(\"endpoint==@endpoints\").sort_values(\"endpoint\").set_index(\"endpoint\")"
   ]
  },
  {
   "cell_type": "code",
   "execution_count": null,
   "metadata": {
    "execution": {
     "iopub.status.busy": "2022-11-08T23:12:52.012999Z",
     "iopub.status.idle": "2022-11-08T23:12:52.013174Z",
     "shell.execute_reply": "2022-11-08T23:12:52.013080Z",
     "shell.execute_reply.started": "2022-11-08T23:12:52.013072Z"
    }
   },
   "outputs": [],
   "source": [
    "from datetime import date\n",
    "today = str(date.today())"
   ]
  },
  {
   "cell_type": "code",
   "execution_count": null,
   "metadata": {
    "execution": {
     "iopub.status.busy": "2022-11-08T23:12:52.013757Z",
     "iopub.status.idle": "2022-11-08T23:12:52.013909Z",
     "shell.execute_reply": "2022-11-08T23:12:52.013835Z",
     "shell.execute_reply.started": "2022-11-08T23:12:52.013827Z"
    },
    "tags": []
   },
   "outputs": [],
   "source": [
    "eligable_eids = pd.read_feather(f\"{output_path}/eligable_eids_{today}.feather\") # TODO CHANGE!\n",
    "eids_dict = eligable_eids.set_index(\"endpoint\")[\"eid_list\"].to_dict()"
   ]
  },
  {
   "cell_type": "code",
   "execution_count": null,
   "metadata": {
    "execution": {
     "iopub.status.busy": "2022-11-08T23:12:52.014849Z",
     "iopub.status.idle": "2022-11-08T23:12:52.015028Z",
     "shell.execute_reply": "2022-11-08T23:12:52.014934Z",
     "shell.execute_reply.started": "2022-11-08T23:12:52.014926Z"
    },
    "tags": []
   },
   "outputs": [],
   "source": [
    "%env MKL_NUM_THREADS=4\n",
    "%env NUMEXPR_NUM_THREADS=4\n",
    "%env OMP_NUM_THREADS=4"
   ]
  },
  {
   "cell_type": "code",
   "execution_count": null,
   "metadata": {
    "execution": {
     "iopub.status.busy": "2022-11-08T23:12:52.016078Z",
     "iopub.status.idle": "2022-11-08T23:12:52.016258Z",
     "shell.execute_reply": "2022-11-08T23:12:52.016163Z",
     "shell.execute_reply.started": "2022-11-08T23:12:52.016155Z"
    },
    "tags": []
   },
   "outputs": [],
   "source": [
    "ray.shutdown()"
   ]
  },
  {
   "cell_type": "code",
   "execution_count": null,
   "metadata": {
    "execution": {
     "iopub.status.busy": "2022-11-08T23:12:52.017000Z",
     "iopub.status.idle": "2022-11-08T23:12:52.017377Z",
     "shell.execute_reply": "2022-11-08T23:12:52.017271Z",
     "shell.execute_reply.started": "2022-11-08T23:12:52.017259Z"
    },
    "tags": []
   },
   "outputs": [],
   "source": [
    "import ray\n",
    "\n",
    "ray.init(num_cpus=24)#, dashboard_port=24762, dashboard_host=\"0.0.0.0\", include_dashboard=True)#, webui_url=\"0.0.0.0\"))"
   ]
  },
  {
   "cell_type": "code",
   "execution_count": null,
   "metadata": {
    "execution": {
     "iopub.status.busy": "2022-11-08T23:12:52.018042Z",
     "iopub.status.idle": "2022-11-08T23:12:52.018198Z",
     "shell.execute_reply": "2022-11-08T23:12:52.018121Z",
     "shell.execute_reply.started": "2022-11-08T23:12:52.018113Z"
    },
    "tags": []
   },
   "outputs": [],
   "source": [
    "AgeSex = [\"age_at_recruitment_f21022_0_0\", \"sex_f31_0_0\"]"
   ]
  },
  {
   "cell_type": "markdown",
   "metadata": {},
   "source": [
    "# Train COX"
   ]
  },
  {
   "cell_type": "code",
   "execution_count": null,
   "metadata": {
    "execution": {
     "iopub.status.busy": "2022-11-08T23:12:52.018991Z",
     "iopub.status.idle": "2022-11-08T23:12:52.019160Z",
     "shell.execute_reply": "2022-11-08T23:12:52.019077Z",
     "shell.execute_reply.started": "2022-11-08T23:12:52.019069Z"
    },
    "tags": []
   },
   "outputs": [],
   "source": [
    "in_path = pathlib.Path(f\"{experiment_path}/coxph/input\")\n",
    "in_path.mkdir(parents=True, exist_ok=True)\n",
    "\n",
    "model_path = f\"{experiment_path}/coxph/models\"\n",
    "pathlib.Path(model_path).mkdir(parents=True, exist_ok=True)"
   ]
  },
  {
   "cell_type": "code",
   "execution_count": null,
   "metadata": {
    "execution": {
     "iopub.status.busy": "2022-11-08T23:12:52.019906Z",
     "iopub.status.idle": "2022-11-08T23:12:52.020065Z",
     "shell.execute_reply": "2022-11-08T23:12:52.019987Z",
     "shell.execute_reply.started": "2022-11-08T23:12:52.019979Z"
    },
    "tags": []
   },
   "outputs": [],
   "source": [
    "models = [f.name for f in in_path.iterdir() if f.is_dir() and \"ipynb_checkpoints\" not in str(f)]\n",
    "models"
   ]
  },
  {
   "cell_type": "code",
   "execution_count": null,
   "metadata": {
    "execution": {
     "iopub.status.busy": "2022-11-08T23:12:52.020959Z",
     "iopub.status.idle": "2022-11-08T23:12:52.021324Z",
     "shell.execute_reply": "2022-11-08T23:12:52.021215Z",
     "shell.execute_reply.started": "2022-11-08T23:12:52.021203Z"
    },
    "tags": []
   },
   "outputs": [],
   "source": [
    "from formulaic.errors import FactorEvaluationError"
   ]
  },
  {
   "cell_type": "code",
   "execution_count": null,
   "metadata": {
    "execution": {
     "iopub.status.busy": "2022-11-08T23:12:52.022117Z",
     "iopub.status.idle": "2022-11-08T23:12:52.022389Z",
     "shell.execute_reply": "2022-11-08T23:12:52.022285Z",
     "shell.execute_reply.started": "2022-11-08T23:12:52.022274Z"
    }
   },
   "outputs": [],
   "source": [
    "in_path"
   ]
  },
  {
   "cell_type": "code",
   "execution_count": null,
   "metadata": {
    "execution": {
     "iopub.status.busy": "2022-11-08T23:12:52.023205Z",
     "iopub.status.idle": "2022-11-08T23:12:52.023388Z",
     "shell.execute_reply": "2022-11-08T23:12:52.023292Z",
     "shell.execute_reply.started": "2022-11-08T23:12:52.023284Z"
    },
    "tags": []
   },
   "outputs": [],
   "source": [
    "from lifelines import CoxPHFitter\n",
    "from lifelines.exceptions import ConvergenceError\n",
    "import zstandard\n",
    "import pickle\n",
    "\n",
    "def get_features(endpoint):\n",
    "    features = {\n",
    "        models[0]: { # TODO CHANGE!\n",
    "            \"Age+Sex\": AgeSex,\n",
    "            \"Retina\": [endpoint],\n",
    "            \"Age+Sex+Retina\": AgeSex + [endpoint],\n",
    "            #\"Age+Sex+MedicalHistory+I(Age*MH)\": AgeSex + [endpoint]\n",
    "            }\n",
    "    }\n",
    "    return features\n",
    "\n",
    "def get_train_data(in_path, partition, models, mapping):\n",
    "    train_data = {\n",
    "        model: pd.read_feather(f\"{in_path}/{model}/{partition}/train.feather\").set_index(\"eid\").merge(data_outcomes, left_index=True, right_index=True, how=\"left\").replace(mapping)\n",
    "    for model in models}\n",
    "    \n",
    "    return train_data\n",
    "\n",
    "def fit_cox(data_fit, feature_set, covariates, endpoint, penalizer, step_size=1):\n",
    "    if feature_set==\"Age+Sex+MedicalHistory+I(Age*MH)\":\n",
    "        endpoint_label = endpoint.replace(\"-\", \"\")\n",
    "        data_fit.columns = [c.replace(\"-\", \"\") for c in data_fit.columns]\n",
    "        covariates = [c.replace(\"-\", \"\") for c in covariates]\n",
    "        #print(endpoint_label)\n",
    "        #print(data_fit)\n",
    "        #print(covariates)\n",
    "        if \"sex_f31_0_0\" in covariates:\n",
    "            formula=f\"age_at_recruitment_f21022_0_0*{endpoint_label}+sex_f31_0_0*{endpoint_label}\"\n",
    "        else:\n",
    "            formula=f\"age_at_recruitment_f21022_0_0*{endpoint_label}\"\n",
    "        cph = CoxPHFitter(penalizer=penalizer)\n",
    "        cph.fit(data_fit, f\"{endpoint_label}_time\", f\"{endpoint_label}_event\", formula=formula, step_size=step_size)\n",
    "    else:\n",
    "        cph = CoxPHFitter(penalizer=penalizer)\n",
    "        cph.fit(data_fit, f\"{endpoint}_time\", f\"{endpoint}_event\", step_size=step_size)\n",
    "\n",
    "    return cph\n",
    "\n",
    "def save_pickle(data, data_path):\n",
    "    with open(data_path, \"wb\") as fh:\n",
    "        cctx = zstandard.ZstdCompressor()\n",
    "        with cctx.stream_writer(fh) as compressor:\n",
    "            compressor.write(pickle.dumps(data, protocol=pickle.HIGHEST_PROTOCOL))\n",
    "            \n",
    "def load_pickle(fp):\n",
    "    with open(fp, \"rb\") as fh:\n",
    "        dctx = zstandard.ZstdDecompressor()\n",
    "        with dctx.stream_reader(fh) as decompressor:\n",
    "            data = pickle.loads(decompressor.read())\n",
    "    return data\n",
    "\n",
    "@ray.remote\n",
    "def fit_endpoint(data_partition, eids_dict, endpoint_defs, endpoint, partition, models, model_path):\n",
    "    eids_incl = eids_dict[endpoint].tolist()\n",
    "    features = get_features(endpoint)\n",
    "    eligibility = endpoint_defs.loc[endpoint][\"sex\"]\n",
    "    for model in models:\n",
    "        data_model = data_partition[model]\n",
    "        for feature_set, covariates in features[model].items():\n",
    "            cph_path = f\"{model_path}/{endpoint}_{feature_set}_{partition}.p\"\n",
    "            if os.path.isfile(cph_path):\n",
    "                try:\n",
    "                    cph = load_pickle(cph_path)\n",
    "                    success = True\n",
    "                except:\n",
    "                    success = False\n",
    "                    pass\n",
    "            if not os.path.isfile(cph_path) or success==False:\n",
    "                if (eligibility != \"Both\") and (\"sex_f31_0_0\" in covariates): \n",
    "                    covariates = [c for c in covariates if c!=\"sex_f31_0_0\"]\n",
    "                #print('covariates:', covariates)\n",
    "                data_endpoint = data_model[covariates + [f\"{endpoint}_event\", f\"{endpoint}_time\"]].astype(np.float32)\n",
    "                data_endpoint = data_endpoint[data_endpoint.index.isin(eids_incl)]\n",
    "                try:\n",
    "                    cph = fit_cox(data_endpoint, feature_set, covariates, endpoint, penalizer=0.0)\n",
    "                    save_pickle(cph, cph_path)\n",
    "                except (ValueError, ConvergenceError, KeyError,FactorEvaluationError) as e:\n",
    "                    print(\"ConvergenceError\", model, endpoint, feature_set, partition, \"problem: reduce step size\")\n",
    "                    try:\n",
    "                        cph = fit_cox(data_endpoint, feature_set, covariates, endpoint, penalizer=0.0, step_size=0.5)\n",
    "                        save_pickle(cph, cph_path)\n",
    "                        print(\"ConvergenceError\", model, endpoint, feature_set, partition, \"trying with reduced step size ... 0.5 successfull\")\n",
    "                    except (ValueError, ConvergenceError, KeyError,FactorEvaluationError) as e:\n",
    "                        print(\"ConvergenceError\", model, endpoint, feature_set, partition, \"trying with reduced step size ... 0.5 failed\")\n",
    "                        try:\n",
    "                            cph = fit_cox(data_endpoint, feature_set, covariates, endpoint, penalizer=0.0, step_size=0.1)\n",
    "                            save_pickle(cph, cph_path)\n",
    "                            print(\"ConvergenceError\", model, endpoint, feature_set, partition, \"trying with reduced step size ... 0.1 successfull\")\n",
    "                        except (ValueError, ConvergenceError, KeyError, FactorEvaluationError) as e:\n",
    "                            print(\"ConvergenceError\", model, endpoint, feature_set, partition, \"trying with reduced step size ... 0.1 failed\")\n",
    "                            save_pickle(data_endpoint, f\"{experiment_path}/coxph/errordata_{endpoint}_{feature_set}_{partition}.p\")\n",
    "                            pass\n",
    "    return True"
   ]
  },
  {
   "cell_type": "code",
   "execution_count": null,
   "metadata": {
    "execution": {
     "iopub.status.busy": "2022-11-08T23:12:52.024178Z",
     "iopub.status.idle": "2022-11-08T23:12:52.024358Z",
     "shell.execute_reply": "2022-11-08T23:12:52.024264Z",
     "shell.execute_reply.started": "2022-11-08T23:12:52.024256Z"
    }
   },
   "outputs": [],
   "source": [
    "f\"{experiment_path}/coxph\""
   ]
  },
  {
   "cell_type": "raw",
   "metadata": {
    "execution": {
     "iopub.execute_input": "2022-04-14T14:30:58.815755Z",
     "iopub.status.busy": "2022-04-14T14:30:58.815646Z",
     "iopub.status.idle": "2022-04-14T14:30:59.641195Z",
     "shell.execute_reply": "2022-04-14T14:30:59.640433Z",
     "shell.execute_reply.started": "2022-04-14T14:30:58.815742Z"
    },
    "tags": []
   },
   "source": [
    "features = get_features(endpoint)\n",
    "covariates = features['Identity(Records)+MLP']['Age+Sex+MedicalHistory+I(Age*MH)']"
   ]
  },
  {
   "cell_type": "raw",
   "metadata": {
    "execution": {
     "iopub.status.busy": "2022-04-14T14:30:59.642136Z",
     "iopub.status.idle": "2022-04-14T14:30:59.642450Z",
     "shell.execute_reply": "2022-04-14T14:30:59.642343Z",
     "shell.execute_reply.started": "2022-04-14T14:30:59.642329Z"
    },
    "tags": []
   },
   "source": [
    "formula=f\"{' + '.join(covariates)}+age_at_recruitment_f21022_0_0*{endpoint}\"\n",
    "formula"
   ]
  },
  {
   "cell_type": "code",
   "execution_count": null,
   "metadata": {
    "execution": {
     "iopub.status.busy": "2022-11-08T23:12:52.024965Z",
     "iopub.status.idle": "2022-11-08T23:12:52.025347Z",
     "shell.execute_reply": "2022-11-08T23:12:52.025243Z",
     "shell.execute_reply.started": "2022-11-08T23:12:52.025231Z"
    },
    "tags": []
   },
   "outputs": [],
   "source": [
    "model_list =  !ls $model_path\n",
    "#model_list = [m for m in model_list if \"I(\" in m]\n",
    "model_list = [m for m in model_list]"
   ]
  },
  {
   "cell_type": "code",
   "execution_count": null,
   "metadata": {
    "execution": {
     "iopub.status.busy": "2022-11-08T23:12:52.026023Z",
     "iopub.status.idle": "2022-11-08T23:12:52.026398Z",
     "shell.execute_reply": "2022-11-08T23:12:52.026293Z",
     "shell.execute_reply.started": "2022-11-08T23:12:52.026280Z"
    },
    "tags": []
   },
   "outputs": [],
   "source": [
    "model_list"
   ]
  },
  {
   "cell_type": "code",
   "execution_count": null,
   "metadata": {
    "execution": {
     "iopub.status.busy": "2022-11-08T23:12:52.027024Z",
     "iopub.status.idle": "2022-11-08T23:12:52.027475Z",
     "shell.execute_reply": "2022-11-08T23:12:52.027366Z",
     "shell.execute_reply.started": "2022-11-08T23:12:52.027352Z"
    }
   },
   "outputs": [],
   "source": [
    "1+1"
   ]
  },
  {
   "cell_type": "raw",
   "metadata": {
    "jupyter": {
     "outputs_hidden": true
    },
    "tags": []
   },
   "source": [
    "#### TEST ####\n",
    "\n",
    "mapping = {\"sex_f31_0_0\": {\"Female\":0, \"Male\":1}}\n",
    "\n",
    "for partition in tqdm([0]): # in tqdm(partitions) # TODO: CHANGE!\n",
    "    try:\n",
    "        data_partition = get_train_data(in_path, partition, models, mapping)\n",
    "        for endpoint in tqdm(endpoints):\n",
    "            print('NEXT ENDPOINT:',endpoint)\n",
    "            if endpoint not in endpoints_not_overlapping_with_preds: # double check if this works as expected\n",
    "                fit_endpoint(data_partition, eids_dict, endpoint_defs, endpoint, partition, models, model_path)\n",
    "            else:\n",
    "                print('überspringe', endpoint)\n",
    "    except FileNotFoundError:\n",
    "        print('file not found')\n",
    "        pass"
   ]
  },
  {
   "cell_type": "code",
   "execution_count": null,
   "metadata": {
    "execution": {
     "iopub.status.busy": "2022-11-08T23:12:52.028040Z",
     "iopub.status.idle": "2022-11-08T23:12:52.028394Z",
     "shell.execute_reply": "2022-11-08T23:12:52.028287Z",
     "shell.execute_reply.started": "2022-11-08T23:12:52.028274Z"
    },
    "tags": []
   },
   "outputs": [],
   "source": [
    "mapping = {\"sex_f31_0_0\": {\"Female\":0, \"Male\":1}}\n",
    "\n",
    "ray_eids = ray.put(eids_dict)\n",
    "ray_endpoint_defs = ray.put(endpoint_defs)\n",
    "for partition in tqdm([0]): # in tqdm(partitions) # TODO: CHANGE!\n",
    "    try:\n",
    "        del ray_partition\n",
    "    except:\n",
    "        print(\"Ray object not yet initialised\")\n",
    "    try:\n",
    "        data_partition = get_train_data(in_path, partition, models, mapping)\n",
    "        ray_partition = ray.put(data_partition)\n",
    "        progress = []\n",
    "        for endpoint in endpoints:\n",
    "            progress.append(fit_endpoint.remote(ray_partition, ray_eids, ray_endpoint_defs, endpoint, partition, models, model_path))\n",
    "        [ray.get(s) for s in tqdm(progress)]\n",
    "    except FileNotFoundError:\n",
    "        print('file not found')\n",
    "        pass"
   ]
  },
  {
   "cell_type": "code",
   "execution_count": null,
   "metadata": {
    "execution": {
     "iopub.status.busy": "2022-11-08T23:12:52.029046Z",
     "iopub.status.idle": "2022-11-08T23:12:52.029219Z",
     "shell.execute_reply": "2022-11-08T23:12:52.029131Z",
     "shell.execute_reply.started": "2022-11-08T23:12:52.029123Z"
    },
    "tags": []
   },
   "outputs": [],
   "source": [
    "load_pickle(\"/sc-projects/sc-proj-ukb-cvd/results/projects/22_retina_phewas/data/test_experiment/coxph/models/phecode_841_Retina_0.p\")"
   ]
  },
  {
   "cell_type": "code",
   "execution_count": null,
   "metadata": {
    "execution": {
     "iopub.status.busy": "2022-11-08T23:12:52.029800Z",
     "iopub.status.idle": "2022-11-08T23:12:52.029951Z",
     "shell.execute_reply": "2022-11-08T23:12:52.029876Z",
     "shell.execute_reply.started": "2022-11-08T23:12:52.029868Z"
    },
    "tags": []
   },
   "outputs": [],
   "source": [
    "data_partition['Identity(Records)+MLP']['phecode_977']"
   ]
  },
  {
   "cell_type": "code",
   "execution_count": null,
   "metadata": {},
   "outputs": [],
   "source": []
  }
 ],
 "metadata": {
  "kernelspec": {
   "display_name": "Python [conda env:.conda-python]",
   "language": "python",
   "name": "conda-env-.conda-python-py"
  },
  "language_info": {
   "codemirror_mode": {
    "name": "ipython",
    "version": 3
   },
   "file_extension": ".py",
   "mimetype": "text/x-python",
   "name": "python",
   "nbconvert_exporter": "python",
   "pygments_lexer": "ipython3",
   "version": "3.11.0"
  },
  "toc-autonumbering": false
 },
 "nbformat": 4,
 "nbformat_minor": 4
}
