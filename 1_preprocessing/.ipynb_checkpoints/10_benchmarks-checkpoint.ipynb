{
 "cells": [
  {
   "cell_type": "markdown",
   "metadata": {},
   "source": [
    "# Benchmark Models"
   ]
  },
  {
   "cell_type": "markdown",
   "metadata": {},
   "source": [
    "## Initialize"
   ]
  },
  {
   "cell_type": "code",
   "execution_count": 1,
   "metadata": {
    "tags": []
   },
   "outputs": [],
   "source": [
    "%load_ext autoreload\n",
    "%autoreload 2\n",
    "\n",
    "import os\n",
    "from tqdm.auto import tqdm\n",
    "import pathlib\n",
    "import datetime\n",
    "import subprocess\n",
    "import numpy as np\n",
    "import pandas as pd\n",
    "import lifelines"
   ]
  },
  {
   "cell_type": "code",
   "execution_count": 2,
   "metadata": {
    "tags": []
   },
   "outputs": [],
   "source": [
    "base_path = \"/home/jakobs\"\n",
    "\n",
    "project_path = f\"{base_path}/data\"\n",
    "\n",
    "experiment = '231117'\n",
    "experiment_path = f\"{project_path}/{experiment}\"\n",
    "pathlib.Path(experiment_path).mkdir(parents=True, exist_ok=True)\n",
    "\n",
    "partitions = [i for i in range(10)]\n",
    "\n",
    "today = experiment "
   ]
  },
  {
   "cell_type": "code",
   "execution_count": 3,
   "metadata": {},
   "outputs": [],
   "source": [
    "endpoint_defs = pd.read_feather(f\"{base_path}/data/endpoints_epic_md.feather\").set_index(\"endpoint\")\n",
    "endpoints = endpoint_defs.index.to_list()"
   ]
  },
  {
   "cell_type": "code",
   "execution_count": 4,
   "metadata": {},
   "outputs": [],
   "source": [
    "from scripts.benchmarks_iteration import load_data, calculate_iteration"
   ]
  },
  {
   "cell_type": "code",
   "execution_count": 5,
   "metadata": {},
   "outputs": [],
   "source": [
    "os.environ['MKL_NUM_THREADS'] = \"1\"\n",
    "os.environ['NUMEXPR_NUM_THREADS'] = \"1\"\n",
    "os.environ['OMP_NUM_THREADS'] = \"1\""
   ]
  },
  {
   "cell_type": "code",
   "execution_count": null,
   "metadata": {},
   "outputs": [
    {
     "data": {
      "application/vnd.jupyter.widget-view+json": {
       "model_id": "8bab0e37ca5a407089f406f095e79fac",
       "version_major": 2,
       "version_minor": 0
      },
      "text/plain": [
       "  0%|          | 0/10 [00:00<?, ?it/s]"
      ]
     },
     "metadata": {},
     "output_type": "display_data"
    },
    {
     "data": {
      "application/vnd.jupyter.widget-view+json": {
       "model_id": "2875bf01c8394770848d6bd13935bdfc",
       "version_major": 2,
       "version_minor": 0
      },
      "text/plain": [
       "  0%|          | 0/367 [00:00<?, ?it/s]"
      ]
     },
     "metadata": {},
     "output_type": "display_data"
    }
   ],
   "source": [
    "rows_ray = []\n",
    "iterations = [i for i in range(100)]\n",
    "model = \"RetinaUKB\"\n",
    "t_eval = 10\n",
    "for iteration in tqdm(iterations[:10]):\n",
    "    output_path, experiment_path, in_path, out_path, endpoints, scores, prediction_paths, eids_dict = load_data()\n",
    "    for endpoint in tqdm(endpoints): \n",
    "        eids_e = eids_dict[endpoint]\n",
    "\n",
    "        #ds = calculate_iteration.remote(in_path, prediction_paths, endpoint, scores, partition, model, t_eval, iteration, eids_e, output_path) #ray\n",
    "\n",
    "        ds = calculate_iteration(in_path, prediction_paths, endpoint, scores, model, t_eval, iteration, eids_e, output_path) #ray\n",
    "        rows_ray.append(ds)\n",
    "\n",
    "        del eids_e"
   ]
  },
  {
   "cell_type": "code",
   "execution_count": 14,
   "metadata": {},
   "outputs": [],
   "source": [
    "#rows = [ray.get(r) for r in tqdm(rows_ray)] # ray\n",
    "rows = rows_ray # not ray\n",
    "rows_finished = [item for sublist in rows for item in sublist]\n",
    "benchmark_endpoints = pd.DataFrame(rows_finished)\n",
    "\n",
    "benchmark_endpoints.to_feather(f\"{experiment_path}/benchmarks_231117.feather\")"
   ]
  },
  {
   "cell_type": "code",
   "execution_count": 15,
   "metadata": {},
   "outputs": [
    {
     "data": {
      "text/html": [
       "<div>\n",
       "<style scoped>\n",
       "    .dataframe tbody tr th:only-of-type {\n",
       "        vertical-align: middle;\n",
       "    }\n",
       "\n",
       "    .dataframe tbody tr th {\n",
       "        vertical-align: top;\n",
       "    }\n",
       "\n",
       "    .dataframe thead th {\n",
       "        text-align: right;\n",
       "    }\n",
       "</style>\n",
       "<table border=\"1\" class=\"dataframe\">\n",
       "  <thead>\n",
       "    <tr style=\"text-align: right;\">\n",
       "      <th></th>\n",
       "      <th>cindex</th>\n",
       "    </tr>\n",
       "    <tr>\n",
       "      <th>score</th>\n",
       "      <th></th>\n",
       "    </tr>\n",
       "  </thead>\n",
       "  <tbody>\n",
       "    <tr>\n",
       "      <th>Retina</th>\n",
       "      <td>0.569173</td>\n",
       "    </tr>\n",
       "    <tr>\n",
       "      <th>Age+Sex</th>\n",
       "      <td>0.592459</td>\n",
       "    </tr>\n",
       "    <tr>\n",
       "      <th>SCORE2</th>\n",
       "      <td>0.592964</td>\n",
       "    </tr>\n",
       "    <tr>\n",
       "      <th>ASCVD</th>\n",
       "      <td>0.595097</td>\n",
       "    </tr>\n",
       "    <tr>\n",
       "      <th>Age+Sex+Retina</th>\n",
       "      <td>0.602586</td>\n",
       "    </tr>\n",
       "    <tr>\n",
       "      <th>SCORE2+Retina</th>\n",
       "      <td>0.603018</td>\n",
       "    </tr>\n",
       "    <tr>\n",
       "      <th>ASCVD+Retina</th>\n",
       "      <td>0.604345</td>\n",
       "    </tr>\n",
       "  </tbody>\n",
       "</table>\n",
       "</div>"
      ],
      "text/plain": [
       "                  cindex\n",
       "score                   \n",
       "Retina          0.569173\n",
       "Age+Sex         0.592459\n",
       "SCORE2          0.592964\n",
       "ASCVD           0.595097\n",
       "Age+Sex+Retina  0.602586\n",
       "SCORE2+Retina   0.603018\n",
       "ASCVD+Retina    0.604345"
      ]
     },
     "execution_count": 15,
     "metadata": {},
     "output_type": "execute_result"
    }
   ],
   "source": [
    "benchmark_endpoints.groupby(\"score\")[\"cindex\"].mean().to_frame(\"cindex\").sort_values(\"cindex\")"
   ]
  },
  {
   "cell_type": "code",
   "execution_count": 16,
   "metadata": {},
   "outputs": [
    {
     "data": {
      "text/html": [
       "<div>\n",
       "<style scoped>\n",
       "    .dataframe tbody tr th:only-of-type {\n",
       "        vertical-align: middle;\n",
       "    }\n",
       "\n",
       "    .dataframe tbody tr th {\n",
       "        vertical-align: top;\n",
       "    }\n",
       "\n",
       "    .dataframe thead th {\n",
       "        text-align: right;\n",
       "    }\n",
       "</style>\n",
       "<table border=\"1\" class=\"dataframe\">\n",
       "  <thead>\n",
       "    <tr style=\"text-align: right;\">\n",
       "      <th></th>\n",
       "      <th>cindex</th>\n",
       "    </tr>\n",
       "    <tr>\n",
       "      <th>score</th>\n",
       "      <th></th>\n",
       "    </tr>\n",
       "  </thead>\n",
       "  <tbody>\n",
       "    <tr>\n",
       "      <th>Retina</th>\n",
       "      <td>0.569173</td>\n",
       "    </tr>\n",
       "    <tr>\n",
       "      <th>Age+Sex</th>\n",
       "      <td>0.592459</td>\n",
       "    </tr>\n",
       "    <tr>\n",
       "      <th>SCORE2</th>\n",
       "      <td>0.592964</td>\n",
       "    </tr>\n",
       "    <tr>\n",
       "      <th>ASCVD</th>\n",
       "      <td>0.595097</td>\n",
       "    </tr>\n",
       "    <tr>\n",
       "      <th>Age+Sex+Retina</th>\n",
       "      <td>0.602586</td>\n",
       "    </tr>\n",
       "    <tr>\n",
       "      <th>SCORE2+Retina</th>\n",
       "      <td>0.603018</td>\n",
       "    </tr>\n",
       "    <tr>\n",
       "      <th>ASCVD+Retina</th>\n",
       "      <td>0.604345</td>\n",
       "    </tr>\n",
       "  </tbody>\n",
       "</table>\n",
       "</div>"
      ],
      "text/plain": [
       "                  cindex\n",
       "score                   \n",
       "Retina          0.569173\n",
       "Age+Sex         0.592459\n",
       "SCORE2          0.592964\n",
       "ASCVD           0.595097\n",
       "Age+Sex+Retina  0.602586\n",
       "SCORE2+Retina   0.603018\n",
       "ASCVD+Retina    0.604345"
      ]
     },
     "execution_count": 16,
     "metadata": {},
     "output_type": "execute_result"
    }
   ],
   "source": [
    "benchmark_endpoints.groupby(\"score\")[\"cindex\"].mean().to_frame(\"cindex\").sort_values(\"cindex\")"
   ]
  }
 ],
 "metadata": {
  "kernelspec": {
   "display_name": "Python [conda env:.conda-python]",
   "language": "python",
   "name": "conda-env-.conda-python-py"
  },
  "language_info": {
   "codemirror_mode": {
    "name": "ipython",
    "version": 3
   },
   "file_extension": ".py",
   "mimetype": "text/x-python",
   "name": "python",
   "nbconvert_exporter": "python",
   "pygments_lexer": "ipython3",
   "version": "3.11.0"
  },
  "toc-autonumbering": false
 },
 "nbformat": 4,
 "nbformat_minor": 4
}
