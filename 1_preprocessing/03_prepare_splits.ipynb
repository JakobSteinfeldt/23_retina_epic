{
 "cells": [
  {
   "cell_type": "code",
   "execution_count": null,
   "id": "0",
   "metadata": {},
   "outputs": [],
   "source": [
    "import numpy as np\n",
    "import pandas as pd\n",
    "import pathlib\n",
    "from tqdm.auto import tqdm\n",
    "\n",
    "import ray"
   ]
  },
  {
   "cell_type": "code",
   "execution_count": null,
   "id": "1",
   "metadata": {},
   "outputs": [],
   "source": [
    "import os\n",
    "os.path.abspath(\"Data/StudyData/BiHealth_20230313.dta\")"
   ]
  },
  {
   "cell_type": "code",
   "execution_count": null,
   "id": "2",
   "metadata": {},
   "outputs": [],
   "source": [
    "base_path = \"/home/jakobs\""
   ]
  },
  {
   "cell_type": "code",
   "execution_count": null,
   "id": "3",
   "metadata": {},
   "outputs": [],
   "source": [
    "endpoints_md = pd.read_csv(f\"{base_path}/BiHealth/onnx/endpoints.csv\").drop(columns=\"Unnamed: 0\").set_index(\"endpoint\")#[[\"endpoint\", \"eligable\", \"n\", \"freq\", \"phecode\", \"phecode_string\", \"phecode_category\", \"sex\"]]\n",
    "endpoints_md.reset_index().to_feather(f\"{base_path}/data/endpoints_md.feather\")"
   ]
  },
  {
   "cell_type": "code",
   "execution_count": null,
   "id": "4",
   "metadata": {},
   "outputs": [],
   "source": [
    "data_baseline = pd.read_feather(f\"{base_path}/data/data_baseline_230321.feather\")[[\"eid\"]]"
   ]
  },
  {
   "cell_type": "code",
   "execution_count": null,
   "id": "5",
   "metadata": {},
   "outputs": [],
   "source": []
  },
  {
   "cell_type": "code",
   "execution_count": null,
   "id": "6",
   "metadata": {},
   "outputs": [],
   "source": [
    "import pandas as pd\n",
    "from sklearn.model_selection import train_test_split\n",
    "\n",
    "# create a sample DataFrame with unique eids\n",
    "\n",
    "# set the random seed for reproducibility\n",
    "random_state = 42\n",
    "\n",
    "# create empty lists to store the train and test sets\n",
    "train_dfs = []\n",
    "test_dfs = []\n",
    "\n",
    "n_splits = 10\n",
    "data_baseline[\"partition\"] = np.random.randint(0, n_splits, size=len(data_baseline))\n",
    "\n",
    "for i in range(n_splits):\n",
    "    # create a set of eids for the test set that are mutually exclusive with the previous test sets\n",
    "    test_eids = data_baseline.query(\"partition==@i\").eid\n",
    "    \n",
    "    # split the DataFrame into train and test sets based on the selected eids\n",
    "    test_df = data_baseline[data_baseline[\"eid\"].isin(test_eids)].assign(split=\"test\")\n",
    "    train_df = data_baseline[~data_baseline[\"eid\"].isin(test_eids)].assign(split=\"train\").assign(partition=i)\n",
    "\n",
    "    # append the train and test sets to the lists\n",
    "    train_dfs.append(train_df)\n",
    "    test_dfs.append(test_df)\n",
    "\n",
    "# concatenate the train and test sets into a new long DataFrame\n",
    "train_test_df = pd.concat(train_dfs + test_dfs, ignore_index=True)[[\"partition\", \"split\", \"eid\"]].sort_values([\"partition\", \"split\", \"eid\"]).reset_index(drop=True)\n",
    "\n",
    "# display the result\n",
    "train_test_df"
   ]
  },
  {
   "cell_type": "code",
   "execution_count": null,
   "id": "7",
   "metadata": {},
   "outputs": [],
   "source": [
    "train_test_df.query(\"split=='train'\").value_counts(\"partition\")"
   ]
  },
  {
   "cell_type": "code",
   "execution_count": null,
   "id": "8",
   "metadata": {},
   "outputs": [],
   "source": [
    "train_test_df.to_feather(f\"{base_path}/data/splits_230321.feather\")"
   ]
  },
  {
   "cell_type": "code",
   "execution_count": null,
   "id": "9",
   "metadata": {},
   "outputs": [],
   "source": []
  }
 ],
 "metadata": {
  "kernelspec": {
   "display_name": "Python [conda env:.conda-python]",
   "language": "python",
   "name": "conda-env-.conda-python-py"
  },
  "language_info": {
   "codemirror_mode": {
    "name": "ipython",
    "version": 3
   },
   "file_extension": ".py",
   "mimetype": "text/x-python",
   "name": "python",
   "nbconvert_exporter": "python",
   "pygments_lexer": "ipython3",
   "version": "3.11.0"
  }
 },
 "nbformat": 4,
 "nbformat_minor": 5
}
