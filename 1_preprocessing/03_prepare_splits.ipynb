{
 "cells": [
  {
   "cell_type": "code",
   "execution_count": 60,
   "id": "7ad7ed46-95b1-4262-bde6-34b65febd6a4",
   "metadata": {},
   "outputs": [],
   "source": [
    "import numpy as np\n",
    "import pandas as pd\n",
    "import pathlib\n",
    "from tqdm.auto import tqdm\n",
    "\n",
    "import ray"
   ]
  },
  {
   "cell_type": "code",
   "execution_count": 61,
   "id": "88c31766-9d7c-45ba-b384-1cb2601c8737",
   "metadata": {},
   "outputs": [
    {
     "data": {
      "text/plain": [
       "'/home/jakobs/code/23_retina_epic/1_preprocessing/Data/StudyData/BiHealth_20230313.dta'"
      ]
     },
     "execution_count": 61,
     "metadata": {},
     "output_type": "execute_result"
    }
   ],
   "source": [
    "import os\n",
    "os.path.abspath(\"Data/StudyData/BiHealth_20230313.dta\")"
   ]
  },
  {
   "cell_type": "code",
   "execution_count": 62,
   "id": "3490ad68-1c57-404a-8c08-1681cc624b0b",
   "metadata": {},
   "outputs": [],
   "source": [
    "base_path = \"/home/jakobs\""
   ]
  },
  {
   "cell_type": "code",
   "execution_count": 63,
   "id": "a0c9fde4-f603-4943-996e-7814cc775dc7",
   "metadata": {},
   "outputs": [],
   "source": [
    "endpoints_md = pd.read_csv(f\"{base_path}/BiHealth/onnx/endpoints.csv\").drop(columns=\"Unnamed: 0\").set_index(\"endpoint\")#[[\"endpoint\", \"eligable\", \"n\", \"freq\", \"phecode\", \"phecode_string\", \"phecode_category\", \"sex\"]]\n",
    "endpoints_md.reset_index().to_feather(f\"{base_path}/data/endpoints_md.feather\")"
   ]
  },
  {
   "cell_type": "code",
   "execution_count": 64,
   "id": "cb2d54ed-63ba-46df-b14b-1e90aca173fd",
   "metadata": {},
   "outputs": [],
   "source": [
    "data_baseline = pd.read_feather(f\"{base_path}/data/data_baseline_230321.feather\")[[\"eid\"]]"
   ]
  },
  {
   "cell_type": "code",
   "execution_count": null,
   "id": "4834e188-9bcc-4312-aa0f-5774cc3ecedb",
   "metadata": {},
   "outputs": [],
   "source": []
  },
  {
   "cell_type": "code",
   "execution_count": 65,
   "id": "1fc4a822-1322-492c-8d90-70f046a463d6",
   "metadata": {},
   "outputs": [
    {
     "data": {
      "text/html": [
       "<div>\n",
       "<style scoped>\n",
       "    .dataframe tbody tr th:only-of-type {\n",
       "        vertical-align: middle;\n",
       "    }\n",
       "\n",
       "    .dataframe tbody tr th {\n",
       "        vertical-align: top;\n",
       "    }\n",
       "\n",
       "    .dataframe thead th {\n",
       "        text-align: right;\n",
       "    }\n",
       "</style>\n",
       "<table border=\"1\" class=\"dataframe\">\n",
       "  <thead>\n",
       "    <tr style=\"text-align: right;\">\n",
       "      <th></th>\n",
       "      <th>partition</th>\n",
       "      <th>split</th>\n",
       "      <th>eid</th>\n",
       "    </tr>\n",
       "  </thead>\n",
       "  <tbody>\n",
       "    <tr>\n",
       "      <th>0</th>\n",
       "      <td>0</td>\n",
       "      <td>test</td>\n",
       "      <td>RID00011</td>\n",
       "    </tr>\n",
       "    <tr>\n",
       "      <th>1</th>\n",
       "      <td>0</td>\n",
       "      <td>test</td>\n",
       "      <td>RID00013</td>\n",
       "    </tr>\n",
       "    <tr>\n",
       "      <th>2</th>\n",
       "      <td>0</td>\n",
       "      <td>test</td>\n",
       "      <td>RID00019</td>\n",
       "    </tr>\n",
       "    <tr>\n",
       "      <th>3</th>\n",
       "      <td>0</td>\n",
       "      <td>test</td>\n",
       "      <td>RID00028</td>\n",
       "    </tr>\n",
       "    <tr>\n",
       "      <th>4</th>\n",
       "      <td>0</td>\n",
       "      <td>test</td>\n",
       "      <td>RID00061</td>\n",
       "    </tr>\n",
       "    <tr>\n",
       "      <th>...</th>\n",
       "      <td>...</td>\n",
       "      <td>...</td>\n",
       "      <td>...</td>\n",
       "    </tr>\n",
       "    <tr>\n",
       "      <th>72475</th>\n",
       "      <td>9</td>\n",
       "      <td>train</td>\n",
       "      <td>RID07407</td>\n",
       "    </tr>\n",
       "    <tr>\n",
       "      <th>72476</th>\n",
       "      <td>9</td>\n",
       "      <td>train</td>\n",
       "      <td>RID07408</td>\n",
       "    </tr>\n",
       "    <tr>\n",
       "      <th>72477</th>\n",
       "      <td>9</td>\n",
       "      <td>train</td>\n",
       "      <td>RID07409</td>\n",
       "    </tr>\n",
       "    <tr>\n",
       "      <th>72478</th>\n",
       "      <td>9</td>\n",
       "      <td>train</td>\n",
       "      <td>RID07410</td>\n",
       "    </tr>\n",
       "    <tr>\n",
       "      <th>72479</th>\n",
       "      <td>9</td>\n",
       "      <td>train</td>\n",
       "      <td>RID07411</td>\n",
       "    </tr>\n",
       "  </tbody>\n",
       "</table>\n",
       "<p>72480 rows × 3 columns</p>\n",
       "</div>"
      ],
      "text/plain": [
       "       partition  split       eid\n",
       "0              0   test  RID00011\n",
       "1              0   test  RID00013\n",
       "2              0   test  RID00019\n",
       "3              0   test  RID00028\n",
       "4              0   test  RID00061\n",
       "...          ...    ...       ...\n",
       "72475          9  train  RID07407\n",
       "72476          9  train  RID07408\n",
       "72477          9  train  RID07409\n",
       "72478          9  train  RID07410\n",
       "72479          9  train  RID07411\n",
       "\n",
       "[72480 rows x 3 columns]"
      ]
     },
     "execution_count": 65,
     "metadata": {},
     "output_type": "execute_result"
    }
   ],
   "source": [
    "import pandas as pd\n",
    "from sklearn.model_selection import train_test_split\n",
    "\n",
    "# create a sample DataFrame with unique eids\n",
    "\n",
    "# set the random seed for reproducibility\n",
    "random_state = 42\n",
    "\n",
    "# create empty lists to store the train and test sets\n",
    "train_dfs = []\n",
    "test_dfs = []\n",
    "\n",
    "n_splits = 10\n",
    "data_baseline[\"partition\"] = np.random.randint(0, n_splits, size=len(data_baseline))\n",
    "\n",
    "for i in range(n_splits):\n",
    "    # create a set of eids for the test set that are mutually exclusive with the previous test sets\n",
    "    test_eids = data_baseline.query(\"partition==@i\").eid\n",
    "    \n",
    "    # split the DataFrame into train and test sets based on the selected eids\n",
    "    test_df = data_baseline[data_baseline[\"eid\"].isin(test_eids)].assign(split=\"test\")\n",
    "    train_df = data_baseline[~data_baseline[\"eid\"].isin(test_eids)].assign(split=\"train\").assign(partition=i)\n",
    "\n",
    "    # append the train and test sets to the lists\n",
    "    train_dfs.append(train_df)\n",
    "    test_dfs.append(test_df)\n",
    "\n",
    "# concatenate the train and test sets into a new long DataFrame\n",
    "train_test_df = pd.concat(train_dfs + test_dfs, ignore_index=True)[[\"partition\", \"split\", \"eid\"]].sort_values([\"partition\", \"split\", \"eid\"]).reset_index(drop=True)\n",
    "\n",
    "# display the result\n",
    "train_test_df"
   ]
  },
  {
   "cell_type": "code",
   "execution_count": 68,
   "id": "40581aa9-8043-447f-9393-38f7468087ae",
   "metadata": {},
   "outputs": [
    {
     "data": {
      "text/plain": [
       "partition\n",
       "7    6562\n",
       "5    6542\n",
       "4    6537\n",
       "1    6536\n",
       "8    6529\n",
       "2    6522\n",
       "3    6515\n",
       "0    6504\n",
       "9    6494\n",
       "6    6491\n",
       "dtype: int64"
      ]
     },
     "execution_count": 68,
     "metadata": {},
     "output_type": "execute_result"
    }
   ],
   "source": [
    "train_test_df.query(\"split=='train'\").value_counts(\"partition\")"
   ]
  },
  {
   "cell_type": "code",
   "execution_count": 66,
   "id": "fbcc34e8-6a5c-443e-b5e6-f15e90f0ac39",
   "metadata": {},
   "outputs": [],
   "source": [
    "train_test_df.to_feather(f\"{base_path}/data/splits_230321.feather\")"
   ]
  },
  {
   "cell_type": "code",
   "execution_count": null,
   "id": "7b4059e6-c2e6-4c94-8758-40f6c4bbc333",
   "metadata": {},
   "outputs": [],
   "source": []
  }
 ],
 "metadata": {
  "kernelspec": {
   "display_name": "Python [conda env:.conda-python]",
   "language": "python",
   "name": "conda-env-.conda-python-py"
  },
  "language_info": {
   "codemirror_mode": {
    "name": "ipython",
    "version": 3
   },
   "file_extension": ".py",
   "mimetype": "text/x-python",
   "name": "python",
   "nbconvert_exporter": "python",
   "pygments_lexer": "ipython3",
   "version": "3.11.0"
  }
 },
 "nbformat": 4,
 "nbformat_minor": 5
}
