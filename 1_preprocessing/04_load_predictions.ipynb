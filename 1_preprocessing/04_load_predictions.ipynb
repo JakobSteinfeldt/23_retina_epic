{
 "cells": [
  {
   "cell_type": "code",
   "execution_count": null,
   "metadata": {
    "tags": []
   },
   "outputs": [],
   "source": [
    "import numpy as np\n",
    "import pandas as pd\n",
    "import pathlib\n",
    "import os\n",
    "from tqdm.auto import tqdm\n",
    "\n",
    "\n",
    "from omegaconf import DictConfig, OmegaConf\n",
    "\n",
    "import torch\n",
    "#from torch_geometric import seed_everything\n",
    "\n",
    "import ray"
   ]
  },
  {
   "cell_type": "code",
   "execution_count": null,
   "metadata": {
    "tags": []
   },
   "outputs": [],
   "source": [
    "base_path = \"/home/jakobs\"\n",
    "\n",
    "project_path = f\"{base_path}/data\"\n",
    "\n",
    "experiment = '231117'\n",
    "experiment_path = f\"{project_path}/{experiment}\"\n",
    "pathlib.Path(experiment_path).mkdir(parents=True, exist_ok=True)\n",
    "\n",
    "partitions = [i for i in range(22)]"
   ]
  },
  {
   "cell_type": "markdown",
   "metadata": {},
   "source": [
    "## Process Predictions"
   ]
  },
  {
   "cell_type": "code",
   "execution_count": null,
   "metadata": {},
   "outputs": [],
   "source": [
    "endpoints_md = pd.read_feather(f\"{base_path}/data/endpoints_md.feather\").set_index(\"endpoint\")\n",
    "endpoints= endpoints_md.index.to_list()\n",
    "endpoints_md"
   ]
  },
  {
   "cell_type": "code",
   "execution_count": null,
   "metadata": {
    "tags": []
   },
   "outputs": [],
   "source": [
    "id_vars = [\"eid\", \"model\", \"partition\", \"split\"]"
   ]
  },
  {
   "cell_type": "code",
   "execution_count": null,
   "metadata": {
    "tags": []
   },
   "outputs": [],
   "source": [
    "out_path = f\"{experiment_path}/loghs\"\n",
    "pathlib.Path(out_path).mkdir(parents=True, exist_ok=True)"
   ]
  },
  {
   "cell_type": "code",
   "execution_count": null,
   "metadata": {},
   "outputs": [],
   "source": [
    "data_baseline = pd.read_feather(f\"{base_path}/data/data_baseline_231117.feather\")"
   ]
  },
  {
   "cell_type": "code",
   "execution_count": null,
   "metadata": {},
   "outputs": [],
   "source": [
    "data_outcomes_long = pd.read_feather(f\"{base_path}/data/data_outcomes_long_230320.feather\")"
   ]
  },
  {
   "cell_type": "code",
   "execution_count": null,
   "metadata": {},
   "outputs": [],
   "source": [
    "data_outcomes_long.query(\"event==1\").sample(10)"
   ]
  },
  {
   "cell_type": "code",
   "execution_count": null,
   "metadata": {},
   "outputs": [],
   "source": [
    "endpoint_selection = [\n",
    "    # generally very important\n",
    "    \"phecode_202\", # Diabetes mellitus\n",
    "    \"phecode_401\",\t#Hypertension\"  \n",
    "    \"phecode_404\", # Ischemic heart disease   \n",
    "    \"phecode_404-1\", # Myocardial infarction [Heart attack]\n",
    "    \"phecode_431-11\", # Cerebral infarction [Ischemic stroke]\n",
    "    \"phecode_424\", # Heart failure\n",
    "\n",
    "    \n",
    "    \"phecode_059-1\", # COVID 19\n",
    "    \"phecode_468\", # Pneumonia\n",
    "    \"phecode_474\", # Chronic obstructive pulmonary disease [COPD]\n",
    "      \n",
    "    \"phecode_286-2\", #\tMajor depressive disorder\n",
    "    \"phecode_324-11\", #Parkinson's Disease\n",
    "    \"phecode_328\", # Dementias and cerebral degeneration\n",
    "\n",
    "    \n",
    "    \"phecode_164\", # Anemia\n",
    "    \"phecode_726-1\", # Osteoporosis\n",
    "    \"phecode_371\", # Cataract\n",
    "    \"phecode_374-42\", # Diabetic retinopathy\n",
    "    \"phecode_374-5\", # Macular degeneration\n",
    "    \"phecode_375-1\", # Glaucoma\n",
    "    \n",
    "    \n",
    "    \"phecode_103\", # Malignant neoplasm of the skin\n",
    "    \"phecode_101\", # Malignant neoplasm of the digestive organs\n",
    "    \"phecode_102\", # LUNG CANCER\n",
    "    \n",
    "    \"phecode_583\", # Chronic kidney disease    \n",
    "    \"phecode_542\", # Chronic liver disease and sequelae    \n",
    "    \"OMOP_4306655\"] # All-Cause Death"
   ]
  },
  {
   "cell_type": "code",
   "execution_count": null,
   "metadata": {},
   "outputs": [],
   "source": [
    "endpoint_frequencies = data_outcomes_long.query(\"event==1\").value_counts(\"endpoint\").to_frame(\"n_epic\").merge(endpoints_md, how=\"left\", left_index=True, right_index=True)"
   ]
  },
  {
   "cell_type": "code",
   "execution_count": null,
   "metadata": {},
   "outputs": [],
   "source": [
    "endpoint_frequencies.query(\"endpoint==@endpoint_selection\")"
   ]
  },
  {
   "cell_type": "code",
   "execution_count": null,
   "metadata": {},
   "outputs": [],
   "source": [
    "endpoint_frequencies.query(\"n_epic>20&phecode_string==phecode_string\").sort_index().reset_index().to_feather(f\"{base_path}/data/endpoints_epic_md.feather\")"
   ]
  },
  {
   "cell_type": "code",
   "execution_count": null,
   "metadata": {},
   "outputs": [],
   "source": [
    "endpoints_md = pd.read_feather(f\"{base_path}/data/endpoints_epic_md.feather\").set_index(\"endpoint\")\n",
    "endpoints_md"
   ]
  },
  {
   "cell_type": "code",
   "execution_count": null,
   "metadata": {},
   "outputs": [],
   "source": [
    "data_images = pd.read_feather(f\"{base_path}/data/data_images_231117.feather\").rename(columns={\"distfilename\":\"img_name\"})\n",
    "data_images"
   ]
  },
  {
   "cell_type": "code",
   "execution_count": null,
   "metadata": {},
   "outputs": [],
   "source": [
    "predictions = pd.read_feather(f\"{base_path}/data/predictionstta_wide_231117.feather\").sort_values(\"img_name\")\n",
    "predictions"
   ]
  },
  {
   "cell_type": "code",
   "execution_count": null,
   "metadata": {},
   "outputs": [],
   "source": [
    "na_count = np.isnan(predictions[endpoints].values).sum()\n",
    "all_count = predictions[endpoints].values.shape[0]*predictions[endpoints].values.shape[1]\n",
    "na_count/all_count"
   ]
  },
  {
   "cell_type": "code",
   "execution_count": null,
   "metadata": {},
   "outputs": [],
   "source": [
    "predictions_agg = predictions.groupby(\"img_name\")[endpoints_md.index].mean().sort_index().reset_index()\n",
    "predictions_agg"
   ]
  },
  {
   "cell_type": "code",
   "execution_count": null,
   "metadata": {},
   "outputs": [],
   "source": [
    "data_predictions_all = data_baseline[[\"eid\"]].merge(data_images, how=\"left\", on=\"eid\").merge(predictions_agg, how=\"left\", on=\"img_name\").reset_index(drop=True)"
   ]
  },
  {
   "cell_type": "code",
   "execution_count": null,
   "metadata": {},
   "outputs": [],
   "source": [
    "data_predictions_all"
   ]
  },
  {
   "cell_type": "code",
   "execution_count": null,
   "metadata": {},
   "outputs": [],
   "source": [
    "data_predictions_qc = data_predictions_all.query(\"quality!='Poor'\").groupby(\"eid\")[endpoints_md.index].mean()"
   ]
  },
  {
   "cell_type": "code",
   "execution_count": null,
   "metadata": {},
   "outputs": [],
   "source": [
    "splits = pd.read_feather(f\"{base_path}/data/splits_230321.feather\")"
   ]
  },
  {
   "cell_type": "code",
   "execution_count": null,
   "metadata": {},
   "outputs": [],
   "source": [
    "predictions_clean = splits.merge(data_predictions_qc, how=\"left\", left_on=\"eid\", right_index=True)"
   ]
  },
  {
   "cell_type": "code",
   "execution_count": null,
   "metadata": {},
   "outputs": [],
   "source": [
    "predictions_clean"
   ]
  },
  {
   "cell_type": "code",
   "execution_count": null,
   "metadata": {},
   "outputs": [],
   "source": [
    "predictions_clean.query(\"split=='test'\").query(\"OMOP_4306655!=OMOP_4306655\")#.isna().sum()# > 0).sum()"
   ]
  },
  {
   "cell_type": "code",
   "execution_count": null,
   "metadata": {},
   "outputs": [],
   "source": [
    "model = \"RetinaUKB\"\n",
    "\n",
    "for partition in range(10):\n",
    "    temp_partition = predictions_clean.query(\"partition==@partition\")\n",
    "    for split in [\"train\", \"test\"]: \n",
    "        fp_out = f\"{out_path}/{model}/{partition}\"\n",
    "        pathlib.Path(fp_out).mkdir(parents=True, exist_ok=True)\n",
    "        t = temp_partition.query(\"split==@split\").reset_index(drop=True)\n",
    "        t.to_feather(f\"{fp_out}/{split}.feather\")\n",
    "        print(f\"{fp_out}/{split}.feather\")"
   ]
  },
  {
   "cell_type": "code",
   "execution_count": null,
   "metadata": {},
   "outputs": [],
   "source": [
    "out_path"
   ]
  },
  {
   "cell_type": "code",
   "execution_count": null,
   "metadata": {},
   "outputs": [],
   "source": [
    "1+1"
   ]
  },
  {
   "cell_type": "code",
   "execution_count": null,
   "metadata": {},
   "outputs": [],
   "source": []
  },
  {
   "cell_type": "code",
   "execution_count": null,
   "metadata": {},
   "outputs": [],
   "source": []
  },
  {
   "cell_type": "code",
   "execution_count": null,
   "metadata": {},
   "outputs": [],
   "source": []
  },
  {
   "cell_type": "code",
   "execution_count": null,
   "metadata": {},
   "outputs": [],
   "source": []
  }
 ],
 "metadata": {
  "interpreter": {
   "hash": "7fb005937abf8310e947cacdef9aa24b4c9570846765db425bfb20f46bc066c7"
  },
  "kernelspec": {
   "display_name": "Python [conda env:.conda-python]",
   "language": "python",
   "name": "conda-env-.conda-python-py"
  },
  "language_info": {
   "codemirror_mode": {
    "name": "ipython",
    "version": 3
   },
   "file_extension": ".py",
   "mimetype": "text/x-python",
   "name": "python",
   "nbconvert_exporter": "python",
   "pygments_lexer": "ipython3",
   "version": "3.11.0"
  }
 },
 "nbformat": 4,
 "nbformat_minor": 4
}
