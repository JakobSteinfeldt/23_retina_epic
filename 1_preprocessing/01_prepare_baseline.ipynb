{
 "cells": [
  {
   "cell_type": "code",
   "execution_count": null,
   "id": "0",
   "metadata": {},
   "outputs": [],
   "source": [
    "import numpy as np\n",
    "import pandas as pd\n",
    "import pathlib\n",
    "from tqdm.auto import tqdm\n",
    "\n",
    "import ray"
   ]
  },
  {
   "cell_type": "code",
   "execution_count": null,
   "id": "1",
   "metadata": {},
   "outputs": [],
   "source": [
    "import os\n",
    "os.path.abspath(\"Data/StudyData/BiHealth_20230313.dta\")"
   ]
  },
  {
   "cell_type": "code",
   "execution_count": null,
   "id": "2",
   "metadata": {},
   "outputs": [],
   "source": [
    "base_path = \"/home/jakobs\""
   ]
  },
  {
   "cell_type": "code",
   "execution_count": null,
   "id": "3",
   "metadata": {},
   "outputs": [],
   "source": [
    "endpoints_md = pd.read_csv(f\"{base_path}/BiHealth/onnx/endpoints.csv\").drop(columns=\"Unnamed: 0\").set_index(\"endpoint\")#[[\"endpoint\", \"eligable\", \"n\", \"freq\", \"phecode\", \"phecode_string\", \"phecode_category\", \"sex\"]]\n",
    "endpoints_md.reset_index().to_feather(f\"{base_path}/data/endpoints_md.feather\")"
   ]
  },
  {
   "cell_type": "code",
   "execution_count": null,
   "id": "4",
   "metadata": {},
   "outputs": [],
   "source": [
    "data_images_raw = pd.read_stata(f\"{base_path}/BiHealth/Data/StudyData/BiHealth_20230313_Long.dta\").sort_values(\"bihid\").reset_index(drop=True).rename(columns={\"bihid\":\"eid\"})\n",
    "data_images_raw"
   ]
  },
  {
   "cell_type": "code",
   "execution_count": null,
   "id": "5",
   "metadata": {},
   "outputs": [],
   "source": [
    "import os\n",
    "import pandas as pd\n",
    "\n",
    "# set the directory paths\n",
    "folder1_path = f\"{base_path}/BiHealth/Data/EPICImages\"\n",
    "folder2_path = f\"{base_path}/BiHealth/Data/EPICImages_PoorQuality\"\n",
    "\n",
    "# create an empty list to store the file paths\n",
    "file_paths = []\n",
    "\n",
    "# iterate over the folders and append file paths to the list\n",
    "for folder_path in [folder1_path, folder2_path]:\n",
    "    for filename in os.listdir(folder_path):\n",
    "        if filename.endswith(\".png\"):\n",
    "            file_paths.append((folder_path, filename))\n",
    "\n",
    "# create a DataFrame from the list of file paths\n",
    "df = pd.DataFrame(file_paths, columns=[\"Folder\", \"distfilename\"])\n",
    "df[\"Folder\"] = df[\"Folder\"].str.replace(\"/home/jakobs/BiHealth/Data/EPICImages\", \"\").str.replace(\"_\", \"\").str.replace(\"Quality\", \"\")\n",
    "df[\"quality\"] = df[\"Folder\"]\n",
    "df = df[[\"distfilename\", \"quality\"]]\n",
    "\n",
    "# display the result\n",
    "df"
   ]
  },
  {
   "cell_type": "code",
   "execution_count": null,
   "id": "6",
   "metadata": {},
   "outputs": [],
   "source": [
    "data_images = data_images_raw.merge(df, how=\"left\", on=\"distfilename\").query(\"quality!='Poor'\").reset_index(drop=True)\n",
    "data_images"
   ]
  },
  {
   "cell_type": "code",
   "execution_count": null,
   "id": "7",
   "metadata": {},
   "outputs": [],
   "source": [
    "data_images.to_feather(f\"{base_path}/data/data_images_231117.feather\")"
   ]
  },
  {
   "cell_type": "code",
   "execution_count": null,
   "id": "8",
   "metadata": {},
   "outputs": [],
   "source": [
    "eids_excluded = ['RID02605']"
   ]
  },
  {
   "cell_type": "code",
   "execution_count": null,
   "id": "9",
   "metadata": {},
   "outputs": [],
   "source": [
    "eids_images = [eid for eid in data_images.eid.unique().tolist() if not eid in eids_excluded]"
   ]
  },
  {
   "cell_type": "code",
   "execution_count": null,
   "id": "10",
   "metadata": {},
   "outputs": [],
   "source": [
    "data_baseline = pd.read_stata(f\"{base_path}/BiHealth/Data/StudyData/BiHealth_20230313.dta\").rename(columns={\"bihid\": \"eid\", \"hc3date\":\"recruitment_date\"}).query(\"eid==@eids_images\").reset_index(drop=True)"
   ]
  },
  {
   "cell_type": "code",
   "execution_count": null,
   "id": "11",
   "metadata": {},
   "outputs": [],
   "source": [
    "data_baseline"
   ]
  },
  {
   "cell_type": "code",
   "execution_count": null,
   "id": "12",
   "metadata": {},
   "outputs": [],
   "source": [
    "data_baseline.to_feather(f\"{base_path}/data/data_baseline_231117.feather\")"
   ]
  },
  {
   "cell_type": "code",
   "execution_count": null,
   "id": "13",
   "metadata": {},
   "outputs": [],
   "source": []
  }
 ],
 "metadata": {
  "kernelspec": {
   "display_name": "Python [conda env:.conda-python]",
   "language": "python",
   "name": "conda-env-.conda-python-py"
  },
  "language_info": {
   "codemirror_mode": {
    "name": "ipython",
    "version": 3
   },
   "file_extension": ".py",
   "mimetype": "text/x-python",
   "name": "python",
   "nbconvert_exporter": "python",
   "pygments_lexer": "ipython3",
   "version": "3.11.0"
  }
 },
 "nbformat": 4,
 "nbformat_minor": 5
}
