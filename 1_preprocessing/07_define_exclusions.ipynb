{
 "cells": [
  {
   "cell_type": "markdown",
   "metadata": {},
   "source": [
    "# Benchmarks"
   ]
  },
  {
   "cell_type": "markdown",
   "metadata": {},
   "source": [
    "## Initialize"
   ]
  },
  {
   "cell_type": "code",
   "execution_count": 1,
   "metadata": {
    "tags": []
   },
   "outputs": [],
   "source": [
    "%load_ext autoreload\n",
    "%autoreload 2\n",
    "\n",
    "import os\n",
    "import math\n",
    "import pathlib\n",
    "import numpy as np\n",
    "import pandas as pd\n",
    "from tqdm.auto import tqdm\n",
    "from IPython.display import clear_output\n",
    "\n",
    "import warnings\n",
    "from lifelines.utils import CensoringType\n",
    "from lifelines.utils import concordance_index"
   ]
  },
  {
   "cell_type": "code",
   "execution_count": 2,
   "metadata": {
    "tags": []
   },
   "outputs": [],
   "source": [
    "base_path = \"/home/jakobs\"\n",
    "\n",
    "project_path = f\"{base_path}/data\"\n",
    "\n",
    "experiment = '231117'\n",
    "experiment_path = f\"{project_path}/{experiment}\"\n",
    "pathlib.Path(experiment_path).mkdir(parents=True, exist_ok=True)\n",
    "\n",
    "partitions = [i for i in range(10)]"
   ]
  },
  {
   "cell_type": "code",
   "execution_count": 3,
   "metadata": {
    "tags": []
   },
   "outputs": [],
   "source": [
    "today = experiment"
   ]
  },
  {
   "cell_type": "code",
   "execution_count": 20,
   "metadata": {},
   "outputs": [],
   "source": []
  },
  {
   "cell_type": "code",
   "execution_count": 28,
   "metadata": {
    "tags": []
   },
   "outputs": [
    {
     "data": {
      "text/html": [
       "<div>\n",
       "<style scoped>\n",
       "    .dataframe tbody tr th:only-of-type {\n",
       "        vertical-align: middle;\n",
       "    }\n",
       "\n",
       "    .dataframe tbody tr th {\n",
       "        vertical-align: top;\n",
       "    }\n",
       "\n",
       "    .dataframe thead th {\n",
       "        text-align: right;\n",
       "    }\n",
       "</style>\n",
       "<table border=\"1\" class=\"dataframe\">\n",
       "  <thead>\n",
       "    <tr style=\"text-align: right;\">\n",
       "      <th></th>\n",
       "      <th>n_epic</th>\n",
       "      <th>eligable</th>\n",
       "      <th>n</th>\n",
       "      <th>freq</th>\n",
       "      <th>phecode_string</th>\n",
       "      <th>phecode_category</th>\n",
       "      <th>sex</th>\n",
       "    </tr>\n",
       "    <tr>\n",
       "      <th>endpoint</th>\n",
       "      <th></th>\n",
       "      <th></th>\n",
       "      <th></th>\n",
       "      <th></th>\n",
       "      <th></th>\n",
       "      <th></th>\n",
       "      <th></th>\n",
       "    </tr>\n",
       "  </thead>\n",
       "  <tbody>\n",
       "    <tr>\n",
       "      <th>OMOP_4306655</th>\n",
       "      <td>111</td>\n",
       "      <td>61213.0</td>\n",
       "      <td>3471.0</td>\n",
       "      <td>0.056704</td>\n",
       "      <td>Death</td>\n",
       "      <td>Event</td>\n",
       "      <td>Both</td>\n",
       "    </tr>\n",
       "    <tr>\n",
       "      <th>phecode_052</th>\n",
       "      <td>31</td>\n",
       "      <td>61142.0</td>\n",
       "      <td>197.0</td>\n",
       "      <td>0.003222</td>\n",
       "      <td>Herpesvirus</td>\n",
       "      <td>ID</td>\n",
       "      <td>Both</td>\n",
       "    </tr>\n",
       "    <tr>\n",
       "      <th>phecode_052-3</th>\n",
       "      <td>28</td>\n",
       "      <td>61175.0</td>\n",
       "      <td>121.0</td>\n",
       "      <td>0.001978</td>\n",
       "      <td>Varicella zoster virus</td>\n",
       "      <td>ID</td>\n",
       "      <td>Both</td>\n",
       "    </tr>\n",
       "    <tr>\n",
       "      <th>phecode_052-32</th>\n",
       "      <td>27</td>\n",
       "      <td>61184.0</td>\n",
       "      <td>117.0</td>\n",
       "      <td>0.001912</td>\n",
       "      <td>Herpes zoster</td>\n",
       "      <td>ID</td>\n",
       "      <td>Both</td>\n",
       "    </tr>\n",
       "    <tr>\n",
       "      <th>phecode_061</th>\n",
       "      <td>40</td>\n",
       "      <td>61194.0</td>\n",
       "      <td>185.0</td>\n",
       "      <td>0.003023</td>\n",
       "      <td>Influenza virus</td>\n",
       "      <td>ID</td>\n",
       "      <td>Both</td>\n",
       "    </tr>\n",
       "    <tr>\n",
       "      <th>...</th>\n",
       "      <td>...</td>\n",
       "      <td>...</td>\n",
       "      <td>...</td>\n",
       "      <td>...</td>\n",
       "      <td>...</td>\n",
       "      <td>...</td>\n",
       "      <td>...</td>\n",
       "    </tr>\n",
       "    <tr>\n",
       "      <th>phecode_829</th>\n",
       "      <td>129</td>\n",
       "      <td>60763.0</td>\n",
       "      <td>1980.0</td>\n",
       "      <td>0.032586</td>\n",
       "      <td>Nonspecific findings on examination of blood</td>\n",
       "      <td>Signs/Symptoms</td>\n",
       "      <td>Both</td>\n",
       "    </tr>\n",
       "    <tr>\n",
       "      <th>phecode_848</th>\n",
       "      <td>85</td>\n",
       "      <td>61196.0</td>\n",
       "      <td>143.0</td>\n",
       "      <td>0.002337</td>\n",
       "      <td>Nonspecific abnormal findings of other body st...</td>\n",
       "      <td>Signs/Symptoms</td>\n",
       "      <td>Both</td>\n",
       "    </tr>\n",
       "    <tr>\n",
       "      <th>phecode_979</th>\n",
       "      <td>21</td>\n",
       "      <td>61120.0</td>\n",
       "      <td>218.0</td>\n",
       "      <td>0.003567</td>\n",
       "      <td>Transplated organ</td>\n",
       "      <td>Stat</td>\n",
       "      <td>Both</td>\n",
       "    </tr>\n",
       "    <tr>\n",
       "      <th>phecode_981</th>\n",
       "      <td>122</td>\n",
       "      <td>60297.0</td>\n",
       "      <td>1966.0</td>\n",
       "      <td>0.032605</td>\n",
       "      <td>Family history of malignant neoplasm</td>\n",
       "      <td>Stat</td>\n",
       "      <td>Both</td>\n",
       "    </tr>\n",
       "    <tr>\n",
       "      <th>phecode_997</th>\n",
       "      <td>134</td>\n",
       "      <td>61196.0</td>\n",
       "      <td>415.0</td>\n",
       "      <td>0.006781</td>\n",
       "      <td>Family history of other condition</td>\n",
       "      <td>Stat</td>\n",
       "      <td>Both</td>\n",
       "    </tr>\n",
       "  </tbody>\n",
       "</table>\n",
       "<p>367 rows × 7 columns</p>\n",
       "</div>"
      ],
      "text/plain": [
       "                n_epic  eligable       n      freq  \\\n",
       "endpoint                                             \n",
       "OMOP_4306655       111   61213.0  3471.0  0.056704   \n",
       "phecode_052         31   61142.0   197.0  0.003222   \n",
       "phecode_052-3       28   61175.0   121.0  0.001978   \n",
       "phecode_052-32      27   61184.0   117.0  0.001912   \n",
       "phecode_061         40   61194.0   185.0  0.003023   \n",
       "...                ...       ...     ...       ...   \n",
       "phecode_829        129   60763.0  1980.0  0.032586   \n",
       "phecode_848         85   61196.0   143.0  0.002337   \n",
       "phecode_979         21   61120.0   218.0  0.003567   \n",
       "phecode_981        122   60297.0  1966.0  0.032605   \n",
       "phecode_997        134   61196.0   415.0  0.006781   \n",
       "\n",
       "                                                   phecode_string  \\\n",
       "endpoint                                                            \n",
       "OMOP_4306655                                                Death   \n",
       "phecode_052                                           Herpesvirus   \n",
       "phecode_052-3                              Varicella zoster virus   \n",
       "phecode_052-32                                      Herpes zoster   \n",
       "phecode_061                                       Influenza virus   \n",
       "...                                                           ...   \n",
       "phecode_829          Nonspecific findings on examination of blood   \n",
       "phecode_848     Nonspecific abnormal findings of other body st...   \n",
       "phecode_979                                     Transplated organ   \n",
       "phecode_981                  Family history of malignant neoplasm   \n",
       "phecode_997                     Family history of other condition   \n",
       "\n",
       "               phecode_category   sex  \n",
       "endpoint                               \n",
       "OMOP_4306655              Event  Both  \n",
       "phecode_052                  ID  Both  \n",
       "phecode_052-3                ID  Both  \n",
       "phecode_052-32               ID  Both  \n",
       "phecode_061                  ID  Both  \n",
       "...                         ...   ...  \n",
       "phecode_829      Signs/Symptoms  Both  \n",
       "phecode_848      Signs/Symptoms  Both  \n",
       "phecode_979                Stat  Both  \n",
       "phecode_981                Stat  Both  \n",
       "phecode_997                Stat  Both  \n",
       "\n",
       "[367 rows x 7 columns]"
      ]
     },
     "execution_count": 28,
     "metadata": {},
     "output_type": "execute_result"
    }
   ],
   "source": [
    "phecode = pd.read_csv(f\"{base_path}/mapping/phecode_strings_V2.csv\")[[\"phecode_string\", \"sex\"]]\n",
    "endpoints_md = pd.read_feather(f\"{base_path}/data/endpoints_epic_md.feather\").merge(phecode, how=\"left\", on=\"phecode_string\").set_index(\"endpoint\")#\n",
    "endpoints_md.iloc[0, endpoints_md.columns.get_loc('sex')] = \"Both\"\n",
    "endpoints = endpoints_md.index.to_list()\n",
    "endpoints_md"
   ]
  },
  {
   "cell_type": "code",
   "execution_count": 29,
   "metadata": {
    "tags": []
   },
   "outputs": [],
   "source": [
    "# data_covariates = pd.read_feather(\"/sc-projects/sc-proj-ukb-cvd/data/2_datasets_pre/211110_anewbeginning/baseline_covariates_220503.feather\")[[\"eid\", \"sex_f31_0_0\"]].set_index(\"eid\")\n",
    "# data_covariates.head()\n",
    "data_covariates = pd.read_feather(f\"{experiment_path}/data_covariates_full.feather\")[[\"eid\", \"sex\"]].set_index(\"eid\")"
   ]
  },
  {
   "cell_type": "code",
   "execution_count": 30,
   "metadata": {
    "tags": []
   },
   "outputs": [
    {
     "data": {
      "text/html": [
       "<div>\n",
       "<style scoped>\n",
       "    .dataframe tbody tr th:only-of-type {\n",
       "        vertical-align: middle;\n",
       "    }\n",
       "\n",
       "    .dataframe tbody tr th {\n",
       "        vertical-align: top;\n",
       "    }\n",
       "\n",
       "    .dataframe thead th {\n",
       "        text-align: right;\n",
       "    }\n",
       "</style>\n",
       "<table border=\"1\" class=\"dataframe\">\n",
       "  <thead>\n",
       "    <tr style=\"text-align: right;\">\n",
       "      <th></th>\n",
       "      <th>endpoint</th>\n",
       "      <th>prev</th>\n",
       "      <th>event</th>\n",
       "      <th>time</th>\n",
       "    </tr>\n",
       "    <tr>\n",
       "      <th>eid</th>\n",
       "      <th></th>\n",
       "      <th></th>\n",
       "      <th></th>\n",
       "      <th></th>\n",
       "    </tr>\n",
       "  </thead>\n",
       "  <tbody>\n",
       "    <tr>\n",
       "      <th>RID00001</th>\n",
       "      <td>OMOP_4306655</td>\n",
       "      <td>0.0</td>\n",
       "      <td>0.0</td>\n",
       "      <td>11.860370</td>\n",
       "    </tr>\n",
       "    <tr>\n",
       "      <th>RID00002</th>\n",
       "      <td>OMOP_4306655</td>\n",
       "      <td>0.0</td>\n",
       "      <td>0.0</td>\n",
       "      <td>8.941821</td>\n",
       "    </tr>\n",
       "    <tr>\n",
       "      <th>RID00003</th>\n",
       "      <td>OMOP_4306655</td>\n",
       "      <td>0.0</td>\n",
       "      <td>0.0</td>\n",
       "      <td>12.142368</td>\n",
       "    </tr>\n",
       "    <tr>\n",
       "      <th>RID00004</th>\n",
       "      <td>OMOP_4306655</td>\n",
       "      <td>0.0</td>\n",
       "      <td>0.0</td>\n",
       "      <td>12.878850</td>\n",
       "    </tr>\n",
       "    <tr>\n",
       "      <th>RID00006</th>\n",
       "      <td>OMOP_4306655</td>\n",
       "      <td>0.0</td>\n",
       "      <td>0.0</td>\n",
       "      <td>11.937029</td>\n",
       "    </tr>\n",
       "  </tbody>\n",
       "</table>\n",
       "</div>"
      ],
      "text/plain": [
       "              endpoint  prev  event       time\n",
       "eid                                           \n",
       "RID00001  OMOP_4306655   0.0    0.0  11.860370\n",
       "RID00002  OMOP_4306655   0.0    0.0   8.941821\n",
       "RID00003  OMOP_4306655   0.0    0.0  12.142368\n",
       "RID00004  OMOP_4306655   0.0    0.0  12.878850\n",
       "RID00006  OMOP_4306655   0.0    0.0  11.937029"
      ]
     },
     "execution_count": 30,
     "metadata": {},
     "output_type": "execute_result"
    }
   ],
   "source": [
    "data_outcomes = pd.read_feather(f\"{base_path}/data/data_outcomes_long_230320.feather\").set_index(\"eid\")\n",
    "data_outcomes.head()"
   ]
  },
  {
   "cell_type": "code",
   "execution_count": 31,
   "metadata": {
    "tags": []
   },
   "outputs": [],
   "source": [
    "data_all = data_outcomes.merge(data_covariates, left_index=True, right_index=True, how=\"left\").reset_index(drop=False).set_index(\"endpoint\")"
   ]
  },
  {
   "cell_type": "code",
   "execution_count": 32,
   "metadata": {
    "tags": []
   },
   "outputs": [
    {
     "data": {
      "text/html": [
       "<div>\n",
       "<style scoped>\n",
       "    .dataframe tbody tr th:only-of-type {\n",
       "        vertical-align: middle;\n",
       "    }\n",
       "\n",
       "    .dataframe tbody tr th {\n",
       "        vertical-align: top;\n",
       "    }\n",
       "\n",
       "    .dataframe thead th {\n",
       "        text-align: right;\n",
       "    }\n",
       "</style>\n",
       "<table border=\"1\" class=\"dataframe\">\n",
       "  <thead>\n",
       "    <tr style=\"text-align: right;\">\n",
       "      <th></th>\n",
       "      <th>eid</th>\n",
       "      <th>prev</th>\n",
       "      <th>event</th>\n",
       "      <th>time</th>\n",
       "      <th>sex</th>\n",
       "    </tr>\n",
       "    <tr>\n",
       "      <th>endpoint</th>\n",
       "      <th></th>\n",
       "      <th></th>\n",
       "      <th></th>\n",
       "      <th></th>\n",
       "      <th></th>\n",
       "    </tr>\n",
       "  </thead>\n",
       "  <tbody>\n",
       "    <tr>\n",
       "      <th>OMOP_4306655</th>\n",
       "      <td>RID00001</td>\n",
       "      <td>0.0</td>\n",
       "      <td>0.0</td>\n",
       "      <td>11.86037</td>\n",
       "      <td>Female</td>\n",
       "    </tr>\n",
       "    <tr>\n",
       "      <th>phecode_001</th>\n",
       "      <td>RID00001</td>\n",
       "      <td>0.0</td>\n",
       "      <td>0.0</td>\n",
       "      <td>11.86037</td>\n",
       "      <td>Female</td>\n",
       "    </tr>\n",
       "    <tr>\n",
       "      <th>phecode_004</th>\n",
       "      <td>RID00001</td>\n",
       "      <td>0.0</td>\n",
       "      <td>0.0</td>\n",
       "      <td>11.86037</td>\n",
       "      <td>Female</td>\n",
       "    </tr>\n",
       "    <tr>\n",
       "      <th>phecode_004-1</th>\n",
       "      <td>RID00001</td>\n",
       "      <td>0.0</td>\n",
       "      <td>0.0</td>\n",
       "      <td>11.86037</td>\n",
       "      <td>Female</td>\n",
       "    </tr>\n",
       "    <tr>\n",
       "      <th>phecode_005</th>\n",
       "      <td>RID00001</td>\n",
       "      <td>0.0</td>\n",
       "      <td>0.0</td>\n",
       "      <td>11.86037</td>\n",
       "      <td>Female</td>\n",
       "    </tr>\n",
       "  </tbody>\n",
       "</table>\n",
       "</div>"
      ],
      "text/plain": [
       "                    eid  prev  event      time     sex\n",
       "endpoint                                              \n",
       "OMOP_4306655   RID00001   0.0    0.0  11.86037  Female\n",
       "phecode_001    RID00001   0.0    0.0  11.86037  Female\n",
       "phecode_004    RID00001   0.0    0.0  11.86037  Female\n",
       "phecode_004-1  RID00001   0.0    0.0  11.86037  Female\n",
       "phecode_005    RID00001   0.0    0.0  11.86037  Female"
      ]
     },
     "execution_count": 32,
     "metadata": {},
     "output_type": "execute_result"
    }
   ],
   "source": [
    "data_all.head()"
   ]
  },
  {
   "cell_type": "code",
   "execution_count": 33,
   "metadata": {
    "tags": []
   },
   "outputs": [],
   "source": [
    "data_dict = {e: df.reset_index(drop=True).set_index(\"eid\") for e, df in data_all.groupby('endpoint')}\n",
    "#data_dict.keys()"
   ]
  },
  {
   "cell_type": "code",
   "execution_count": 34,
   "metadata": {
    "tags": []
   },
   "outputs": [
    {
     "data": {
      "text/html": [
       "<div>\n",
       "<style scoped>\n",
       "    .dataframe tbody tr th:only-of-type {\n",
       "        vertical-align: middle;\n",
       "    }\n",
       "\n",
       "    .dataframe tbody tr th {\n",
       "        vertical-align: top;\n",
       "    }\n",
       "\n",
       "    .dataframe thead th {\n",
       "        text-align: right;\n",
       "    }\n",
       "</style>\n",
       "<table border=\"1\" class=\"dataframe\">\n",
       "  <thead>\n",
       "    <tr style=\"text-align: right;\">\n",
       "      <th></th>\n",
       "      <th>n_epic</th>\n",
       "      <th>eligable</th>\n",
       "      <th>n</th>\n",
       "      <th>freq</th>\n",
       "      <th>phecode_string</th>\n",
       "      <th>phecode_category</th>\n",
       "      <th>sex</th>\n",
       "    </tr>\n",
       "    <tr>\n",
       "      <th>endpoint</th>\n",
       "      <th></th>\n",
       "      <th></th>\n",
       "      <th></th>\n",
       "      <th></th>\n",
       "      <th></th>\n",
       "      <th></th>\n",
       "      <th></th>\n",
       "    </tr>\n",
       "  </thead>\n",
       "  <tbody>\n",
       "    <tr>\n",
       "      <th>OMOP_4306655</th>\n",
       "      <td>111</td>\n",
       "      <td>61213.0</td>\n",
       "      <td>3471.0</td>\n",
       "      <td>0.056704</td>\n",
       "      <td>Death</td>\n",
       "      <td>Event</td>\n",
       "      <td>Both</td>\n",
       "    </tr>\n",
       "    <tr>\n",
       "      <th>phecode_052</th>\n",
       "      <td>31</td>\n",
       "      <td>61142.0</td>\n",
       "      <td>197.0</td>\n",
       "      <td>0.003222</td>\n",
       "      <td>Herpesvirus</td>\n",
       "      <td>ID</td>\n",
       "      <td>Both</td>\n",
       "    </tr>\n",
       "    <tr>\n",
       "      <th>phecode_052-3</th>\n",
       "      <td>28</td>\n",
       "      <td>61175.0</td>\n",
       "      <td>121.0</td>\n",
       "      <td>0.001978</td>\n",
       "      <td>Varicella zoster virus</td>\n",
       "      <td>ID</td>\n",
       "      <td>Both</td>\n",
       "    </tr>\n",
       "    <tr>\n",
       "      <th>phecode_052-32</th>\n",
       "      <td>27</td>\n",
       "      <td>61184.0</td>\n",
       "      <td>117.0</td>\n",
       "      <td>0.001912</td>\n",
       "      <td>Herpes zoster</td>\n",
       "      <td>ID</td>\n",
       "      <td>Both</td>\n",
       "    </tr>\n",
       "    <tr>\n",
       "      <th>phecode_061</th>\n",
       "      <td>40</td>\n",
       "      <td>61194.0</td>\n",
       "      <td>185.0</td>\n",
       "      <td>0.003023</td>\n",
       "      <td>Influenza virus</td>\n",
       "      <td>ID</td>\n",
       "      <td>Both</td>\n",
       "    </tr>\n",
       "    <tr>\n",
       "      <th>...</th>\n",
       "      <td>...</td>\n",
       "      <td>...</td>\n",
       "      <td>...</td>\n",
       "      <td>...</td>\n",
       "      <td>...</td>\n",
       "      <td>...</td>\n",
       "      <td>...</td>\n",
       "    </tr>\n",
       "    <tr>\n",
       "      <th>phecode_829</th>\n",
       "      <td>129</td>\n",
       "      <td>60763.0</td>\n",
       "      <td>1980.0</td>\n",
       "      <td>0.032586</td>\n",
       "      <td>Nonspecific findings on examination of blood</td>\n",
       "      <td>Signs/Symptoms</td>\n",
       "      <td>Both</td>\n",
       "    </tr>\n",
       "    <tr>\n",
       "      <th>phecode_848</th>\n",
       "      <td>85</td>\n",
       "      <td>61196.0</td>\n",
       "      <td>143.0</td>\n",
       "      <td>0.002337</td>\n",
       "      <td>Nonspecific abnormal findings of other body st...</td>\n",
       "      <td>Signs/Symptoms</td>\n",
       "      <td>Both</td>\n",
       "    </tr>\n",
       "    <tr>\n",
       "      <th>phecode_979</th>\n",
       "      <td>21</td>\n",
       "      <td>61120.0</td>\n",
       "      <td>218.0</td>\n",
       "      <td>0.003567</td>\n",
       "      <td>Transplated organ</td>\n",
       "      <td>Stat</td>\n",
       "      <td>Both</td>\n",
       "    </tr>\n",
       "    <tr>\n",
       "      <th>phecode_981</th>\n",
       "      <td>122</td>\n",
       "      <td>60297.0</td>\n",
       "      <td>1966.0</td>\n",
       "      <td>0.032605</td>\n",
       "      <td>Family history of malignant neoplasm</td>\n",
       "      <td>Stat</td>\n",
       "      <td>Both</td>\n",
       "    </tr>\n",
       "    <tr>\n",
       "      <th>phecode_997</th>\n",
       "      <td>134</td>\n",
       "      <td>61196.0</td>\n",
       "      <td>415.0</td>\n",
       "      <td>0.006781</td>\n",
       "      <td>Family history of other condition</td>\n",
       "      <td>Stat</td>\n",
       "      <td>Both</td>\n",
       "    </tr>\n",
       "  </tbody>\n",
       "</table>\n",
       "<p>367 rows × 7 columns</p>\n",
       "</div>"
      ],
      "text/plain": [
       "                n_epic  eligable       n      freq  \\\n",
       "endpoint                                             \n",
       "OMOP_4306655       111   61213.0  3471.0  0.056704   \n",
       "phecode_052         31   61142.0   197.0  0.003222   \n",
       "phecode_052-3       28   61175.0   121.0  0.001978   \n",
       "phecode_052-32      27   61184.0   117.0  0.001912   \n",
       "phecode_061         40   61194.0   185.0  0.003023   \n",
       "...                ...       ...     ...       ...   \n",
       "phecode_829        129   60763.0  1980.0  0.032586   \n",
       "phecode_848         85   61196.0   143.0  0.002337   \n",
       "phecode_979         21   61120.0   218.0  0.003567   \n",
       "phecode_981        122   60297.0  1966.0  0.032605   \n",
       "phecode_997        134   61196.0   415.0  0.006781   \n",
       "\n",
       "                                                   phecode_string  \\\n",
       "endpoint                                                            \n",
       "OMOP_4306655                                                Death   \n",
       "phecode_052                                           Herpesvirus   \n",
       "phecode_052-3                              Varicella zoster virus   \n",
       "phecode_052-32                                      Herpes zoster   \n",
       "phecode_061                                       Influenza virus   \n",
       "...                                                           ...   \n",
       "phecode_829          Nonspecific findings on examination of blood   \n",
       "phecode_848     Nonspecific abnormal findings of other body st...   \n",
       "phecode_979                                     Transplated organ   \n",
       "phecode_981                  Family history of malignant neoplasm   \n",
       "phecode_997                     Family history of other condition   \n",
       "\n",
       "               phecode_category   sex  \n",
       "endpoint                               \n",
       "OMOP_4306655              Event  Both  \n",
       "phecode_052                  ID  Both  \n",
       "phecode_052-3                ID  Both  \n",
       "phecode_052-32               ID  Both  \n",
       "phecode_061                  ID  Both  \n",
       "...                         ...   ...  \n",
       "phecode_829      Signs/Symptoms  Both  \n",
       "phecode_848      Signs/Symptoms  Both  \n",
       "phecode_979                Stat  Both  \n",
       "phecode_981                Stat  Both  \n",
       "phecode_997                Stat  Both  \n",
       "\n",
       "[367 rows x 7 columns]"
      ]
     },
     "execution_count": 34,
     "metadata": {},
     "output_type": "execute_result"
    }
   ],
   "source": [
    "endpoints_md"
   ]
  },
  {
   "cell_type": "code",
   "execution_count": 35,
   "metadata": {
    "tags": []
   },
   "outputs": [],
   "source": [
    "def get_eligible_eids(data_dict, endpoint):\n",
    "\n",
    "    data_temp = data_dict[endpoint]\n",
    "    eligibility = endpoints_md.loc[endpoint][\"sex\"]\n",
    "    \n",
    "    if eligibility == \"Both\": \n",
    "        eids_incl = data_temp.copy().query(f\"prev==0\").index.to_list()\n",
    "    else:\n",
    "        eids_incl = data_temp.copy().query(f\"prev==0&sex==@eligibility\").index.to_list()\n",
    "        \n",
    "    return {\"endpoint\": endpoint, \n",
    "            \"n_eids\": len(eids_incl), \n",
    "            \"eid_list\": eids_incl}"
   ]
  },
  {
   "cell_type": "code",
   "execution_count": 36,
   "metadata": {
    "tags": []
   },
   "outputs": [
    {
     "data": {
      "application/vnd.jupyter.widget-view+json": {
       "model_id": "5a26fe5d11654fd5913fca9b0a6e84c5",
       "version_major": 2,
       "version_minor": 0
      },
      "text/plain": [
       "  0%|          | 0/367 [00:00<?, ?it/s]"
      ]
     },
     "metadata": {},
     "output_type": "display_data"
    }
   ],
   "source": [
    "#long_endpoints_unique = data_outcomes['endpoint'].unique()\n",
    "#endpoints_in_long = [e for e in endpoints if e in long_endpoints_unique]\n",
    "\n",
    "d_list = [get_eligible_eids(data_dict, endpoint) for endpoint in tqdm(endpoints)] \n",
    "eid_df = pd.DataFrame.from_dict(d_list)"
   ]
  },
  {
   "cell_type": "code",
   "execution_count": 37,
   "metadata": {
    "tags": []
   },
   "outputs": [],
   "source": [
    "#eid_df.set_index(\"endpoint\")[\"eid_list\"].to_dict()"
   ]
  },
  {
   "cell_type": "code",
   "execution_count": 38,
   "metadata": {
    "tags": []
   },
   "outputs": [],
   "source": [
    "eid_df.to_feather(f\"{experiment_path}/eligible_eids_{today}.feather\") "
   ]
  },
  {
   "cell_type": "code",
   "execution_count": 39,
   "metadata": {},
   "outputs": [
    {
     "data": {
      "text/plain": [
       "'/home/jakobs/data/231117/eligible_eids_231117.feather'"
      ]
     },
     "execution_count": 39,
     "metadata": {},
     "output_type": "execute_result"
    }
   ],
   "source": [
    "f\"{experiment_path}/eligible_eids_{today}.feather\""
   ]
  },
  {
   "cell_type": "code",
   "execution_count": 40,
   "metadata": {
    "tags": []
   },
   "outputs": [],
   "source": [
    "eid_df_long = eid_df[[\"endpoint\", \"eid_list\"]].explode(\"eid_list\").reset_index(drop=True)\n",
    "eid_df_long.columns = [\"endpoint\", \"eid\"]\n",
    "eid_df_long[\"endpoint\"] = eid_df_long[\"endpoint\"].astype(\"category\")\n",
    "eid_df_long[\"eid\"] = eid_df_long[\"eid\"].astype(\"category\")"
   ]
  },
  {
   "cell_type": "code",
   "execution_count": 41,
   "metadata": {
    "tags": []
   },
   "outputs": [],
   "source": [
    "eid_df_long.to_feather(f\"{experiment_path}/eligible_eids_long_{today}.feather\")"
   ]
  },
  {
   "cell_type": "code",
   "execution_count": 42,
   "metadata": {},
   "outputs": [
    {
     "data": {
      "text/plain": [
       "'/home/jakobs/data/231117'"
      ]
     },
     "execution_count": 42,
     "metadata": {},
     "output_type": "execute_result"
    }
   ],
   "source": [
    "experiment_path"
   ]
  },
  {
   "cell_type": "code",
   "execution_count": 43,
   "metadata": {},
   "outputs": [
    {
     "data": {
      "text/html": [
       "<div>\n",
       "<style scoped>\n",
       "    .dataframe tbody tr th:only-of-type {\n",
       "        vertical-align: middle;\n",
       "    }\n",
       "\n",
       "    .dataframe tbody tr th {\n",
       "        vertical-align: top;\n",
       "    }\n",
       "\n",
       "    .dataframe thead th {\n",
       "        text-align: right;\n",
       "    }\n",
       "</style>\n",
       "<table border=\"1\" class=\"dataframe\">\n",
       "  <thead>\n",
       "    <tr style=\"text-align: right;\">\n",
       "      <th></th>\n",
       "      <th>endpoint</th>\n",
       "      <th>eid</th>\n",
       "    </tr>\n",
       "  </thead>\n",
       "  <tbody>\n",
       "    <tr>\n",
       "      <th>0</th>\n",
       "      <td>OMOP_4306655</td>\n",
       "      <td>RID00001</td>\n",
       "    </tr>\n",
       "    <tr>\n",
       "      <th>1</th>\n",
       "      <td>OMOP_4306655</td>\n",
       "      <td>RID00002</td>\n",
       "    </tr>\n",
       "    <tr>\n",
       "      <th>2</th>\n",
       "      <td>OMOP_4306655</td>\n",
       "      <td>RID00003</td>\n",
       "    </tr>\n",
       "    <tr>\n",
       "      <th>3</th>\n",
       "      <td>OMOP_4306655</td>\n",
       "      <td>RID00004</td>\n",
       "    </tr>\n",
       "    <tr>\n",
       "      <th>4</th>\n",
       "      <td>OMOP_4306655</td>\n",
       "      <td>RID00006</td>\n",
       "    </tr>\n",
       "    <tr>\n",
       "      <th>...</th>\n",
       "      <td>...</td>\n",
       "      <td>...</td>\n",
       "    </tr>\n",
       "    <tr>\n",
       "      <th>2573258</th>\n",
       "      <td>phecode_997</td>\n",
       "      <td>RID07407</td>\n",
       "    </tr>\n",
       "    <tr>\n",
       "      <th>2573259</th>\n",
       "      <td>phecode_997</td>\n",
       "      <td>RID07408</td>\n",
       "    </tr>\n",
       "    <tr>\n",
       "      <th>2573260</th>\n",
       "      <td>phecode_997</td>\n",
       "      <td>RID07409</td>\n",
       "    </tr>\n",
       "    <tr>\n",
       "      <th>2573261</th>\n",
       "      <td>phecode_997</td>\n",
       "      <td>RID07410</td>\n",
       "    </tr>\n",
       "    <tr>\n",
       "      <th>2573262</th>\n",
       "      <td>phecode_997</td>\n",
       "      <td>RID07411</td>\n",
       "    </tr>\n",
       "  </tbody>\n",
       "</table>\n",
       "<p>2573263 rows × 2 columns</p>\n",
       "</div>"
      ],
      "text/plain": [
       "             endpoint       eid\n",
       "0        OMOP_4306655  RID00001\n",
       "1        OMOP_4306655  RID00002\n",
       "2        OMOP_4306655  RID00003\n",
       "3        OMOP_4306655  RID00004\n",
       "4        OMOP_4306655  RID00006\n",
       "...               ...       ...\n",
       "2573258   phecode_997  RID07407\n",
       "2573259   phecode_997  RID07408\n",
       "2573260   phecode_997  RID07409\n",
       "2573261   phecode_997  RID07410\n",
       "2573262   phecode_997  RID07411\n",
       "\n",
       "[2573263 rows x 2 columns]"
      ]
     },
     "execution_count": 43,
     "metadata": {},
     "output_type": "execute_result"
    }
   ],
   "source": [
    "eid_df_long"
   ]
  },
  {
   "cell_type": "code",
   "execution_count": null,
   "metadata": {},
   "outputs": [],
   "source": []
  }
 ],
 "metadata": {
  "kernelspec": {
   "display_name": "Python [conda env:.conda-python]",
   "language": "python",
   "name": "conda-env-.conda-python-py"
  },
  "language_info": {
   "codemirror_mode": {
    "name": "ipython",
    "version": 3
   },
   "file_extension": ".py",
   "mimetype": "text/x-python",
   "name": "python",
   "nbconvert_exporter": "python",
   "pygments_lexer": "ipython3",
   "version": "3.11.0"
  },
  "toc-autonumbering": false
 },
 "nbformat": 4,
 "nbformat_minor": 4
}
